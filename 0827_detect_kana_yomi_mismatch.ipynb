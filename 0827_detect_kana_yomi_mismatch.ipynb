{
  "nbformat": 4,
  "nbformat_minor": 0,
  "metadata": {
    "colab": {
      "name": "0827_detect_kana_yomi_mismatch.ipynb",
      "provenance": [],
      "collapsed_sections": [],
      "authorship_tag": "ABX9TyMSEXKhKL/rAbJSXNgKdhM8"
    },
    "kernelspec": {
      "name": "python3",
      "display_name": "Python 3"
    },
    "language_info": {
      "name": "python"
    }
  },
  "cells": [
    {
      "cell_type": "code",
      "source": [
        "import numpy as np\n",
        "import requests as reqs\n",
        "import json"
      ],
      "metadata": {
        "id": "Q2pxdnFEAqqj"
      },
      "execution_count": null,
      "outputs": []
    },
    {
      "cell_type": "markdown",
      "source": [
        "## APIのアクセストークンなど機密情報の管理"
      ],
      "metadata": {
        "id": "XOk9nNA873iR"
      }
    },
    {
      "cell_type": "code",
      "source": [
        "from google.colab import drive\n",
        "drive.mount('/content/drive/')"
      ],
      "metadata": {
        "colab": {
          "base_uri": "https://localhost:8080/"
        },
        "id": "XRwyZnFs72_i",
        "outputId": "d19ea224-c8f2-465a-d3c7-f2cb5578a089"
      },
      "execution_count": null,
      "outputs": [
        {
          "output_type": "stream",
          "name": "stdout",
          "text": [
            "Mounted at /content/drive/\n"
          ]
        }
      ]
    },
    {
      "cell_type": "code",
      "source": [
        "secrets = {}\n",
        "with open('/content/drive/MyDrive/coefont_kana_converter_error_detector/secrets.json') as f:\n",
        "  secrets = json.load(f)"
      ],
      "metadata": {
        "id": "ikzd-8OU8i9Y"
      },
      "execution_count": null,
      "outputs": []
    },
    {
      "cell_type": "markdown",
      "source": [
        "## 各種、依存記号の設定"
      ],
      "metadata": {
        "id": "2rPUBPHpX-EX"
      }
    },
    {
      "cell_type": "code",
      "source": [
        "SYMBOL_READING_POINT = \"、\" # 句読点\n",
        "SYMBOL_PUNCTUATION = \"。\" # 読点\n",
        "SYMBOL_HALF_SPACE = \" \" # 半角スペース\n",
        "SYMBOL_LONG_NOTE = \"ー\" # 伸ばし棒\n",
        "SYMBOL_NONE = \"\" # 空文字"
      ],
      "metadata": {
        "id": "53neQVviXcml"
      },
      "execution_count": null,
      "outputs": []
    },
    {
      "cell_type": "markdown",
      "source": [
        "## 検査するCoeFontのかな変換出力と、元の文を入力する"
      ],
      "metadata": {
        "id": "nXwldv5PPVND"
      }
    },
    {
      "cell_type": "code",
      "execution_count": null,
      "metadata": {
        "id": "W8mnEDF9G9MU"
      },
      "outputs": [],
      "source": [
        "input = \"モウネ、イイタイコトワ、タイトルデホボイッテシマッテイルノデスガ、ホンブンカキマス。ワタシッテ、タマニソーユートコアル。コレマデニモナンドカトージョーシテイルヨーニ、ワガヤノキッチンワセマイデス。ソンナセマイキッチンデモ、ジブンノタベタイモノオタベラレルヨーニ、テノコンダリョーリワシナイモノノ、クフーオコラシテイルツモリ。タトエバコンナノトカ。キョーワ、グタイテキナレシピデワナク、オヤクダチドーグニツイテカイテミマス。ソレガコチラ。ガゾーニハシオキタススプーンオキアルイワハシオキタスショーユザラトイッタトコロデショーカ。オハシオオクスペースノホカニ、フカメノスペースガアルノデ、タベルトキニツカウカトラリーガハシダケデワナイトキ、スープガアルカラスプーンモダシタイトユーシチュエーションヤ、チョーミリョーオ、リョーリトワ、ベツノトコロニダシタイケド、ワザワザ、ソノタメニオサラオツカウホドデワ、トユートキニベンリ。コノヨーニ、ワタシワ、タベルサイニツカウソーテーデ、コノハシオキオコーニューシタノデスガ、コレガ、ジツワ、ツクルサイニモカツヤクスルンデス。タトエバ、イタメブツオシテイルトキノサイバシ。ワタシワ、フカメノフライパン、ホボナベオツカッテイルタメ、ナカニイレタママデモ、キョクタンニハシガネソベルコトワナク、タショーアツクナッチャウカナークライノデメリットシカナイノデスガ、ソーワイッテモハシオカネツスルノワ、ハシノジュミョーオチジメテシマイマスヨネ。ソーオモッテフライパンカラハナソーニモ、キッチンガセマイトオキバガナイ。ハズカシナガラ、ナガシノブブンニハシサキガデル、ハシサキダケワダイニツカナイジョータイデ、ダイニチョクオキシテシマウトキモアリマス。キッチンデワ、テーネーナドーサデチョーリオスルナラ、ベツトシテ、アワタダシクリョーリシテイルト、マガタマミタイナチーサナハシオキニチャントハシオオクトユードーサガメンドーナノデスヨネ、コジンサガアルコトワミトメマス。ソンナトキニベンリダッタノガ、コノハシオキ。バツグンノアンテーカンガアリ、ハシオオクタメノミゾモナガメニカクホサレテイル。コレナラ、タショーナリトモ、ザツナオキカタオシタトテ、ハシガコロゲオチルコトワナイシ、ツギニツカウトキモテニトリヤスイデス。ソシテ、スプーンオキトシテモツカエルノデ、ニモノノアジミニツカッタスプーンオ、ソノツドアラッタリコザラニオイタリシナクテヨイ！コノヨーニ、チョーリチューノカトラリーオキトシテ、ダイカツヤクシテイルノデス。サラニ、フダンカラノートオミテクダサッテイルカタワ、ワタシガヨクオチャオノムコトオゴゾンジダトオモイマス。キチントイレルトキワチャバカラデスガ、ヤッパリテガルナティーバッグモソレナリニツカウワケデ。モーオワカリデショーカ、コノハシオキノ、スプーンオキノブブン、ティーバッグニピッタリナノデス。ガゾーイチオチャノシュルイニヨリマスガ、イチドキリデナクナンドカツカエルヨーナティーバッグガアリマスヨネ。ニイメノ、スコシシブイコーチャ、リョクチャヤ、ムシロ、ニイメイコーノホーガフーミノヒキタツウーロンチャナド。ソーユーオチャオイレタトキニ、コノハシオキノドーニューイゼンワ、コザラオダシテティーバッグオキバニシテイタノデスガ、イクラチーサクテモオサラワエンケーナノデスペースオトリマスシ、ティーバッグニワミズケガアルタメ、ヒラタイオサラデワココロモトナイバアイモアリマス。ソレガ、コノチョーホーケーノハシオキダトジャマニナラズ、フカサガアルブン、アンシンカンモオーキイデス。ティーバッグノイチジオキバトシテ、トテモベンリ。アト、コレワ、ホントーニ、シランガナッテイワレチャイソーナノデスガ、ハシオキミタイナチーサナモノッテ、アラッタアトカワカストキノオキバショニコマリマセンカ？ミズキリカゴノナカデ、コマカイモノワコノアタリニオク、トオーマカニキメテワイルノデスガ、ツギニツカオートオモッタラ、ユクエフメー、ナコトガトキドキアリマス。デモネ、コノハシオキダト、ミズキリチューモ、ソンザイカンガチャントアルノ。マー、ソモソモノサイズガオーキイトユーコトモアリマスガ、タンニソレダケノハナシデワナク、ウラガエスト、ハシオオクミゾノブブンオ、カゴノフチニヒッカケラレルノデ、イツノマニカイナクナッチャウコトガナイ。コレモマタ、ワタシニトッテワ、ヒジョーニ、オーキナメリットトナリマス。トユーヨーニ、コノハシオキニワ、キタイイジョーノカチガアリマシタ！セマイキッチンデウマクスゴスコツワ、モノオヘラスコトダトカンガエガチデスガ、ヤミクモニヘラスヒツヨーワナク、ベンリナモノオモツコトモオナジクライタイセツナノダトオモイマス。ナベオカイカエルコトガアッタラ、フタニハシオオケルタイプノモノオエラボーカナー。コレカラモ、ズイジ、モチモノオミナオシテイキタイデス。シチシノサンカク。\"\n",
        "original = \"もうね、言いたいことはタイトルでほぼ言ってしまっているのですが、本文書きます。わたしってたまにそういうとこある。これまでにも何度か登場しているように、我が家のキッチンは狭いです。そんな狭いキッチンでも自分の食べたいものを食べられるように、手の込んだ料理はしないものの、工夫を凝らしているつもり。例えばこんなのとか。今日は、具体的なレシピではなく、お役立ち道具について書いてみます。それがこちら。箸置き＋スプーン置きあるいは箸置き＋しょうゆ皿といったところでしょうか。お箸を置くスペースのほかに、深めのスペースがあるので、食べるときに使うカトラリーが箸だけではないとき（スープがあるからスプーンも出したいというシチュエーション）や、調味料を料理とは別のところに出したいけどわざわざそのためにお皿を使うほどでは…というときに便利。このように、わたしは「食べる際に使う」想定でこの箸置きを購入したのですが、これが実は「作る際にも」活躍するんです。例えば、炒め物をしているときの菜箸。わたしは深めのフライパン（ほぼ鍋）を使っているため、中に入れたままでも極端に箸が寝そべることはなく、多少熱くなっちゃうかなぁくらいのデメリットしかないのですが、そうは言っても箸を加熱するのは箸の寿命を縮めてしまいますよね。そう思ってフライパンから離そうにも、キッチンが狭いと置き場がない。恥ずかしながら、流しの部分に箸先が出る（箸先だけは台につかない）状態で、台に直置きしてしまうときもあります…。キッチンでは、丁寧な動作で調理をするなら別として、あわただしく料理していると「勾玉みたいな小さな箸置きにちゃんと箸を置く」という動作が面倒なのですよね（個人差があることは認めます）。そんなときに便利だったのが、この箸置き。抜群の安定感があり、箸を置くための溝も長めに確保されている。これなら多少なりとも雑な置き方をしたとて、箸が転げ落ちることはないし、次に使うときも手に取りやすいです。そして、スプーン置きとしても使えるので、煮物の味見に使ったスプーンを、その都度洗ったり小皿に置いたりしなくて良い！このように、調理中のカトラリー置きとして、大活躍しているのです。さらに、普段からnoteを見てくださっているかたは、わたしがよくお茶を飲むことをご存じだと思います。きちんといれるときは茶葉からですが、やっぱり手軽なティーバッグもそれなりに使うわけで。もうお分かりでしょうか…この箸置きの「スプーン置き」の部分、ティーバッグにぴったりなのです。お茶の種類によりますが、一度きりでなく何度か使えるようなティーバッグがありますよね。２煎目の少し渋い紅茶・緑茶や、むしろ２煎目以降のほうが風味の引き立つ烏龍茶など。そういうお茶をいれたときに、この箸置きの導入以前は、小皿を出してティーバッグ置き場にしていたのですが、いくら小さくてもお皿は円形なのでスペースをとりますし、ティーバッグには水気があるため、平たいお皿では心許ない場合もあります。それが、この長方形の箸置きだとじゃまにならず、深さがある分、安心感も大きいです。ティーバッグの一時置き場として、とても便利。あと、これはほんとうに「知らんがな」って言われちゃいそうなのですが、箸置きみたいな小さなものって、洗ったあと乾かすときの置き場所に困りませんか？水切りかごの中で、細かいものはこのあたりに置く、と大まかに決めてはいるのですが、次に使おうと思ったら行方不明…なことがときどきあります。でもね、この箸置きだと、水切り中も存在感がちゃんとあるの。まあそもそものサイズが大きいということもありますが、単にそれだけの話ではなく、裏返すと、箸を置く溝の部分をかごのフチに引っかけられるので…いつの間にかいなくなっちゃうことがない。これもまた、わたしにとっては非常に大きなメリットとなります。というように、この箸置きには期待以上の価値がありました！狭いキッチンでうまく過ごすコツは「物を減らすこと」だと考えがちですが、やみくもに減らす必要はなく、「便利な物を持つこと」も同じくらい大切なのだと思います。鍋を買い替えることがあったら、ふたに箸を置けるタイプのものを選ぼうかな～。これからも随時、持ち物を見直していきたいです。七志野さんかく\""
      ]
    },
    {
      "cell_type": "markdown",
      "source": [
        "## 前処理や記号を付与するためのクラス"
      ],
      "metadata": {
        "id": "_IEV3uVN6e1h"
      }
    },
    {
      "cell_type": "markdown",
      "source": [
        "Coefontの出力(subject)と、オリジナルソースを管理するクラス。比較に必要な前処理などを行う。"
      ],
      "metadata": {
        "id": "5KyRD0W4yUPi"
      }
    },
    {
      "cell_type": "code",
      "source": [
        "class Subject:\n",
        "  def __init__(self, original, subject):\n",
        "    self.subject = subject\n",
        "    self.original = original\n",
        "\n",
        "    self.symbolTrigger1 = [\n",
        "        [\"オ\", \"コ\", \"ソ\", \"ト\", \"ノ\", \"ホ\", \"モ\", \"ヨ\", \"ロ\", \"ヲ\"],\n",
        "        [\"エ\", \"ケ\", \"セ\", \"ネ\", \"ヘ\", \"メ\", \"レ\"], # removed テ\n",
        "        [\"ア\", \"カ\", \"サ\", \"タ\", \"ナ\", \"ハ\", \"マ\", \"ラ\", \"ヤ\", \"ラ\", \"ワ\"]\n",
        "        ]\n",
        "\n",
        "    self.symbolTrigger2 = [\n",
        "        [\"ウ\"],\n",
        "        [\"イ\"],\n",
        "        [\"ア\"]\n",
        "        ]\n",
        "\n",
        "    sentences_subject, sentences_original = self.preprosessing(self.subject), self.preprosessing(self.original),\n",
        "\n",
        "    self.sentences_subject = sentences_subject\n",
        "    self.sentences_original = sentences_original\n",
        "\n",
        "\n",
        "  def preprosessing(self, subject):\n",
        "    handled = self._replaceSymbol(subject) #ここから文字列\n",
        "    handled = self.revertSymbol(handled)  # 不規則な伸ばし変換があるので、オリジナルソースを伸ばし変換するのではなくCoefontの伸ばし変換を逆作用させることにした\n",
        "    handled = self._splitSentence(handled) # ここから配列\n",
        "\n",
        "    return handled\n",
        "\n",
        "  def _splitSentence(self, subject):\n",
        "    sentences = subject.split(SYMBOL_PUNCTUATION)\n",
        "    return sentences\n",
        "\n",
        "  def _replaceSymbol(self, subject):\n",
        "    sentence = subject.replace(SYMBOL_READING_POINT, SYMBOL_NONE)\n",
        "    return sentence\n",
        "\n",
        "  def convertSymbol(self, katakana_original):\n",
        "    list_kat_original = list(katakana_original)\n",
        "    kat_original_size = len(list_kat_original)-1\n",
        "    idkc = 0\n",
        "    while  idkc < kat_original_size:\n",
        "      kat_char_pointer = list_kat_original[idkc]\n",
        "      kat_char_next = list_kat_original[idkc+1]\n",
        "      for ids, symbols in enumerate(self.symbolTrigger1):\n",
        "        if kat_char_pointer in symbols and kat_char_next in self.symbolTrigger2[ids]:\n",
        "          list_kat_original[idkc+1] = SYMBOL_LONG_NOTE\n",
        "          idkc+=1\n",
        "      idkc+=1\n",
        "    return \"\".join(list_kat_original)\n",
        "\n",
        "  def revertSymbol(self, katakana_subject):\n",
        "    list_kat_subject = list(katakana_subject)\n",
        "    kat_subject_size = len(list_kat_subject)-1\n",
        "    idkc = 0\n",
        "    while  idkc < kat_subject_size:\n",
        "      kat_char_pointer = list_kat_subject[idkc]\n",
        "      kat_char_next = list_kat_subject[idkc+1]\n",
        "      if kat_char_next == SYMBOL_LONG_NOTE:\n",
        "         for ids, symbols in enumerate(self.symbolTrigger1):\n",
        "           if kat_char_pointer in symbols:\n",
        "               list_kat_subject[idkc+1] = self.symbolTrigger2[ids][0]\n",
        "               idkc+=1\n",
        "      idkc+=1\n",
        "    return \"\".join(list_kat_subject)"
      ],
      "metadata": {
        "id": "2YEdBtJVHpzv"
      },
      "execution_count": null,
      "outputs": []
    },
    {
      "cell_type": "markdown",
      "source": [
        "## 棒読みの変換"
      ],
      "metadata": {
        "id": "L9RoWqgXxLkT"
      }
    },
    {
      "cell_type": "code",
      "source": [
        "test01_subject = Subject(original, input)\n",
        "# print(test01_subject.convertSymbol(\"コウコウセイ\"))\n",
        "# print(test01_subject.convertSymbol(\"ケイト\"))\n",
        "# print(test01_subject.convertSymbol(\"オカアサン\"))\n",
        "# print(test01_subject.convertSymbol(\"ヤッテミヨウ\"))\n",
        "\n",
        "# モウネ イイタイ コトハ タイトルデ ホボ イッテシマッテイルノデスガ ホンブン カキマス\n",
        "test01_original = \"モウネ イイタイ コトハ タイトルデ ホボ イッテシマッテイルノデスガ ホンブン カキマス\"\n",
        "test01_converted = test01_subject.convertSymbol(test01_original)\n",
        "print(\"original:\", test01_original)\n",
        "print(\"converted:\", test01_converted)\n",
        "print(\"reverted:\", test01_subject.revertSymbol(test01_converted))\n",
        "print(\"match (equal between original and reverted):\", test01_subject.revertSymbol(test01_converted) == test01_original)"
      ],
      "metadata": {
        "colab": {
          "base_uri": "https://localhost:8080/"
        },
        "id": "wTpAisWr4YyR",
        "outputId": "66634cfe-5fc4-4e91-c3ec-794527f77323"
      },
      "execution_count": null,
      "outputs": [
        {
          "output_type": "stream",
          "name": "stdout",
          "text": [
            "original: モウネ イイタイ コトハ タイトルデ ホボ イッテシマッテイルノデスガ ホンブン カキマス\n",
            "converted: モーネ イイタイ コトハ タイトルデ ホボ イッテシマッテイルノデスガ ホンブン カキマス\n",
            "reverted: モウネ イイタイ コトハ タイトルデ ホボ イッテシマッテイルノデスガ ホンブン カキマス\n",
            "match (equal between original and reverted): True\n"
          ]
        }
      ]
    },
    {
      "cell_type": "markdown",
      "source": [
        "## APIやライブラリごとにかな変換と比較を行うクラス\n",
        "\n",
        "\n",
        "単語検出方法1\n",
        "1.   読点をすべて空白に置き換える（削除する）\n",
        "2.   句読点ごとにセンテンスを区切る\n",
        "3.   センテンスをカタカナ変換する\n",
        "4.   対象の箇所をシンボルに置き換える。(a行+a行の場合、「ー」にあたる補完ができなくなる。不可逆性があるため、オリジナルの対象個所を伸ばしに置き換える)\n",
        "5.   両者を比較する。一致しなかった場合 (6)へ\n",
        "6.   変換後の文字数をオリジナル、変換後のものともに取得する。\n",
        "7.   頭からキーフレーズずらしで比べていく。確認できたキーフレーズがあればキーフレームの数だけ飛ばす。\n",
        "8.   一致しない文字に出会ったら、次のキーフレームに出会うまで\n",
        "\n"
      ],
      "metadata": {
        "id": "x21Cv0Z86jiI"
      }
    },
    {
      "cell_type": "markdown",
      "source": [
        "## Goo APIを利用したオリジナルソースのかな変換"
      ],
      "metadata": {
        "id": "CD22PhCmvt3o"
      }
    },
    {
      "cell_type": "markdown",
      "source": [
        "\n",
        "\n",
        "*   Subjectクラスを初期化して、Coefontの出力ともとのオリジナルソースを引き渡す（センテンス単位の分割など、下処理を行う）\n",
        "*   オリジナルソースのかな変換を行う比較対象のコンバータを初期化する。コンバータは複数利用されることが想定されており、優先的に使うコンバータから配列形式で記述する\n",
        "*   CompareSentenceクラスを初期化して、先ほど初期化したSubjectとコンバータを引き渡す。\n",
        "\n",
        "\n",
        "\n"
      ],
      "metadata": {
        "id": "IUVK8VluxWEl"
      }
    },
    {
      "cell_type": "code",
      "source": [
        "subject = Subject(original, input) \n",
        "converter_0 = GooConverter(app_id=secrets[\"goo_api_id\"]) # goo apiの初期化\n",
        "converter_1 = YahooConverter()\n",
        "\n",
        "converters = [\n",
        "    converter_0,  ## goo apiを優先的に使う\n",
        "    # converter_1\n",
        "  ]\n",
        "compare = CompareSentence(subject, converters)\n",
        "\n",
        "\n",
        "xy = [0, 0] # converter id, sentence id\n",
        "compare.convert(xy[0], xy[1]) # converter_idが0のconverterを利用してsentence_idが0の文章をかな変換する\n",
        "print(\"sentence size:\", len(compare.subject.sentences_original), len(compare.subject.sentences_subject))\n",
        "print(\"original sentense:\", compare.subject.sentences_original[xy[1]])\n",
        "print(\"convert sentense:\", SYMBOL_NONE.join(compare.converted[xy[0]][xy[1]])) # converter_idが0のconverterを利用してsentence_idが0の文章をかな変換した結果を取得する\n",
        "print(\"subject sentense:\", compare.subject.sentences_subject[xy[1]])"
      ],
      "metadata": {
        "colab": {
          "base_uri": "https://localhost:8080/"
        },
        "id": "6GpeIBP6BJSe",
        "outputId": "5229b8e0-5db4-42a0-ea20-a060cb2acbad"
      },
      "execution_count": null,
      "outputs": [
        {
          "output_type": "stream",
          "name": "stdout",
          "text": [
            "sentence size: 35 36\n",
            "original sentense: もうね言いたいことはタイトルでほぼ言ってしまっているのですが本文書きます\n",
            "convert sentense: モウネイイタイコトハタイトルデホボイッテシマッテイルノデスガホンブンカキマス\n",
            "subject sentense: モウネイイタイコトワタイトルデホボイッテシマッテイルノデスガホンブンカキマス\n"
          ]
        }
      ]
    },
    {
      "cell_type": "markdown",
      "source": [
        "### （作業用）キーワードごとに分けられたセンテンスを取得"
      ],
      "metadata": {
        "id": "ldw3zXsa6Enp"
      }
    },
    {
      "cell_type": "code",
      "source": [
        "print(compare.converted[xy[0]][xy[1]])"
      ],
      "metadata": {
        "colab": {
          "base_uri": "https://localhost:8080/"
        },
        "id": "KIm5ROTK6Bmm",
        "outputId": "c71639e8-c883-4cb5-e351-bf31df04fb4f"
      },
      "execution_count": null,
      "outputs": [
        {
          "output_type": "stream",
          "name": "stdout",
          "text": [
            "['モウネ', 'イイタイ', 'コトハ', 'タイトルデ', 'ホボ', 'イッテシマッテイルノデスガ', 'ホンブン', 'カキマス']\n"
          ]
        }
      ]
    },
    {
      "cell_type": "markdown",
      "source": [
        "## キーワードとCoefontの出力の比較"
      ],
      "metadata": {
        "id": "Y4XTaWTTvnW3"
      }
    },
    {
      "cell_type": "markdown",
      "source": [
        "とりあえず原始的な方法で実装"
      ],
      "metadata": {
        "id": "_tPgNsB22h4r"
      }
    },
    {
      "cell_type": "code",
      "source": [
        "test02_subject = list(\"モウネイイタイコトワタイトルデホボイッテシマッテイルノデスガホンブンカキマス\")\n",
        "test02_keywords = ['モウネ', 'イイタイ', 'コトハ', 'タイトルデ', 'ホボ', 'イッテシマッテイルノデスガ', 'ホンブン', 'カキマス']\n",
        "\n",
        "idk = 0\n",
        "ids = 0\n",
        "\n",
        "test02_err = {}\n",
        "\n",
        "while idk < len(test02_keywords):\n",
        "  keyword = test02_keywords[idk]\n",
        "  keyword_size = len(keyword)\n",
        "  frame_pointrer = ids+keyword_size\n",
        "  clip = test02_subject[ids:frame_pointrer]\n",
        "  for idc, char in enumerate(clip):\n",
        "    if char == keyword[idc] or char == SYMBOL_LONG_NOTE:\n",
        "      continue\n",
        "    else:\n",
        "      test02_err[keyword] = \"\".join(clip)\n",
        "      break\n",
        "  idk+=1\n",
        "  ids+=keyword_size\n",
        "\n",
        "print(\"mismatch:\", test02_err)"
      ],
      "metadata": {
        "colab": {
          "base_uri": "https://localhost:8080/"
        },
        "id": "ZcPiNWf3VaPm",
        "outputId": "230c4c46-0828-4744-efaf-12412fe27d45"
      },
      "execution_count": null,
      "outputs": [
        {
          "output_type": "stream",
          "name": "stdout",
          "text": [
            "mismatch: {'コトハ': 'コトワ'}\n"
          ]
        }
      ]
    },
    {
      "cell_type": "markdown",
      "source": [
        "# 以下、クラス実装"
      ],
      "metadata": {
        "id": "iSAB7zRdBJsp"
      }
    },
    {
      "cell_type": "code",
      "source": [
        "class CompareSentence:\n",
        "  def __init__(self, subject, converters=[]):\n",
        "    self.subject = subject\n",
        "    self.converters = converters\n",
        "    self.converted = [[ [] for ids in range(len(self.subject.sentences_original))] for idc in range(len(self.converters))] # キーワードが入る。\n",
        "\n",
        "  def convert(self, idc, ids):\n",
        "    converter = self.converters[idc]\n",
        "    sentence = self.subject.sentences_original[ids]\n",
        "    converted = converter.convert(sentence)\n",
        "    # converted = subject.convertSymbol(converted) # 不規則な伸ばし変換があるので、オリジナルソースを伸ばし変換するのではなくCoefontの伸ばし変換を逆作用させることにした\n",
        "    keywords = converted.split(SYMBOL_HALF_SPACE) # wordごと（半角空白を境）に区切る　区切られたものをキーワードとする\n",
        "    \n",
        "    self.converted[idc][ids] = keywords\n",
        "\n",
        "  def convertAll(self, idc):\n",
        "    for ids in range(len(self.sentences)):\n",
        "      self.convert(idc, ids)\n"
      ],
      "metadata": {
        "id": "ZwqH6MbM74GA"
      },
      "execution_count": null,
      "outputs": []
    },
    {
      "cell_type": "markdown",
      "source": [
        "# 以下、コンバーターのクラス実装\n",
        "各クラスでは`convert()`関数の実装がmustです。CompareSentenceクラスでは、この関数を実行して、各APIに差分をボックス化しています。"
      ],
      "metadata": {
        "id": "C8Pcwt04OFP4"
      }
    },
    {
      "cell_type": "markdown",
      "source": [
        "## PyKakashiLib"
      ],
      "metadata": {
        "id": "Wa-H7eAGOAYo"
      }
    },
    {
      "cell_type": "code",
      "source": [
        "class PyKakashiConverter:\n",
        "  def __init__(self):\n",
        "    pass\n",
        "\n",
        "  def convert():\n",
        "    pass"
      ],
      "metadata": {
        "id": "-8qT5jSqIocR"
      },
      "execution_count": null,
      "outputs": []
    },
    {
      "cell_type": "markdown",
      "source": [
        "### Goo API\n",
        "\n",
        "ドキュメントはこちら\n",
        "https://labs.goo.ne.jp/api/jp/hiragana-translation/"
      ],
      "metadata": {
        "id": "kyrn-upaCB5m"
      }
    },
    {
      "cell_type": "code",
      "source": [
        "class GooConverter:\n",
        "  def __init__(self, app_id):\n",
        "    self.app_id = app_id\n",
        "    pass\n",
        "\n",
        "  def convert(self, sentence):\n",
        "    url = \"https://labs.goo.ne.jp/api/hiragana\"\n",
        "    params = {\n",
        "        \"app_id\": self.app_id,\n",
        "        \"sentence\": sentence,\n",
        "        \"output_type\": \"katakana\"\n",
        "    }\n",
        "\n",
        "    headers = {'Content-Type': 'application/x-www-form-urlencoded'}\n",
        "\n",
        "    r = reqs.post(url=url, data=params, headers=headers)\n",
        "    response_text = r.text\n",
        "    response_json = json.loads(response_text)\n",
        "    return response_json[\"converted\"]"
      ],
      "metadata": {
        "id": "qknC2vWaHH6d"
      },
      "execution_count": null,
      "outputs": []
    },
    {
      "cell_type": "markdown",
      "source": [
        "### Yahoo API(未完成)\n",
        "\n",
        "ドキュメントはこちら\n",
        "https://developer.yahoo.co.jp/webapi/jlp/furigana/v2/furigana.html"
      ],
      "metadata": {
        "id": "rQj6N7BYGQtA"
      }
    },
    {
      "cell_type": "code",
      "source": [
        "class YahooConverter:\n",
        "  def __init__(self, app_id=\"\"):\n",
        "    self.app_id = app_id\n",
        "\n",
        "  def convert(self, sentence):\n",
        "    url = \"https://jlp.yahooapis.jp/FuriganaService/V2/furigana\"\n",
        "    params = {\n",
        "        \"id\": \"\",\n",
        "        \"jsonrpc\": \"2\",\n",
        "        \"method\": \"jlp.furiganaservice.furigana\",\n",
        "        \"params\": {\n",
        "            \"q\": sentence,\n",
        "        }\n",
        "    }\n",
        "\n",
        "    headers = {'Content-Type': 'application/x-www-form-urlencoded'}\n",
        "\n",
        "    r = reqs.post(url=url, data=params, headers=headers)\n",
        "    response_text = r.text\n",
        "    print(response_text)\n",
        "    response_json = json.loads(response_text)\n",
        "    kana_list = [word[\"furigana\"] for word in response_json[\"word\"]]\n",
        "    return SYMBOL_HALF_SPACE.join(kana_list)"
      ],
      "metadata": {
        "id": "fYhuK9NSH9WT"
      },
      "execution_count": null,
      "outputs": []
    },
    {
      "cell_type": "code",
      "source": [],
      "metadata": {
        "id": "DQqdispuI2BN"
      },
      "execution_count": null,
      "outputs": []
    }
  ]
}