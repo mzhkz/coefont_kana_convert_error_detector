{
  "nbformat": 4,
  "nbformat_minor": 0,
  "metadata": {
    "colab": {
      "provenance": [],
      "collapsed_sections": [],
      "toc_visible": true,
      "authorship_tag": "ABX9TyPvDEZvdWSL5xxEPgBXn3sV",
      "include_colab_link": true
    },
    "kernelspec": {
      "name": "python3",
      "display_name": "Python 3"
    },
    "language_info": {
      "name": "python"
    }
  },
  "cells": [
    {
      "cell_type": "markdown",
      "metadata": {
        "id": "view-in-github",
        "colab_type": "text"
      },
      "source": [
        "<a href=\"https://colab.research.google.com/github/mzhkz/coefont_kana_convert_error_detector/blob/main/0904_detect_kana_yomi_error.ipynb\" target=\"_parent\"><img src=\"https://colab.research.google.com/assets/colab-badge.svg\" alt=\"Open In Colab\"/></a>"
      ]
    },
    {
      "cell_type": "markdown",
      "source": [
        "# 事前準備\n",
        "## 必要なパッケージ等を読み込み/割り当て"
      ],
      "metadata": {
        "id": "LIP0DVX3SAYz"
      }
    },
    {
      "cell_type": "code",
      "source": [
        "! pip install mecab-python3 unidic-lite\n",
        "! pip install plyvel\n",
        "! pip install sseclient\n",
        "! pip install wikipedia-api"
      ],
      "metadata": {
        "colab": {
          "base_uri": "https://localhost:8080/"
        },
        "id": "Oig2C9aqrY7B",
        "outputId": "e09b4bd4-cc25-4b59-ed38-6f4c5fac8f48"
      },
      "execution_count": 1,
      "outputs": [
        {
          "output_type": "stream",
          "name": "stdout",
          "text": [
            "Looking in indexes: https://pypi.org/simple, https://us-python.pkg.dev/colab-wheels/public/simple/\n",
            "Collecting mecab-python3\n",
            "  Downloading mecab_python3-1.0.5-cp37-cp37m-manylinux_2_17_x86_64.manylinux2014_x86_64.whl (574 kB)\n",
            "\u001b[K     |████████████████████████████████| 574 kB 7.2 MB/s \n",
            "\u001b[?25hCollecting unidic-lite\n",
            "  Downloading unidic-lite-1.0.8.tar.gz (47.4 MB)\n",
            "\u001b[K     |████████████████████████████████| 47.4 MB 978 kB/s \n",
            "\u001b[?25hBuilding wheels for collected packages: unidic-lite\n",
            "  Building wheel for unidic-lite (setup.py) ... \u001b[?25l\u001b[?25hdone\n",
            "  Created wheel for unidic-lite: filename=unidic_lite-1.0.8-py3-none-any.whl size=47658836 sha256=d571ce4e972571a5a50bea08bc0468fb717229f5ca04531e324c9d371c51f934\n",
            "  Stored in directory: /root/.cache/pip/wheels/de/69/b1/112140b599f2b13f609d485a99e357ba68df194d2079c5b1a2\n",
            "Successfully built unidic-lite\n",
            "Installing collected packages: unidic-lite, mecab-python3\n",
            "Successfully installed mecab-python3-1.0.5 unidic-lite-1.0.8\n",
            "Looking in indexes: https://pypi.org/simple, https://us-python.pkg.dev/colab-wheels/public/simple/\n",
            "Collecting plyvel\n",
            "  Downloading plyvel-1.4.0-cp37-cp37m-manylinux_2_12_x86_64.manylinux2010_x86_64.whl (693 kB)\n",
            "\u001b[K     |████████████████████████████████| 693 kB 7.0 MB/s \n",
            "\u001b[?25hInstalling collected packages: plyvel\n",
            "Successfully installed plyvel-1.4.0\n",
            "Looking in indexes: https://pypi.org/simple, https://us-python.pkg.dev/colab-wheels/public/simple/\n",
            "Collecting sseclient\n",
            "  Downloading sseclient-0.0.27.tar.gz (7.5 kB)\n",
            "Requirement already satisfied: requests>=2.9 in /usr/local/lib/python3.7/dist-packages (from sseclient) (2.23.0)\n",
            "Requirement already satisfied: six in /usr/local/lib/python3.7/dist-packages (from sseclient) (1.15.0)\n",
            "Requirement already satisfied: urllib3!=1.25.0,!=1.25.1,<1.26,>=1.21.1 in /usr/local/lib/python3.7/dist-packages (from requests>=2.9->sseclient) (1.24.3)\n",
            "Requirement already satisfied: chardet<4,>=3.0.2 in /usr/local/lib/python3.7/dist-packages (from requests>=2.9->sseclient) (3.0.4)\n",
            "Requirement already satisfied: idna<3,>=2.5 in /usr/local/lib/python3.7/dist-packages (from requests>=2.9->sseclient) (2.10)\n",
            "Requirement already satisfied: certifi>=2017.4.17 in /usr/local/lib/python3.7/dist-packages (from requests>=2.9->sseclient) (2022.6.15)\n",
            "Building wheels for collected packages: sseclient\n",
            "  Building wheel for sseclient (setup.py) ... \u001b[?25l\u001b[?25hdone\n",
            "  Created wheel for sseclient: filename=sseclient-0.0.27-py3-none-any.whl size=5584 sha256=fcb49cabb6836c8e8c201a7ccc26807b3d3cfb18524a2aabe22d3f85e960520a\n",
            "  Stored in directory: /root/.cache/pip/wheels/07/67/7e/96edf627ac746de1a5c5cbb8d59ed960f033b8352dc12c545d\n",
            "Successfully built sseclient\n",
            "Installing collected packages: sseclient\n",
            "Successfully installed sseclient-0.0.27\n",
            "Looking in indexes: https://pypi.org/simple, https://us-python.pkg.dev/colab-wheels/public/simple/\n",
            "Collecting wikipedia-api\n",
            "  Downloading Wikipedia-API-0.5.4.tar.gz (18 kB)\n",
            "Requirement already satisfied: requests in /usr/local/lib/python3.7/dist-packages (from wikipedia-api) (2.23.0)\n",
            "Requirement already satisfied: idna<3,>=2.5 in /usr/local/lib/python3.7/dist-packages (from requests->wikipedia-api) (2.10)\n",
            "Requirement already satisfied: certifi>=2017.4.17 in /usr/local/lib/python3.7/dist-packages (from requests->wikipedia-api) (2022.6.15)\n",
            "Requirement already satisfied: urllib3!=1.25.0,!=1.25.1,<1.26,>=1.21.1 in /usr/local/lib/python3.7/dist-packages (from requests->wikipedia-api) (1.24.3)\n",
            "Requirement already satisfied: chardet<4,>=3.0.2 in /usr/local/lib/python3.7/dist-packages (from requests->wikipedia-api) (3.0.4)\n",
            "Building wheels for collected packages: wikipedia-api\n",
            "  Building wheel for wikipedia-api (setup.py) ... \u001b[?25l\u001b[?25hdone\n",
            "  Created wheel for wikipedia-api: filename=Wikipedia_API-0.5.4-py3-none-any.whl size=13477 sha256=7a507942e4cac04e169b1b0e91c4a8a15a10e84cd9a3746bd56527761cc0cdbf\n",
            "  Stored in directory: /root/.cache/pip/wheels/d3/24/56/58ba93cf78be162451144e7a9889603f437976ef1ae7013d04\n",
            "Successfully built wikipedia-api\n",
            "Installing collected packages: wikipedia-api\n",
            "Successfully installed wikipedia-api-0.5.4\n"
          ]
        }
      ]
    },
    {
      "cell_type": "code",
      "source": [
        "%matplotlib inline\n",
        "import numpy as np\n",
        "import matplotlib.pyplot as plt\n",
        "import requests as reqs\n",
        "import json\n",
        "import regex\n",
        "import plyvel\n",
        "import pickle\n",
        "import MeCab\n",
        "import datetime\n",
        "import wikipediaapi\n",
        "import re\n",
        "import multiprocessing as mp\n",
        "from tqdm import tqdm\n",
        "import gspread\n",
        "from oauth2client.service_account import ServiceAccountCredentials\n",
        "from sseclient import SSEClient as EventSource"
      ],
      "metadata": {
        "id": "l_CkY7fnR_5g"
      },
      "execution_count": 122,
      "outputs": []
    },
    {
      "cell_type": "markdown",
      "source": [
        "## 作業ディレクトリ（ファイルの読み込みや保存を行う絶対パス）"
      ],
      "metadata": {
        "id": "CpKIv31V__92"
      }
    },
    {
      "cell_type": "code",
      "source": [
        "APP_WORKDIR = \"/content/drive/MyDrive/coefont_kana_converter_error_detector/\""
      ],
      "metadata": {
        "id": "Qsg_nah3_ipM"
      },
      "execution_count": 3,
      "outputs": []
    },
    {
      "cell_type": "code",
      "source": [
        "from google.colab import drive\n",
        "drive.mount('/content/drive/')"
      ],
      "metadata": {
        "colab": {
          "base_uri": "https://localhost:8080/"
        },
        "id": "omnti7xwR5FQ",
        "outputId": "865b9ad3-78ab-429d-ad05-a5e89f818d1c"
      },
      "execution_count": 4,
      "outputs": [
        {
          "output_type": "stream",
          "name": "stdout",
          "text": [
            "Mounted at /content/drive/\n"
          ]
        }
      ]
    },
    {
      "cell_type": "markdown",
      "source": [
        "### APIのアクセストークンなど機密情報の管理"
      ],
      "metadata": {
        "id": "eSU3i3VYR5cM"
      }
    },
    {
      "cell_type": "code",
      "source": [
        "secrets = {}\n",
        "with open(APP_WORKDIR + 'secrets.json') as f:\n",
        "  secrets = json.load(f)"
      ],
      "metadata": {
        "id": "cA9ux2ZOR9pE"
      },
      "execution_count": 126,
      "outputs": []
    },
    {
      "cell_type": "markdown",
      "source": [
        "### Spreadsheetのクライアントを取得"
      ],
      "metadata": {
        "id": "i3HzBjP02eBN"
      }
    },
    {
      "cell_type": "code",
      "source": [
        "auth_scope =['https://spreadsheets.google.com/feeds', 'https://www.googleapis.com/auth/drive']\n",
        "auth_creds = ServiceAccountCredentials.from_json_keyfile_name(APP_WORKDIR + 'client_secret.json', auth_scope)\n",
        "spreadsheet_client = gspread.authorize(auth_creds)"
      ],
      "metadata": {
        "id": "rcbcnO4n2i5Y"
      },
      "execution_count": 125,
      "outputs": []
    },
    {
      "cell_type": "code",
      "source": [
        "spreadsheet = spreadsheet_client.open_by_key(secrets[\"coefont_logging_spreadsheet_id\"]).sheet1"
      ],
      "metadata": {
        "id": "T14E0Ic24lLx"
      },
      "execution_count": 129,
      "outputs": []
    },
    {
      "cell_type": "markdown",
      "source": [
        "## データベースのセットアップ（品詞の保存）\n",
        "* APIのアクセス量を減らすため、過去に変換を行った単語をデータベースに保存し、キャッシュとして利用する。\n",
        "* 読み書きの早い、Key -> Value型のローカルファイル型データベースである。\n",
        "* Ethereumのノードの内部ではトランザクションの管理とかでも使われている。\n",
        "* https://github.com/google/leveldb\n",
        "* https://plyvel.readthedocs.io/en/latest/"
      ],
      "metadata": {
        "id": "Enp-uLRI-sCO"
      }
    },
    {
      "cell_type": "code",
      "source": [
        "vocab_db = plyvel.DB(APP_WORKDIR + 'vocabs.ldb', create_if_missing=True)\n",
        "lebels_db = plyvel.DB(APP_WORKDIR + 'lebels.ldb', create_if_missing=True)\n",
        "checked_db = plyvel.DB(APP_WORKDIR + 'checked.ldb', create_if_missing=True)\n",
        "\n",
        "dbs = [vocab_db, lebels_db, checked_db]"
      ],
      "metadata": {
        "id": "hG52BVjO-q4A"
      },
      "execution_count": 6,
      "outputs": []
    },
    {
      "cell_type": "markdown",
      "source": [
        "### パスを間違えたりして再読み込みする場合は以下セルを実行してから上のセルを実行する"
      ],
      "metadata": {
        "id": "wEDPI9QY_zsA"
      }
    },
    {
      "cell_type": "code",
      "source": [
        "for db in dbs:\n",
        "  db.close()"
      ],
      "metadata": {
        "id": "z_bvONVi_wGX"
      },
      "execution_count": null,
      "outputs": []
    },
    {
      "cell_type": "markdown",
      "source": [
        "## 各種依存記号の設定"
      ],
      "metadata": {
        "id": "qEWp89VHTI3n"
      }
    },
    {
      "cell_type": "code",
      "source": [
        "SYMBOL_READING_POINT = \"、\" # 句読点\n",
        "SYMBOL_PUNCTUATION = \"。\" # 読点\n",
        "SYMBOL_HALF_SPACE = \" \" # 半角スペース\n",
        "SYMBOL_LONG_NOTE = \"ー\" # 伸ばし棒\n",
        "SYMBOL_NONE = \"\" # 空文字\n",
        "SYMBOL_TAB = \"\\t\" # TAB\n",
        "SYMBOL_SEMICORON = \";\" # SEMICORON"
      ],
      "metadata": {
        "id": "LAPCsUi5TINt"
      },
      "execution_count": 7,
      "outputs": []
    },
    {
      "cell_type": "markdown",
      "source": [
        "# データソース別のクラス\n",
        "* 単語中抽出に必要な対象（Webページなど）を管理する\n",
        "* 名詞の抽出とMeCabによるよみラベルを管理する。\n",
        "\n",
        "## 要件\n",
        "*   Webサイトからテキストをスクレイピング（Webサイトごとにテンプレートを作成する）\n",
        "*   リンクや特殊記号を排除する\n",
        "*   文章の形態素解析を行い、漢字が含まれている名詞のみを抽出する。\n",
        "\n"
      ],
      "metadata": {
        "id": "VlMjUzYgOt88"
      }
    },
    {
      "cell_type": "markdown",
      "source": [
        "### MecabのWakatiで初期化"
      ],
      "metadata": {
        "id": "hsYGGJU30m8P"
      }
    },
    {
      "cell_type": "code",
      "source": [
        "wakati = MeCab.Tagger()"
      ],
      "metadata": {
        "id": "CSDVVldM0jXR"
      },
      "execution_count": 8,
      "outputs": []
    },
    {
      "cell_type": "markdown",
      "source": [
        "### 漢字判定用の正規表現"
      ],
      "metadata": {
        "id": "VNtVNOTQ0j2j"
      }
    },
    {
      "cell_type": "code",
      "source": [
        "KANJI_REG_PETERN = regex.compile(r'\\p{Script=Han}')"
      ],
      "metadata": {
        "id": "Ym4Waerl0Dwy"
      },
      "execution_count": 9,
      "outputs": []
    },
    {
      "cell_type": "markdown",
      "source": [
        "## ローダー\n",
        "\n",
        "単語抽出要件\n",
        "*   MeCabで名詞判定されたもの\n",
        "*   漢字が2文字以上含まれているもの\n",
        "  * 「月」を「げつ」や「がっ」などコンテクストに基づく誤字判定が多くなってしまうため\n",
        "  * 常用の漢字 1文字で音読み・訓読みの違いがあるため\n",
        "\n"
      ],
      "metadata": {
        "id": "uRtAIwNx2E4m"
      }
    },
    {
      "cell_type": "code",
      "execution_count": 10,
      "metadata": {
        "id": "OTxjS4vLOpg_"
      },
      "outputs": [],
      "source": [
        "class DataSource:\n",
        "  def __init__(self):\n",
        "    self.vocabs = []\n",
        "    self.labels = [] \n",
        "\n",
        "  def _fetchData(self): # 文章（テキストデータ）を読み込む、ここは各サービスごとに取得の方法が異なるためオーバーライドする。\n",
        "    pass\n",
        "\n",
        "  def preprosessing(self, subject):\n",
        "    handled = self._replaceSymbol(subject) #ここから文字列\n",
        "    return handled\n",
        "\n",
        "  def _replaceSymbol(self, subject):\n",
        "    sentence = subject.replace(SYMBOL_TAB, SYMBOL_NONE)\n",
        "    return sentence\n",
        "\n",
        "  def load(self):\n",
        "    text = self._fetchData()\n",
        "    text = self.preprosessing(text)\n",
        "    vocabs, labels = self._analysis(text)\n",
        "    self.vocabs = vocabs\n",
        "    self.labels = labels \n",
        "\n",
        "  def _analysis(self, subject):\n",
        "    result = wakati.parse(subject) # 形態素解析分析 tab分けで結果が出てくる\n",
        "    vocabs = [line.split(SYMBOL_TAB) for line in result.splitlines()]\n",
        "    nouns = [vocab_data for vocab_data in vocabs if len(vocab_data) >= 4 and \"名詞\" in vocab_data[4][0:2] and len(KANJI_REG_PETERN.findall(vocab_data[0])) >= 2] # 2つの漢字を含む名詞のみ抽出\n",
        "    nouns, labels = [re.escape(noun[0]) for noun in nouns],  [noun[2] for noun in nouns] # エスケープ処理を行う + 品詞とかな変換を分割\n",
        "    unique_nouns = []\n",
        "    unique_labels = []\n",
        "    for noun, label in zip(nouns, labels):\n",
        "      if noun not in unique_nouns: #ユニークな単語を取り出す\n",
        "        unique_nouns.append(noun)\n",
        "        unique_labels.append(label)\n",
        "    return unique_nouns, unique_labels # 名詞とMeCabによるかな変換を取得\n",
        "\n",
        "  def save(self, new_count=False):\n",
        "    reg_vocab_count = 0\n",
        "    for vocab, label in zip(self.vocabs, self.labels):\n",
        "      binary_key = vocab.encode(\"utf-8\") # key for level db\n",
        "      binary_lebel = label.encode(\"utf-8\") # key for level db\n",
        "      if new_count and vocab_db.get(binary_key) is None:\n",
        "        reg_vocab_count +=1\n",
        "      vocab_db.put(binary_key, binary_lebel)\n",
        "    return reg_vocab_count"
      ]
    },
    {
      "cell_type": "markdown",
      "source": [
        "## 各種サービスなど、オケージョンごとのローダー\n",
        "\n",
        "ローダーの対象\n",
        "*   note.com （記事サービス）\n",
        "*   wikipedia.org (辞書)\n",
        "*   ローカルファイル\n",
        "*   変数\n",
        "\n"
      ],
      "metadata": {
        "id": "6HYBpVtp2GpO"
      }
    },
    {
      "cell_type": "markdown",
      "source": [
        "### 変数からテキストを読み込む"
      ],
      "metadata": {
        "id": "HeSgc6ik0_72"
      }
    },
    {
      "cell_type": "code",
      "source": [
        "class ArrayDataSource(DataSource):\n",
        "  def __init__(self, vocabs, labels):\n",
        "    super().__init__()\n",
        "    self.vocabs = vocabs\n",
        "    self.labels = labels \n",
        "\n",
        "  def load(self):\n",
        "    pass\n",
        "\n",
        "  def _analysis(self, subject):\n",
        "    pass\n",
        "\n",
        "  def _fetchData(self):\n",
        "    return \"\".self.vocabs"
      ],
      "metadata": {
        "id": "kZur9LBQxBnt"
      },
      "execution_count": 12,
      "outputs": []
    },
    {
      "cell_type": "markdown",
      "source": [
        "### ローカルのテキストファイルからテキストを読み込む（バイナリファイル未対応）"
      ],
      "metadata": {
        "id": "YDovBKdZ1yhk"
      }
    },
    {
      "cell_type": "code",
      "source": [
        "class LocalDataSource(DataSource):\n",
        "  def __init__(self, file_path):\n",
        "    super().__init__()\n",
        "    self.file_path = file_path\n",
        "\n",
        "  def _fetchData(self):\n",
        "    with open(self.file_path) as f:\n",
        "      lines = f.readlines()\n",
        "      self.source = \"\".join(lines)\n",
        "    return self.source"
      ],
      "metadata": {
        "id": "dCKdod141LF1"
      },
      "execution_count": 13,
      "outputs": []
    },
    {
      "cell_type": "markdown",
      "source": [
        "### Note API v2\n",
        "note.comから記事を取得する"
      ],
      "metadata": {
        "id": "niCqReDO1uOs"
      }
    },
    {
      "cell_type": "code",
      "source": [
        "class NoteDataSource(DataSource):\n",
        "  def __init__(self, note_article_key):\n",
        "    super().__init__()\n",
        "    self.note_article_key = note_article_key\n",
        "\n",
        "  def _fetchData(self):\n",
        "    url = \"https://note.com/api/v1/notes/{}\".format(self.note_article_key)\n",
        "    response = reqs.get(url=url)\n",
        "    text = response.text\n",
        "    response_json = json.loads(text)\n",
        "    return response_json[\"data\"][\"body\"]"
      ],
      "metadata": {
        "id": "NBfLg5yC02Pv"
      },
      "execution_count": 14,
      "outputs": []
    },
    {
      "cell_type": "markdown",
      "source": [
        "### Wikipedia\n",
        "\n",
        "https://ja.wikipedia.org/w/api.php?format=json&action=query&prop=extracts&exintro&explaintext&redirects=1&titles=%E6%85%B6%E6%87%89%E7%BE%A9%E5%A1%BE%E5%A4%A7%E5%AD%A6\n",
        "\n",
        "https://laboratory.kazuuu.net/using-wikipedia-api-in-python-to-retrieve-a-single-page/"
      ],
      "metadata": {
        "id": "bz-PMmHI2apr"
      }
    },
    {
      "cell_type": "code",
      "source": [
        "class WikipediaDataSource(DataSource):\n",
        "  def __init__(self, title):\n",
        "    super().__init__()\n",
        "    self.title = title\n",
        "\n",
        "  def _fetchData(self):\n",
        "    wiki = wikipediaapi.Wikipedia(\"ja\",extract_format=wikipediaapi.ExtractFormat.WIKI)\n",
        "    response = wiki.page(self.title)\n",
        "    return response.text"
      ],
      "metadata": {
        "id": "UR8adA3m08z4"
      },
      "execution_count": 15,
      "outputs": []
    },
    {
      "cell_type": "markdown",
      "source": [
        "### 一時開発用データセット"
      ],
      "metadata": {
        "id": "RpJhw7bl62Zb"
      }
    },
    {
      "cell_type": "code",
      "source": [
        "class TempDataSource(DataSource):\n",
        "  def __init__(self):\n",
        "    super().__init__()\n",
        "\n",
        "  # loadを上書き\n",
        "  def load(self):\n",
        "    note_articles_id = [\n",
        "      \"n4ece27ed112b\",\n",
        "      \"n0433243163f5\",\n",
        "      \"n2861fae03861\",\n",
        "      \"n6965c22952ac\",\n",
        "      \"ndf3aed673e7f\",\n",
        "      \"n766dc842145d\",\n",
        "      \"ndace078a3cb1\"\n",
        "    ]\n",
        "    data_sources = [NoteDataSource(id) for id in note_articles_id]\n",
        "    nouns = []\n",
        "    labels = []\n",
        "    for data_source in data_sources:\n",
        "      data_source.load()\n",
        "      nouns = nouns + data_source.vocabs\n",
        "      labels = labels + data_source.labels\n",
        "    # self.vocabs = nouns[:83]\n",
        "    # self.labels = labels[:83]\n",
        "    self.vocabs = nouns\n",
        "    self.labels = labels"
      ],
      "metadata": {
        "id": "5ZJ54oqW64Tv"
      },
      "execution_count": 16,
      "outputs": []
    },
    {
      "cell_type": "markdown",
      "source": [
        "## 各種ローダーのテスト"
      ],
      "metadata": {
        "id": "dYRPRiTr18CJ"
      }
    },
    {
      "cell_type": "code",
      "source": [
        "test01_note_datasource = NoteDataSource(note_article_key=\"n4ece27ed112b\")\n",
        "test01_note_datasource.load()\n",
        "\n",
        "print(test01_note_datasource.vocabs)\n",
        "print(test01_note_datasource.labels)\n",
        "\n",
        "test01_note_datasource.save(new_count=True)"
      ],
      "metadata": {
        "colab": {
          "base_uri": "https://localhost:8080/"
        },
        "id": "KbxdLpJqyQ8I",
        "outputId": "29609f54-e26e-4b6f-a052-54542347efb9"
      },
      "execution_count": 17,
      "outputs": [
        {
          "output_type": "stream",
          "name": "stdout",
          "text": [
            "['大学', '入学', '時代', '人間', '選択', '伝播', '自分', '不安', '勉強', '自負', '技術', '修得', '熱量', '努力', '実際', '学生', '身分', '個人', '開発', '仕事', '社会', '感覚', '自身', '生活', '先生', '言葉', '所属', '研究', '友人', '価値', '方向', '言語', '本質', '事実', '記事', '今後', '記録', '執筆', '迷走', '体得', '宝物', '文中', '箇所', '筆者', '理解', '問題', '発見', '解決', '最近', '以外', '中等', '教育', '学校', '反面', '事例', '背景', '論点', '整理', '視点', '在学', '変容', '意見', '参考', '本当', '少数', '解釈', '注意', '公式', '見解', '一切', '独断', '偏見', '構成', '主張', '念頭', '進学', '意図', '特徴', '理系', '文系', '区別', '自由', '分野', '横断', '内外', '着眼', '縦割り', '意識', '必要', '対応', '世界', '帰着', '複雑', '議論', '担保', '題材', '享受', '世の中', '発展', '環境', '注目', '導入', '以前', '単位', '失敗', '典型', '話題', '目的', '不在', '情報', '恩恵', '探索', '方法', '先行', '取り組み', '欲望', '合理', '道筋', '分断', '人々', '単体', '寄与', '根幹', '後者', '先導', '人材', '育成', '最終', '年間', '結果', '創出', '伝達', '付加', '創造', '連鎖', '命題', '量産', '輸出', '変化', '知識', '性質', '着目', '高校', '思考', '指導', '要領', '受験', '補完', '大体', '偏差', '目標', '見直し', '未来', '現在', '逆算', '実現', '部分', '時間', '学部', '魅力', '評価', '場所', '全知', '全能', '認識', '自走', '維持', '原点', '生産', '活動', '土台', '要約', '具材', '存在', '説得', '要求', '学問', '用意', '構造', '能力', '主眼', '基本', '必然', '現象', '自体', '最初', '脱却', '用語', '集中', '経営', '達成', '勢力', '事業', '拡大', '説明', '本格', '合格', '経験', '相対', '革新', '意義', '機会', '条件', '分類', '頭出し', '趣旨', '専攻', '期待', '空間', '浸透', '現状', '素養', '場面', '理由', '確立', '余白', '子孫', '重点', '共有']\n",
            "['ダイガク', 'ニュウガク', 'ジダイ', 'ニンゲン', 'センタク', 'デンパ', 'ジブン', 'フアン', 'ベンキョウ', 'ジフ', 'ギジュツ', 'シュウトク', 'ネツリョウ', 'ドリョク', 'ジッサイ', 'ガクセイ', 'ミブン', 'コジン', 'カイハツ', 'シゴト', 'シャカイ', 'カンカク', 'ジシン', 'セイカツ', 'センセイ', 'コトバ', 'ショゾク', 'ケンキュウ', 'ユウジン', 'カチ', 'ホウコウ', 'ゲンゴ', 'ホンシツ', 'ジジツ', 'キジ', 'コンゴ', 'キロク', 'シッピツ', 'メイソウ', 'タイトク', 'タカラモノ', 'ブンチュウ', 'カショ', 'ヒッシャ', 'リカイ', 'モンダイ', 'ハッケン', 'カイケツ', 'サイキン', 'イガイ', 'チュウトウ', 'キョウイク', 'ガッコウ', 'ハンメン', 'ジレイ', 'ハイケイ', 'ロンテン', 'セイリ', 'シテン', 'ザイガク', 'ヘンヨウ', 'イケン', 'サンコウ', 'ホントウ', 'ショウスウ', 'カイシャク', 'チュウイ', 'コウシキ', 'ケンカイ', 'イッサイ', 'ドクダン', 'ヘンケン', 'コウセイ', 'シュチョウ', 'ネントウ', 'シンガク', 'イト', 'トクチョウ', 'リケイ', 'ブンケイ', 'クベツ', 'ジユウ', 'ブンヤ', 'オウダン', 'ナイガイ', 'チャクガン', 'タテワリ', 'イシキ', 'ヒツヨウ', 'タイオウ', 'セカイ', 'キチャク', 'フクザツ', 'ギロン', 'タンポ', 'ダイザイ', 'キョウジュ', 'ヨノナカ', 'ハッテン', 'カンキョウ', 'チュウモク', 'ドウニュウ', 'イゼン', 'タンイ', 'シッパイ', 'テンケイ', 'ワダイ', 'モクテキ', 'フザイ', 'ジョウホウ', 'オンケイ', 'タンサク', 'ホウホウ', 'センコウ', 'トリクミ', 'ヨクボウ', 'ゴウリ', 'ミチスジ', 'ブンダン', 'ヒトビト', 'タンタイ', 'キヨ', 'コンカン', 'コウシャ', 'センドウ', 'ジンザイ', 'イクセイ', 'サイシュウ', 'ネンカン', 'ケッカ', 'ソウシュツ', 'デンタツ', 'フカ', 'ソウゾウ', 'レンサ', 'メイダイ', 'リョウサン', 'ユシュツ', 'ヘンカ', 'チシキ', 'セイシツ', 'チャクモク', 'コウコウ', 'シコウ', 'シドウ', 'ヨウリョウ', 'ジュケン', 'ホカン', 'ダイタイ', 'ヘンサ', 'モクヒョウ', 'ミナオシ', 'ミライ', 'ゲンザイ', 'ギャクサン', 'ジツゲン', 'ブブン', 'ジカン', 'ガクブ', 'ミリョク', 'ヒョウカ', 'バショ', 'ゼンチ', 'ゼンノウ', 'ニンシキ', 'ジソウ', 'イジ', 'ゲンテン', 'セイサン', 'カツドウ', 'ドダイ', 'ヨウヤク', 'グザイ', 'ソンザイ', 'セットク', 'ヨウキュウ', 'ガクモン', 'ヨウイ', 'コウゾウ', 'ノウリョク', 'シュガン', 'キホン', 'ヒツゼン', 'ゲンショウ', 'ジタイ', 'サイショ', 'ダッキャク', 'ヨウゴ', 'シュウチュウ', 'ケイエイ', 'タッセイ', 'セイリョク', 'ジギョウ', 'カクダイ', 'セツメイ', 'ホンカク', 'ゴウカク', 'ケイケン', 'ソウタイ', 'カクシン', 'イギ', 'キカイ', 'ジョウケン', 'ブンルイ', 'アタマダシ', 'シュシ', 'センコウ', 'キタイ', 'クウカン', 'シントウ', 'ゲンジョウ', 'ソヨウ', 'バメン', 'リユウ', 'カクリツ', 'ヨハク', 'シソン', 'ジュウテン', 'キョウユウ']\n"
          ]
        },
        {
          "output_type": "execute_result",
          "data": {
            "text/plain": [
              "0"
            ]
          },
          "metadata": {},
          "execution_count": 17
        }
      ]
    },
    {
      "cell_type": "code",
      "source": [
        "test01_wiki_datasource = WikipediaDataSource(title=\"慶應義塾大学\")\n",
        "test01_wiki_datasource.load()\n",
        "\n",
        "print(test01_wiki_datasource.vocabs)\n",
        "print(test01_wiki_datasource.labels)\n",
        "\n",
        "test01_wiki_datasource.save(new_count=True)"
      ],
      "metadata": {
        "colab": {
          "base_uri": "https://localhost:8080/"
        },
        "id": "TiTVUKj-4PGY",
        "outputId": "0f1e1258-a7d9-4e0d-c216-fab5522f450a"
      },
      "execution_count": 18,
      "outputs": [
        {
          "output_type": "stream",
          "name": "stdout",
          "text": [
            "['慶應', '義塾', '大学', '英語', '東京', '三田', '丁目', '本部', '日本', '私立', '創立', '設置', '略称', '慶大', '字体', '報道', '慶応', '表記', '概説', '中津', '福澤', '諭吉', '藩命', '江戸', '築地', '鉄砲', '現在', '中央', '明石町', '藩中', '屋敷', '安政', '開校', '蘭学', '起源', '淵源', '寛政', '国学', '藩校', '天保', '開塾', '象山', '書院', '江川', '英龍', '韮山', '私塾', '文久', '英学', '幕臣', '吉田', '賢輔', '教授', '明治', '元年', '前年', '木村', '津守', '世話', '銭座', '浜松町', '有馬', '久留米', '屋敷跡', '移転', '年号', '塾名', '共立', '学校', '訳語', '藩邸', '近代', '私学', '親藩', '紀州', '徳川', '塾舎', '開設', '幕末', '志摩', '商会', '脈絡', '藩政', '改革', '島原', '中屋敷', '跡地', '翌年', '払い下げ', '所在', '以後', '官公', '教育', '制度', '最初', '授業', '徴収', '廃藩', '生徒', '割合', '越後', '長岡', '中心', '士族', '医学', '同年', '分校', '大阪', '京都', '設立', '下元', '塾頭', '塾生', '一部', '移籍', '適塾', '帝国', '影響', '修業', '年限', '正則', '変則', '新設', '本科', '予備', '土佐', '立志', '学舎', '高知', '運営', '参画', '神戸', '商業', '講習', '兵庫', '以上', '修了', '徴兵', '免役', '指令', '改正', '特典', '適用', '海軍', '主計', '候補', '少尉', '受験', '資格', '三菱', '専門', '課程', '夜間', '法律', '専修', '旧制', '改組', '理学', '支那', '簿記', '興亜', '関連', '高島', '高山', '歯科', '天社', '文学', '理財', '政治', '大正', '北里', '柴三郎', '学長', '尽力', '発足', '経済', '法学', '学部', '総合', '予科', '付設', '学事', '最高', '意思', '決定', '機関', '評議', '病院', '開院', '太平', '戦争', '昭和', '中国', '大陸', '南方', '農業', '開発', '農学', '増設', '獣医', '畜産', '戦後', '医師', '免許', '藤原', '工業', '寄附', '工学', '商学', '平成', '湘南', '藤沢', '政策', '環境', '情報', '薬科', '合併', '薬学', '研究', '卒業', '初期', '官吏', '主流', '政変', '実業', '勃興', '最古', '社交', '倶楽部', '交詢', '特徴', '目的', '文章', '紅葉', '開催', '懐旧', '出身', '懇親', '演説', '自身', '独立', '自尊', '基本', '社会', '公共', '協力', '意味', '念頭', '医療', '伝染', '満鉄', '衛生', '歴史', '伝統', '学問', '立脚', '今日', '合衆', '以来', '長年', '母体', '理化学', '連携', '終戦', '中島', '飛行', '株式', '会社', '青年', '基礎', '学科', '年間', '活動', '武蔵野', '取得', '時代', '五経', '研鑽', '数学', '有形', '無形', '編成', '当世', '分野', '実学', '精神', '実証', '理論', '合理', '科学', '窮理', '図解', '自我', '学術', '産官', '知財', '補助', '全体', '戦前', '枢密', '顧問', '定期', '器量', '輩出', '昨今', '宇宙', '文系', '忌避', '人数', '一貫', '追求', '兵法', '心身', '健康', '手段', '学生', '体育', '奨励', '創設', '指導', '乗馬', '剣術', '稽古', '神道', '無念', '根岸', '五郎', '師範', '柔術', '端艇', '陸海軍', '操練', '弓術', '徒歩', '各部', '兵式', '訓練', '陸軍', '銃剣', '兵器', '便宜', '結成', '発火', '演習', '軍旗', '旭日', '製作', '高級', '軍装', '許可', '購入', '自体', '竿頭', '塾章', '菊花', '紋章', '浅葱', '常備', '歩兵', '連隊', '紫色', '文字', '記入', '別邸', '隊旗', '授与', '特設', '防護', '組織', '当時', '中華', '民国', '上海', '北京', '公館', '南洋', '旅行', '派遣', '帝都', '報国', '短縮', '実施', '日露', '軍人', '援護', '支援', '世界', '大戦', '突入', '学窓', '工場', '農村', '生産', '増強', '勤労', '奉仕', '挺身', '表彰', '選択', '科目', '国防', '講師', '軍事', '評論', '伊藤', '正徳', '全学', '水泳', '必修', '泳法', '単位', '義務', '複数', '自著', '対談', '特訓', '回想', '長男', '小泉', '信吉', '経験', '信三', '実技', '競技', '男子', '場合', '武道', '球技', '上記', '陸上', '半期', '受講', '必要', '日吉', '地下', '戦中', '様子', '資料', '塾長', '軍令', '校舎', '寄宿', '連合', '艦隊', '司令', '航空', '艦政', '構築', '実質', '中枢', '東亜', '台湾', '海戦', '戦艦', '大和', '出撃', '坊ノ岬', '命令', '経緯', '盧溝', '事件', '日中', '事変', '勃発', '配属', '将校', '警察', '特高', '自由', '主義', '共産', '弾圧', '軍国', '講義', '教練', '次第', '学究', '協和', '監視', '比較', '貸与', '契約', '背景', '横須賀', '軍港', '空襲', '避難', '海域', '無線', '受信', '状態', '指揮', '統制', '初代', '岡本', '周吉', '幕府', '艦長', '教官', '関係', '学寮', '学徒', '出陣', '猶予', '在学', '教室', '同級', '在籍', '本土', '依頼', '文部', '余裕', '建物', '通達', '承諾', '軽巡', '大淀', '旗艦', '木更津', '停泊', '敗北', '大倉', '文化', '町田', '玉川', '学園', '横浜', '長官', '豊田', '副武', '大将', '通信', '参謀', '士官', '意見', '自分', '寮生', '推薦', '上陸', '草鹿', '龍之介', '中将', '視察', '中佐', '親戚', '塾員', '運動', '見物', '現地', '完成', '谷口', '吉郎', '東工大', '設計', '鉄筋', '各階', '水洗', '北寮', '寮舎', '炊事', '浴室', '娯楽', '別棟', '風呂', '綱島', '川崎', '一望', '高台', '電波', '最終', '選定', '執務', '寝室', '食堂', '作戦', '近辺', '建設', '開始', '人事', '記念', '東側', '経理', '線路', '反対', '普通', '南側', '公園', '業務', '同居', '学風', '特色', '制定', '導入', '定額', '納入', '発案', '古来', '風習', '会堂', '沿革', '前史', '豊前', '藩主', '奥平', '昌高', '緒方', '洪庵', '大坂', '船場', '佐久間', '神田', 'お玉ヶ池', '嘉永', '黒船', '来航', '修行', '長崎', '門弟', '留守', '岡見', '彦三', '亨二', '松木', '弘安', '寺島', '宗則', '推挙', '出府', '従者', '古川', '正雄', '足立', '原田', '長屋', '転向', '決意', '万延', '遣米', '使節', '随行', '洋行', '遣欧', '元治', '外国', '奉行', '翻訳', '多数', '入塾', '同藩', '援助', '建築', '軍艦', '受取', '委員', '随員', '渡米', '命名', '発表', '上野', '最中', '継続', '病室', '校医', '設備', '汐留', '出張', '出版', '規定', '童子', '幼年', '麻布', '山内', '隣接', '太郎左衛門', '借入', '納言', '岩倉', '具視', '訪問', '弘前', '招聘', '教師', '校地', '近藤', '真琴', '攻玉', '約束', '学業', '勤惰', '成績', '印行', '一室', '図書', '神山', '招請', '宇和島', '大洲', '学課', '改定', '閉校', '児玉', '淳一郎', '英米法', '臨時', '征韓', '教員', '和田', '閉鎖', '民間', '雑誌', '創刊', '廃刊', '大人', '区別', '算術', '開館', '区分', '改称', '井上', '良一', '万來', '協議', '文筆', '開成', '提出', '濱尾', '総理', '選出', '経営', '西南', '減少', '読書', '晩学', '別科', '大久保', '一翁', '海舟', '維持', '資金', '借用', '相談', '官立', '島津', '大名', '清国', '廃止', '議事', '国会', '宣言', '岡山', '商法', '所長', '以下', '赴任', '憲法', '留学', '時事', '新報', '物理', '学会', '以降', '断絶', '発刊', '酒井', '良明', '兵役', '免除', '記章', '渡辺', '洪基', '総長', '講堂', '竣工', '書籍', '同盟', '休校', '発生', '資本', '募集', '規約', '主任', '来日', '従来', '皇室', '一千', '下賜', '衆議', '議員', '選挙', '当選', '池田', '成彬', '米国', '水上', '司法', '指定', '判事', '検事', '登用', '試験', '炬火', '行列', '朝鮮', '国王', '少壮', '入学', '銃器', '整備', '揮毫', '否決', '協会', '発会', '解散', '学制', '議決', '主力', '集中', '養成', '学報', '改題', '艇庫', '芝浦', '構内', '着工', '統合', '樹立', '鎌田', '栄吉', '就任', '披露', '園遊', '篤学', '寅次郎', '川合', '貞一', '気賀', '名取', '和作', '堀江', '帰一', '青木', '徹二', '欧米', '田中', '銀之助', '修身', '要領', '献上', '中等', '検定', '認可', '返上', '洋服', '帽子', '着用', '大晦日', '世紀', '送迎', '社頭', '死去', '休学', '服喪', '祭粢', '復活', '庭球', '創部', '消費', '組合', '綱町', '球場', '野球', '商工', '勝利', '東郷', '平八郎', '凱旋', '教職員', '新橋', '蔵書', '委託', '保管', '応援', '過熱', '中止', '式典', '挙行', '一人', '顕彰', '財団', '法人', '地方', '巡回', '講演', '弁論', '各科', '史学', '哲学', '専攻', '蹴球', '試合', '対校', '各地', '先生', '命日', '誕生', '五十', '一般', '開放', '亜細亜', '三千', '直営', '新聞', '表門', '東館', '場所', '石柱', '鉄扉', '西洋', '明大', '主唱', '早明', '連盟', '法政', '立教', '葉山', '落成', '詩人', '翌月', '広尾', '附属', '看護', '内閣', '成立', '政党', '祝賀', '首相', '憲政', '立憲', '政友', '参加', '四谷', '信濃町', '同地', '認定', '文官', '申請', '部長', '附設', '五輪', '熊谷', '一弥', '学位', '規程', '産婆', '大森', '関東', '震災', '救護', '貞明', '皇后', '収容', '被災', '慰問', '竹田', '告示', '二百', '九十', '食養', '早大', '戸塚', '荏原', '矢口', '新田', '望月', '四郎', '基金', '実況', '放送', '堀内', '敬三', '作詞', '作曲', '郊外', '方針', '山中', '山荘', '破損', '修築', '工事', '電鉄', '神奈川', '橘樹', '土地', '無償', '提供', '毅陸', '代表', '即位', '参列', '予防', '建立', '大会', '遺跡', '発掘', '調査', '秩父宮', '親王', '犬養', '諮問', '高松宮', '同妃', '木造', '解体', '博士', '寄贈', '天皇', '真影', '勅語', '謄本', '奉戴', '考古', '女子', '聴講', '中支', '前身', '南島', '出発', '番地', '達孝', '伯爵', '邸跡', '北東', '居常', '心得', '訓示', '下田', '開講', '月ヶ瀬', '温泉', '治療', '語学', '壮行', '休刊', '復刊', '上智', '編入', '名誉', '設定', '年度', '停止', '寄付', '戦時', '施行', '規則', '米軍', '接収', '登戸', '復旧', '講座', '臨席', '開園', '年末', '埼玉', '北足立', '志紀', '志木', '新制', '高校', '振興', '多摩', '小金井', '修復', '完了', '解除', '返還', '厚生', '学院', '修士', '改修', '編纂', '夫妻', '合作', '海外', '胸像', '講述', '分離', '問題', '計測', '残骸', '平和', '発祥', '除幕', '藤山', '管理', '南門', '正門', '労働', '産業', '西独', '会議', '斯道', '文庫', '言語', '館山', '合宿', '心理', '電子', '計算', '規準', '国際', '学費', '改訂', '発行', '紛争', '期間', '矢上', '承認', '一時', '占拠', '旧館', '火災', '自治', '集会', '焼失', '終焉', '保健', '立科', '数理', '伊勢', '閉院', '復元', '時計', '帰国', '子女', '民族', '理工', '改編', '化学', '新館', '教職', '人間', '接続', '生誕', '事務', '短期', '開学', '北館', '後期', '授賞', '学友', '移設', '人文', '統一', '短大', '先端', '生命', '丸の内', '鶴岡', '来往', '早慶', '周年', '法務', '法科', '先導', '提携', '福島', '中之島', '地区', '北海道', '皇太子', '上皇', '明仁', '美智子', '東大', '互換', '交流', '医科', '幹事', '協定', '締結', '弥生', '奈良', '集落', '竪穴', '住居', '延期', '任期', '吉野', '直行', '野村', '共同', '殿町', '令和', '早稲田', '運用', '流行', '拡大', '展示', '位置', '港北', '新宿', '山形', '浦和', '千代田', '象徴', '校歌', '黄金', '太陽', '校旗', '色使い', '実際', '国旗', '日清', '旅順', '陥落', '特許', '商標', '登録', '保護', '交叉', '交換', '豪州', '申し出', '中庭', '回廊', '考案', '色調', '基調', '英文', '創始', '由来', '成句', '構成', '愛称', '山上', '正面', '玄関', '屋上', '取り壊し', '保存', '同窓', '対照', '著作', '意識', '変化', '顕在', '過去', '煉瓦', '役割', '伝来', '地震', '災害', '現存', '花崗', '末年', '建造', '監督', '曾禰', '達蔵', '中條', '精一郎', '全焼', '再興', '倫理', '美学', '美術', '東洋', '英米', '学系', '機械', '応用', '当初', '性格', '刊行', '開化', '平山', '宮内', '世評', '漢詩', '全員', '所属', '進級', '新人', '主催', '藝文', '媒体', '成果', '詳細', '参照', '系統', '分類', '用意', '連絡', '会話', '強化', '国内外', '進学', '目標', '対象', '公募', '論文', '山口', '相馬', '永胤', '源流', '存在', '合格', '法曹', '一定', '該当', '項目', '国家', '専任', '最多', '使用', '教科', '帳合', '時点', '先駆', '関心', '知識', '咸臨', '見学', '首都', '施設', '普及', '蘭方', '洋医', '軍医', '総監', '松山', '安藤', '正胤', '良薫', '東校', '採用', '習得', '英国', '杉田', '新宮', '理由', '廃校', '金蘭', '時々', '慈恵', '隈川', '宗悦', '亜流', '小幡', '英之助', '継承', '血脇', '守之助', '若者', '初年', '口中', '開業', '徒弟', '師匠', '技術', '修得', '同時', '門下', '育成', '伊皿子', '自宅', '隣地', '記者', '直接', '理想', '所員', '北島', '佐八郎', '志賀', '昇格', '恩顧', '不肖', '報恩', '一端', '大任', '陣頭', '三井', '財閥', '唯一', '満州', '鉄道', '進出', '金井', '章次', '南満', '教養', '学期', '年次', '特定', '曜日', '解剖', '実習', '臨床', '患者', '視点', '発展', '夏休み', '学年', '韓国', '延世', '恩恵', '生物', '招聴', '準備', '来任', '担当', '済生', '国立', '機構', '公務', '共済', '立川', '前田', '希望', '尊王', '祝典', '向上', '趨勢', '目撃', '急務', '実感', '理事', '智雄', '王子', '製紙', '社長', '銀次郎', '各国', '長短', '帰途', '使命', '貢献', '感銘', '国内', '意図', '一致', '構想', '折衝', '電気', '単科', '一応', '達成', '全部', '上空', '爆撃', '襲来', '再開', '困難', '直面', '確保', '目黒', '光学', '横河', '電機', '転用', '各自', '手作り', '工作', '実験', '器具', '椅子', '備品', '薬品', '日々', '体制', '並行', '炭礦', '汽船', '地理', '距離', '一体', '効果', '改善', '期待', '成長', '革新', '復帰', '念願', '全面', '売却', '費用', '以前', '各系', '定員', '傾向', '弊害', '入り口', '多少', '進路', '学習', '重視', '徹夜', '不夜', '異名', '変更', '松下', '幸之助', '新学', '両者', '共通', '理念', '創造', '発見', '解決', '世の中', '人材', '創出', '詰め込み', '不足', '独創', '履修', '制限', '共有', '学半', '雇用', '積極', '具体', '利用', '編集', '院生', '創薬', '薬物', '進歩', '薬剤', '技能', '方向', '現場', '事前', '実務', '薬局', '医薬', '創製', '分析', '食品', '化粧', '領域', '基盤', '少数', '段階', '密着', '公益', '加盟', '学則', '通学', '所定', '学士', '入会', '甲類', '併設', '種類', '選考', '書類', '当該', '勉学', '計画', '能力', '札幌', '宮城', '仙台', '愛知', '名古屋', '福岡', '課題', '作成', '申込', '以外', '会場', '各群', '合計', '最大', '両方', '必須', '夏期', '所要', '加算', '下旬', '中旬', '毎週', '月曜', '金曜', '週末', '土日', '通年', '条件', '対面', '形式', '手続き', '審査', '面接', '試問', '予定', '要件', '基準', '三十', '申告', '署名', '捺印', '慶友', '啓発', '自主', '団体', '鹿児島', '一緒', '証書', '民事', '一橋', '全国', '獲得', '名門', '推進', '地域', '資産', '拠点', '解析', '部門', '本体', '本節', '記事', '事業', '対応', '名詞', '男女', '共学', '近隣', '遠藤', '生活', '有志', '認知', '紹介', '名称', '文献', '行事', '企画', '進行', '広報', '常任', '部署', '職員', '常駐', '主体', '発起', '対抗', '帝大', '実現', '硬式', '同好', '公称', '会員', '馬術', '出席', '同校', '校庭', '優勝', '対決', '大元', '盛り上がり', '箱根', '駅伝', '選手', '王者', '加入', '毎月', '原則', '水曜', '部数', '年代', '公正', '中立', '採算', '地位', '確立', '学内', '公認', '抽選', '賞品', '毎年', '通例', '外車', '豪華', '賛同', '会費', '任意', '役員', '企業', '財務', '行為', '苦情', '公式', '存続', '同館', '確定', '舞浜', '予約', '判明', '西麻布', '規模', '実行', '調整', '公布', '現役', '配置', '歴代', '軍隊', '出世', '平時', '閣下', '将官', '勅任', '昇進', '特筆', '戦間', '少将', '任官', '待命', '野外', '正課', '靖国', '神社', '護国', '参拝', '好感', '谷村', '豊太郎', '造兵', '平賀', '検査', '優遇', '評価', '私大', '引用', '動向', '指数', '材料', '分子', '遺伝', '神経', '以内', '二者', '社中', '敬称', '習慣', '思想', '掲示', '表示', '文書', '教頭', '古参', '呼称', '一覧', '台地', '頂上', '絶景', '自家', '円形', '通称', '桜木町', '田園', '風景', '末期', '一帯', '軍部', '例外', '幹部', '宿舎', '沖縄', '発令', '電報', '九州', '南部', '発信', '電文', '送受信', '基地', '痕跡', '側面', '付近', '防空', '高射', '台座', '点在', '進駐', '浴槽', '即席', '眺望', '人気', '米兵', '講和', '条約', '老朽', '活用', '入寮', '当局', '宗教', '趣意', '徹底', '一切', '親睦', '交通', '東急', '東横', '渋谷', '経由', '山手', '時間', '延伸', '直通', '都営', '白金', '高輪', '行き来', '仏教', '会館', '稲荷', '明神', '国宝', '所有', '秋草', '加瀬', '白山', '古墳', '墳丘', '裾部', '出土', '平安', '渥美', '博物', '寄託', '典籍', '太閤', '軍記', '織田', '信長', '豊臣', '秀吉', '太田', '和泉', '牛一', '著者', '自筆', '写本', '後鳥羽', '越部', '禅尼', '消息', '俊成', '養女', '為家', '撰集', '論評', '相良', '小札', '残欠', '具足', '肥後', '人吉', '鎌倉', '寧一', '彩色', '人体', '対馬', '宗家', '記録', '岩偶', '岩版', '秋田', '鹿角', '小坂', '杉沢', '対外', '鉱業', '工科', '王立', '復旦', '促進', '開拓', '招待', '展開', '融合', '欧州', '原子', '日仏', '系列', '頂点', '集合', '形態', '前提', '中高', '初等', '床屋', '舌禍', '界隈', '写真', '野郎', '俳優', '小沢', '栄太郎', '寺尾', '琢磨', '反抗', '態度', '退学', '存亡', '論争', '登輝', '総統', '介入', '政府', '発給', '拒否', '訪日', '断念', '番組', '日経', '木曜', '配信', '移行', '上場', '甲信越', '脚注', '注釈', '出典', '参考', '七十', '名流', '列伝', '事典', '加藤', '慶太', '大澤', '編著', '散歩', '多田', '建次', '置県', '前後', '福沢', '対策', '香川', '育英', '半沢', '直樹', '主人', '剣道', '外部', '上巻', '中巻', '下巻', '別巻', '付録']\n",
            "['ケイオウ', 'ギジュク', 'ダイガク', 'エイゴ', 'トウキョウ', 'ミタ', 'チョウメ', 'ホンブ', 'ニッポン', 'シリツ', 'ソウリツ', 'セッチ', 'リャクショウ', 'ケイダイ', 'ジタイ', 'ホウドウ', 'ケイオウ', 'ヒョウキ', 'ガイセツ', 'ナカツ', 'フクザワ', 'ユキチ', 'ハンメイ', 'エド', 'ツキジ', 'テッポウ', 'ゲンザイ', 'チュウオウ', 'アカシチョウ', 'ハンチュウ', 'ヤシキ', 'アンセイ', 'カイコウ', 'ランガク', 'キゲン', 'エンゲン', 'カンセイ', 'コクガク', 'ハンコウ', 'テンポウ', 'カイジュク', 'ショウザン', 'ショイン', 'エガワ', 'エイリュウ', 'ニラヤマ', 'シジュク', 'ブンキュウ', 'エイガク', 'バクシン', 'ヨシダ', 'ケンスケ', 'キョウジュ', 'メイジ', 'ガンネン', 'ゼンネン', 'キムラ', 'ツモリ', 'セワ', 'ゼニザ', 'ハママツチョウ', 'アリマ', 'クルメ', 'ヤシキアト', 'イテン', 'ネンゴウ', 'ジュクメイ', 'キョウリツ', 'ガッコウ', 'ヤクゴ', 'ハンテイ', 'キンダイ', 'シガク', 'シンパン', 'キシュウ', 'トクガワ', 'ジュクシャ', 'カイセツ', 'バクマツ', 'シマ', 'ショウカイ', 'ミャクラク', 'ハンセイ', 'カイカク', 'シマバラ', 'ナカヤシキ', 'アトチ', 'ヨクネン', 'ハライサゲ', 'ショザイ', 'イゴ', 'カンコウ', 'キョウイク', 'セイド', 'サイショ', 'ジュギョウ', 'チョウシュウ', 'ハイハン', 'セイト', 'ワリアイ', 'エチゴ', 'ナガオカ', 'チュウシン', 'シゾク', 'イガク', 'ドウネン', 'ブンコウ', 'オオサカ', 'キョウト', 'セツリツ', 'シモモト', 'ジュクトウ', 'ジュクセイ', 'イチブ', 'イセキ', 'テキジュク', 'テイコク', 'エイキョウ', 'シュギョウ', 'ネンゲン', 'セイソク', 'ヘンソク', 'シンセツ', 'ホンカ', 'ヨビ', 'トサ', 'リッシ', 'ガクシャ', 'コウチ', 'ウンエイ', 'サンカク', 'コウベ', 'ショウギョウ', 'コウシュウ', 'ヒョウゴ', 'イジョウ', 'シュウリョウ', 'チョウヘイ', 'メンエキ', 'シレイ', 'カイセイ', 'トクテン', 'テキヨウ', 'カイグン', 'シュケイ', 'コウホ', 'ショウイ', 'ジュケン', 'シカク', 'ミツビシ', 'センモン', 'カテイ', 'ヤカン', 'ホウリツ', 'センシュウ', 'キュウセイ', 'カイソ', 'リガク', 'シナ', 'ボキ', 'コウア', 'カンレン', 'タカシマ', 'タカヤマ', 'シカ', 'テンシャ', 'ブンガク', 'リザイ', 'セイジ', 'タイショウ', 'キタサト', 'シバサブロウ', 'ガクチョウ', 'ジンリョク', 'ホッソク', 'ケイザイ', 'ホウガク', 'ガクブ', 'ソウゴウ', 'ヨカ', 'フセツ', 'ガクジ', 'サイコウ', 'イシ', 'ケッテイ', 'キカン', 'ヒョウギ', 'ビョウイン', 'カイイン', 'タイヘイ', 'センソウ', 'ショウワ', 'チュウゴク', 'タイリク', 'ナンポウ', 'ノウギョウ', 'カイハツ', 'ノウガク', 'ゾウセツ', 'ジュウイ', 'チクサン', 'センゴ', 'イシ', 'メンキョ', 'フジワラ', 'コウギョウ', 'キフ', 'コウガク', 'ショウガク', 'ヘイセイ', 'ショウナン', 'フジサワ', 'セイサク', 'カンキョウ', 'ジョウホウ', 'ヤッカ', 'ガッペイ', 'ヤクガク', 'ケンキュウ', 'ソツギョウ', 'ショキ', 'カンリ', 'シュリュウ', 'セイヘン', 'ジツギョウ', 'ボッコウ', 'サイコ', 'シャコウ', 'クラブ', 'コウジュン', 'トクチョウ', 'モクテキ', 'ブンショウ', 'コウヨウ', 'カイサイ', 'カイキュウ', 'シュッシン', 'コンシン', 'エンゼツ', 'ジシン', 'ドクリツ', 'ジソン', 'キホン', 'シャカイ', 'コウキョウ', 'キョウリョク', 'イミ', 'ネントウ', 'イリョウ', 'デンセン', 'マンテツ', 'エイセイ', 'レキシ', 'デントウ', 'ガクモン', 'リッキャク', 'キョウ', 'ガッシュウ', 'イライ', 'ナガネン', 'ボタイ', 'リカガク', 'レンケイ', 'シュウセン', 'ナカジマ', 'ヒコウ', 'カブシキ', 'カイシャ', 'セイネン', 'キソ', 'ガッカ', 'ネンカン', 'カツドウ', 'ムサシノ', 'シュトク', 'ジダイ', 'ゴキョウ', 'ケンサン', 'スウガク', 'ユウケイ', 'ムケイ', 'ヘンセイ', 'トウセイ', 'ブンヤ', 'ジツガク', 'セイシン', 'ジッショウ', 'リロン', 'ゴウリ', 'カガク', 'キュウリ', 'ズカイ', 'ジガ', 'ガクジュツ', 'サンカン', 'チザイ', 'ホジョ', 'ゼンタイ', 'センゼン', 'スウミツ', 'コモン', 'テイキ', 'キリョウ', 'ハイシュツ', 'サッコン', 'ウチュウ', 'ブンケイ', 'キヒ', 'ニンズウ', 'イッカン', 'ツイキュウ', 'ヒョウホウ', 'シンシン', 'ケンコウ', 'シュダン', 'ガクセイ', 'タイイク', 'ショウレイ', 'ソウセツ', 'シドウ', 'ジョウバ', 'ケンジュツ', 'ケイコ', 'シントウ', 'ムネン', 'ネギシ', 'ゴロウ', 'シハン', 'ジュウジュツ', 'タンテイ', 'リクカイグン', 'ソウレン', 'キュウジュツ', 'トホ', 'カクブ', 'ヘイシキ', 'クンレン', 'リクグン', 'ジュウケン', 'ヘイキ', 'ベンギ', 'ケッセイ', 'ハッカ', 'エンシュウ', 'グンキ', 'キョクジツ', 'セイサク', 'コウキュウ', 'グンソウ', 'キョカ', 'コウニュウ', 'ジタイ', 'カントウ', 'ジュクショウ', 'キッカ', 'モンショウ', 'アサギ', 'ジョウビ', 'フヒョウ', 'レンタイ', 'ムラサキイロ', 'モジ', 'キニュウ', 'ベッテイ', 'タイキ', 'ジュヨ', 'トクセツ', 'ボウゴ', 'ソシキ', 'トウジ', 'チュウカ', 'ミンコク', 'シャンハイ', 'ペキン', 'コウカン', 'ナンヨウ', 'リョコウ', 'ハケン', 'テイト', 'ホウコク', 'タンシュク', 'ジッシ', 'ニチロ', 'グンジン', 'エンゴ', 'シエン', 'セカイ', 'タイセン', 'トツニュウ', 'ガクソウ', 'コウジョウ', 'ノウソン', 'セイサン', 'ゾウキョウ', 'キンロウ', 'ホウシ', 'テイシン', 'ヒョウショウ', 'センタク', 'カモク', 'コクボウ', 'コウシ', 'グンジ', 'ヒョウロン', 'イトウ', 'マサノリ', 'ゼンガク', 'スイエイ', 'ヒッシュウ', 'エイホウ', 'タンイ', 'ギム', 'フクスウ', 'ジチョ', 'タイダン', 'トックン', 'カイソウ', 'チョウナン', 'コイズミ', 'シンキチ', 'ケイケン', 'シンゾウ', 'ジツギ', 'キョウギ', 'ダンシ', 'バアイ', 'ブドウ', 'キュウギ', 'ジョウキ', 'リクジョウ', 'ハンキ', 'ジュコウ', 'ヒツヨウ', 'ヒヨシ', 'チカ', 'センチュウ', 'ヨウス', 'シリョウ', 'ジュクチョウ', 'グンレイ', 'コウシャ', 'キシュク', 'レンゴウ', 'カンタイ', 'シレイ', 'コウクウ', 'カンセイ', 'コウチク', 'ジッシツ', 'チュウスウ', 'トウア', 'タイワン', 'カイセン', 'センカン', 'ヤマト', 'シュツゲキ', 'ボウノミサキ', 'メイレイ', 'ケイイ', 'ロコウ', 'ジケン', 'ニッチュウ', 'ジヘン', 'ボッパツ', 'ハイゾク', 'ショウコウ', 'ケイサツ', 'トッコウ', 'ジユウ', 'シュギ', 'キョウサン', 'ダンアツ', 'グンコク', 'コウギ', 'キョウレン', 'シダイ', 'ガッキュウ', 'キョウワ', 'カンシ', 'ヒカク', 'タイヨ', 'ケイヤク', 'ハイケイ', 'ヨコスカ', 'グンコウ', 'クウシュウ', 'ヒナン', 'カイイキ', 'ムセン', 'ジュシン', 'ジョウタイ', 'シキ', 'トウセイ', 'ショダイ', 'オカモト', 'シュウキチ', 'バクフ', 'カンチョウ', 'キョウカン', 'カンケイ', 'ガクリョウ', 'ガクト', 'シュツジン', 'ユウヨ', 'ザイガク', 'キョウシツ', 'ドウキュウ', 'ザイセキ', 'ホンド', 'イライ', 'モンブ', 'ヨユウ', 'タテモノ', 'ツウタツ', 'ショウダク', 'ケイジュン', 'オオヨド', 'キカン', 'キサラヅ', 'テイハク', 'ハイボク', 'オオクラ', 'ブンカ', 'マチダ', 'タマガワ', 'ガクエン', 'ヨコハマ', 'チョウカン', 'トヨダ', 'ソエム', 'タイショウ', 'ツウシン', 'サンボウ', 'シカン', 'イケン', 'ジブン', 'リョウセイ', 'スイセン', 'ジョウリク', 'クサカ', 'リュウノスケ', 'チュウジョウ', 'シサツ', 'チュウサ', 'シンセキ', 'ジュクイン', 'ウンドウ', 'ケンブツ', 'ゲンチ', 'カンセイ', 'タニグチ', 'ヨシロウ', 'トウコウダイ', 'セッケイ', 'テッキン', 'カクカイ', 'スイセン', 'ホクリョウ', 'リョウシャ', 'スイジ', 'ヨクシツ', 'ゴラク', 'ベットウ', 'フロ', 'ツナシマ', 'カワサキ', 'イチボウ', 'タカダイ', 'デンパ', 'サイシュウ', 'センテイ', 'シツム', 'シンシツ', 'ショクドウ', 'サクセン', 'キンペン', 'ケンセツ', 'カイシ', 'ジンジ', 'キネン', 'ヒガシガワ', 'ケイリ', 'センロ', 'ハンタイ', 'フツウ', 'ミナミガワ', 'コウエン', 'ギョウム', 'ドウキョ', 'ガクフウ', 'トクショク', 'セイテイ', 'ドウニュウ', 'テイガク', 'ノウニュウ', 'ハツアン', 'コライ', 'フウシュウ', 'カイドウ', 'エンカク', 'ゼンシ', 'ブゼン', 'ハンシュ', 'オクダイラ', 'マサタカ', 'オガタ', 'コウアン', 'オオサカ', 'フナバ', 'サクマ', 'カンダ', 'オタマガイケ', 'カエイ', 'クロフネ', 'ライコウ', 'シュギョウ', 'ナガサキ', 'モンテイ', 'ルス', 'オカミ', 'ヒコゾウ', 'コウジ', 'マツギ', 'ヒロヤス', 'テラシマ', 'ムネノリ', 'スイキョ', 'シュップ', 'ジュウシャ', 'フルカワ', 'マサオ', 'アダチ', 'ハラダ', 'ナガヤ', 'テンコウ', 'ケツイ', 'マンエン', 'ケンベイ', 'シセツ', 'ズイコウ', 'ヨウコウ', 'ケンオウ', 'ゲンジ', 'ガイコク', 'ブギョウ', 'ホンヤク', 'タスウ', 'ニュウジュク', 'ドウハン', 'エンジョ', 'ケンチク', 'グンカン', 'ウケトリ', 'イイン', 'ズイイン', 'トベイ', 'メイメイ', 'ハッピョウ', 'ウエノ', 'サイチュウ', 'ケイゾク', 'ビョウシツ', 'コウイ', 'セツビ', 'シオドメ', 'シュッチョウ', 'シュッパン', 'キテイ', 'ドウジ', 'ヨウネン', 'アザブ', 'ヤマウチ', 'リンセツ', 'タロウザエモン', 'カリイレ', 'ナゴン', 'イワクラ', 'トモミ', 'ホウモン', 'ヒロサキ', 'ショウヘイ', 'キョウシ', 'コウチ', 'コンドウ', 'マコト', 'コウギョク', 'ヤクソク', 'ガクギョウ', 'キンダ', 'セイセキ', 'インコウ', 'イッシツ', 'トショ', 'カミヤマ', 'ショウセイ', 'ウワジマ', 'オオス', 'ガッカ', 'カイテイ', 'ヘイコウ', 'コダマ', 'ジュンイチロウ', 'エイベイホウ', 'リンジ', 'セイカン', 'キョウイン', 'ワダ', 'ヘイサ', 'ミンカン', 'ザッシ', 'ソウカン', 'ハイカン', 'オトナ', 'クベツ', 'サンジュツ', 'カイカン', 'クブン', 'カイショウ', 'イノウエ', 'リョウイチ', 'バンライ', 'キョウギ', 'ブンピツ', 'カイセイ', 'テイシュツ', 'ハマオ', 'ソウリ', 'センシュツ', 'ケイエイ', 'セイナン', 'ゲンショウ', 'ドクショ', 'バンガク', 'ベッカ', 'オオクボ', 'イチオウ', 'カイシュウ', 'イジ', 'シキン', 'シャクヨウ', 'ソウダン', 'カンリツ', 'シマヅ', 'ダイミョウ', 'シンコク', 'ハイシ', 'ギジ', 'コッカイ', 'センゲン', 'オカヤマ', 'ショウホウ', 'ショチョウ', 'イカ', 'フニン', 'ケンポウ', 'リュウガク', 'ジジ', 'シンポウ', 'ブツリ', 'ガッカイ', 'イコウ', 'ダンゼツ', 'ハッカン', 'サカイ', 'ヨシアキ', 'ヘイエキ', 'メンジョ', 'キショウ', 'ワタナベ', 'コウキ', 'ソウチョウ', 'コウドウ', 'シュンコウ', 'ショセキ', 'ドウメイ', 'キュウコウ', 'ハッセイ', 'シホン', 'ボシュウ', 'キヤク', 'シュニン', 'ライニチ', 'ジュウライ', 'コウシツ', 'イッセン', 'カシ', 'シュウギ', 'ギイン', 'センキョ', 'トウセン', 'イケダ', 'シゲアキ', 'ベイコク', 'スイジョウ', 'シホウ', 'シテイ', 'ハンジ', 'ケンジ', 'トウヨウ', 'シケン', 'キョカ', 'ギョウレツ', 'チョウセン', 'コクオウ', 'ショウソウ', 'ニュウガク', 'ジュウキ', 'セイビ', 'キゴウ', 'ヒケツ', 'キョウカイ', 'ハッカイ', 'カイサン', 'ガクセイ', 'ギケツ', 'シュリョク', 'シュウチュウ', 'ヨウセイ', 'ガクホウ', 'カイダイ', 'テイコ', 'シバウラ', 'コウナイ', 'チャッコウ', 'トウゴウ', 'ジュリツ', 'カマタ', 'エイキチ', 'シュウニン', 'ヒロウ', 'エンユウ', 'トクガク', 'トラジロウ', 'カワイ', 'テイイチ', 'キガ', 'ナトリ', 'ワサク', 'ホリエ', 'キイチ', 'アオキ', 'テツジ', 'オウベイ', 'タナカ', 'ギンノスケ', 'シュウシン', 'ヨウリョウ', 'ケンジョウ', 'チュウトウ', 'ケンテイ', 'ニンカ', 'ヘンジョウ', 'ヨウフク', 'ボウシ', 'チャクヨウ', 'オオミソカ', 'セイキ', 'ソウゲイ', 'シャトウ', 'シキョ', 'キュウガク', 'フクモ', 'サイシ', 'フッカツ', 'テイキュウ', 'ソウブ', 'ショウヒ', 'クミアイ', 'ツナマチ', 'キュウジョウ', 'ヤキュウ', 'ショウコウ', 'ショウリ', 'トウゴウ', 'ヘイハチロウ', 'ガイセン', 'キョウショクイン', 'シンバシ', 'ゾウショ', 'イタク', 'ホカン', 'オウエン', 'カネツ', 'チュウシ', 'シキテン', 'キョコウ', 'ヒトリ', 'ケンショウ', 'ザイダン', 'ホウジン', 'チホウ', 'ジュンカイ', 'コウエン', 'ベンロン', 'カクカ', 'シガク', 'テツガク', 'センコウ', 'シュウキュウ', 'シアイ', 'タイコウ', 'カクチ', 'センセイ', 'メイニチ', 'タンジョウ', 'ゴジュウ', 'イッパン', 'カイホウ', 'アジア', 'サンゼン', 'チョクエイ', 'シンブン', 'オモテモン', 'ヒガシカン', 'バショ', 'セキチュウ', 'テッピ', 'セイヨウ', 'メイダイ', 'シュショウ', 'ソウメイ', 'レンメイ', 'ホウセイ', 'リッキョウ', 'ハヤマ', 'ラクセイ', 'シジン', 'ヨクゲツ', 'ヒロオ', 'フゾク', 'カンゴ', 'ナイカク', 'セイリツ', 'セイトウ', 'シュクガ', 'シュショウ', 'ケンセイ', 'リッケン', 'セイユウ', 'サンカ', 'ヨツヤ', 'シナノマチ', 'ドウチ', 'ニンテイ', 'ブンカン', 'シンセイ', 'ブチョウ', 'フセツ', 'ゴリン', 'クマガイ', 'カズヤ', 'ガクイ', 'キテイ', 'サンバ', 'オオモリ', 'カントウ', 'シンサイ', 'キュウゴ', 'テイメイ', 'コウゴウ', 'シュウヨウ', 'ヒサイ', 'イモン', 'タケタ', 'コクジ', 'ニヒャク', 'キュウジュウ', 'ショクヨウ', 'ソウダイ', 'トツカ', 'エバラ', 'ヤグチ', 'シンデン', 'モチヅキ', 'シロウ', 'キキン', 'ジッキョウ', 'ホウソウ', 'ホリウチ', 'ケイゾウ', 'サクシ', 'サッキョク', 'コウガイ', 'ホウシン', 'ヤマナカ', 'サンソウ', 'ハソン', 'シュウチク', 'コウジ', 'デンテツ', 'カナガワ', 'キツジュ', 'トチ', 'ムショウ', 'テイキョウ', 'キロク', 'ダイヒョウ', 'ソクイ', 'サンレツ', 'ヨボウ', 'コンリュウ', 'タイカイ', 'イセキ', 'ハックツ', 'チョウサ', 'チチブノミヤ', 'シンノウ', 'イヌカイ', 'シモン', 'タカマツノミヤ', 'ドウヒ', 'モクゾウ', 'カイタイ', 'ハカセ', 'キゾウ', 'テンノウ', 'シンエイ', 'チョクゴ', 'トウホン', 'ホウタイ', 'コウコ', 'ジョシ', 'チョウコウ', 'チュウシ', 'ゼンシン', 'ナントウ', 'シュッパツ', 'バンチ', 'サトタカ', 'ハクシャク', 'ヤシキアト', 'ホクトウ', 'キョジョウ', 'ココロエ', 'クンジ', 'シモダ', 'カイコウ', 'ツキガセ', 'オンセン', 'チリョウ', 'ゴガク', 'ソウコウ', 'キュウカン', 'フッカン', 'ジョウチ', 'ヘンニュウ', 'メイヨ', 'セッテイ', 'ネンド', 'テイシ', 'キフ', 'センジ', 'シコウ', 'キソク', 'ベイグン', 'セッシュウ', 'ノボリト', 'フッキュウ', 'コウザ', 'リンセキ', 'カイエン', 'ネンマツ', 'サイタマ', 'キタアダチ', 'シキ', 'シキ', 'シンセイ', 'コウコウ', 'シンコウ', 'タマ', 'コガネイ', 'シュウフク', 'カンリョウ', 'カイジョ', 'ヘンカン', 'コウセイ', 'ガクイン', 'シュウシ', 'カイシュウ', 'ヘンサン', 'フサイ', 'ガッサク', 'カイガイ', 'キョウゾウ', 'コウジュツ', 'ブンリ', 'モンダイ', 'ケイソク', 'ザンガイ', 'ヘイワ', 'ハッショウ', 'ジョマク', 'フジヤマ', 'カンリ', 'ナンモン', 'セイモン', 'ロウドウ', 'サンギョウ', 'セイドク', 'カイギ', 'シドウ', 'ブンコ', 'ゲンゴ', 'タテヤマ', 'ガッシュク', 'シンリ', 'デンシ', 'ケイサン', 'キジュン', 'コクサイ', 'ガクヒ', 'カイテイ', 'ハッコウ', 'フンソウ', 'キカン', 'ヤガミ', 'ショウニン', 'イチジ', 'センキョ', 'キュウカン', 'カサイ', 'ジチ', 'シュウカイ', 'ショウシツ', 'シュウエン', 'ホケン', 'タテシナ', 'スウリ', 'イセ', 'ヘイイン', 'フクゲン', 'トケイ', 'キコク', 'シジョ', 'ミンゾク', 'リコウ', 'カイヘン', 'カガク', 'シンカン', 'キョウショク', 'ニンゲン', 'セツゾク', 'セイタン', 'ジム', 'タンキ', 'カイガク', 'キタダテ', 'コウキ', 'ジュショウ', 'ガクユウ', 'イセツ', 'ジンブン', 'トウイツ', 'タンダイ', 'センタン', 'セイメイ', 'マルノウチ', 'ツルオカ', 'ライオウ', 'ソウケイ', 'シュウネン', 'ホウム', 'ホウカ', 'センドウ', 'テイケイ', 'フクシマ', 'ナカノシマ', 'チク', 'ホッカイドウ', 'コウタイシ', 'ジョウコウ', 'アキヒト', 'ミチコ', 'トウダイ', 'ゴカン', 'コウリュウ', 'イカ', 'カンジ', 'キョウテイ', 'テイケツ', 'ヤヨイ', 'ナラ', 'シュウラク', 'タテアナ', 'ジュウキョ', 'エンキ', 'ニンキ', 'ヨシノ', 'チョッコウ', 'ノムラ', 'キョウドウ', 'トノマチ', 'レイワ', 'ワセダ', 'ウンヨウ', 'リュウコウ', 'カクダイ', 'テンジ', 'イチ', 'コウホク', 'シンジュク', 'ヤマガタ', 'ウラワ', 'チヨダ', 'ショウチョウ', 'コウカ', 'オウゴン', 'タイヨウ', 'コウキ', 'イロヅカイ', 'ジッサイ', 'コッキ', 'ニッシン', 'リョジュン', 'カンラク', 'トッキョ', 'ショウヒョウ', 'トウロク', 'ホゴ', 'コウサ', 'コウカン', 'ゴウシュウ', 'モウシデ', 'ナカニワ', 'カイロウ', 'コウアン', 'シキチョウ', 'キチョウ', 'エイブン', 'ソウシ', 'ユライ', 'セイク', 'コウセイ', 'アイショウ', 'サンジョウ', 'ショウメン', 'ゲンカン', 'オクジョウ', 'トリコワシ', 'ホゾン', 'ドウソウ', 'タイショウ', 'チョサク', 'イシキ', 'ヘンカ', 'ケンザイ', 'カコ', 'レンガ', 'ヤクワリ', 'デンライ', 'ジシン', 'サイガイ', 'ゲンソン', 'カコウ', 'マツネン', 'ケンゾウ', 'カントク', 'ソネ', 'タツゾウ', 'チュウジョウ', 'セイイチロウ', 'ゼンショウ', 'サイコウ', 'リンリ', 'ビガク', 'ビジュツ', 'トウヨウ', 'エイベイ', 'ガクケイ', 'キカイ', 'オウヨウ', 'トウショ', 'セイカク', 'カンコウ', 'カイカ', 'ヒラヤマ', 'クナイ', 'セヒョウ', 'カンシ', 'ゼンイン', 'ショゾク', 'シンキュウ', 'シンジン', 'シュサイ', 'ゲイブン', 'バイタイ', 'セイカ', 'ショウサイ', 'サンショウ', 'ケイトウ', 'ブンルイ', 'ヨウイ', 'レンラク', 'カイワ', 'キョウカ', 'コクナイガイ', 'シンガク', 'モクヒョウ', 'タイショウ', 'コウボ', 'ロンブン', 'ヤマグチ', 'ソウマ', 'ナガタネ', 'ゲンリュウ', 'ソンザイ', 'ゴウカク', 'ホウソウ', 'イッテイ', 'ガイトウ', 'コウモク', 'コッカ', 'センニン', 'サイタ', 'シヨウ', 'キョウカ', 'チョウアイ', 'ジテン', 'センク', 'カンシン', 'チシキ', 'カンリン', 'ケンガク', 'シュト', 'シセツ', 'フキュウ', 'ランポウ', 'ヨウイ', 'グンイ', 'ソウカン', 'マツヤマ', 'アンドウ', 'マサタネ', 'ヨシシゲ', 'トウコウ', 'サイヨウ', 'シュウトク', 'エイコク', 'スギタ', 'シングウ', 'リユウ', 'ハイコウ', 'キンラン', 'トキドキ', 'ジケイ', 'クマカワ', 'ムネヨシ', 'アリュウ', 'オバタ', 'エイノスケ', 'ケイショウ', 'チワキ', 'モリノスケ', 'ワカモノ', 'ショネン', 'コウチュウ', 'カイギョウ', 'トテイ', 'シショウ', 'ギジュツ', 'シュウトク', 'ドウジ', 'モンカ', 'イクセイ', 'イサラゴ', 'ジタク', 'リンチ', 'キシャ', 'チョクセツ', 'リソウ', 'ショイン', 'キタジマ', 'サハチロウ', 'シガ', 'ショウカク', 'オンコ', 'フショウ', 'ホウオン', 'イッタン', 'タイニン', 'ジントウ', 'ミツイ', 'ザイバツ', 'ユイイツ', 'マンシュウ', 'テツドウ', 'シンシュツ', 'カナイ', 'ショウジ', 'ナンマン', 'キョウヨウ', 'ガッキ', 'ネンジ', 'トクテイ', 'ヨウビ', 'カイボウ', 'ジッシュウ', 'リンショウ', 'カンジャ', 'シテン', 'ハッテン', 'ナツヤスミ', 'ガクネン', 'カンコク', 'ヨンセ', 'オンケイ', 'セイブツ', '招聴', 'ジュンビ', 'ライニン', 'タントウ', 'サイセイ', 'コクリツ', 'キコウ', 'コウム', 'キョウサイ', 'タチカワ', 'マエダ', 'キボウ', 'ソンノウ', 'シュクテン', 'コウジョウ', 'スウセイ', 'モクゲキ', 'キュウム', 'ジッカン', 'リジ', 'トモオ', 'オウジ', 'セイシ', 'シャチョウ', 'ギンジロウ', 'カッコク', 'チョウタン', 'キト', 'シメイ', 'コウケン', 'カンメイ', 'コクナイ', 'イト', 'イッチ', 'コウソウ', 'セッショウ', 'デンキ', 'タンカ', 'イチオウ', 'タッセイ', 'ゼンブ', 'ジョウクウ', 'バクゲキ', 'シュウライ', 'サイカイ', 'コンナン', 'チョクメン', 'カクホ', 'メグロ', 'コウガク', 'ヨコガワ', 'デンキ', 'テンヨウ', 'カクジ', 'テヅクリ', 'コウサク', 'ジッケン', 'キグ', 'イス', 'ビヒン', 'ヤクヒン', 'ヒビ', 'タイセイ', 'ヘイコウ', 'タンコウ', 'キセン', 'チリ', 'キョリ', 'イッタイ', 'コウカ', 'カイゼン', 'キタイ', 'セイチョウ', 'カクシン', 'フッキ', 'ネンガン', 'ゼンメン', 'バイキャク', 'ヒヨウ', 'イゼン', 'カクケイ', 'テイイン', 'ケイコウ', 'ヘイガイ', 'イリグチ', 'タショウ', 'シンロ', 'ガクシュウ', 'ジュウシ', 'テツヤ', 'フヤ', 'イミョウ', 'ヘンコウ', 'マツシタ', 'コウノスケ', 'シンガク', 'リョウシャ', 'キョウツウ', 'リネン', 'ソウゾウ', 'ハッケン', 'カイケツ', 'ヨノナカ', 'ジンザイ', 'ソウシュツ', 'ツメコミ', 'フソク', 'ドクソウ', 'リシュウ', 'セイゲン', 'キョウユウ', 'ガクハン', 'コヨウ', 'セッキョク', 'グタイ', 'リヨウ', 'ヘンシュウ', 'インセイ', 'ソウヤク', 'ヤクブツ', 'シンポ', 'ヤクザイ', 'ギノウ', 'ホウコウ', 'ゲンバ', 'ジゼン', 'ジツム', 'ヤッキョク', 'イヤク', 'ソウセイ', 'ブンセキ', 'ショクヒン', 'ケショウ', 'リョウイキ', 'キバン', 'ショウスウ', 'ダンカイ', 'ミッチャク', 'コウエキ', 'カメイ', 'ガクソク', 'ツウガク', 'ショテイ', 'ガクシ', 'ニュウカイ', 'コウルイ', 'ヘイセツ', 'シュルイ', 'センコウ', 'ショルイ', 'トウガイ', 'ベンガク', 'ケイカク', 'ノウリョク', 'サッポロ', 'ミヤギ', 'センダイ', 'アイチ', 'ナゴヤ', 'フクオカ', 'カダイ', 'サクセイ', 'モウシコミ', 'イガイ', 'カイジョウ', 'カクグン', 'ゴウケイ', 'サイダイ', 'リョウホウ', 'ヒッス', 'カキ', 'ショヨウ', 'カサン', 'ゲジュン', 'チュウジュン', 'マイシュウ', 'ゲツヨウ', 'キンヨウ', 'シュウマツ', 'ドニチ', 'ツウネン', 'ジョウケン', 'タイメン', 'ケイシキ', 'テツヅキ', 'シンサ', 'メンセツ', 'シモン', 'ヨテイ', 'ヨウケン', 'キジュン', 'サンジュウ', 'シンコク', 'ショメイ', 'ナツイン', 'ケイユウ', 'ケイハツ', 'ジシュ', 'ダンタイ', 'カゴシマ', 'イッショ', 'ショウショ', 'ミンジ', 'ヒトツバシ', 'ゼンコク', 'カクトク', 'メイモン', 'スイシン', 'チイキ', 'シサン', 'キョテン', 'カイセキ', 'ブモン', 'ホンタイ', 'ホンセツ', 'キジ', 'ジギョウ', 'タイオウ', 'メイシ', 'ダンジョ', 'キョウガク', 'キンリン', 'エンドウ', 'セイカツ', 'ユウシ', 'ニンチ', 'ショウカイ', 'メイショウ', 'ブンケン', 'ギョウジ', 'キカク', 'シンコウ', 'コウホウ', 'ジョウニン', 'ブショ', 'ショクイン', 'ジョウチュウ', 'シュタイ', 'ホッキ', 'タイコウ', 'テイダイ', 'ジツゲン', 'コウシキ', 'ドウコウ', 'コウショウ', 'カイイン', 'バジュツ', 'シュッセキ', 'ドウコウ', 'コウテイ', 'ユウショウ', 'タイケツ', 'オオモト', 'モリアガリ', 'ハコネ', 'エキデン', 'センシュ', 'オウジャ', 'カニュウ', 'マイツキ', 'ゲンソク', 'スイヨウ', 'ブスウ', 'ネンダイ', 'コウセイ', 'チュウリツ', 'サイサン', 'チイ', 'カクリツ', 'ガクナイ', 'コウニン', 'チュウセン', 'ショウヒン', 'マイトシ', 'ツウレイ', 'ガイシャ', 'ゴウカ', 'サンドウ', 'カイヒ', 'ニンイ', 'ヤクイン', 'キギョウ', 'ザイム', 'コウイ', 'クジョウ', 'コウシキ', 'ソンゾク', 'ドウカン', 'カクテイ', 'マイハマ', 'ヨヤク', 'ハンメイ', 'ニシアザブ', 'キボ', 'ジッコウ', 'チョウセイ', 'コウフ', 'ゲンエキ', 'ハイチ', 'レキダイ', 'グンタイ', 'シュッセ', 'ヘイジ', 'カッカ', 'ショウカン', 'チョクニン', 'ショウシン', 'トクヒツ', 'センカン', 'ショウショウ', 'ニンカン', 'タイメイ', 'ヤガイ', 'セイカ', 'ヤスクニ', 'ジンジャ', 'ゴコク', 'サンパイ', 'コウカン', 'タニムラ', 'トヨタロウ', 'ゾウヘイ', 'ヒラガ', 'ケンサ', 'ユウグウ', 'ヒョウカ', 'シダイ', 'インヨウ', 'ドウコウ', 'シスウ', 'ザイリョウ', 'ブンシ', 'イデン', 'シンケイ', 'イナイ', 'ニシャ', 'シャチュウ', 'ケイショウ', 'シュウカン', 'シソウ', 'ケイジ', 'ヒョウジ', 'ブンショ', 'キョウトウ', 'コサン', 'コショウ', 'イチラン', 'ダイチ', 'チョウジョウ', 'ゼッケイ', 'ジカ', 'エンケイ', 'ツウショウ', 'サクラギチョウ', 'デンエン', 'フウケイ', 'マッキ', 'イッタイ', 'グンブ', 'レイガイ', 'カンブ', 'シュクシャ', 'オキナワ', 'ハツレイ', 'デンポウ', 'キュウシュウ', 'ナンブ', 'ハッシン', 'デンブン', 'ソウジュシン', 'キチ', 'コンセキ', 'ソクメン', 'フキン', 'ボウクウ', 'コウシャ', 'ダイザ', 'テンザイ', 'シンチュウ', 'ヨクソウ', 'ソクセキ', 'チョウボウ', 'ニンキ', 'ベイヘイ', 'コウワ', 'ジョウヤク', 'ロウキュウ', 'カツヨウ', 'ニュウリョウ', 'トウキョク', 'シュウキョウ', 'シュイ', 'テッテイ', 'イッサイ', 'シンボク', 'コウツウ', 'トウキュウ', 'トウヨコ', 'シブヤ', 'ケイユ', 'ヤマテ', 'ジカン', 'エンシン', 'チョクツウ', 'トエイ', 'ハッキン', 'タカナワ', 'イキキ', 'ブッキョウ', 'カイカン', 'イナリ', 'ミョウジン', 'コクホウ', 'ショユウ', 'アキクサ', 'カセ', 'ハクサン', 'コフン', 'フンキュウ', 'スソブ', 'シュツド', 'ヘイアン', 'アツミ', 'ハクブツ', 'キタク', 'テンセキ', 'タイコウ', 'グンキ', 'オダ', 'ノブナガ', 'トヨトミ', 'ヒデヨシ', 'オオタ', 'イズミ', 'ギュウイチ', 'チョシャ', 'ジヒツ', 'シャホン', 'ゴトバ', 'コシベ', 'ゼンニ', 'ショウソク', 'シュンゼイ', 'ヨウジョ', 'タメイエ', 'センシュウ', 'ロンピョウ', 'サガラ', 'コザネ', 'ザンケツ', 'グソク', 'ヒゴ', 'ヒトヨシ', 'カマクラ', 'ネイイツ', 'サイシキ', 'ジンタイ', 'ツシマ', 'ソウケ', 'キロク', 'ガングウ', 'ガンバン', 'アキタ', 'カヅノ', 'コサカ', 'スギサワ', 'タイガイ', 'コウギョウ', 'コウカ', 'オウリツ', 'フクタン', 'ソクシン', 'カイタク', 'ショウタイ', 'テンカイ', 'ユウゴウ', 'オウシュウ', 'ゲンシ', 'ニチフツ', 'ケイレツ', 'チョウテン', 'シュウゴウ', 'ケイタイ', 'ゼンテイ', 'チュウコウ', 'ショトウ', 'トコヤ', 'ゼッカ', 'カイワイ', 'シャシン', 'ヤロウ', 'ハイユウ', 'オザワ', 'エイタロウ', 'テラオ', 'タクマ', 'ハンコウ', 'タイド', 'タイガク', 'ソンボウ', 'ロンソウ', 'トウキ', 'ソウトウ', 'カイニュウ', 'セイフ', 'ハッキュウ', 'キョヒ', 'ホウニチ', 'ダンネン', 'バングミ', 'ニッケイ', 'モクヨウ', 'ハイシン', 'イコウ', 'ジョウジョウ', 'コウシンエツ', 'キャクチュウ', 'チュウシャク', 'シュッテン', 'サンコウ', 'ナナジュウ', 'メイリュウ', 'レツデン', 'ジテン', 'カトウ', 'ケイタ', 'オオサワ', 'ヘンチョ', 'サンポ', 'タダ', 'ケンジ', 'チケン', 'ゼンゴ', 'フクザワ', 'タイサク', 'カガワ', 'イクエイ', 'ハンザワ', 'ナオキ', 'シュジン', 'ケンドウ', 'ガイブ', 'ジョウカン', 'チュウカン', 'ゲカン', 'ベッカン', 'フロク']\n"
          ]
        },
        {
          "output_type": "execute_result",
          "data": {
            "text/plain": [
              "0"
            ]
          },
          "metadata": {},
          "execution_count": 18
        }
      ]
    },
    {
      "cell_type": "markdown",
      "source": [
        "# コンバーターのクラス\n",
        "\n",
        "* 漢字をかな変換するコンバータ\n",
        "* クラスとして機能を丸めることで複数のコンバーターの差異を吸収する。コンバーターを適用する順序を入れ替えるなど"
      ],
      "metadata": {
        "id": "fXVrUefMPnF4"
      }
    },
    {
      "cell_type": "code",
      "source": [
        "class BaseConverter:\n",
        "  def __init__(self, conveter_name):\n",
        "    self.converter_name = conveter_name\n",
        "    self.split_code = SYMBOL_SEMICORON\n",
        "    self.show_api_log = False\n",
        "\n",
        "  def preprosessing(self, subject):\n",
        "    return subject\n",
        "\n",
        "  def convert(self, vocabs, show_api_log=False):\n",
        "    self.show_api_log = show_api_log\n",
        "    sentence = SYMBOL_PUNCTUATION.join(vocabs) + SYMBOL_PUNCTUATION # 各単語をsplit tokenを付けて文字列化\n",
        "    result = self._execute_api(sentence)\n",
        "    converted_vocabs = [self.preprosessing(vocab) for vocab in result.split(SYMBOL_PUNCTUATION)] #文字列をsplit tokenを用いて単語ごとにリスト化\n",
        "    return converted_vocabs\n",
        "\n",
        "  def get_indexkey(self, noun):\n",
        "    return \"{}_{}\".format(self.converter_name, noun).encode(\"utf-8\")\n",
        "\n",
        "  def print_api_log(self, *message):\n",
        "    if self.show_api_log:\n",
        "      print(message)"
      ],
      "metadata": {
        "id": "8NiZ62R3RxUz"
      },
      "execution_count": 88,
      "outputs": []
    },
    {
      "cell_type": "markdown",
      "source": [
        "## CoeFont API (target)\n",
        "* CoefontのAPIのアクセス方法とアクセスキーが変わり次第、実装する"
      ],
      "metadata": {
        "id": "8LoJLI8UOGZ4"
      }
    },
    {
      "cell_type": "code",
      "source": [
        "SYMBOL_TRIGGER_1 = [\n",
        "        [\"オ\", \"コ\", \"ソ\", \"ト\", \"ノ\", \"ホ\", \"モ\", \"ヨ\", \"ロ\", \"ヲ\"], # o\n",
        "        [\"エ\", \"ケ\", \"セ\", \"ネ\", \"ヘ\", \"メ\", \"レ\"], # e removed テ\n",
        "        [\"ア\", \"カ\", \"サ\", \"タ\", \"ナ\", \"ハ\", \"マ\", \"ラ\", \"ヤ\", \"ラ\", \"ワ\"], # a\n",
        "        [\"ュ\", \"ョ\"],\n",
        "        [\"ゴ\", \"ゾ\", \"ド\", \"ボ\", \"ポ\", \"ゴ\", \"ゾ\", \"ド\", \"ボ\"],\n",
        "        [\"ギ\", \"ジ\", \"ヂ\", \"ビ\", \"ピ\", \"ギ\", \"ジ\", \"ジ\", \"ビ\",\"ピ\"],\n",
        "        [\"イ\", \"キ\", \"シ\", \"千\", \"二\", \"ヒ\", \"ミ\", \"リ\"], # i \n",
        "        [\"ウ\", \"ク\", \"ス\", \"ツ\", \"ヌ\", \"フ\", \"ム\", \"ユ\", \"ル\"] # u\n",
        "        ]\n",
        "\n",
        "SYMBOL_TRIGGER_2 = [\n",
        "        [\"ウ\"],\n",
        "        [\"イ\"],\n",
        "        [\"ア\"],\n",
        "        [\"ウ\"],\n",
        "        [\"ウ\"],\n",
        "        [\"イ\"],\n",
        "        [\"イ\"],\n",
        "        [\"ウ\"]\n",
        "        ]\n",
        "\n",
        "class CoeFontConverter(BaseConverter):\n",
        "  def __init__(self):\n",
        "    super().__init__(\"coefont\")\n",
        "\n",
        "  def _execute_api(self, sentence):\n",
        "    # coefontの実装\n",
        "    url = secrets[\"coefont_api_endpoint\"]\n",
        "    params = {\n",
        "        \"text\": sentence,\n",
        "    }\n",
        "\n",
        "    r = reqs.post(url=url, data=params)\n",
        "    response_text = r.text\n",
        "    self.print_api_log(\"** CoeFont API:\", response_text)\n",
        "    response_json = json.loads(response_text)\n",
        "    return response_json[\"yomi\"]\n",
        "\n",
        "  def preprosessing(self, subject):\n",
        "    list_kat_subject = list(subject)\n",
        "    kat_subject_size = len(list_kat_subject)-1\n",
        "    idkc = 0\n",
        "    while  idkc < kat_subject_size:\n",
        "      kat_char_pointer = list_kat_subject[idkc]\n",
        "      kat_char_next = list_kat_subject[idkc+1]\n",
        "      if kat_char_next == SYMBOL_LONG_NOTE:\n",
        "         for ids, symbols in enumerate(SYMBOL_TRIGGER_1):\n",
        "           if kat_char_pointer in symbols:\n",
        "               list_kat_subject[idkc+1] = SYMBOL_TRIGGER_2[ids][0]\n",
        "               idkc+=1\n",
        "      idkc+=1\n",
        "    return \"\".join(list_kat_subject)"
      ],
      "metadata": {
        "id": "nHuLN8qLQOfu"
      },
      "execution_count": 89,
      "outputs": []
    },
    {
      "cell_type": "markdown",
      "source": [
        "## 一時的開発用コンバータ\n",
        "\n",
        "*   CoeFontの出力を想定して、特定の単語を入力した静的な結果を返却する\n",
        "\n"
      ],
      "metadata": {
        "id": "7QlXXq2k8bRs"
      }
    },
    {
      "cell_type": "code",
      "source": [
        "class TempCoeFontConverter(CoeFontConverter):\n",
        "  def __init__(self):\n",
        "    super().__init__()\n",
        "\n",
        "  def _execute_api(self, sentence):\n",
        "    # coefontの実装\n",
        "    # 一時的な実装 決まった文章を返す\n",
        "    source = None\n",
        "    with open(APP_WORKDIR + \"response_commma.json\") as f:\n",
        "      source = json.load(f)\n",
        "    return source[\"yomi\"]"
      ],
      "metadata": {
        "id": "y5NXAUpe8Qwn"
      },
      "execution_count": 90,
      "outputs": []
    },
    {
      "cell_type": "markdown",
      "source": [
        "## Goo API\n",
        "* かな変換APIを使用する。\n",
        "* ドキュメントはこちら\n",
        "  * https://labs.goo.ne.jp/api/jp/hiragana-translation/"
      ],
      "metadata": {
        "id": "Hnp4QEbQOLne"
      }
    },
    {
      "cell_type": "code",
      "source": [
        "class GooConverter(BaseConverter):\n",
        "  def __init__(self, app_id):\n",
        "    super().__init__(\"goo\")\n",
        "    self.app_id = app_id\n",
        "\n",
        "  def _execute_api(self, sentence):\n",
        "    url = \"https://labs.goo.ne.jp/api/hiragana\"\n",
        "    params = {\n",
        "        \"app_id\": self.app_id,\n",
        "        \"sentence\": sentence,\n",
        "        \"output_type\": \"katakana\"\n",
        "    }\n",
        "\n",
        "    headers = {'Content-Type': 'application/json'}\n",
        "\n",
        "    r = reqs.post(url=url, data=params)\n",
        "    response_text = r.text\n",
        "    self.print_api_log(\"** Goo API:\", response_text)\n",
        "    response_json = json.loads(response_text)\n",
        "    if \"error\" in response_json:\n",
        "      print(\"goo params error:\", params)\n",
        "    return response_json.get(\"converted\", \"\")\n",
        "\n",
        "  def preprosessing(self, subject):\n",
        "     return subject.replace(SYMBOL_HALF_SPACE, SYMBOL_NONE)"
      ],
      "metadata": {
        "id": "VhNvRmfDvruk"
      },
      "execution_count": 166,
      "outputs": []
    },
    {
      "cell_type": "markdown",
      "source": [
        "## Yahoo API\n",
        "* かな変換APIを使用する。\n",
        "* ドキュメントはこちら\n",
        "  * https://developer.yahoo.co.jp/webapi/jlp/furigana/v2/furigana.html\n",
        "  * https://developer.yahoo.co.jp/webapi/jlp/sample/sample10.html"
      ],
      "metadata": {
        "id": "nBQpqPWhHcWu"
      }
    },
    {
      "cell_type": "code",
      "source": [
        "class YahooConverter(BaseConverter):\n",
        "  def __init__(self, app_id):\n",
        "    super().__init__(\"yahoo\")\n",
        "    self.app_id = app_id\n",
        "\n",
        "  def _execute_api(self, sentence):\n",
        "    url = \"https://jlp.yahooapis.jp/FuriganaService/V2/furigana\"\n",
        "    params = {\n",
        "      \"id\": str(datetime.datetime.now().timestamp()),\n",
        "      \"jsonrpc\": \"2.0\",\n",
        "      \"method\": \"jlp.furiganaservice.furigana\",\n",
        "      \"params\": {\n",
        "        \"q\": sentence,\n",
        "      }\n",
        "    }\n",
        "    headers = {\n",
        "        \"Content-Type\": \"application/json\",\n",
        "        \"User-Agent\": \"Yahoo AppID: {}\".format(self.app_id),\n",
        "    }\n",
        "\n",
        "    encoded_params = json.dumps(params).encode()\n",
        "    r = reqs.post(url=url, data=encoded_params, headers=headers)\n",
        "    response_text = r.text\n",
        "    self.print_api_log(\"** Yahoo API:\", response_text)\n",
        "    response_json = json.loads(response_text)\n",
        "    if \"error\" in response_json:\n",
        "      print(\"yahoo params error:\", params)\n",
        "    kana_list = [word.get(\"furigana\", word.get(\"surface\", \"ERR\")) for word in response_json[\"result\"][\"word\"]]\n",
        "    return SYMBOL_NONE.join(kana_list)\n",
        "\n",
        "  def _hiragana_to_katakana(self, target):\n",
        "    return ''.join([chr(n+96) if (12352 < n and n < 12439) or n==12445 or n==12446 else chr(n) for n in [ord(c) for c in target]])\n",
        "\n",
        "  def preprosessing(self, subject):\n",
        "    subject = self._hiragana_to_katakana(subject)\n",
        "    subject = subject.replace(SYMBOL_HALF_SPACE, SYMBOL_NONE)\n",
        "    return subject"
      ],
      "metadata": {
        "id": "5iKa08M4Hi9h"
      },
      "execution_count": 167,
      "outputs": []
    },
    {
      "cell_type": "markdown",
      "source": [
        "# データソース毎に読みの検証を行う\n",
        "* コンバータを用いてCoeFontの単語出力と比較を行う。\n",
        "* 比較の結果、不一致だった場合は他のコンバーターにおいても比較を行い、正解ラベルを付与できるよう分布を収束させる。"
      ],
      "metadata": {
        "id": "8n6ZLt9ZPd09"
      }
    },
    {
      "cell_type": "code",
      "source": [
        "class ConverterCompetition:\n",
        "  def __init__(self, converters):\n",
        "    self.converters = converters\n",
        "\n",
        "  # 指定されたデータソースをもとに、指定されたコンバータでかな変換を行う。\n",
        "  # 名詞と、かな変換の結果をタプル型で返却する。\n",
        "  def _convert_all_on(self, data_source, converter_id, reset_cache=False, show_api_log=False):\n",
        "    vocabs = data_source.vocabs\n",
        "    converter = self.converters[converter_id] # 指定されたコンバータを取得\n",
        "    db_keys = [converter.get_indexkey(vocab) for vocab in vocabs] # 名詞をデータベースに対応するIDに変換\n",
        "\n",
        "    caches = []\n",
        "    if reset_cache:\n",
        "      caches = [None for db_key in db_keys] # キャッシュ削除\n",
        "    else:\n",
        "      caches = [lebels_db.get(db_key) for db_key in db_keys] # データベースに問い合わせる。キャッシュがなかったらNoneが設定される\n",
        "\n",
        "    entred_vocab = [vocab for idv, vocab in enumerate(vocabs) if caches[idv] is None] # キャッシュが存在せず、新しくAPIから取得する名詞一覧\n",
        "    new_yomi_labels = [] # 変換された読みを保存するためのリスト\n",
        "\n",
        "    if (len(entred_vocab) > 0): # 新しくAPIからかな変換を取得する必要があるか確かめる\n",
        "      new_yomi_labels = converter.convert(entred_vocab, show_api_log)\n",
        "\n",
        "    for vocab, label in zip(entred_vocab, new_yomi_labels):\n",
        "      lebels_db.put(converter.get_indexkey(vocab), label.encode(\"utf-8\")) # APIから取得したよみをデータベースに保存（キャッシュとなり、以降これが使われる）\n",
        "\n",
        "    yomi_labels = []\n",
        "    iter_new_yomi_labels = iter(new_yomi_labels)\n",
        "    for idc, cache in enumerate(caches):\n",
        "      if cache:\n",
        "        yomi_labels.append(cache.decode(\"utf-8\")) # キャッシュ（db）にある場合はキャッシュから取得\n",
        "      else:\n",
        "        yomi_labels.append(next(iter_new_yomi_labels)) # ない場合は、先ほど変換した結果から取得\n",
        "    \n",
        "    return vocabs, yomi_labels\n",
        "\n",
        "  # 指定されたデータソースをもとに、指定されたコンバータ間で結果を比較する\n",
        "  # 不一致の単語とその結果をタプル型で返却する\n",
        "  def compete_to(self, data_source, subject_converter_id, target_converter_id, reset_cache=False, show_api_log=False):\n",
        "    vocabs, yomi_labels_0 = self._convert_all_on(data_source, subject_converter_id, reset_cache, show_api_log)\n",
        "    _, yomi_labels_1 = self._convert_all_on(data_source, target_converter_id, reset_cache, show_api_log)\n",
        "\n",
        "    errors = []\n",
        "    for idn, noun in enumerate(vocabs):\n",
        "      yomi_label_0 = yomi_labels_0[idn]\n",
        "      yomi_label_1 = yomi_labels_1[idn]\n",
        "      # 読みラベルを比較して、一致しなかった場合errorsに追加\n",
        "      # たまに読みに直されず漢字のままのが存在するのでそれはパス\n",
        "      if yomi_label_0 != yomi_label_1 and KANJI_REG_PETERN.search(yomi_label_0 + yomi_label_1) == None:\n",
        "         errors.append([noun, yomi_label_0, yomi_label_1])\n",
        "\n",
        "    return errors\n",
        "\n",
        "  # 指定されたデータソースをもとに、Mecabと指定されたコンバータとの結果を比較する\n",
        "  # 不一致の単語とその結果をタプル型で返却する\n",
        "  def compete_to_mecab(self, data_source, converter_id=0, reset_cache=False, show_api_log=False):\n",
        "    vocabs, yomi_labels = self._convert_all_on(data_source, converter_id, reset_cache, show_api_log)\n",
        "\n",
        "    errors = []\n",
        "    for idn, noun in enumerate(vocabs):\n",
        "      yomi_label = yomi_labels[idn]\n",
        "      mecab_label = data_source.labels[idn]\n",
        "      # 読みラベルを比較して、一致しなかった場合errorsに追加\n",
        "      # たまに読みに直されず漢字のままのが存在するのでそれはパス\n",
        "      if yomi_label != mecab_label and KANJI_REG_PETERN.search(yomi_label + mecab_label) == None:\n",
        "         errors.append([noun, yomi_label, mecab_label]) # 単語, 比較対象の出力, mecabの出力\n",
        "        #  errors.append([noun, yomi_label+\":{}\".format(self.converters[converter_id].converter_name), mecab_label + \":mecab\"]) # 単語, 比較対象の出力, mecabの出力\n",
        "\n",
        "    return errors\n",
        "\n",
        "  # 指定されたデータソースををもとに、すべてのコンバータの結果を表示する、\n",
        "  # ただし、対象はMeCabとCoeFontの比較で不一致の名詞のみ\n",
        "  # 不一致の単語に対する各コンバーター結果を辞書型で返却する。\n",
        "  def compete_to_all(self, data_source, reset_cache=False, show_api_log=False):\n",
        "    # MeCabのエラー抽出\n",
        "    errors_0 = self.compete_to_mecab(data_source, 0, reset_cache, show_api_log) # mecabとconverter 0を比較する\n",
        "    errors = {error_0[0]:[error_0[1], error_0[2]] for error_0 in errors_0} #エラーを格納するdict \n",
        "    errors_0_nouns = errors.keys()\n",
        "\n",
        "    # MeCabと一致しなかった単語を外部APIにかける、\n",
        "    for idc in range(1, len(self.converters)):\n",
        "      array_dataset = ArrayDataSource(errors_0_nouns, []) # 対象の単語をデータソース化\n",
        "      vocabs, yomi_labels = self._convert_all_on(array_dataset, idc, reset_cache, show_api_log) #APIの結果を取得\n",
        "      for checked_vocab, checked_label in zip(vocabs, yomi_labels):\n",
        "        errors[checked_vocab].append(checked_label)\n",
        "    return errors\n"
      ],
      "metadata": {
        "id": "FHm61F4SQOyl"
      },
      "execution_count": 159,
      "outputs": []
    },
    {
      "cell_type": "markdown",
      "source": [
        "# 誤字の検出と、複数APIを用いた結果の分布を取得する"
      ],
      "metadata": {
        "id": "MbPtolIyDVIn"
      }
    },
    {
      "cell_type": "markdown",
      "source": [
        "### データソースのロード"
      ],
      "metadata": {
        "id": "jhcqurD9FxZ1"
      }
    },
    {
      "cell_type": "code",
      "source": [
        "test_04_datasource = TempDataSource()\n",
        "test_04_datasource.load() # 単語の分割とMeCabのラベルを取得する\n",
        "\n",
        "print(test_04_datasource.vocabs[0], test_04_datasource.labels[0])"
      ],
      "metadata": {
        "colab": {
          "base_uri": "https://localhost:8080/"
        },
        "id": "s7gLm0MCAVik",
        "outputId": "78ad0965-c84b-4a30-ad55-f59323b7a0ef"
      },
      "execution_count": 94,
      "outputs": [
        {
          "output_type": "stream",
          "name": "stdout",
          "text": [
            "大学 ダイガク\n"
          ]
        }
      ]
    },
    {
      "cell_type": "markdown",
      "source": [
        "### コンバーターの初期化と比較\n",
        "*   MeCabとCoeFontの出力を比較する\n",
        "*   比較が一致しなかった場合、他のコンバータで検証する。\n",
        "*   すべてのコンバータの出力をdict型（keyに名詞、valueに各コンバーターの結果の配列）にまとめる\n",
        "\n"
      ],
      "metadata": {
        "id": "AI8rDV0dF37t"
      }
    },
    {
      "cell_type": "code",
      "source": [
        "# test_04_converters = [TempCoeFontConverter(), GooConverter(app_id=secrets[\"goo_api_id\"]), YahooConverter(app_id=secrets[\"yahoo_app_id\"])]\n",
        "test_04_converters = [YahooConverter(app_id=secrets[\"yahoo_app_id\"])]\n",
        "test_04_competition = ConverterCompetition(converters=test_04_converters)\n",
        "\n",
        "print(test_04_competition.compete_to_all(test_04_datasource, reset_cache=False))\n",
        "\n",
        "# print(test_04_competition.compete_to_mecab(test_04_datasource, converter_id=0, reset_cache=False)[0]) # noteの記事をデータソースにCoeFontを検証する。\n",
        "# print(test_04_competition.compete_to(test_04_datasource, subject_converter_id=1, target_converter_id=0, reset_cache=False)[0]) # noteの記事をConefont converterとgoo converterで比較する。\n",
        "# print(test_04_competition.compete_to(test_04_datasource, subject_converter_id=2, target_converter_id=0, reset_cache=False)[0]) # noteの記事をConefont converterとyahoo converterで比較する。"
      ],
      "metadata": {
        "colab": {
          "base_uri": "https://localhost:8080/"
        },
        "id": "2m4N-jM6QbBJ",
        "outputId": "701284e0-e2f5-4281-f479-bf8b2467167d"
      },
      "execution_count": 95,
      "outputs": [
        {
          "output_type": "stream",
          "name": "stdout",
          "text": [
            "{'日本': ['ニホン:yahoo', 'ニッポン:mecab'], '日間': ['ヒマ:yahoo', 'カカン:mecab'], '氷枕': ['コオリマクラ:yahoo', 'ヒョウチン:mecab'], '真逆': ['マサカ:yahoo', 'マギャク:mecab'], '明日': ['アシタ:yahoo', 'アス:mecab'], '二十': ['二十:yahoo', 'ニジュウ:mecab'], '山積': ['ヤマヅミ:yahoo', 'サンセキ:mecab'], '時々': ['トキドキ:yahoo', 'ジジ:mecab'], '扇風': ['オウギフウ:yahoo', 'センプウ:mecab'], '白髪': ['シラガ:yahoo', 'ハクハツ:mecab'], '曾祖母': ['ソウソボ:yahoo', 'ヒイババ:mecab'], '三十': ['三十:yahoo', 'サンジュウ:mecab'], '某女': ['ボウオンナ:yahoo', 'ボウジョ:mecab'], '向田': ['ムコウダ:yahoo', 'ムカイダ:mecab'], '今日': ['キョウ:yahoo', 'コンニチ:mecab'], '和人': ['ワジン:yahoo', 'カズト:mecab'], '連中': ['レンチュウ:yahoo', 'レンジュウ:mecab'], '何十': ['ナニ十:yahoo', 'ナンジュウ:mecab'], '根太': ['ネダ:yahoo', 'ネブト:mecab'], '一日': ['一ニチ:yahoo', 'ツイタチ:mecab'], '一人前': ['ヒトリマエ:yahoo', 'イチニンマエ:mecab']}\n"
          ]
        }
      ]
    },
    {
      "cell_type": "markdown",
      "source": [
        "# 単語（データセット単位）のストリーミングとバッチ処理\n",
        "* データソースを主導で作成するのではなく、永続的に新しいデータソースから単語を取得できるエコシステムを構築する\n",
        "\n",
        "* WebhookやWebsoket, Server-sent Eventなどを用いてデータソースを自動で収集する\n",
        "(Wikipediaのstreaming機能など)\n",
        "\n",
        "## 要件\n",
        "*   永続的にプログラムがデータソースを自動で生成する\n",
        "*   単語のバリエーションの広がりを担保する\n",
        "\n",
        "https://www.twilio.com/blog/an-easy-way-to-read-and-write-to-a-google-spreadsheet-in-python-jp\n",
        "\n",
        "\n",
        "\n",
        "\n",
        "\n",
        "\n"
      ],
      "metadata": {
        "id": "1yAaRptcOxlD"
      }
    },
    {
      "cell_type": "code",
      "source": [
        "class OptimaizedCompetionBatch:\n",
        "  def __init__(self, competiton, streaming_iters, batch_character_size=200):\n",
        "    self.competiton = competiton\n",
        "    self.streaming_iters = streaming_iters\n",
        "    self.batch_character_size = batch_character_size\n",
        "    self.new_tables = []\n",
        "\n",
        "\n",
        "   # バッチ処理実行用関数\n",
        "  def _execute_batch(self, entries, reset_cache, show_batch_log, show_api_log):\n",
        "      if show_batch_log:\n",
        "        print(\"start new batch:\", len(entries), \"start from\", entries[0][0])\n",
        "      entry_vocabs = list(map(lambda vocab: vocab[0], entries))\n",
        "      entry_labels = list(map(lambda vocab: vocab[1], entries))\n",
        "      dataset = ArrayDataSource(entry_vocabs, entry_labels) # バッチ処理に必要なデータセットを作成\n",
        "      errors = dict()\n",
        "      try:\n",
        "        errors = self.competiton.compete_to_all(dataset, reset_cache, show_api_log) # coefont apiとmecab and 他社apiを比較する\n",
        "        self.add_spreadsheet(errors, show_batch_log) # google spreadsheetに結果を書き込み\n",
        "        self.save_spreadsheet() # 保存\n",
        "      except BaseException as err: # APIなどでエラーが発生し、比較が行えなくなった場合はパスする。\n",
        "        print(err)\n",
        "      return len(errors.keys())\n",
        "\n",
        "  def start(self, reset_cache=False, show_batch_log=False, plot_entry_rates=False, show_api_log=False):\n",
        "    entries = []\n",
        "    character_size = 0\n",
        "\n",
        "    # どれくらい単語が増えているか表示するため\n",
        "    diff = 0\n",
        "    entry_rates = []\n",
        "    error_count = 0\n",
        "    last_clock_time = datetime.datetime.now().timestamp()\n",
        "\n",
        "    # 取得したデータソースをもとに比較処理\n",
        "    for datasource in self.streaming_iters:\n",
        "       # まだspreadsheetに登録されていない単語だけを抽出\n",
        "       entry_keys = [entry[0] for entry in entries]\n",
        "       filted_vocabs = [ (vocab, label) for vocab, label in zip(datasource.vocabs, datasource.labels) if checked_db.get(vocab.encode(\"utf-8\")) == None and vocab not in entry_keys]\n",
        "\n",
        "       # どれくらい新しいエントリーが増えているか記録する\n",
        "       now = datetime.datetime.now().timestamp()\n",
        "       diff += len(filted_vocabs)\n",
        "\n",
        "       if now - last_clock_time >= 5: # 一分間観測する\n",
        "          entry_rates.append(diff) # 差分を追加\n",
        "          #初期化\n",
        "          last_clock_time = now\n",
        "          diff = 0\n",
        "\n",
        "       #バッチ処理のエントリーに追加+文字数を加算\n",
        "       for entry in filted_vocabs:\n",
        "         entries.append(entry)\n",
        "         character_size += len(entry)\n",
        "         # 新しく比較対象にエントリーされた総文字数がbatch_character_size以上になった場合、比較処理を行う\n",
        "         if self.batch_character_size <= character_size:\n",
        "            error_count += self._execute_batch(entries, reset_cache, show_batch_log, show_api_log)\n",
        "            # 初期化\n",
        "            entries = []\n",
        "            character_size = 0\n",
        "\n",
        "    else: #データセットをすべて読み込んだ後の残り物も処理\n",
        "      entry_rates.append(diff) # 差分を追加\n",
        "      error_count += self._execute_batch(entries, reset_cache, show_batch_log, show_api_log)\n",
        "    \n",
        "    # 変化量を表示\n",
        "    entry_count = sum(entry_rates)\n",
        "    if plot_entry_rates:\n",
        "      x = np.arange(1, len(entry_rates)+1)\n",
        "      y = np.array(entry_rates)\n",
        "      plt.xlabel('times')\n",
        "      plt.ylabel('size of new entry')\n",
        "      plt.plot(x, y)\n",
        "    print(\"-------------\")\n",
        "    print(\"vocab count:\", entry_count)\n",
        "    print(\"error count\", error_count)\n",
        "    print(\"hit percentage\", format(float(error_count + 1e-8) / float(entry_count+ 1e-8) * 100.0, '.2f') + \"%\")\n",
        "    \n",
        "    return entry_count, error_count\n",
        "\n",
        "  # spreadsheetの書き込みキューに追加する\n",
        "  def add_spreadsheet(self, errors, show_batch_log):\n",
        "    if show_batch_log:\n",
        "      print(\"detect errors:\", errors)\n",
        "    set_on = \"1\".encode(\"utf-8\")\n",
        "    for err_vocab, err_labels in zip(errors.keys(), errors.values()):\n",
        "      # checked_dbに単語を追加 \n",
        "      checked_db.put(err_vocab.encode(\"utf-8\"), set_on)\n",
        "\n",
        "      # spreadsheetに単語を追加\n",
        "      unique_labels = []\n",
        "      label_distribution = []\n",
        "      for err_label in err_labels:\n",
        "        if err_label not in unique_labels:\n",
        "          unique_labels.append(err_label)\n",
        "          label_distribution.append(1)\n",
        "        else:\n",
        "          label_distribution[unique_labels.index(err_label)] += 1\n",
        "      max_label = max(label_distribution)\n",
        "      max_label_count = sum(max_label == count for count in label_distribution)\n",
        "      \n",
        "      target_label = err_labels[0] # CoeFontの出力\n",
        "      require_humancheck = 0 # 一意に正解ラベルをアノテーションできなかったか\n",
        "      label_annotation = \"\" # 正解ラベル\n",
        "\n",
        "      # 2 2 out\n",
        "      # 2 1 ok\n",
        "      # 1 1 out\n",
        "      # 1 1 1 out\n",
        "      # 2 1 1 ok\n",
        "      # 2 2 1 out\n",
        "      # 最大値が1つであればいい\n",
        "      if max_label_count > 1:\n",
        "        require_humancheck = 1\n",
        "      else:\n",
        "        label_annotation = unique_labels[label_distribution.index(max_label)]\n",
        "\n",
        "      # spreadsheetに記録 単語、人間によるチェックが必要か、正解ラベル、CoeFontの出力 + [複数APIで観測された読み]\n",
        "      sheet_row = [err_vocab, require_humancheck, label_annotation, target_label, \"|\"] + err_labels\n",
        "      self.new_tables.append(sheet_row)\n",
        "  \n",
        "  # spreadsheetにキューを書き込む\n",
        "  def save_spreadsheet(self):\n",
        "     spreadsheet.append_rows(self.new_tables, table_range=\"A\")\n",
        "     self.new_tables = []"
      ],
      "metadata": {
        "id": "qNwn5ChSBUY8"
      },
      "execution_count": 157,
      "outputs": []
    },
    {
      "cell_type": "markdown",
      "source": [
        "# データセットの自動取得（wikipedia rechange logs）\n",
        "* データソースを主導で作成するのではなく、永続的に新しいデータソースから単語を取得できるエコシステムを構築する\n",
        "\n",
        "## 要件\n",
        "*   永続的にプログラムがデータソースを自動で生成できる\n",
        "*   単語数に基づき、バッチ処理的に単語の比較とspreadsheetへのアノテーションが行われる。\n",
        "*   単語のバリエーションの広がりを担保する\n",
        "\n",
        "\n",
        "\n",
        "\n",
        "\n",
        "\n"
      ],
      "metadata": {
        "id": "DPhw0_3emQvH"
      }
    },
    {
      "cell_type": "code",
      "source": [
        "test_09_converters = [\n",
        "    # CoeFontConverter(),,\n",
        "    YahooConverter(app_id=secrets[\"yahoo_app_id\"]),\n",
        "    GooConverter(app_id=secrets[\"goo_api_id\"])\n",
        "    ]\n",
        "\n",
        "test_09_competition = ConverterCompetition(converters=test_09_converters)\n",
        "test_09_url = 'https://stream.wikimedia.org/v2/stream/recentchange'\n",
        "\n",
        "# wikipediaの更新ログをデータセットに変換するイテレータ\n",
        "def getDataSourceFromWikipedia(limit=None, show_received_log=False):\n",
        "  count = 0\n",
        "  titles = []\n",
        "  for event in EventSource(test_09_url, last_id=None):\n",
        "    if event.event == 'message':\n",
        "        try:\n",
        "            change = json.loads(event.data)\n",
        "        except ValueError:\n",
        "            pass\n",
        "        else:\n",
        "            wiki_title = change[\"title\"]\n",
        "            #日本のwikipediaのみ+過去に見たものは除く+カテゴリや利用者の更新は除く記事本体の更新を取得\n",
        "            if change[\"server_name\"] == 'ja.wikipedia.org' and wiki_title not in titles and \":\" not in wiki_title:\n",
        "                wiki_title = change[\"title\"]\n",
        "                if show_received_log:\n",
        "                  print(\"-----------\")\n",
        "                  print(\"received new wiki:\", wiki_title)\n",
        "                datasource = WikipediaDataSource(title=wiki_title)\n",
        "                datasource.load()\n",
        "                count +=1\n",
        "                titles.append(wiki_title)\n",
        "                yield datasource\n",
        "                if limit != None and count >= limit:\n",
        "                   break"
      ],
      "metadata": {
        "id": "rx1kN4rSYBuy"
      },
      "execution_count": 168,
      "outputs": []
    },
    {
      "cell_type": "code",
      "source": [
        "# datasetの上限100, バッチ処理100characterに設定し、ストリーミングを行う\n",
        "test_09_batch = OptimaizedCompetionBatch(test_09_competition, streaming_iters=getDataSourceFromWikipedia(limit=15, show_received_log=False), batch_character_size=200)\n",
        "test_09_batch.start(plot_entry_rates=True, show_batch_log=True, show_api_log=True) #ストリーミング処理を開始"
      ],
      "metadata": {
        "colab": {
          "base_uri": "https://localhost:8080/",
          "height": 1000
        },
        "id": "I7ge0CZ8c7r7",
        "outputId": "192d228c-3cae-46ba-8d9e-21e11a286a7a"
      },
      "execution_count": 170,
      "outputs": [
        {
          "output_type": "stream",
          "name": "stdout",
          "text": [
            "start new batch: 100 start from 広島\n",
            "('** Yahoo API:', '{\"id\":\"1663497395.898793\",\"jsonrpc\":\"2.0\",\"result\":{\"word\":[{\"furigana\":\"やすくら\",\"roman\":\"yasukura\",\"surface\":\"保蔵\"},{\"surface\":\"。\"},{\"furigana\":\"ふくほん\",\"roman\":\"hukuhon\",\"surface\":\"副本\"},{\"surface\":\"。\"},{\"furigana\":\"おく\",\"roman\":\"oku\",\"surface\":\"奥\"},{\"furigana\":\"がわ\",\"roman\":\"gawa\",\"surface\":\"側\"},{\"surface\":\"。\"},{\"furigana\":\"ゆきちがい\",\"roman\":\"yukitigai\",\"subword\":[{\"furigana\":\"ゆ\",\"roman\":\"yu\",\"surface\":\"行\"},{\"furigana\":\"き\",\"roman\":\"ki\",\"surface\":\"き\"},{\"furigana\":\"ちが\",\"roman\":\"tiga\",\"surface\":\"違\"},{\"furigana\":\"い\",\"roman\":\"i\",\"surface\":\"い\"}],\"surface\":\"行き違い\"},{\"surface\":\"。\"}]}}')\n",
            "('** Goo API:', '{\"error\": {\"code\": 400, \"message\": \"Invalid app_id\"}}')\n",
            "goo params error: {'app_id': 'c75169ff017c73abcb38f6c350a2968273336204deef68d6f88f5f58ad4c36f5', 'sentence': '保蔵。行き違い。', 'output_type': 'katakana'}\n",
            "\n",
            "start new batch: 100 start from 場合\n",
            "('** Yahoo API:', '{\"id\":\"1663497400.657416\",\"jsonrpc\":\"2.0\",\"result\":{\"word\":[{\"furigana\":\"よしうら\",\"roman\":\"yosiura\",\"surface\":\"吉浦\"},{\"surface\":\"。\"},{\"furigana\":\"ひろでん\",\"roman\":\"hiroden\",\"surface\":\"広電\"},{\"surface\":\"。\"},{\"furigana\":\"かるが\",\"roman\":\"karuga\",\"surface\":\"狩留家\"},{\"surface\":\"。\"},{\"furigana\":\"あさきた\",\"roman\":\"asakita\",\"surface\":\"安佐北\"},{\"surface\":\"。\"},{\"furigana\":\"げいび\",\"roman\":\"geibi\",\"surface\":\"芸備\"},{\"surface\":\"。\"},{\"furigana\":\"はお\",\"roman\":\"hao\",\"surface\":\"番町\"},{\"surface\":\"。\"}]}}')\n",
            "('** Goo API:', '{\"converted\": \"バンチョウ。\", \"output_type\": \"katakana\", \"request_id\": \"labs.goo.ne.jp\\\\t1663497401\\\\t0\"}')\n",
            "detect errors: {'番町': ['ハオ', 'バンチョウ', 'バンチョウ']}\n",
            "start new batch: 100 start from 部門\n",
            "('** Yahoo API:', '{\"id\":\"1663497402.582175\",\"jsonrpc\":\"2.0\",\"result\":{\"word\":[{\"furigana\":\"くろおび\",\"roman\":\"kuroobi\",\"surface\":\"黒帯\"},{\"surface\":\"。\"}]}}')\n",
            "detect errors: {}\n",
            "start new batch: 100 start from 編成\n",
            "('** Yahoo API:', '{\"id\":\"1663497403.928286\",\"jsonrpc\":\"2.0\",\"result\":{\"word\":[{\"furigana\":\"りゅうかく\",\"roman\":\"ryuukaku\",\"surface\":\"龍角\"},{\"surface\":\"。\"},{\"furigana\":\"はら\",\"roman\":\"hara\",\"surface\":\"腹\"},{\"furigana\":\"ぐろ\",\"roman\":\"guro\",\"surface\":\"黒\"},{\"surface\":\"。\"},{\"furigana\":\"えいせい\",\"roman\":\"eisei\",\"surface\":\"永世\"},{\"surface\":\"。\"},{\"furigana\":\"よねすけ\",\"roman\":\"yonesuke\",\"surface\":\"米助\"},{\"surface\":\"。\"},{\"furigana\":\"たっぺい\",\"roman\":\"tappei\",\"surface\":\"辰平\"},{\"surface\":\"。\"},{\"furigana\":\"けいか\",\"roman\":\"keika\",\"surface\":\"桂花\"},{\"surface\":\"。\"},{\"furigana\":\"けいし\",\"roman\":\"keisi\",\"surface\":\"桂枝\"},{\"surface\":\"。\"},{\"furigana\":\"りゅうしょう\",\"roman\":\"ryuusyou\",\"surface\":\"柳昇\"},{\"surface\":\"。\"}]}}')\n",
            "detect errors: {}\n",
            "start new batch: 100 start from 浪曲\n",
            "('** Yahoo API:', '{\"id\":\"1663497405.083306\",\"jsonrpc\":\"2.0\",\"result\":{\"word\":[{\"furigana\":\"いっかく\",\"roman\":\"ikkaku\",\"surface\":\"一鶴\"},{\"surface\":\"。\"},{\"furigana\":\"としえ\",\"roman\":\"tosie\",\"surface\":\"敏江\"},{\"surface\":\"。\"},{\"furigana\":\"れいじ\",\"roman\":\"reizi\",\"surface\":\"玲児\"},{\"surface\":\"。\"},{\"furigana\":\"てるよ\",\"roman\":\"teruyo\",\"surface\":\"照代\"},{\"surface\":\"。\"},{\"furigana\":\"しぶん\",\"roman\":\"sibun\",\"surface\":\"紫文\"},{\"surface\":\"。\"},{\"furigana\":\"しょうきょくさい\",\"roman\":\"syoukyokusai\",\"surface\":\"松旭斎\"},{\"surface\":\"。\"},{\"furigana\":\"みずげい\",\"roman\":\"mizugei\",\"surface\":\"水芸\"},{\"surface\":\"。\"},{\"furigana\":\"えどや\",\"roman\":\"edoya\",\"surface\":\"江戸家\"},{\"surface\":\"。\"},{\"furigana\":\"ねこ\",\"roman\":\"neko\",\"surface\":\"猫\"},{\"surface\":\"八\"},{\"surface\":\"。\"},{\"furigana\":\"ちょういちろう\",\"roman\":\"tyouitirou\",\"surface\":\"長一郎\"},{\"surface\":\"。\"},{\"furigana\":\"えびいち\",\"roman\":\"ebiiti\",\"surface\":\"海老一\"},{\"surface\":\"。\"},{\"furigana\":\"そめのすけ\",\"roman\":\"somenosuke\",\"surface\":\"染之助\"},{\"surface\":\"。\"},{\"furigana\":\"そめたろう\",\"roman\":\"sometarou\",\"surface\":\"染太郎\"},{\"surface\":\"。\"},{\"furigana\":\"かみきり\",\"roman\":\"kamikiri\",\"subword\":[{\"furigana\":\"かみき\",\"roman\":\"kamiki\",\"surface\":\"紙切\"},{\"furigana\":\"り\",\"roman\":\"ri\",\"surface\":\"り\"}],\"surface\":\"紙切り\"},{\"surface\":\"。\"},{\"furigana\":\"しょうらく\",\"roman\":\"syouraku\",\"surface\":\"正楽\"},{\"surface\":\"。\"}]}}')\n",
            "detect errors: {}\n",
            "start new batch: 100 start from 協会\n",
            "('** Yahoo API:', '{\"id\":\"1663497406.287805\",\"jsonrpc\":\"2.0\",\"result\":{\"word\":[{\"furigana\":\"めぎ\",\"roman\":\"megi\",\"surface\":\"目木\"},{\"surface\":\"。\"},{\"furigana\":\"おおたく\",\"roman\":\"ootaku\",\"surface\":\"大宅\"},{\"surface\":\"。\"},{\"furigana\":\"そういち\",\"roman\":\"souiti\",\"surface\":\"壮一\"},{\"surface\":\"。\"}]}}')\n",
            "('** Goo API:', '{\"error\": {\"code\": 400, \"message\": \"Invalid app_id\"}}')\n",
            "goo params error: {'app_id': 'c75169ff017c73abcb38f6c350a2968273336204deef68d6f88f5f58ad4c36f5', 'sentence': '大宅。', 'output_type': 'katakana'}\n",
            "detect errors: {'大宅': ['オオタク', 'オオヤ', '']}\n",
            "start new batch: 100 start from 茶の間\n",
            "('** Yahoo API:', '{\"id\":\"1663497408.17436\",\"jsonrpc\":\"2.0\",\"result\":{\"word\":[{\"furigana\":\"ひばち\",\"roman\":\"hibati\",\"surface\":\"火鉢\"},{\"surface\":\"。\"},{\"furigana\":\"たんす\",\"roman\":\"tansu\",\"surface\":\"箪笥\"},{\"surface\":\"。\"},{\"furigana\":\"こゆうざ\",\"roman\":\"koyuuza\",\"surface\":\"小遊三\"},{\"surface\":\"。\"},{\"furigana\":\"せきじゅん\",\"roman\":\"sekizyun\",\"surface\":\"席順\"},{\"surface\":\"。\"},{\"furigana\":\"はごいた\",\"roman\":\"hagoita\",\"surface\":\"羽子板\"},{\"surface\":\"。\"},{\"furigana\":\"ふうりん\",\"roman\":\"huurin\",\"surface\":\"風鈴\"},{\"surface\":\"。\"},{\"furigana\":\"ひがさ\",\"roman\":\"higasa\",\"surface\":\"日傘\"},{\"surface\":\"。\"},{\"furigana\":\"あいあい\",\"roman\":\"aiai\",\"subword\":[{\"furigana\":\"あいあ\",\"roman\":\"aia\",\"surface\":\"相合\"},{\"furigana\":\"い\",\"roman\":\"i\",\"surface\":\"い\"}],\"surface\":\"相合い\"},{\"surface\":\"。\"},{\"furigana\":\"ねぶくろ\",\"roman\":\"nebukuro\",\"surface\":\"寝袋\"},{\"surface\":\"。\"},{\"furigana\":\"さんじ\",\"roman\":\"sanzi\",\"surface\":\"三治\"},{\"surface\":\"。\"},{\"furigana\":\"きくのすけ\",\"roman\":\"kikunosuke\",\"surface\":\"菊之助\"},{\"surface\":\"。\"},{\"furigana\":\"きくまる\",\"roman\":\"kikumaru\",\"surface\":\"菊丸\"},{\"surface\":\"。\"},{\"furigana\":\"よのすけ\",\"roman\":\"yonosuke\",\"surface\":\"世之介\"},{\"surface\":\"。\"}]}}')\n",
            "detect errors: {}\n",
            "start new batch: 100 start from 正蔵\n",
            "('** Yahoo API:', '{\"id\":\"1663497409.42786\",\"jsonrpc\":\"2.0\",\"result\":{\"word\":[{\"furigana\":\"ごみょう\",\"roman\":\"gomyou\",\"surface\":\"五明\"},{\"surface\":\"。\"},{\"furigana\":\"せいちょう\",\"roman\":\"seityou\",\"surface\":\"勢朝\"},{\"surface\":\"。\"},{\"furigana\":\"かめぞう\",\"roman\":\"kamezou\",\"surface\":\"亀蔵\"},{\"surface\":\"。\"},{\"furigana\":\"にぎりずし\",\"roman\":\"nigirizusi\",\"subword\":[{\"furigana\":\"にぎ\",\"roman\":\"nigi\",\"surface\":\"握\"},{\"furigana\":\"り\",\"roman\":\"ri\",\"surface\":\"り\"},{\"furigana\":\"ずし\",\"roman\":\"zusi\",\"surface\":\"寿司\"}],\"surface\":\"握り寿司\"},{\"surface\":\"。\"},{\"furigana\":\"せった\",\"roman\":\"setta\",\"surface\":\"雪駄\"},{\"surface\":\"。\"},{\"furigana\":\"まつたけ\",\"roman\":\"matutake\",\"surface\":\"松茸\"},{\"surface\":\"。\"},{\"furigana\":\"あまりもの\",\"roman\":\"amarimono\",\"subword\":[{\"furigana\":\"あま\",\"roman\":\"ama\",\"surface\":\"余\"},{\"furigana\":\"り\",\"roman\":\"ri\",\"surface\":\"り\"},{\"furigana\":\"もの\",\"roman\":\"mono\",\"surface\":\"物\"}],\"surface\":\"余り物\"},{\"surface\":\"。\"},{\"furigana\":\"くろ\",\"roman\":\"kuro\",\"surface\":\"黒\"},{\"furigana\":\"もん\",\"roman\":\"mon\",\"surface\":\"紋\"},{\"surface\":\"。\"},{\"furigana\":\"つるこう\",\"roman\":\"turukou\",\"surface\":\"鶴光\"},{\"surface\":\"。\"},{\"furigana\":\"みや\",\"roman\":\"miya\",\"surface\":\"三弥\"},{\"surface\":\"。\"}]}}')\n",
            "('** Goo API:', '{\"converted\": \"ミツヤ。\", \"output_type\": \"katakana\", \"request_id\": \"labs.goo.ne.jp\\\\t1663497410\\\\t0\"}')\n",
            "detect errors: {'三弥': ['ミヤ', 'ミツヤ', 'ミツヤ']}\n",
            "start new batch: 100 start from 新型\n",
            "('** Yahoo API:', '{\"id\":\"1663497411.794623\",\"jsonrpc\":\"2.0\",\"result\":{\"word\":[{\"furigana\":\"しおり\",\"roman\":\"siori\",\"surface\":\"栞里\"},{\"surface\":\"。\"},{\"surface\":\"一二三\"},{\"surface\":\"。\"},{\"furigana\":\"あわの\",\"roman\":\"awano\",\"surface\":\"粟野\"},{\"surface\":\"。\"},{\"furigana\":\"こうたろう\",\"roman\":\"koutarou\",\"surface\":\"幸太朗\"},{\"surface\":\"。\"},{\"furigana\":\"あつひと\",\"roman\":\"atuhito\",\"surface\":\"篤人\"},{\"surface\":\"。\"},{\"furigana\":\"ちらく\",\"roman\":\"tiraku\",\"surface\":\"痴楽\"},{\"surface\":\"。\"},{\"furigana\":\"くぞう\",\"roman\":\"kuzou\",\"surface\":\"九蔵\"},{\"surface\":\"。\"},{\"furigana\":\"しんこま\",\"roman\":\"sinkoma\",\"subword\":[{\"furigana\":\"し\",\"roman\":\"si\",\"surface\":\"志\"},{\"furigana\":\"ん\",\"roman\":\"n\",\"surface\":\"ん\"},{\"furigana\":\"こま\",\"roman\":\"koma\",\"surface\":\"駒\"}],\"surface\":\"志ん駒\"},{\"surface\":\"。\"},{\"furigana\":\"おうらく\",\"roman\":\"ouraku\",\"surface\":\"王楽\"},{\"surface\":\"。\"},{\"furigana\":\"てんせい\",\"roman\":\"tensei\",\"surface\":\"天声\"},{\"surface\":\"。\"},{\"furigana\":\"そうたい\",\"roman\":\"soutai\",\"surface\":\"早退\"},{\"surface\":\"。\"}]}}')\n",
            "('** Goo API:', '{\"converted\": \"アツヒト。\", \"output_type\": \"katakana\", \"request_id\": \"labs.goo.ne.jp\\\\t1663497412\\\\t0\"}')\n",
            "detect errors: {'篤人': ['アツヒト', 'アツト', 'アツヒト']}\n",
            "start new batch: 100 start from 快彦\n",
            "('** Yahoo API:', '{\"id\":\"1663497413.430542\",\"jsonrpc\":\"2.0\",\"result\":{\"word\":[{\"furigana\":\"よしひこ\",\"roman\":\"yosihiko\",\"surface\":\"快彦\"},{\"surface\":\"。\"},{\"furigana\":\"ひろみつ\",\"roman\":\"hiromitu\",\"surface\":\"宏光\"},{\"surface\":\"。\"},{\"furigana\":\"ようそう\",\"roman\":\"yousou\",\"surface\":\"洋装\"},{\"surface\":\"。\"},{\"furigana\":\"まゆこ\",\"roman\":\"mayuko\",\"surface\":\"真悠子\"},{\"surface\":\"。\"},{\"furigana\":\"おおのくに\",\"roman\":\"oonokuni\",\"surface\":\"大乃国\"},{\"surface\":\"。\"},{\"furigana\":\"みつひろ\",\"roman\":\"mituhiro\",\"surface\":\"光弘\"},{\"surface\":\"。\"},{\"furigana\":\"さちこ\",\"roman\":\"satiko\",\"surface\":\"紗千子\"},{\"surface\":\"。\"},{\"furigana\":\"こばち\",\"roman\":\"kobati\",\"surface\":\"小鉢\"},{\"surface\":\"。\"}]}}')\n",
            "detect errors: {}\n",
            "start new batch: 100 start from 直美\n",
            "('** Yahoo API:', '{\"id\":\"1663497414.795213\",\"jsonrpc\":\"2.0\",\"result\":{\"word\":[{\"furigana\":\"かみざ\",\"roman\":\"kamiza\",\"surface\":\"上座\"},{\"surface\":\"。\"},{\"furigana\":\"どくまむし\",\"roman\":\"dokumamusi\",\"surface\":\"毒蝮\"},{\"surface\":\"。\"},{\"furigana\":\"しょうてん\",\"roman\":\"syouten\",\"surface\":\"昇天\"},{\"surface\":\"。\"},{\"furigana\":\"てそう\",\"roman\":\"tesou\",\"surface\":\"手相\"},{\"surface\":\"。\"},{\"furigana\":\"ひだり\",\"roman\":\"hidari\",\"surface\":\"左\"},{\"furigana\":\"てのひら\",\"roman\":\"tenohira\",\"surface\":\"掌\"},{\"surface\":\"。\"},{\"furigana\":\"はしやすめ\",\"roman\":\"hasiyasume\",\"subword\":[{\"furigana\":\"はしやす\",\"roman\":\"hasiyasu\",\"surface\":\"箸休\"},{\"furigana\":\"め\",\"roman\":\"me\",\"surface\":\"め\"}],\"surface\":\"箸休め\"},{\"surface\":\"。\"},{\"furigana\":\"さんきゅう\",\"roman\":\"sankyuu\",\"surface\":\"三久\"},{\"surface\":\"。\"},{\"furigana\":\"いき\",\"roman\":\"iki\",\"surface\":\"伊吉\"},{\"surface\":\"。\"}]}}')\n",
            "('** Goo API:', '{\"converted\": \"カミザ。 ヒダリテノヒラ。 ミツヒサ。 イキチ。\", \"output_type\": \"katakana\", \"request_id\": \"labs.goo.ne.jp\\\\t1663497415\\\\t0\"}')\n",
            "detect errors: {'上座': ['カミザ', 'ジョウザ', 'カミザ'], '左掌': ['ヒダリテノヒラ', 'サショウ', 'ヒダリテノヒラ'], '三久': ['サンキュウ', 'ミク', 'ミツヒサ'], '伊吉': ['イキ', 'イキチ', 'イキチ']}\n",
            "start new batch: 100 start from 操作\n",
            "('** Yahoo API:', '{\"id\":\"1663497416.427601\",\"jsonrpc\":\"2.0\",\"result\":{\"word\":[{\"furigana\":\"おんちょう\",\"roman\":\"ontyou\",\"surface\":\"音調\"},{\"surface\":\"。\"},{\"furigana\":\"しょうえん\",\"roman\":\"syouen\",\"surface\":\"小円\"},{\"surface\":\"。\"},{\"furigana\":\"いもむし\",\"roman\":\"imomusi\",\"surface\":\"芋虫\"},{\"surface\":\"。\"},{\"furigana\":\"よこがき\",\"roman\":\"yokogaki\",\"subword\":[{\"furigana\":\"よこが\",\"roman\":\"yokoga\",\"surface\":\"横書\"},{\"furigana\":\"き\",\"roman\":\"ki\",\"surface\":\"き\"}],\"surface\":\"横書き\"},{\"surface\":\"。\"},{\"furigana\":\"じんがさ\",\"roman\":\"zingasa\",\"surface\":\"陣笠\"},{\"surface\":\"。\"},{\"furigana\":\"かっぱ\",\"roman\":\"kappa\",\"surface\":\"合羽\"},{\"surface\":\"。\"},{\"furigana\":\"とせい\",\"roman\":\"tosei\",\"surface\":\"渡世\"},{\"surface\":\"。\"},{\"furigana\":\"かいびゃく\",\"roman\":\"kaibyaku\",\"surface\":\"開闢\"},{\"surface\":\"。\"},{\"furigana\":\"こくさん\",\"roman\":\"kokusan\",\"surface\":\"国産\"},{\"furigana\":\"み\",\"roman\":\"mi\",\"surface\":\"み\"},{\"surface\":\"。\"},{\"furigana\":\"ちゃがま\",\"roman\":\"tyagama\",\"surface\":\"茶釜\"},{\"surface\":\"。\"},{\"furigana\":\"した\",\"roman\":\"sita\",\"surface\":\"舌\"},{\"furigana\":\"ぎり\",\"roman\":\"giri\",\"subword\":[{\"furigana\":\"ぎ\",\"roman\":\"gi\",\"surface\":\"切\"},{\"furigana\":\"り\",\"roman\":\"ri\",\"surface\":\"り\"}],\"surface\":\"切り\"},{\"surface\":\"。\"},{\"furigana\":\"おんな\",\"roman\":\"onna\",\"surface\":\"女\"},{\"furigana\":\"おとこ\",\"roman\":\"otoko\",\"surface\":\"男\"},{\"surface\":\"。\"},{\"furigana\":\"しらなみ\",\"roman\":\"siranami\",\"surface\":\"白浪\"},{\"surface\":\"。\"},{\"furigana\":\"おうが\",\"roman\":\"ouga\",\"surface\":\"太神\"},{\"surface\":\"。\"},{\"furigana\":\"はなふぶき\",\"roman\":\"hanahubuki\",\"surface\":\"花吹雪\"},{\"surface\":\"。\"},{\"furigana\":\"ゆきのじょう\",\"roman\":\"yukinozyou\",\"surface\":\"雪之丞\"},{\"surface\":\"。\"},{\"furigana\":\"ごえもん\",\"roman\":\"goemon\",\"surface\":\"五右衛門\"},{\"surface\":\"。\"},{\"furigana\":\"うしわか\",\"roman\":\"usiwaka\",\"surface\":\"牛若\"},{\"surface\":\"。\"},{\"furigana\":\"つぎ\",\"roman\":\"tugi\",\"surface\":\"次\"},{\"furigana\":\"へん\",\"roman\":\"hen\",\"surface\":\"編\"},{\"surface\":\"。\"}]}}')\n",
            "('** Goo API:', '{\"converted\": \"ダイゾウ。 コクサンミ。 シタキリ。 オンナオトコ。 オウガ。 ツギヘン。\", \"output_type\": \"katakana\", \"request_id\": \"labs.goo.ne.jp\\\\t1663497417\\\\t0\"}')\n",
            "detect errors: {'大三': ['オオミ', 'ダイゾウ', 'ダイゾウ'], '国産み': ['コクサンミ', 'クニウミ', 'コクサンミ'], '舌切り': ['シタギリ', 'シタキリ', 'シタキリ'], '女男': ['オンナオトコ', 'ジョダン', 'オンナオトコ'], '太神': ['オウガ', 'オオミカミ', 'オウガ'], '次編': ['ツギヘン', 'ジヘン', 'ツギヘン']}\n",
            "start new batch: 100 start from 飛脚\n",
            "('** Yahoo API:', '{\"id\":\"1663497418.135145\",\"jsonrpc\":\"2.0\",\"result\":{\"word\":[{\"furigana\":\"げいぎ\",\"roman\":\"geigi\",\"surface\":\"芸妓\"},{\"surface\":\"。\"},{\"furigana\":\"ごゆ\",\"roman\":\"goyu\",\"surface\":\"御油\"},{\"surface\":\"。\"},{\"furigana\":\"おおだこ\",\"roman\":\"oodako\",\"surface\":\"大凧\"},{\"surface\":\"。\"},{\"furigana\":\"たなばた\",\"roman\":\"tanabata\",\"surface\":\"七夕\"},{\"furigana\":\"まつり\",\"roman\":\"maturi\",\"surface\":\"まつり\"},{\"surface\":\"。\"},{\"furigana\":\"かんとう\",\"roman\":\"kantou\",\"surface\":\"竿灯\"},{\"surface\":\"。\"},{\"furigana\":\"やかん\",\"roman\":\"yakan\",\"surface\":\"薬缶\"},{\"surface\":\"。\"},{\"furigana\":\"ごうじょう\",\"roman\":\"gouzyou\",\"surface\":\"強情\"},{\"surface\":\"。\"},{\"furigana\":\"たからぶね\",\"roman\":\"takarabune\",\"surface\":\"宝船\"},{\"surface\":\"。\"},{\"furigana\":\"まんじろう\",\"roman\":\"manzirou\",\"surface\":\"万次郎\"},{\"surface\":\"。\"},{\"furigana\":\"てつぼう\",\"roman\":\"tetubou\",\"surface\":\"鉄棒\"},{\"surface\":\"。\"},{\"furigana\":\"たまのり\",\"roman\":\"tamanori\",\"subword\":[{\"furigana\":\"たまの\",\"roman\":\"tamano\",\"surface\":\"玉乗\"},{\"furigana\":\"り\",\"roman\":\"ri\",\"surface\":\"り\"}],\"surface\":\"玉乗り\"},{\"surface\":\"。\"},{\"furigana\":\"ふくかみ\",\"roman\":\"hukukami\",\"surface\":\"福神\"},{\"surface\":\"。\"},{\"furigana\":\"べんさい\",\"roman\":\"bensai\",\"surface\":\"弁才\"},{\"surface\":\"。\"},{\"furigana\":\"ふくろくじゅ\",\"roman\":\"hukurokuzyu\",\"surface\":\"福禄寿\"},{\"surface\":\"。\"},{\"furigana\":\"じゅろうじん\",\"roman\":\"zyurouzin\",\"surface\":\"寿老人\"},{\"surface\":\"。\"},{\"furigana\":\"ふくすけ\",\"roman\":\"hukusuke\",\"surface\":\"福助\"},{\"surface\":\"。\"}]}}')\n",
            "('** Goo API:', '{\"converted\": \"フクジン。\", \"output_type\": \"katakana\", \"request_id\": \"labs.goo.ne.jp\\\\t1663497418\\\\t0\"}')\n",
            "detect errors: {'福神': ['フクカミ', 'フクジン', 'フクジン']}\n",
            "start new batch: 100 start from 芸名\n",
            "('** Yahoo API:', '{\"id\":\"1663497419.771138\",\"jsonrpc\":\"2.0\",\"result\":{\"word\":[{\"furigana\":\"ふりだし\",\"roman\":\"huridasi\",\"subword\":[{\"furigana\":\"ふ\",\"roman\":\"hu\",\"surface\":\"振\"},{\"furigana\":\"り\",\"roman\":\"ri\",\"surface\":\"り\"},{\"furigana\":\"だ\",\"roman\":\"da\",\"surface\":\"出\"},{\"furigana\":\"し\",\"roman\":\"si\",\"surface\":\"し\"}],\"surface\":\"振り出し\"},{\"surface\":\"。\"},{\"furigana\":\"かみゆい\",\"roman\":\"kamiyui\",\"subword\":[{\"furigana\":\"かみゆ\",\"roman\":\"kamiyu\",\"surface\":\"髪結\"},{\"furigana\":\"い\",\"roman\":\"i\",\"surface\":\"い\"}],\"surface\":\"髪結い\"},{\"surface\":\"。\"},{\"furigana\":\"さんば\",\"roman\":\"sanba\",\"surface\":\"産婆\"},{\"surface\":\"。\"},{\"furigana\":\"いっせき\",\"roman\":\"isseki\",\"surface\":\"一席\"},{\"surface\":\"。\"},{\"furigana\":\"まと\",\"roman\":\"mato\",\"surface\":\"的\"},{\"furigana\":\"あて\",\"roman\":\"ate\",\"subword\":[{\"furigana\":\"あ\",\"roman\":\"a\",\"surface\":\"当\"},{\"furigana\":\"て\",\"roman\":\"te\",\"surface\":\"て\"}],\"surface\":\"当て\"},{\"surface\":\"。\"},{\"furigana\":\"さかだる\",\"roman\":\"sakadaru\",\"surface\":\"酒樽\"},{\"surface\":\"。\"},{\"furigana\":\"ついたて\",\"roman\":\"tuitate\",\"surface\":\"衝立\"},{\"surface\":\"。\"},{\"furigana\":\"しばはま\",\"roman\":\"sibahama\",\"surface\":\"芝浜\"},{\"surface\":\"。\"},{\"furigana\":\"やぶいり\",\"roman\":\"yabuiri\",\"subword\":[{\"furigana\":\"やぶい\",\"roman\":\"yabui\",\"surface\":\"藪入\"},{\"furigana\":\"り\",\"roman\":\"ri\",\"surface\":\"り\"}],\"surface\":\"藪入り\"},{\"surface\":\"。\"},{\"furigana\":\"さし\",\"roman\":\"sasi\",\"subword\":[{\"furigana\":\"さ\",\"roman\":\"sa\",\"surface\":\"差\"},{\"furigana\":\"し\",\"roman\":\"si\",\"surface\":\"し\"}],\"surface\":\"差し\"},{\"furigana\":\"しょく\",\"roman\":\"syoku\",\"surface\":\"色\"},{\"surface\":\"。\"}]}}')\n",
            "('** Goo API:', '{\"error\": {\"code\": 400, \"message\": \"Invalid app_id\"}}')\n",
            "goo params error: {'app_id': 'c75169ff017c73abcb38f6c350a2968273336204deef68d6f88f5f58ad4c36f5', 'sentence': '差し色。', 'output_type': 'katakana'}\n",
            "detect errors: {'差し色': ['サシショク', 'サシイロ', '']}\n",
            "start new batch: 100 start from 二宮\n",
            "('** Yahoo API:', '{\"id\":\"1663497421.382123\",\"jsonrpc\":\"2.0\",\"result\":{\"word\":[{\"furigana\":\"へびつかい\",\"roman\":\"hebitukai\",\"subword\":[{\"furigana\":\"へびつか\",\"roman\":\"hebituka\",\"surface\":\"蛇使\"},{\"furigana\":\"い\",\"roman\":\"i\",\"surface\":\"い\"}],\"surface\":\"蛇使い\"},{\"surface\":\"。\"},{\"furigana\":\"ふきだし\",\"roman\":\"hukidasi\",\"subword\":[{\"furigana\":\"ふ\",\"roman\":\"hu\",\"surface\":\"吹\"},{\"furigana\":\"き\",\"roman\":\"ki\",\"surface\":\"き\"},{\"furigana\":\"だ\",\"roman\":\"da\",\"surface\":\"出\"},{\"furigana\":\"し\",\"roman\":\"si\",\"surface\":\"し\"}],\"surface\":\"吹き出し\"},{\"surface\":\"。\"},{\"furigana\":\"しゅうおん\",\"roman\":\"syuuon\",\"surface\":\"集音\"},{\"surface\":\"。\"},{\"furigana\":\"じょうもん\",\"roman\":\"zyoumon\",\"surface\":\"定紋\"},{\"surface\":\"。\"},{\"furigana\":\"どそく\",\"roman\":\"dosoku\",\"surface\":\"土足\"},{\"surface\":\"。\"},{\"furigana\":\"げんきん\",\"roman\":\"genkin\",\"surface\":\"厳禁\"},{\"surface\":\"。\"}]}}')\n",
            "detect errors: {}\n",
            "start new batch: 100 start from 会話\n",
            "('** Yahoo API:', '{\"id\":\"1663497422.676353\",\"jsonrpc\":\"2.0\",\"result\":{\"word\":[{\"furigana\":\"ほんたて\",\"roman\":\"hontate\",\"subword\":[{\"furigana\":\"ほんた\",\"roman\":\"honta\",\"surface\":\"本立\"},{\"furigana\":\"て\",\"roman\":\"te\",\"surface\":\"て\"}],\"surface\":\"本立て\"},{\"surface\":\"。\"},{\"furigana\":\"おおばん\",\"roman\":\"ooban\",\"surface\":\"大盤\"},{\"surface\":\"。\"},{\"furigana\":\"まや\",\"roman\":\"maya\",\"surface\":\"真矢\"},{\"surface\":\"。\"},{\"furigana\":\"かがみわり\",\"roman\":\"kagamiwari\",\"subword\":[{\"furigana\":\"かがみわ\",\"roman\":\"kagamiwa\",\"surface\":\"鏡割\"},{\"furigana\":\"り\",\"roman\":\"ri\",\"surface\":\"り\"}],\"surface\":\"鏡割り\"},{\"surface\":\"。\"},{\"furigana\":\"よしかわ\",\"roman\":\"yosikawa\",\"surface\":\"吉河\"},{\"surface\":\"。\"},{\"furigana\":\"もとおり\",\"roman\":\"motoori\",\"surface\":\"本時\"},{\"surface\":\"。\"},{\"furigana\":\"ふじこ\",\"roman\":\"huziko\",\"surface\":\"冨士子\"},{\"surface\":\"。\"},{\"furigana\":\"すわり\",\"roman\":\"suwari\",\"subword\":[{\"furigana\":\"すわ\",\"roman\":\"suwa\",\"surface\":\"座\"},{\"furigana\":\"り\",\"roman\":\"ri\",\"surface\":\"り\"}],\"surface\":\"座り\"},{\"furigana\":\"じゅん\",\"roman\":\"zyun\",\"surface\":\"順\"},{\"surface\":\"。\"}]}}')\n",
            "('** Goo API:', '{\"error\": {\"code\": 400, \"message\": \"Invalid app_id\"}}')\n",
            "goo params error: {'app_id': 'c75169ff017c73abcb38f6c350a2968273336204deef68d6f88f5f58ad4c36f5', 'sentence': '本時。', 'output_type': 'katakana'}\n",
            "detect errors: {'本時': ['モトオリ', 'ホンジ', '']}\n",
            "start new batch: 100 start from 水色\n",
            "('** Yahoo API:', '{\"id\":\"1663497424.31496\",\"jsonrpc\":\"2.0\",\"result\":{\"word\":[{\"furigana\":\"むつお\",\"roman\":\"mutuo\",\"surface\":\"睦郎\"},{\"surface\":\"。\"},{\"furigana\":\"えさと\",\"roman\":\"esato\",\"surface\":\"江里\"},{\"surface\":\"。\"},{\"furigana\":\"やすあき\",\"roman\":\"yasuaki\",\"surface\":\"保昭\"},{\"surface\":\"。\"},{\"furigana\":\"のたに\",\"roman\":\"notani\",\"surface\":\"野谷\"},{\"surface\":\"。\"},{\"furigana\":\"むらたけ\",\"roman\":\"muratake\",\"surface\":\"村武\"},{\"surface\":\"。\"},{\"furigana\":\"ゆか\",\"roman\":\"yuka\",\"surface\":\"幸香\"},{\"surface\":\"。\"},{\"furigana\":\"さちこ\",\"roman\":\"satiko\",\"surface\":\"佐智子\"},{\"surface\":\"。\"},{\"furigana\":\"ゆかこ\",\"roman\":\"yukako\",\"surface\":\"友佳子\"},{\"surface\":\"。\"},{\"furigana\":\"かつあき\",\"roman\":\"katuaki\",\"surface\":\"克彰\"},{\"surface\":\"。\"},{\"furigana\":\"ゆきこ\",\"roman\":\"yukiko\",\"surface\":\"有紀子\"},{\"surface\":\"。\"},{\"furigana\":\"ざいつ\",\"roman\":\"zaitu\",\"surface\":\"財津\"},{\"surface\":\"。\"},{\"furigana\":\"かつし\",\"roman\":\"katusi\",\"surface\":\"勝士\"},{\"surface\":\"。\"},{\"furigana\":\"かさねづま\",\"roman\":\"kasanezuma\",\"surface\":\"重夫\"},{\"surface\":\"。\"},{\"furigana\":\"よしぞう\",\"roman\":\"yosizou\",\"surface\":\"佳三\"},{\"surface\":\"。\"},{\"furigana\":\"かたやなぎ\",\"roman\":\"katayanagi\",\"surface\":\"片柳\"},{\"surface\":\"。\"}]}}')\n",
            "('** Goo API:', '{\"converted\": \"エリ。 ノヤ。 シゲオ。 ケイゾウ。\", \"output_type\": \"katakana\", \"request_id\": \"labs.goo.ne.jp\\\\t1663497425\\\\t0\"}')\n",
            "detect errors: {'江里': ['エサト', 'エリ', 'エリ'], '野谷': ['ノタニ', 'ノヤ', 'ノヤ'], '重夫': ['カサネヅマ', 'シゲオ', 'シゲオ'], '佳三': ['ヨシゾウ', 'ケイゾウ', 'ケイゾウ']}\n",
            "start new batch: 100 start from 江頭\n",
            "('** Yahoo API:', '{\"id\":\"1663497425.998435\",\"jsonrpc\":\"2.0\",\"result\":{\"word\":[{\"furigana\":\"きょうじ\",\"roman\":\"kyouzi\",\"surface\":\"恭二\"},{\"surface\":\"。\"},{\"furigana\":\"のりひこ\",\"roman\":\"norihiko\",\"surface\":\"典彦\"},{\"surface\":\"。\"},{\"furigana\":\"あまうち\",\"roman\":\"amauti\",\"surface\":\"天内\"},{\"surface\":\"。\"},{\"furigana\":\"しゅういち\",\"roman\":\"syuuiti\",\"surface\":\"脩一\"},{\"surface\":\"。\"},{\"furigana\":\"おびがね\",\"roman\":\"obigane\",\"surface\":\"帯金\"},{\"surface\":\"。\"},{\"furigana\":\"かけはし\",\"roman\":\"kakehasi\",\"surface\":\"掛橋\"},{\"surface\":\"。\"},{\"furigana\":\"はるき\",\"roman\":\"haruki\",\"surface\":\"春木\"},{\"surface\":\"。\"},{\"furigana\":\"じゅんた\",\"roman\":\"zyunta\",\"surface\":\"順太\"},{\"surface\":\"。\"},{\"furigana\":\"けいいちろう\",\"roman\":\"keiitirou\",\"surface\":\"啓一郎\"},{\"surface\":\"。\"},{\"furigana\":\"みねさき\",\"roman\":\"minesaki\",\"surface\":\"峰崎\"},{\"surface\":\"。\"},{\"furigana\":\"ひろみ\",\"roman\":\"hiromi\",\"surface\":\"紘美\"},{\"surface\":\"。\"},{\"furigana\":\"るりこ\",\"roman\":\"ruriko\",\"surface\":\"留理子\"},{\"surface\":\"。\"},{\"furigana\":\"ひさやす\",\"roman\":\"hisayasu\",\"surface\":\"久泰\"},{\"surface\":\"。\"},{\"furigana\":\"ほたか\",\"roman\":\"hotaka\",\"surface\":\"保隆\"},{\"surface\":\"。\"},{\"furigana\":\"おやまつ\",\"roman\":\"oyamatu\",\"surface\":\"親松\"},{\"surface\":\"。\"},{\"furigana\":\"なおたか\",\"roman\":\"naotaka\",\"surface\":\"直孝\"},{\"surface\":\"。\"}]}}')\n",
            "('** Goo API:', '{\"converted\": \"アマナイ。 ミネザキ。 ヤスタカ。\", \"output_type\": \"katakana\", \"request_id\": \"labs.goo.ne.jp\\\\t1663497427\\\\t0\"}')\n",
            "detect errors: {'天内': ['アマウチ', 'アマナイ', 'アマナイ'], '峰崎': ['ミネサキ', 'ミネザキ', 'ミネザキ'], '保隆': ['ホタカ', 'ヤスタカ', 'ヤスタカ']}\n",
            "start new batch: 100 start from 靖章\n",
            "('** Yahoo API:', '{\"id\":\"1663497428.895238\",\"jsonrpc\":\"2.0\",\"result\":{\"word\":[{\"furigana\":\"やすあき\",\"roman\":\"yasuaki\",\"surface\":\"靖章\"},{\"surface\":\"。\"},{\"furigana\":\"こざと\",\"roman\":\"kozato\",\"surface\":\"小里\"},{\"surface\":\"。\"},{\"furigana\":\"あずまい\",\"roman\":\"azumai\",\"surface\":\"東井\"},{\"surface\":\"。\"},{\"furigana\":\"ぶんた\",\"roman\":\"bunta\",\"surface\":\"文太\"},{\"surface\":\"。\"}]}}')\n",
            "('** Goo API:', '{\"converted\": \"コサト。 トウイ。\", \"output_type\": \"katakana\", \"request_id\": \"labs.goo.ne.jp\\\\t1663497429\\\\t0\"}')\n",
            "detect errors: {'小里': ['コザト', 'オザト', 'コサト'], '東井': ['アズマイ', 'トウイ', 'トウイ']}\n",
            "start new batch: 100 start from 童顔\n",
            "('** Yahoo API:', '{\"id\":\"1663497431.041575\",\"jsonrpc\":\"2.0\",\"result\":{\"word\":[{\"furigana\":\"もりさき\",\"roman\":\"morisaki\",\"surface\":\"森咲\"},{\"surface\":\"。\"},{\"furigana\":\"ひまじん\",\"roman\":\"himazin\",\"surface\":\"暇人\"},{\"surface\":\"。\"},{\"furigana\":\"えんきょう\",\"roman\":\"enkyou\",\"surface\":\"円教\"},{\"surface\":\"。\"},{\"furigana\":\"ほん\",\"roman\":\"hon\",\"surface\":\"本\"},{\"furigana\":\"こく\",\"roman\":\"koku\",\"surface\":\"圀\"},{\"surface\":\"。\"},{\"surface\":\"六\"},{\"furigana\":\"じょう\",\"roman\":\"zyou\",\"surface\":\"条\"},{\"surface\":\"。\"},{\"furigana\":\"ほうなん\",\"roman\":\"hounan\",\"surface\":\"法難\"},{\"surface\":\"。\"},{\"furigana\":\"じゅうれん\",\"roman\":\"zyuuren\",\"surface\":\"重連\"},{\"surface\":\"。\"},{\"furigana\":\"とうこう\",\"roman\":\"toukou\",\"surface\":\"刀工\"},{\"surface\":\"。\"}]}}')\n",
            "('** Goo API:', '{\"converted\": \"エンキョウ。\", \"output_type\": \"katakana\", \"request_id\": \"labs.goo.ne.jp\\\\t1663497431\\\\t0\"}')\n",
            "detect errors: {'円教': ['エンキョウ', 'エンギョウ', 'エンキョウ']}\n",
            "start new batch: 100 start from 鈴木\n",
            "('** Yahoo API:', '{\"id\":\"1663497434.068015\",\"jsonrpc\":\"2.0\",\"result\":{\"word\":[{\"furigana\":\"さだかつ\",\"roman\":\"sadakatu\",\"surface\":\"貞勝\"},{\"surface\":\"。\"},{\"furigana\":\"きょうぼう\",\"roman\":\"kyoubou\",\"surface\":\"教坊\"},{\"surface\":\"。\"},{\"furigana\":\"こんがみ\",\"roman\":\"kongami\",\"surface\":\"紺紙\"},{\"surface\":\"。\"},{\"furigana\":\"きんでい\",\"roman\":\"kindei\",\"surface\":\"金泥\"},{\"surface\":\"。\"},{\"furigana\":\"しだい\",\"roman\":\"sidai\",\"surface\":\"四大\"},{\"surface\":\"。\"},{\"furigana\":\"ごじ\",\"roman\":\"gozi\",\"surface\":\"護持\"},{\"surface\":\"。\"}]}}')\n",
            "('** Goo API:', '{\"converted\": \"コンシ。\", \"output_type\": \"katakana\", \"request_id\": \"labs.goo.ne.jp\\\\t1663497434\\\\t0\"}')\n",
            "detect errors: {'紺紙': ['コンガミ', 'コンシ', 'コンシ']}\n",
            "start new batch: 100 start from 公開\n",
            "('** Yahoo API:', '{\"id\":\"1663497435.777668\",\"jsonrpc\":\"2.0\",\"result\":{\"word\":[{\"furigana\":\"わがまま\",\"roman\":\"wagamama\",\"subword\":[{\"furigana\":\"わ\",\"roman\":\"wa\",\"surface\":\"我\"},{\"furigana\":\"が\",\"roman\":\"ga\",\"surface\":\"が\"},{\"furigana\":\"まま\",\"roman\":\"mama\",\"surface\":\"儘\"}],\"surface\":\"我が儘\"},{\"surface\":\"。\"}]}}')\n",
            "detect errors: {}\n",
            "start new batch: 100 start from 現地\n",
            "('** Yahoo API:', '{\"id\":\"1663497437.485019\",\"jsonrpc\":\"2.0\",\"result\":{\"word\":[{\"furigana\":\"しょうこん\",\"roman\":\"syoukon\",\"surface\":\"性根\"},{\"surface\":\"。\"},{\"furigana\":\"めんくい\",\"roman\":\"menkui\",\"subword\":[{\"furigana\":\"めんく\",\"roman\":\"menku\",\"surface\":\"面食\"},{\"furigana\":\"い\",\"roman\":\"i\",\"surface\":\"い\"}],\"surface\":\"面食い\"},{\"surface\":\"。\"},{\"furigana\":\"ださん\",\"roman\":\"dasan\",\"surface\":\"打算\"},{\"surface\":\"。\"}]}}')\n",
            "detect errors: {}\n",
            "start new batch: 100 start from 人柄\n",
            "('** Yahoo API:', '{\"id\":\"1663497438.663531\",\"jsonrpc\":\"2.0\",\"result\":{\"word\":[{\"furigana\":\"おうせつ\",\"roman\":\"ousetu\",\"surface\":\"応接\"},{\"surface\":\"。\"},{\"furigana\":\"すてねこ\",\"roman\":\"suteneko\",\"subword\":[{\"furigana\":\"す\",\"roman\":\"su\",\"surface\":\"捨\"},{\"furigana\":\"て\",\"roman\":\"te\",\"surface\":\"て\"},{\"furigana\":\"ねこ\",\"roman\":\"neko\",\"surface\":\"猫\"}],\"surface\":\"捨て猫\"},{\"surface\":\"。\"},{\"furigana\":\"すていぬ\",\"roman\":\"suteinu\",\"subword\":[{\"furigana\":\"す\",\"roman\":\"su\",\"surface\":\"捨\"},{\"furigana\":\"て\",\"roman\":\"te\",\"surface\":\"て\"},{\"furigana\":\"いぬ\",\"roman\":\"inu\",\"surface\":\"犬\"}],\"surface\":\"捨て犬\"},{\"surface\":\"。\"},{\"furigana\":\"べんしょう\",\"roman\":\"bensyou\",\"surface\":\"弁償\"},{\"surface\":\"。\"}]}}')\n",
            "detect errors: {}\n",
            "start new batch: 100 start from 遺体\n",
            "('** Yahoo API:', '{\"id\":\"1663497439.912035\",\"jsonrpc\":\"2.0\",\"result\":{\"word\":[{\"furigana\":\"せいかん\",\"roman\":\"seikan\",\"surface\":\"星間\"},{\"surface\":\"。\"},{\"furigana\":\"とくとう\",\"roman\":\"tokutou\",\"surface\":\"特等\"},{\"surface\":\"。\"},{\"furigana\":\"いどころ\",\"roman\":\"idokoro\",\"surface\":\"居処\"},{\"surface\":\"。\"},{\"furigana\":\"わかづくり\",\"roman\":\"wakazukuri\",\"subword\":[{\"furigana\":\"わかづく\",\"roman\":\"wakazuku\",\"surface\":\"若作\"},{\"furigana\":\"り\",\"roman\":\"ri\",\"surface\":\"り\"}],\"surface\":\"若作り\"},{\"surface\":\"。\"},{\"furigana\":\"はんそで\",\"roman\":\"hansode\",\"surface\":\"半袖\"},{\"surface\":\"。\"},{\"furigana\":\"だい\",\"roman\":\"dai\",\"surface\":\"大\"},{\"furigana\":\"さる\",\"roman\":\"saru\",\"surface\":\"猿\"},{\"surface\":\"。\"},{\"furigana\":\"じんずい\",\"roman\":\"zinzui\",\"surface\":\"神水\"},{\"surface\":\"。\"}]}}')\n",
            "('** Goo API:', '{\"converted\": \"ダイサル。\", \"output_type\": \"katakana\", \"request_id\": \"labs.goo.ne.jp\\\\t1663497440\\\\t0\"}')\n",
            "detect errors: {'大猿': ['ダイサル', 'オオザル', 'ダイサル']}\n",
            "start new batch: 100 start from 責任\n",
            "('** Yahoo API:', '{\"id\":\"1663497441.530718\",\"jsonrpc\":\"2.0\",\"result\":{\"word\":[{\"furigana\":\"いちほし\",\"roman\":\"itihosi\",\"surface\":\"一星\"},{\"surface\":\"。\"},{\"furigana\":\"てんせん\",\"roman\":\"tensen\",\"surface\":\"点線\"},{\"surface\":\"。\"},{\"furigana\":\"びなん\",\"roman\":\"binan\",\"surface\":\"美男\"},{\"surface\":\"。\"},{\"furigana\":\"わがまま\",\"roman\":\"wagamama\",\"surface\":\"我侭\"},{\"surface\":\"。\"}]}}')\n",
            "('** Goo API:', '{\"error\": {\"code\": 400, \"message\": \"Invalid app_id\"}}')\n",
            "goo params error: {'app_id': 'c75169ff017c73abcb38f6c350a2968273336204deef68d6f88f5f58ad4c36f5', 'sentence': '一星。', 'output_type': 'katakana'}\n",
            "detect errors: {'一星': ['イチホシ', 'イチボシ', '']}\n",
            "start new batch: 100 start from 健司\n",
            "('** Yahoo API:', '{\"id\":\"1663497444.086706\",\"jsonrpc\":\"2.0\",\"result\":{\"word\":[{\"furigana\":\"きよおか\",\"roman\":\"kiyooka\",\"surface\":\"清岡\"},{\"surface\":\"。\"},{\"furigana\":\"ひろき\",\"roman\":\"hiroki\",\"surface\":\"広喜\"},{\"surface\":\"。\"},{\"furigana\":\"あきのり\",\"roman\":\"akinori\",\"surface\":\"彰則\"},{\"surface\":\"。\"}]}}')\n",
            "detect errors: {}\n",
            "start new batch: 100 start from 同社\n",
            "detect errors: {}\n",
            "start new batch: 100 start from 上記\n",
            "('** Yahoo API:', '{\"id\":\"1663497446.938416\",\"jsonrpc\":\"2.0\",\"result\":{\"word\":[{\"furigana\":\"えんこうじ\",\"roman\":\"enkouzi\",\"surface\":\"円光寺\"},{\"surface\":\"。\"},{\"furigana\":\"たき\",\"roman\":\"taki\",\"surface\":\"滝\"},{\"furigana\":\"だに\",\"roman\":\"dani\",\"surface\":\"谷\"},{\"surface\":\"。\"},{\"furigana\":\"かなえ\",\"roman\":\"kanae\",\"surface\":\"金栄\"},{\"surface\":\"。\"},{\"furigana\":\"もりもと\",\"roman\":\"morimoto\",\"surface\":\"守本\"},{\"surface\":\"。\"}]}}')\n",
            "('** Goo API:', '{\"converted\": \"タキタニ。 カネサカエ。\", \"output_type\": \"katakana\", \"request_id\": \"labs.goo.ne.jp\\\\t1663497447\\\\t0\"}')\n",
            "detect errors: {'滝谷': ['タキダニ', 'タキヤ', 'タキタニ'], '金栄': ['カナエ', 'キンエイ', 'カネサカエ']}\n",
            "start new batch: 100 start from 本門\n",
            "('** Yahoo API:', '{\"id\":\"1663497449.129705\",\"jsonrpc\":\"2.0\",\"result\":{\"word\":[{\"furigana\":\"よさむ\",\"roman\":\"yosamu\",\"surface\":\"夜寒\"},{\"surface\":\"。\"},{\"furigana\":\"なかだちょう\",\"roman\":\"nakadatyou\",\"surface\":\"中田町\"},{\"surface\":\"。\"},{\"furigana\":\"たま\",\"roman\":\"tama\",\"surface\":\"玉\"},{\"furigana\":\"の\",\"roman\":\"no\",\"surface\":\"の\"},{\"furigana\":\"い\",\"roman\":\"i\",\"surface\":\"井\"},{\"surface\":\"。\"},{\"furigana\":\"くらまち\",\"roman\":\"kuramati\",\"surface\":\"蔵町\"},{\"surface\":\"。\"},{\"furigana\":\"うたまくら\",\"roman\":\"utamakura\",\"surface\":\"歌枕\"},{\"surface\":\"。\"}]}}')\n",
            "('** Goo API:', '{\"converted\": \"チュウデンチョウ。\", \"output_type\": \"katakana\", \"request_id\": \"labs.goo.ne.jp\\\\t1663497449\\\\t0\"}')\n",
            "detect errors: {'中田町': ['ナカダチョウ', 'チュウデンチョウ', 'チュウデンチョウ']}\n",
            "start new batch: 100 start from 体操\n",
            "('** Yahoo API:', '{\"id\":\"1663497455.186414\",\"jsonrpc\":\"2.0\",\"result\":{\"word\":[{\"furigana\":\"ゆりほんじょう\",\"roman\":\"yurihonzyou\",\"surface\":\"由利本荘\"},{\"surface\":\"。\"},{\"furigana\":\"はちまんたい\",\"roman\":\"hatimantai\",\"surface\":\"八幡平\"},{\"surface\":\"。\"},{\"furigana\":\"あきやま\",\"roman\":\"akiyama\",\"surface\":\"明山\"},{\"surface\":\"。\"},{\"furigana\":\"でむら\",\"roman\":\"demura\",\"surface\":\"出村\"},{\"surface\":\"。\"},{\"furigana\":\"つぼた\",\"roman\":\"tubota\",\"surface\":\"坪田\"},{\"surface\":\"。\"},{\"furigana\":\"くり\",\"roman\":\"kuri\",\"surface\":\"庫裡\"},{\"surface\":\"。\"},{\"furigana\":\"しせき\",\"roman\":\"siseki\",\"surface\":\"史蹟\"},{\"surface\":\"。\"},{\"furigana\":\"えんりん\",\"roman\":\"enrin\",\"surface\":\"園林\"},{\"surface\":\"。\"},{\"furigana\":\"えんゆう\",\"roman\":\"enyuu\",\"surface\":\"圓融\"},{\"surface\":\"。\"},{\"furigana\":\"ほうじょうちょう\",\"roman\":\"houzyoutyou\",\"surface\":\"北条町\"},{\"surface\":\"。\"},{\"furigana\":\"はやしでら\",\"roman\":\"hayasidera\",\"surface\":\"林寺\"},{\"surface\":\"。\"},{\"furigana\":\"いずみちょう\",\"roman\":\"izumityou\",\"surface\":\"和泉町\"},{\"surface\":\"。\"},{\"furigana\":\"きみょう\",\"roman\":\"kimyou\",\"surface\":\"帰命\"},{\"surface\":\"。\"}]}}')\n",
            "('** Goo API:', '{\"converted\": \"アキヤマ。 イデムラ。 キタジョウチョウ。 ハヤシジ。\", \"output_type\": \"katakana\", \"request_id\": \"labs.goo.ne.jp\\\\t1663497455\\\\t0\"}')\n",
            "detect errors: {'明山': ['アキヤマ', 'メイサン', 'アキヤマ'], '出村': ['デムラ', 'イデムラ', 'イデムラ'], '北条町': ['ホウジョウチョウ', 'ホウジョウマチ', 'キタジョウチョウ'], '林寺': ['ハヤシデラ', 'ハヤシジ', 'ハヤシジ']}\n",
            "start new batch: 100 start from 脚注\n",
            "('** Yahoo API:', '{\"id\":\"1663497457.818401\",\"jsonrpc\":\"2.0\",\"result\":{\"word\":[{\"furigana\":\"ぞうけつ\",\"roman\":\"zouketu\",\"surface\":\"造血\"},{\"surface\":\"。\"},{\"furigana\":\"かわすな\",\"roman\":\"kawasuna\",\"surface\":\"川砂\"},{\"surface\":\"。\"}]}}')\n",
            "('** Goo API:', '{\"converted\": \"カワスナ。\", \"output_type\": \"katakana\", \"request_id\": \"labs.goo.ne.jp\\\\t1663497458\\\\t0\"}')\n",
            "detect errors: {'川砂': ['カワスナ', 'センサ', 'カワスナ']}\n",
            "start new batch: 100 start from 勇者\n",
            "('** Yahoo API:', '{\"id\":\"1663497459.554006\",\"jsonrpc\":\"2.0\",\"result\":{\"word\":[{\"furigana\":\"そらね\",\"roman\":\"sorane\",\"surface\":\"空音\"},{\"surface\":\"。\"},{\"furigana\":\"あゆみ\",\"roman\":\"ayumi\",\"surface\":\"亜由美\"},{\"surface\":\"。\"},{\"furigana\":\"かりん\",\"roman\":\"karin\",\"surface\":\"華鈴\"},{\"surface\":\"。\"},{\"furigana\":\"しゅうこ\",\"roman\":\"syuuko\",\"surface\":\"柊子\"},{\"surface\":\"。\"},{\"furigana\":\"やまくら\",\"roman\":\"yamakura\",\"surface\":\"山倉\"},{\"surface\":\"。\"},{\"furigana\":\"ぎょうげつ\",\"roman\":\"gyougetu\",\"surface\":\"暁月\"},{\"surface\":\"。\"},{\"furigana\":\"ひょうけつ\",\"roman\":\"hyouketu\",\"surface\":\"氷結\"},{\"surface\":\"。\"},{\"furigana\":\"あらしま\",\"roman\":\"arasima\",\"surface\":\"荒島\"},{\"surface\":\"。\"},{\"furigana\":\"あかり\",\"roman\":\"akari\",\"surface\":\"朱莉\"},{\"surface\":\"。\"},{\"furigana\":\"てんげ\",\"roman\":\"tenge\",\"surface\":\"天華\"},{\"surface\":\"。\"},{\"furigana\":\"くにゆき\",\"roman\":\"kuniyuki\",\"surface\":\"国行\"},{\"surface\":\"。\"},{\"furigana\":\"とうはい\",\"roman\":\"touhai\",\"surface\":\"闘牌\"},{\"surface\":\"。\"},{\"furigana\":\"つるがおか\",\"roman\":\"turugaoka\",\"surface\":\"鶴ヶ岡\"},{\"surface\":\"。\"}]}}')\n",
            "('** Goo API:', '{\"converted\": \"コシバ。 テンハナ。\", \"output_type\": \"katakana\", \"request_id\": \"labs.goo.ne.jp\\\\t1663497460\\\\t0\"}')\n",
            "detect errors: {'小柴': ['オシバ', 'コシバ', 'コシバ'], '天華': ['テンゲ', 'テンカ', 'テンハナ']}\n",
            "start new batch: 100 start from 太極\n",
            "('** Yahoo API:', '{\"id\":\"1663497461.497553\",\"jsonrpc\":\"2.0\",\"result\":{\"word\":[{\"furigana\":\"みたま\",\"roman\":\"mitama\",\"surface\":\"靈\"},{\"furigana\":\"ゆめ\",\"roman\":\"yume\",\"surface\":\"夢\"},{\"surface\":\"。\"},{\"furigana\":\"いちのせ\",\"roman\":\"itinose\",\"surface\":\"一之瀬\"},{\"surface\":\"。\"},{\"furigana\":\"きりはな\",\"roman\":\"kirihana\",\"surface\":\"桐花\"},{\"surface\":\"。\"},{\"furigana\":\"おのさか\",\"roman\":\"onosaka\",\"surface\":\"小野坂\"},{\"surface\":\"。\"},{\"furigana\":\"ともえ\",\"roman\":\"tomoe\",\"surface\":\"友絵\"},{\"surface\":\"。\"},{\"furigana\":\"いちのせ\",\"roman\":\"itinose\",\"subword\":[{\"furigana\":\"いち\",\"roman\":\"iti\",\"surface\":\"市\"},{\"furigana\":\"の\",\"roman\":\"no\",\"surface\":\"ノ\"},{\"furigana\":\"せ\",\"roman\":\"se\",\"surface\":\"瀬\"}],\"surface\":\"市ノ瀬\"},{\"surface\":\"。\"},{\"furigana\":\"まるみ\",\"roman\":\"marumi\",\"surface\":\"丸美\"},{\"surface\":\"。\"}]}}')\n",
            "('** Goo API:', '{\"converted\": \"トウカ。\", \"output_type\": \"katakana\", \"request_id\": \"labs.goo.ne.jp\\\\t1663497462\\\\t0\"}')\n",
            "detect errors: {'桐花': ['キリハナ', 'トウカ', 'トウカ']}\n",
            "start new batch: 100 start from 行政\n",
            "('** Yahoo API:', '{\"id\":\"1663497463.835133\",\"jsonrpc\":\"2.0\",\"result\":{\"word\":[{\"furigana\":\"にそう\",\"roman\":\"nisou\",\"surface\":\"二曹\"},{\"surface\":\"。\"},{\"furigana\":\"ばんらい\",\"roman\":\"banrai\",\"surface\":\"万雷\"},{\"surface\":\"。\"},{\"furigana\":\"しんじろう\",\"roman\":\"sinzirou\",\"surface\":\"真二郎\"},{\"surface\":\"。\"},{\"furigana\":\"おお\",\"roman\":\"oo\",\"surface\":\"大\"},{\"furigana\":\"す\",\"roman\":\"su\",\"surface\":\"須\"},{\"furigana\":\"が\",\"roman\":\"ga\",\"surface\":\"賀\"},{\"surface\":\"。\"},{\"furigana\":\"ただまさ\",\"roman\":\"tadamasa\",\"surface\":\"忠政\"},{\"surface\":\"。\"},{\"furigana\":\"なおじ\",\"roman\":\"naozi\",\"surface\":\"直次\"},{\"surface\":\"。\"},{\"furigana\":\"ぜっけ\",\"roman\":\"zekke\",\"surface\":\"絶家\"},{\"surface\":\"。\"},{\"furigana\":\"つきびと\",\"roman\":\"tukibito\",\"surface\":\"付人\"},{\"surface\":\"。\"}]}}')\n",
            "detect errors: {}\n",
            "start new batch: 100 start from 継承\n",
            "('** Yahoo API:', '{\"id\":\"1663497465.339532\",\"jsonrpc\":\"2.0\",\"result\":{\"word\":[{\"furigana\":\"やく\",\"roman\":\"yaku\",\"surface\":\"役\"},{\"furigana\":\"きん\",\"roman\":\"kin\",\"surface\":\"金\"},{\"surface\":\"。\"},{\"furigana\":\"いえつな\",\"roman\":\"ietuna\",\"surface\":\"家綱\"},{\"surface\":\"。\"},{\"furigana\":\"ろう\",\"roman\":\"rou\",\"surface\":\"老\"},{\"furigana\":\"しょく\",\"roman\":\"syoku\",\"surface\":\"職\"},{\"surface\":\"。\"},{\"furigana\":\"ますいやま\",\"roman\":\"masuiyama\",\"surface\":\"増位山\"},{\"surface\":\"。\"},{\"furigana\":\"ずい\",\"roman\":\"zui\",\"surface\":\"随\"},{\"furigana\":\"がん\",\"roman\":\"gan\",\"surface\":\"願\"},{\"surface\":\"。\"},{\"furigana\":\"じせき\",\"roman\":\"ziseki\",\"surface\":\"事跡\"},{\"surface\":\"。\"},{\"furigana\":\"がほう\",\"roman\":\"gahou\",\"surface\":\"鵞峰\"},{\"surface\":\"。\"},{\"furigana\":\"こうげん\",\"roman\":\"kougen\",\"surface\":\"康元\"},{\"surface\":\"。\"},{\"furigana\":\"とくひめ\",\"roman\":\"tokuhime\",\"surface\":\"徳姫\"},{\"surface\":\"。\"},{\"furigana\":\"ひさまさ\",\"roman\":\"hisamasa\",\"surface\":\"久昌\"},{\"surface\":\"。\"},{\"furigana\":\"こへいた\",\"roman\":\"koheita\",\"surface\":\"小平太\"},{\"surface\":\"。\"},{\"furigana\":\"まるびし\",\"roman\":\"marubisi\",\"surface\":\"丸菱\"},{\"surface\":\"。\"}]}}')\n",
            "('** Goo API:', '{\"converted\": \"ヤクキン。 キュウショウ。\", \"output_type\": \"katakana\", \"request_id\": \"labs.goo.ne.jp\\\\t1663497466\\\\t0\"}')\n",
            "detect errors: {'役金': ['ヤクキン', 'ヤッキン', 'ヤクキン'], '久昌': ['ヒサマサ', 'キュウショウ', 'キュウショウ']}\n",
            "start new batch: 10 start from 相談\n",
            "('** Yahoo API:', '{\"id\":\"1663497467.18929\",\"jsonrpc\":\"2.0\",\"result\":{\"word\":[{\"furigana\":\"いせきち\",\"roman\":\"isekiti\",\"surface\":\"伊勢吉\"},{\"surface\":\"。\"}]}}')\n",
            "detect errors: {}\n",
            "-------------\n",
            "vocab count: 3610\n",
            "error count 43\n",
            "hit percentage 1.19%\n"
          ]
        },
        {
          "output_type": "execute_result",
          "data": {
            "text/plain": [
              "(3610, 43)"
            ]
          },
          "metadata": {},
          "execution_count": 170
        },
        {
          "output_type": "display_data",
          "data": {
            "text/plain": [
              "<Figure size 432x288 with 1 Axes>"
            ],
            "image/png": "[encoded data removed]"
          },
          "metadata": {
            "needs_background": "light"
          }
        }
      ]
    },
    {
      "cell_type": "code",
      "source": [
        "# datasetの上限100, バッチ処理100characterに設定し、ストリーミングを行う\n",
        "test_09_epochs = 5\n",
        "test_09_entry_counts = []\n",
        "test_09_error_counts = []\n",
        "test_09_spend_times = []\n",
        "\n",
        "for epoch in range(test_09_epochs):\n",
        "  print(\"start epoch #\"+str(epoch))\n",
        "  #開始時刻を記録\n",
        "  start_time = datetime.datetime.now().timestamp()\n",
        "\n",
        "  #バッチ処理開始\n",
        "  batch = OptimaizedCompetionBatch(test_09_competition, streaming_iters=getDataSourceFromWikipedia(limit=15, show_received_log=False), batch_character_size=200)\n",
        "  entry_count, error_count = batch.start(plot_entry_rates=False, show_batch_log=False, show_api_log=False) #ストリーミング処理を開始\n",
        "\n",
        "  #結果を追加\n",
        "  test_09_entry_counts.append(entry_count)\n",
        "  test_09_error_counts.append(error_count)\n",
        "  end_time = datetime.datetime.now().timestamp() - start_time\n",
        "  test_09_spend_times.append(end_time)\n",
        "\n",
        "test_09_entry_counts = np.array(test_09_entry_counts)\n",
        "test_09_error_counts = np.array(test_09_error_counts)\n",
        "test_09_spend_times = np.array(test_09_spend_times)\n",
        "\n",
        "print(\"----------\")\n",
        "print(\"epoch:\", test_09_epochs)\n",
        "print(\"avarage entry count (+var): {:.3f} vocabs ({:.3f})\".format(np.average(test_09_entry_counts), np.std(test_09_entry_counts)))\n",
        "print(\"avarage error count (+var): {:.3f} errors ({:.3f})\".format(np.average(test_09_error_counts), np.std(test_09_error_counts)))\n",
        "print(\"avarage error count (+var): {:.3f}%\".format((np.average(test_09_error_counts) + 1e-9) / (np.average(test_09_entry_counts)+ 1e-9 ) * 100.0))\n",
        "print(\"avarage spend time  (+var): {:.3f} sec    ({:.3f})\".format(np.average(test_09_spend_times), np.std(test_09_spend_times)))"
      ],
      "metadata": {
        "colab": {
          "base_uri": "https://localhost:8080/"
        },
        "id": "iCi6tC1Ec8Jd",
        "outputId": "daa72d7e-95d0-468e-dbc0-12a4dcbc2327"
      },
      "execution_count": 117,
      "outputs": [
        {
          "output_type": "stream",
          "name": "stdout",
          "text": [
            "start epoch #0\n",
            "-------------\n",
            "vocab count: 3000\n",
            "error count 39\n",
            "hit percentage 1.30%\n",
            "start epoch #1\n",
            "-------------\n",
            "vocab count: 5081\n",
            "error count 112\n",
            "hit percentage 2.20%\n",
            "start epoch #2\n",
            "-------------\n",
            "vocab count: 5868\n",
            "error count 71\n",
            "hit percentage 1.21%\n",
            "start epoch #3\n",
            "params error: {'id': '1663488586.854218', 'jsonrpc': '2.0', 'method': 'jlp.furiganaservice.furigana', 'params': {'q': '絵葉書。陽三。和室。防音。⻘年。⻑塚。畑町。常世田。⻄⻘。⻄部。射座。市庭。診査。台町。山高。増圧。水洗。土合。'}}\n",
            "'result'\n",
            "params error: {'id': '1663488608.523666', 'jsonrpc': '2.0', 'method': 'jlp.furiganaservice.furigana', 'params': {'q': '絵葉書。陽三。和室。防音。⻘年。⻑塚。畑町。常世田。⻄⻘。⻄部。射座。'}}\n",
            "'result'\n",
            "-------------\n",
            "vocab count: 11686\n",
            "error count 164\n",
            "hit percentage 1.40%\n",
            "start epoch #4\n",
            "params error: {'id': '1663488701.916781', 'jsonrpc': '2.0', 'method': 'jlp.furiganaservice.furigana', 'params': {'q': '脛骨。刀創。顳顬。頂部。指端。陰嚢。俊才。驍将。才幹。無様。人真。鞆之助。剥出し。付合。世人。乾分。世情。淡泊。貴賤。市来。廉潔。豪胆。百折。不撓。仁慈。名利。酒食。食言。親疎。食客。不才。深謀。武断。春山。彌次郎。倉岡。'}}\n",
            "'result'\n",
            "params error: {'id': '1663488702.705655', 'jsonrpc': '2.0', 'method': 'jlp.furiganaservice.furigana', 'params': {'q': '晴朝。東風。大伍。国劇。螢火。桜華。百々之助。波山。三隅。研次。光幸。榎木。孝明。春彦。富三郎。斉加年。綋治。宮口。勝野。哲太。大二郎。市朗。拓朗。瑠輝。遺稿。慧文。紫山。黒龍。常樹。血涙。青潮。香春。建一。'}}\n",
            "'result'\n",
            "params error: {'id': '1663488742.598323', 'jsonrpc': '2.0', 'method': 'jlp.furiganaservice.furigana', 'params': {'q': '絵葉書。陽三。和室。防音。⻘年。⻑塚。畑町。常世田。⻄⻘。'}}\n",
            "'result'\n",
            "params error: {'id': '1663488742.995378', 'jsonrpc': '2.0', 'method': 'jlp.furiganaservice.furigana', 'params': {'q': '⻄部。射座。'}}\n",
            "'result'\n",
            "-------------\n",
            "vocab count: 8733\n",
            "error count 83\n",
            "hit percentage 0.95%\n",
            "----------\n",
            "epoch: 5\n",
            "avarage entry count (+var): 6873.600 vocabs (3028.068)\n",
            "avarage error count (+var): 93.800 errors (42.187)\n",
            "avarage error count (+var): 1.365%\n",
            "avarage spend time  (+var): 76.286 sec    (17.560)\n"
          ]
        }
      ]
    },
    {
      "cell_type": "code",
      "source": [],
      "metadata": {
        "id": "lrqWj7s6gfYp"
      },
      "execution_count": null,
      "outputs": []
    }
  ]
}