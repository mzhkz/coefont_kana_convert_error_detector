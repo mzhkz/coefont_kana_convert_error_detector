{
  "nbformat": 4,
  "nbformat_minor": 0,
  "metadata": {
    "colab": {
      "provenance": [],
      "collapsed_sections": [],
      "toc_visible": true,
      "authorship_tag": "ABX9TyPx2BOcDkQ81kJ8iDeHx/5/"
    },
    "kernelspec": {
      "name": "python3",
      "display_name": "Python 3"
    },
    "language_info": {
      "name": "python"
    }
  },
  "cells": [
    {
      "cell_type": "markdown",
      "source": [
        "# 事前準備\n",
        "## 必要なパッケージ等を読み込み/割り当て"
      ],
      "metadata": {
        "id": "LIP0DVX3SAYz"
      }
    },
    {
      "cell_type": "code",
      "source": [
        "! pip install mecab-python3 unidic-lite\n",
        "! pip install plyvel"
      ],
      "metadata": {
        "colab": {
          "base_uri": "https://localhost:8080/"
        },
        "id": "Oig2C9aqrY7B",
        "outputId": "0366f3b5-73dc-4c84-d06c-eb08443f3b74"
      },
      "execution_count": 1,
      "outputs": [
        {
          "output_type": "stream",
          "name": "stdout",
          "text": [
            "Looking in indexes: https://pypi.org/simple, https://us-python.pkg.dev/colab-wheels/public/simple/\n",
            "Collecting mecab-python3\n",
            "  Downloading mecab_python3-1.0.5-cp37-cp37m-manylinux_2_17_x86_64.manylinux2014_x86_64.whl (574 kB)\n",
            "\u001b[K     |████████████████████████████████| 574 kB 5.1 MB/s \n",
            "\u001b[?25hCollecting unidic-lite\n",
            "  Downloading unidic-lite-1.0.8.tar.gz (47.4 MB)\n",
            "\u001b[K     |████████████████████████████████| 47.4 MB 163 kB/s \n",
            "\u001b[?25hBuilding wheels for collected packages: unidic-lite\n",
            "  Building wheel for unidic-lite (setup.py) ... \u001b[?25l\u001b[?25hdone\n",
            "  Created wheel for unidic-lite: filename=unidic_lite-1.0.8-py3-none-any.whl size=47658836 sha256=341bced5998796bfdba956d5012a46b292acd9f5abd0c6e82da9dfa5cc203179\n",
            "  Stored in directory: /root/.cache/pip/wheels/de/69/b1/112140b599f2b13f609d485a99e357ba68df194d2079c5b1a2\n",
            "Successfully built unidic-lite\n",
            "Installing collected packages: unidic-lite, mecab-python3\n",
            "Successfully installed mecab-python3-1.0.5 unidic-lite-1.0.8\n",
            "Looking in indexes: https://pypi.org/simple, https://us-python.pkg.dev/colab-wheels/public/simple/\n",
            "Collecting plyvel\n",
            "  Downloading plyvel-1.4.0-cp37-cp37m-manylinux_2_12_x86_64.manylinux2010_x86_64.whl (693 kB)\n",
            "\u001b[K     |████████████████████████████████| 693 kB 5.2 MB/s \n",
            "\u001b[?25hInstalling collected packages: plyvel\n",
            "Successfully installed plyvel-1.4.0\n"
          ]
        }
      ]
    },
    {
      "cell_type": "code",
      "source": [
        "import numpy as np\n",
        "import requests as reqs\n",
        "import json\n",
        "import regex\n",
        "import plyvel\n",
        "import pickle\n",
        "import MeCab"
      ],
      "metadata": {
        "id": "l_CkY7fnR_5g"
      },
      "execution_count": 2,
      "outputs": []
    },
    {
      "cell_type": "markdown",
      "source": [
        "## 作業ディレクトリ（ファイルの読み込みや保存を行う絶対パス）"
      ],
      "metadata": {
        "id": "CpKIv31V__92"
      }
    },
    {
      "cell_type": "code",
      "source": [
        "APP_WORKDIR = \"/content/drive/MyDrive/coefont_kana_converter_error_detector/\""
      ],
      "metadata": {
        "id": "Qsg_nah3_ipM"
      },
      "execution_count": 3,
      "outputs": []
    },
    {
      "cell_type": "code",
      "source": [
        "from google.colab import drive\n",
        "drive.mount('/content/drive/')"
      ],
      "metadata": {
        "colab": {
          "base_uri": "https://localhost:8080/"
        },
        "id": "omnti7xwR5FQ",
        "outputId": "d19e95ea-3492-452e-b3fd-299b401b26a4"
      },
      "execution_count": 4,
      "outputs": [
        {
          "output_type": "stream",
          "name": "stdout",
          "text": [
            "Mounted at /content/drive/\n"
          ]
        }
      ]
    },
    {
      "cell_type": "markdown",
      "source": [
        "### APIのアクセストークンなど機密情報の管理"
      ],
      "metadata": {
        "id": "eSU3i3VYR5cM"
      }
    },
    {
      "cell_type": "code",
      "source": [
        "secrets = {}\n",
        "with open(APP_WORKDIR + 'secrets.json') as f:\n",
        "  secrets = json.load(f)"
      ],
      "metadata": {
        "id": "cA9ux2ZOR9pE"
      },
      "execution_count": 5,
      "outputs": []
    },
    {
      "cell_type": "markdown",
      "source": [
        "## データベースのセットアップ（品詞の保存）\n",
        "* APIのアクセス量を減らすため、過去に変換を行った単語をデータベースに保存し、キャッシュとして利用する。\n",
        "* 読み書きの早い、Key -> Value型のローカルファイル型データベースである。\n",
        "* Ethereumのノードの内部ではトランザクションの管理とかでも使われている。\n",
        "* https://github.com/google/leveldb\n",
        "* https://plyvel.readthedocs.io/en/latest/"
      ],
      "metadata": {
        "id": "Enp-uLRI-sCO"
      }
    },
    {
      "cell_type": "code",
      "source": [
        "vocab_db = plyvel.DB(APP_WORKDIR + 'vocabs.ldb', create_if_missing=True)\n",
        "lebels_db = plyvel.DB(APP_WORKDIR + 'lebels.ldb', create_if_missing=True)\n",
        "checked_db = plyvel.DB(APP_WORKDIR + 'checked.ldb', create_if_missing=True)\n",
        "\n",
        "dbs = [vocab_db, lebels_db, checked_db]"
      ],
      "metadata": {
        "id": "hG52BVjO-q4A"
      },
      "execution_count": 57,
      "outputs": []
    },
    {
      "cell_type": "markdown",
      "source": [
        "### パスを間違えたりして再読み込みする場合は以下セルを実行してから上のセルを実行する"
      ],
      "metadata": {
        "id": "wEDPI9QY_zsA"
      }
    },
    {
      "cell_type": "code",
      "source": [
        "for db in dbs:\n",
        "  db.close()"
      ],
      "metadata": {
        "id": "z_bvONVi_wGX"
      },
      "execution_count": 56,
      "outputs": []
    },
    {
      "cell_type": "markdown",
      "source": [
        "## 各種依存記号の設定"
      ],
      "metadata": {
        "id": "qEWp89VHTI3n"
      }
    },
    {
      "cell_type": "code",
      "source": [
        "SYMBOL_READING_POINT = \"、\" # 句読点\n",
        "SYMBOL_PUNCTUATION = \"。\" # 読点\n",
        "SYMBOL_HALF_SPACE = \" \" # 半角スペース\n",
        "SYMBOL_LONG_NOTE = \"ー\" # 伸ばし棒\n",
        "SYMBOL_NONE = \"\" # 空文字\n",
        "SYMBOL_TAB = \"\\t\" # TAB\n",
        "SYMBOL_SEMICORON = \";\" # SEMICORON"
      ],
      "metadata": {
        "id": "LAPCsUi5TINt"
      },
      "execution_count": 7,
      "outputs": []
    },
    {
      "cell_type": "markdown",
      "source": [
        "# データソース別のクラス\n",
        "* 単語中抽出に必要な対象（Webページなど）を管理する\n",
        "* 名詞の抽出とMeCabによるよみラベルを管理する。\n",
        "\n",
        "## 要件\n",
        "*   Webサイトからテキストをスクレイピング（Webサイトごとにテンプレートを作成する）\n",
        "*   リンクや特殊記号を排除する\n",
        "*   文章の形態素解析を行い、漢字が含まれている名詞のみを抽出する。\n",
        "\n"
      ],
      "metadata": {
        "id": "VlMjUzYgOt88"
      }
    },
    {
      "cell_type": "markdown",
      "source": [
        "### MecabのWakatiで初期化"
      ],
      "metadata": {
        "id": "hsYGGJU30m8P"
      }
    },
    {
      "cell_type": "code",
      "source": [
        "wakati = MeCab.Tagger()"
      ],
      "metadata": {
        "id": "CSDVVldM0jXR"
      },
      "execution_count": 8,
      "outputs": []
    },
    {
      "cell_type": "markdown",
      "source": [
        "### 漢字判定用の正規表現"
      ],
      "metadata": {
        "id": "VNtVNOTQ0j2j"
      }
    },
    {
      "cell_type": "code",
      "source": [
        "KANJI_REG_PETERN = regex.compile(r'\\p{Script=Han}+')"
      ],
      "metadata": {
        "id": "Ym4Waerl0Dwy"
      },
      "execution_count": 9,
      "outputs": []
    },
    {
      "cell_type": "markdown",
      "source": [
        "## ローダー"
      ],
      "metadata": {
        "id": "uRtAIwNx2E4m"
      }
    },
    {
      "cell_type": "code",
      "execution_count": 10,
      "metadata": {
        "id": "OTxjS4vLOpg_"
      },
      "outputs": [],
      "source": [
        "class DataSource:\n",
        "  def __init__(self):\n",
        "    self.vocabs = []\n",
        "    self.labels = [] \n",
        "\n",
        "  def _fetchData(self): # 文章（テキストデータ）を読み込む、ここは各サービスごとに取得の方法が異なるためオーバーライドする。\n",
        "    pass\n",
        "\n",
        "  def preprosessing(self, subject):\n",
        "    handled = self._replaceSymbol(subject) #ここから文字列\n",
        "    return handled\n",
        "\n",
        "  def _replaceSymbol(self, subject):\n",
        "    sentence = subject.replace(SYMBOL_TAB, SYMBOL_NONE)\n",
        "    return sentence\n",
        "\n",
        "  def load(self):\n",
        "    text = self._fetchData()\n",
        "    text = self.preprosessing(text)\n",
        "    vocabs, labels = self._analysis(text)\n",
        "    self.vocabs = vocabs\n",
        "    self.labels = labels \n",
        "\n",
        "  def _analysis(self, subject):\n",
        "    result = wakati.parse(subject) # 形態素解析分析 tab分けで結果が出てくる\n",
        "    vocabs = [line.split(SYMBOL_TAB) for line in result.splitlines()]\n",
        "    nouns = [vocab_data for vocab_data in vocabs if len(vocab_data) >= 4 and \"名詞\" in vocab_data[4][0:2] and KANJI_REG_PETERN.search(vocab_data[0])] # 漢字を含む名詞のみ抽出\n",
        "    nouns, labels = [noun[0] for noun in nouns],  [noun[2] for noun in nouns] # 品詞とかな変換を分割\n",
        "    unique_nouns = []\n",
        "    unique_labels = []\n",
        "    for noun, label in zip(nouns, labels):\n",
        "      if noun not in unique_nouns:\n",
        "        unique_nouns.append(noun)\n",
        "        unique_labels.append(label)\n",
        "    return unique_nouns, unique_labels # 名詞とMeCabによるかな変換を取得\n",
        "\n",
        "  def save(self, new_count=False):\n",
        "    reg_vocab_count = 0\n",
        "    for vocab, label in zip(self.vocabs, self.labels):\n",
        "      binary_key = vocab.encode(\"utf-8\") # key for level db\n",
        "      binary_lebel = label.encode(\"utf-8\") # key for level db\n",
        "      if new_count and vocab_db.get(binary_key) is None:\n",
        "        reg_vocab_count +=1\n",
        "      vocab_db.put(binary_key, binary_lebel)\n",
        "    return reg_vocab_count"
      ]
    },
    {
      "cell_type": "markdown",
      "source": [
        "## 各種サービスなど、オケージョンごとのローダー\n",
        "\n",
        "ローダーの対象\n",
        "*   note.com （記事サービス）\n",
        "*   wikipedia.org (辞書)\n",
        "*   ローカルファイル\n",
        "*   変数\n",
        "\n"
      ],
      "metadata": {
        "id": "6HYBpVtp2GpO"
      }
    },
    {
      "cell_type": "markdown",
      "source": [
        "### 変数からテキストを読み込む"
      ],
      "metadata": {
        "id": "HeSgc6ik0_72"
      }
    },
    {
      "cell_type": "code",
      "source": [
        "class ArrayDataSource(DataSource):\n",
        "  def __init__(self, vocabs, labels):\n",
        "    super().__init__()\n",
        "    self.vocabs = vocabs\n",
        "    self.labels = labels \n",
        "\n",
        "  def load(self):\n",
        "    pass\n",
        "\n",
        "  def _analysis(self, subject):\n",
        "    pass\n",
        "\n",
        "  def _fetchData(self):\n",
        "    return \"\".self.vocabs"
      ],
      "metadata": {
        "id": "kZur9LBQxBnt"
      },
      "execution_count": 11,
      "outputs": []
    },
    {
      "cell_type": "markdown",
      "source": [
        "### ローカルのテキストファイルからテキストを読み込む（バイナリファイル未対応）"
      ],
      "metadata": {
        "id": "YDovBKdZ1yhk"
      }
    },
    {
      "cell_type": "code",
      "source": [
        "class LocalDataSource(DataSource):\n",
        "  def __init__(self, file_path):\n",
        "    super().__init__()\n",
        "    self.file_path = file_path\n",
        "\n",
        "  def _fetchData(self):\n",
        "    with open(self.file_path) as f:\n",
        "      lines = f.readlines()\n",
        "      self.source = \"\".join(lines)\n",
        "    return self.source"
      ],
      "metadata": {
        "id": "dCKdod141LF1"
      },
      "execution_count": 12,
      "outputs": []
    },
    {
      "cell_type": "markdown",
      "source": [
        "### Note API v2\n",
        "note.comから記事を取得する"
      ],
      "metadata": {
        "id": "niCqReDO1uOs"
      }
    },
    {
      "cell_type": "code",
      "source": [
        "class NoteDataSource(DataSource):\n",
        "  def __init__(self, note_article_key):\n",
        "    super().__init__()\n",
        "    self.note_article_key = note_article_key\n",
        "\n",
        "  def _fetchData(self):\n",
        "    url = \"https://note.com/api/v1/notes/{}\".format(self.note_article_key)\n",
        "    response = reqs.get(url=url)\n",
        "    text = response.text\n",
        "    response_json = json.loads(text)\n",
        "    return response_json[\"data\"][\"body\"]"
      ],
      "metadata": {
        "id": "NBfLg5yC02Pv"
      },
      "execution_count": 13,
      "outputs": []
    },
    {
      "cell_type": "markdown",
      "source": [
        "### Wikipedia\n",
        "\n",
        "https://ja.wikipedia.org/w/api.php?format=json&action=query&prop=extracts&exintro&explaintext&redirects=1&titles=%E6%85%B6%E6%87%89%E7%BE%A9%E5%A1%BE%E5%A4%A7%E5%AD%A6"
      ],
      "metadata": {
        "id": "bz-PMmHI2apr"
      }
    },
    {
      "cell_type": "code",
      "source": [
        "class WikipediaDataSource(DataSource):\n",
        "  def __init__(self, title):\n",
        "    super().__init__()\n",
        "    self.title = title\n",
        "\n",
        "  def _fetchData(self):\n",
        "    url = \"https://ja.wikipedia.org/w/api.php?format=json&action=query&prop=extracts&exintro&explaintext&redirects=1\"\n",
        "    params = {\n",
        "        \"titles\": self.title,\n",
        "    }\n",
        "    response = reqs.get(url=url, params=params)\n",
        "    text = response.text\n",
        "    response_json = json.loads(text)\n",
        "    return list(response_json[\"query\"][\"pages\"].values())[0].get(\"extract\", \"\")"
      ],
      "metadata": {
        "id": "UR8adA3m08z4"
      },
      "execution_count": 44,
      "outputs": []
    },
    {
      "cell_type": "markdown",
      "source": [
        "### 一時開発用データセット"
      ],
      "metadata": {
        "id": "RpJhw7bl62Zb"
      }
    },
    {
      "cell_type": "code",
      "source": [
        "class TempDataSource(DataSource):\n",
        "  def __init__(self):\n",
        "    super().__init__()\n",
        "\n",
        "  # loadを上書き\n",
        "  def load(self):\n",
        "    note_articles_id = [\n",
        "      \"n4ece27ed112b\",\n",
        "      \"n0433243163f5\",\n",
        "      \"n2861fae03861\",\n",
        "      \"n6965c22952ac\",\n",
        "      \"ndf3aed673e7f\",\n",
        "      \"n766dc842145d\",\n",
        "      \"ndace078a3cb1\"\n",
        "    ]\n",
        "    data_sources = [NoteDataSource(id) for id in note_articles_id]\n",
        "    nouns = []\n",
        "    labels = []\n",
        "    for data_source in data_sources:\n",
        "      data_source.load()\n",
        "      nouns = nouns + data_source.vocabs\n",
        "      labels = labels + data_source.labels\n",
        "    # self.vocabs = nouns[:83]\n",
        "    # self.labels = labels[:83]\n",
        "    self.vocabs = nouns\n",
        "    self.labels = labels"
      ],
      "metadata": {
        "id": "5ZJ54oqW64Tv"
      },
      "execution_count": 33,
      "outputs": []
    },
    {
      "cell_type": "markdown",
      "source": [
        "## 各種ローダーのテスト"
      ],
      "metadata": {
        "id": "dYRPRiTr18CJ"
      }
    },
    {
      "cell_type": "code",
      "source": [
        "test01_note_datasource = NoteDataSource(note_article_key=\"n4ece27ed112b\")\n",
        "test01_note_datasource.load()\n",
        "\n",
        "print(test01_note_datasource.vocabs)\n",
        "print(test01_note_datasource.labels)\n",
        "\n",
        "test01_note_datasource.save(new_count=True)"
      ],
      "metadata": {
        "colab": {
          "base_uri": "https://localhost:8080/"
        },
        "id": "KbxdLpJqyQ8I",
        "outputId": "418753b9-4182-4e56-c4e5-5058945c62e8"
      },
      "execution_count": 16,
      "outputs": [
        {
          "output_type": "stream",
          "name": "stdout",
          "text": [
            "['大学', '入学', '時代', '人間', '選択', '幸せ', '伝播', '自分', '不安', '勉強', '自負', '技術', '修得', '人', '一', '倍', '熱量', '努力', '実際', '学生', '身分', '個人', '開発', '仕事', '社会', '感覚', '自身', '生活', '半ば', '先生', '方', '言葉', '魂', '所属', '研究', '会', '友人', '価値', '方向', '言語', '学び', '本質', '事実', '記事', '今後', '記録', '執筆', '迷走', '逆', '体得', '宝物', '月', '終わり', '勢い', '文中', '箇所', '筆者', '教え', '理解', '問題', '発見', '解決', '最近', '以外', '中等', '教育', '学校', '反面', '事例', '背景', '論点', '整理', '視点', '在学', '骨', '髄', '変容', '意見', '参考', '本当', '少数', '解釈', '考え', '注意', '公式', '見解', '一切', '独断', '偏見', '構成', '主張', '念頭', '進学', '意図', '特徴', '理系', '文系', '区別', '自由', '分野', '横断', '内外', '耳', '着眼', '点', '縦割り', '意識', '必要', '対応', '世界', '帰着', '複雑', '議論', '担保', '題材', '享受', '世の中', '発展', '環境', '注目', '例', '導入', '暮らし', '以前', '単位', '失敗', '典型', '話題', '目的', '不在', '情報', '恩恵', '問い', '探索', '方法', '論', '先行', '取り組み', '事', '欲望', '合理', '道筋', '分断', '限り', '人々', '単体', '寄与', '根幹', '後者', '先導', '人材', '育成', '力', '最終', '身', '年間', '結果', '創出', '伝達', '付加', '創造', '連鎖', '今', '命題', '量産', '輸出', '変化', '通り', '知識', '問いかけ', '性質', '着目', '高校', '思考', '段', '指導', '要領', '受験', '上', '補完', '大体', '偏差', '目標', '塾', '多く', '見直し', '先ほど', '未来', '現在', '逆算', '実現', '部分', '気づき', '時間', '頭', '番', '学部', '魅力', '他', '評価', '軸', '自ら', '場所', '全知', '全能', '認識', '自走', '維持', '原点', '生産', '活動', '土台', '要約', '具材', '存在', '深み', '説得', '要求', '学問', '幅', '用意', '構造', '体', '能力', '主眼', '基本', '主', '必然', '現象', '自体', '最初', '脱却', '用語', '集中', '経営', '達成', '勢力', '事業', '拡大', '話', '説明', '本格', '前', '合格', '後', '形', '経験', '皆', '裏', '相対', '革新', '意義', '巷', '機会', '二', '条件', '分類', '頭出し', '趣旨', '専攻', '期待', '空間', '浸透', '現状', '素養', '場面', '強み', '理由', '確立', '余白', '子孫', '重点', '目', '共有']\n",
            "['ダイガク', 'ニュウガク', 'ジダイ', 'ニンゲン', 'センタク', 'シアワセ', 'デンパ', 'ジブン', 'フアン', 'ベンキョウ', 'ジフ', 'ギジュツ', 'シュウトク', 'ヒト', 'イチ', 'バイ', 'ネツリョウ', 'ドリョク', 'ジッサイ', 'ガクセイ', 'ミブン', 'コジン', 'カイハツ', 'シゴト', 'シャカイ', 'カンカク', 'ジシン', 'セイカツ', 'ナカバ', 'センセイ', 'ホウ', 'コトバ', 'タマシイ', 'ショゾク', 'ケンキュウ', 'カイ', 'ユウジン', 'カチ', 'ホウコウ', 'ゲンゴ', 'マナビ', 'ホンシツ', 'ジジツ', 'キジ', 'コンゴ', 'キロク', 'シッピツ', 'メイソウ', 'ギャク', 'タイトク', 'タカラモノ', 'ガツ', 'オワリ', 'イキオイ', 'ブンチュウ', 'カショ', 'ヒッシャ', 'オシエ', 'リカイ', 'モンダイ', 'ハッケン', 'カイケツ', 'サイキン', 'イガイ', 'チュウトウ', 'キョウイク', 'ガッコウ', 'ハンメン', 'ジレイ', 'ハイケイ', 'ロンテン', 'セイリ', 'シテン', 'ザイガク', 'ホネ', 'ズイ', 'ヘンヨウ', 'イケン', 'サンコウ', 'ホントウ', 'ショウスウ', 'カイシャク', 'カンガエ', 'チュウイ', 'コウシキ', 'ケンカイ', 'イッサイ', 'ドクダン', 'ヘンケン', 'コウセイ', 'シュチョウ', 'ネントウ', 'シンガク', 'イト', 'トクチョウ', 'リケイ', 'ブンケイ', 'クベツ', 'ジユウ', 'ブンヤ', 'オウダン', 'ナイガイ', 'ミミ', 'チャクガン', 'テン', 'タテワリ', 'イシキ', 'ヒツヨウ', 'タイオウ', 'セカイ', 'キチャク', 'フクザツ', 'ギロン', 'タンポ', 'ダイザイ', 'キョウジュ', 'ヨノナカ', 'ハッテン', 'カンキョウ', 'チュウモク', 'レイ', 'ドウニュウ', 'クラシ', 'イゼン', 'タンイ', 'シッパイ', 'テンケイ', 'ワダイ', 'モクテキ', 'フザイ', 'ジョウホウ', 'オンケイ', 'トイ', 'タンサク', 'ホウホウ', 'ロン', 'センコウ', 'トリクミ', 'コト', 'ヨクボウ', 'ゴウリ', 'ミチスジ', 'ブンダン', 'カギリ', 'ヒトビト', 'タンタイ', 'キヨ', 'コンカン', 'コウシャ', 'センドウ', 'ジンザイ', 'イクセイ', 'チカラ', 'サイシュウ', 'ミ', 'ネンカン', 'ケッカ', 'ソウシュツ', 'デンタツ', 'フカ', 'ソウゾウ', 'レンサ', 'イマ', 'メイダイ', 'リョウサン', 'ユシュツ', 'ヘンカ', 'トオリ', 'チシキ', 'トイカケ', 'セイシツ', 'チャクモク', 'コウコウ', 'シコウ', 'ダン', 'シドウ', 'ヨウリョウ', 'ジュケン', 'ウエ', 'ホカン', 'ダイタイ', 'ヘンサ', 'モクヒョウ', 'ジュク', 'オオク', 'ミナオシ', 'サキホド', 'ミライ', 'ゲンザイ', 'ギャクサン', 'ジツゲン', 'ブブン', 'キヅキ', 'ジカン', 'アタマ', 'バン', 'ガクブ', 'ミリョク', 'タ', 'ヒョウカ', 'ジク', 'ミズカラ', 'バショ', 'ゼンチ', 'ゼンノウ', 'ニンシキ', 'ジソウ', 'イジ', 'ゲンテン', 'セイサン', 'カツドウ', 'ドダイ', 'ヨウヤク', 'グザイ', 'ソンザイ', 'フカミ', 'セットク', 'ヨウキュウ', 'ガクモン', 'ハバ', 'ヨウイ', 'コウゾウ', 'タイ', 'ノウリョク', 'シュガン', 'キホン', 'シュ', 'ヒツゼン', 'ゲンショウ', 'ジタイ', 'サイショ', 'ダッキャク', 'ヨウゴ', 'シュウチュウ', 'ケイエイ', 'タッセイ', 'セイリョク', 'ジギョウ', 'カクダイ', 'ハナシ', 'セツメイ', 'ホンカク', 'マエ', 'ゴウカク', 'アト', 'カタチ', 'ケイケン', 'ミナ', 'ウラ', 'ソウタイ', 'カクシン', 'イギ', 'チマタ', 'キカイ', 'ニ', 'ジョウケン', 'ブンルイ', 'アタマダシ', 'シュシ', 'センコウ', 'キタイ', 'クウカン', 'シントウ', 'ゲンジョウ', 'ソヨウ', 'バメン', 'ツヨミ', 'リユウ', 'カクリツ', 'ヨハク', 'シソン', 'ジュウテン', 'メ', 'キョウユウ']\n"
          ]
        },
        {
          "output_type": "execute_result",
          "data": {
            "text/plain": [
              "0"
            ]
          },
          "metadata": {},
          "execution_count": 16
        }
      ]
    },
    {
      "cell_type": "code",
      "source": [
        "test01_wiki_datasource = WikipediaDataSource(title=\"慶應義塾大学\")\n",
        "test01_wiki_datasource.load()\n",
        "\n",
        "print(test01_wiki_datasource.vocabs)\n",
        "print(test01_wiki_datasource.labels)\n",
        "\n",
        "test01_wiki_datasource.save(new_count=True)"
      ],
      "metadata": {
        "colab": {
          "base_uri": "https://localhost:8080/"
        },
        "id": "TiTVUKj-4PGY",
        "outputId": "52657faa-0788-4f94-d2aa-f52d3c2ee191"
      },
      "execution_count": 17,
      "outputs": [
        {
          "output_type": "stream",
          "name": "stdout",
          "text": [
            "['慶應', '義塾', '大学', '英語', '東京', '都', '港', '区', '三田', '丁目', '番', '号', '本部', '日本', '私立', '年', '創立', '設置', '略称', '慶大', '應', '旧', '字体', '報道', '慶応', '表記']\n",
            "['ケイオウ', 'ギジュク', 'ダイガク', 'エイゴ', 'トウキョウ', 'ト', 'ミナト', 'ク', 'ミタ', 'チョウメ', 'バン', 'ゴウ', 'ホンブ', 'ニッポン', 'シリツ', 'ネン', 'ソウリツ', 'セッチ', 'リャクショウ', 'ケイダイ', '應', 'キュウ', 'ジタイ', 'ホウドウ', 'ケイオウ', 'ヒョウキ']\n"
          ]
        },
        {
          "output_type": "execute_result",
          "data": {
            "text/plain": [
              "0"
            ]
          },
          "metadata": {},
          "execution_count": 17
        }
      ]
    },
    {
      "cell_type": "markdown",
      "source": [
        "# コンバーターのクラス\n",
        "\n",
        "* 漢字をかな変換するコンバータ\n",
        "* クラスとして機能を丸めることで複数のコンバーターの差異を吸収する。コンバーターを適用する順序を入れ替えるなど"
      ],
      "metadata": {
        "id": "fXVrUefMPnF4"
      }
    },
    {
      "cell_type": "code",
      "source": [
        "class BaseConverter:\n",
        "  def __init__(self, conveter_name):\n",
        "    self.converter_name = conveter_name\n",
        "    self.split_code = SYMBOL_SEMICORON\n",
        "\n",
        "  def preprosessing(self, subject):\n",
        "    return subject\n",
        "\n",
        "  def convert(self, vocabs):\n",
        "    sentence = SYMBOL_PUNCTUATION.join(vocabs) + SYMBOL_PUNCTUATION # 各単語をsplit tokenを付けて文字列化\n",
        "    result = self._execute_api(sentence)\n",
        "    # result = result.replace(SYMBOL_PUNCTUATION, SYMBOL_NONE)\n",
        "    converted_vocabs = [self.preprosessing(vocab) for vocab in result.split(SYMBOL_PUNCTUATION)] #文字列をsplit tokenを用いて単語ごとにリスト化\n",
        "    return converted_vocabs\n",
        "\n",
        "  def get_indexkey(self, noun):\n",
        "    return \"{}_{}\".format(self.converter_name, noun).encode(\"utf-8\")"
      ],
      "metadata": {
        "id": "8NiZ62R3RxUz"
      },
      "execution_count": 26,
      "outputs": []
    },
    {
      "cell_type": "markdown",
      "source": [
        "## CoeFont API (target)\n",
        "* CoefontのAPIのアクセス方法とアクセスキーが変わり次第、実装する"
      ],
      "metadata": {
        "id": "8LoJLI8UOGZ4"
      }
    },
    {
      "cell_type": "code",
      "source": [
        "SYMBOL_TRIGGER_1 = [\n",
        "        [\"オ\", \"コ\", \"ソ\", \"ト\", \"ノ\", \"ホ\", \"モ\", \"ヨ\", \"ロ\", \"ヲ\"], # o\n",
        "        [\"エ\", \"ケ\", \"セ\", \"ネ\", \"ヘ\", \"メ\", \"レ\"], # e removed テ\n",
        "        [\"ア\", \"カ\", \"サ\", \"タ\", \"ナ\", \"ハ\", \"マ\", \"ラ\", \"ヤ\", \"ラ\", \"ワ\"], # a\n",
        "        [\"ュ\", \"ョ\"],\n",
        "        [\"ゴ\", \"ゾ\", \"ド\", \"ボ\", \"ポ\", \"ゴ\", \"ゾ\", \"ド\", \"ボ\"],\n",
        "        [\"ギ\", \"ジ\", \"ヂ\", \"ビ\", \"ピ\", \"ギ\", \"ジ\", \"ジ\", \"ビ\",\"ピ\"],\n",
        "        [\"イ\", \"キ\", \"シ\", \"千\", \"二\", \"ヒ\", \"ミ\", \"リ\"], # i \n",
        "        [\"ウ\", \"ク\", \"ス\", \"ツ\", \"ヌ\", \"フ\", \"ム\", \"ユ\", \"ル\"] # u\n",
        "        ]\n",
        "\n",
        "SYMBOL_TRIGGER_2 = [\n",
        "        [\"ウ\"],\n",
        "        [\"イ\"],\n",
        "        [\"ア\"],\n",
        "        [\"ウ\"],\n",
        "        [\"ウ\"],\n",
        "        [\"イ\"],\n",
        "        [\"イ\"],\n",
        "        [\"ウ\"]\n",
        "        ]\n",
        "\n",
        "class CoeFontConverter(BaseConverter):\n",
        "  def __init__(self):\n",
        "    super().__init__(\"coefont\")\n",
        "\n",
        "  def _execute_api(self, sentence):\n",
        "    # coefontの実装\n",
        "    url = secrets[\"coefont_api_endpoint\"]\n",
        "    params = {\n",
        "        \"text\": sentence,\n",
        "    }\n",
        "\n",
        "    r = reqs.post(url=url, data=params)\n",
        "    response_text = r.text\n",
        "    print(response_text)\n",
        "    response_json = json.loads(response_text)\n",
        "    return response_json[\"yomi\"]\n",
        "\n",
        "  def preprosessing(self, subject):\n",
        "    list_kat_subject = list(subject)\n",
        "    kat_subject_size = len(list_kat_subject)-1\n",
        "    idkc = 0\n",
        "    while  idkc < kat_subject_size:\n",
        "      kat_char_pointer = list_kat_subject[idkc]\n",
        "      kat_char_next = list_kat_subject[idkc+1]\n",
        "      if kat_char_next == SYMBOL_LONG_NOTE:\n",
        "         for ids, symbols in enumerate(SYMBOL_TRIGGER_1):\n",
        "           if kat_char_pointer in symbols:\n",
        "               list_kat_subject[idkc+1] = SYMBOL_TRIGGER_2[ids][0]\n",
        "               idkc+=1\n",
        "      idkc+=1\n",
        "    return \"\".join(list_kat_subject)"
      ],
      "metadata": {
        "id": "nHuLN8qLQOfu"
      },
      "execution_count": 27,
      "outputs": []
    },
    {
      "cell_type": "markdown",
      "source": [
        "## 一時的開発用コンバータ\n",
        "\n",
        "*   CoeFontの出力を想定して、特定の単語を入力した静的な結果を返却する\n",
        "\n"
      ],
      "metadata": {
        "id": "7QlXXq2k8bRs"
      }
    },
    {
      "cell_type": "code",
      "source": [
        "class TempCoeFontConverter(CoeFontConverter):\n",
        "  def __init__(self):\n",
        "    super().__init__()\n",
        "\n",
        "  def _execute_api(self, sentence):\n",
        "    # coefontの実装\n",
        "    # 一時的な実装 決まった文章を返す\n",
        "    source = None\n",
        "    with open(APP_WORKDIR + \"response_commma.json\") as f:\n",
        "      source = json.load(f)\n",
        "    return source[\"yomi\"]"
      ],
      "metadata": {
        "id": "y5NXAUpe8Qwn"
      },
      "execution_count": 28,
      "outputs": []
    },
    {
      "cell_type": "markdown",
      "source": [
        "## Goo API\n",
        "* かな変換APIを使用する。\n",
        "* ドキュメントはこちら\n",
        "  * https://labs.goo.ne.jp/api/jp/hiragana-translation/"
      ],
      "metadata": {
        "id": "Hnp4QEbQOLne"
      }
    },
    {
      "cell_type": "code",
      "source": [
        "class GooConverter(BaseConverter):\n",
        "  def __init__(self, app_id):\n",
        "    super().__init__(\"goo\")\n",
        "    self.app_id = app_id\n",
        "\n",
        "  def _execute_api(self, sentence):\n",
        "    url = \"https://labs.goo.ne.jp/api/hiragana\"\n",
        "    params = {\n",
        "        \"app_id\": self.app_id,\n",
        "        \"sentence\": sentence,\n",
        "        \"output_type\": \"katakana\"\n",
        "    }\n",
        "\n",
        "    headers = {'Content-Type': 'application/json'}\n",
        "\n",
        "    r = reqs.post(url=url, data=params)\n",
        "    response_text = r.text\n",
        "    print(\"** Goo API:\", response_text)\n",
        "    response_json = json.loads(response_text)\n",
        "    return response_json.get(\"converted\", \"\")\n",
        "\n",
        "  def preprosessing(self, subject):\n",
        "     return subject.replace(SYMBOL_HALF_SPACE, SYMBOL_NONE)"
      ],
      "metadata": {
        "id": "VhNvRmfDvruk"
      },
      "execution_count": 78,
      "outputs": []
    },
    {
      "cell_type": "markdown",
      "source": [
        "## Yahoo API\n",
        "* かな変換APIを使用する。\n",
        "* ドキュメントはこちら\n",
        "  * https://developer.yahoo.co.jp/webapi/jlp/furigana/v2/furigana.html\n",
        "  * https://developer.yahoo.co.jp/webapi/jlp/sample/sample10.html"
      ],
      "metadata": {
        "id": "nBQpqPWhHcWu"
      }
    },
    {
      "cell_type": "code",
      "source": [
        "class YahooConverter(BaseConverter):\n",
        "  def __init__(self, app_id):\n",
        "    super().__init__(\"yahoo\")\n",
        "    self.app_id = app_id\n",
        "\n",
        "  def _execute_api(self, sentence):\n",
        "    url = \"https://jlp.yahooapis.jp/FuriganaService/V2/furigana\"\n",
        "    params = {\n",
        "      \"id\": \"abc\",\n",
        "      \"jsonrpc\": \"2.0\",\n",
        "      \"method\": \"jlp.furiganaservice.furigana\",\n",
        "      \"params\": {\n",
        "        \"q\": sentence,\n",
        "      }\n",
        "    }\n",
        "    headers = {\n",
        "        \"Content-Type\": \"application/json\",\n",
        "        \"User-Agent\": \"Yahoo AppID: {}\".format(self.app_id),\n",
        "    }\n",
        "\n",
        "    params = json.dumps(params).encode()\n",
        "    r = reqs.post(url=url, data=params, headers=headers)\n",
        "    response_text = r.text\n",
        "    print(\"** Yahoo API:\", response_text)\n",
        "    response_json = json.loads(response_text)\n",
        "    kana_list = [word.get(\"furigana\", word.get(\"surface\", \"ERR\")) for word in response_json[\"result\"][\"word\"]]\n",
        "    return SYMBOL_NONE.join(kana_list)\n",
        "\n",
        "  def _hiragana_to_katakana(self, target):\n",
        "    return ''.join([chr(n+96) if (12352 < n and n < 12439) or n==12445 or n==12446 else chr(n) for n in [ord(c) for c in target]])\n",
        "\n",
        "  def preprosessing(self, subject):\n",
        "    subject = self._hiragana_to_katakana(subject)\n",
        "    subject = subject.replace(SYMBOL_HALF_SPACE, SYMBOL_NONE)\n",
        "    return subject"
      ],
      "metadata": {
        "id": "5iKa08M4Hi9h"
      },
      "execution_count": 79,
      "outputs": []
    },
    {
      "cell_type": "markdown",
      "source": [
        "# データソース毎に読みの検証を行う\n",
        "* コンバータを用いてCoeFontの単語出力と比較を行う。\n",
        "* 比較の結果、不一致だった場合は他のコンバーターにおいても比較を行い、正解ラベルを付与できるよう分布を収束させる。"
      ],
      "metadata": {
        "id": "8n6ZLt9ZPd09"
      }
    },
    {
      "cell_type": "code",
      "source": [
        "class ConverterCompetition:\n",
        "  def __init__(self, converters):\n",
        "    self.converters = converters\n",
        "\n",
        "  # 指定されたデータソースをもとに、指定されたコンバータでかな変換を行う。\n",
        "  # 名詞と、かな変換の結果をタプル型で返却する。\n",
        "  def _convert_all_on(self, data_source, converter_id, reset_cache=False):\n",
        "    vocabs = data_source.vocabs\n",
        "    converter = self.converters[converter_id] # 指定されたコンバータを取得\n",
        "    db_keys = [converter.get_indexkey(vocab) for vocab in vocabs] # 名詞をデータベースに対応するIDに変換\n",
        "\n",
        "    caches = []\n",
        "    if reset_cache:\n",
        "      caches = [None for db_key in db_keys] # キャッシュ削除\n",
        "    else:\n",
        "      caches = [lebels_db.get(db_key) for db_key in db_keys] # データベースに問い合わせる。キャッシュがなかったらNoneが設定される\n",
        "\n",
        "    entred_vocab = [vocab for idv, vocab in enumerate(vocabs) if caches[idv] is None] # キャッシュが存在せず、新しくAPIから取得する名詞一覧\n",
        "    new_yomi_labels = [] # 変換された読みを保存するためのリスト\n",
        "\n",
        "    if (len(entred_vocab) > 0): # 新しくAPIからかな変換を取得する必要があるか確かめる\n",
        "      new_yomi_labels = converter.convert(entred_vocab)\n",
        "\n",
        "    for vocab, label in zip(entred_vocab, new_yomi_labels):\n",
        "      lebels_db.put(converter.get_indexkey(vocab), label.encode(\"utf-8\")) # APIから取得したよみをデータベースに保存（キャッシュとなり、以降これが使われる）\n",
        "\n",
        "    yomi_labels = []\n",
        "    iter_new_yomi_labels = iter(new_yomi_labels)\n",
        "    for idc, cache in enumerate(caches):\n",
        "      if cache:\n",
        "        yomi_labels.append(cache.decode(\"utf-8\")) # キャッシュ（db）にある場合はキャッシュから取得\n",
        "      else:\n",
        "        yomi_labels.append(next(iter_new_yomi_labels)) # ない場合は、先ほど変換した結果から取得\n",
        "    \n",
        "    return vocabs, yomi_labels\n",
        "\n",
        "  # 指定されたデータソースをもとに、指定されたコンバータ間で結果を比較する\n",
        "  # 不一致の単語とその結果をタプル型で返却する\n",
        "  def compete_to(self, data_source, subject_converter_id, target_converter_id, reset_cache=False):\n",
        "    vocabs, yomi_labels_0 = self._convert_all_on(data_source, subject_converter_id, reset_cache)\n",
        "    _, yomi_labels_1 = self._convert_all_on(data_source, target_converter_id, reset_cache)\n",
        "\n",
        "    errors = []\n",
        "    for idn, noun in enumerate(vocabs):\n",
        "      yomi_label_0 = yomi_labels_0[idn]\n",
        "      yomi_label_1 = yomi_labels_1[idn]\n",
        "      if yomi_label_0 != yomi_label_1: # 読みラベルを比較して、一致しなかった場合errorsに追加\n",
        "         errors.append([noun, yomi_label_0, yomi_label_1])\n",
        "\n",
        "    return errors\n",
        "\n",
        "  # 指定されたデータソースをもとに、Mecabと指定されたコンバータとの結果を比較する\n",
        "  # 不一致の単語とその結果をタプル型で返却する\n",
        "  def compete_to_mecab(self, data_source, converter_id=0, reset_cache=False):\n",
        "    vocabs, yomi_labels = self._convert_all_on(data_source, converter_id, reset_cache)\n",
        "\n",
        "    errors = []\n",
        "    for idn, noun in enumerate(vocabs):\n",
        "      yomi_label = yomi_labels[idn]\n",
        "      mecab_label = data_source.labels[idn]\n",
        "      if yomi_label != mecab_label: # 読みラベルを比較して、一致しなかった場合errorsに追加\n",
        "         errors.append([noun, mecab_label + \":mecab\", yomi_label+\":c_{}\".format(converter_id)]) # 単語, 比較対象の出力, mecabの出力\n",
        "\n",
        "    return errors\n",
        "\n",
        "  # 指定されたデータソースををもとに、すべてのコンバータの結果を表示する、\n",
        "  # ただし、対象はMeCabとCoeFontの比較で不一致の名詞のみ\n",
        "  # 不一致の単語に対する各コンバーター結果を辞書型で返却する。\n",
        "  def compete_to_all(self, data_source, reset_cache=False):\n",
        "    # MeCabのエラー抽出\n",
        "    errors_0 = self.compete_to_mecab(data_source, 0, reset_cache) # mecabとconverter 0を比較する\n",
        "    errors = {error_0[0]:[error_0[1], error_0[2]] for error_0 in errors_0} #エラーを格納するdict \n",
        "    errors_0_nouns = errors.keys()\n",
        "\n",
        "    # MeCabと一致しなかった単語を外部APIにかける、\n",
        "    for idc in range(1, len(self.converters)):\n",
        "      array_dataset = ArrayDataSource(errors_0_nouns, []) # 対象の単語をデータソース化\n",
        "      vocabs, yomi_labels = self._convert_all_on(array_dataset, idc, reset_cache) #APIの結果を取得\n",
        "      for checked_vocab, checked_label in zip(vocabs, yomi_labels):\n",
        "        errors[checked_vocab].append(checked_label)\n",
        "    return errors\n"
      ],
      "metadata": {
        "id": "FHm61F4SQOyl"
      },
      "execution_count": 92,
      "outputs": []
    },
    {
      "cell_type": "markdown",
      "source": [
        "# 誤字の検出と、複数APIを用いた結果の分布を取得する"
      ],
      "metadata": {
        "id": "MbPtolIyDVIn"
      }
    },
    {
      "cell_type": "markdown",
      "source": [
        "### データソースのロード"
      ],
      "metadata": {
        "id": "jhcqurD9FxZ1"
      }
    },
    {
      "cell_type": "code",
      "source": [
        "test_04_datasource = TempDataSource()\n",
        "test_04_datasource.load() # 単語の分割とMeCabのラベルを取得する\n",
        "\n",
        "# データソースの一致を確認\n",
        "test_04_result = TempCoeFontConverter().convert([])\n",
        "print(len((test_04_datasource.vocabs)), len(test_04_result))\n",
        "print(test_04_result[0], test_04_datasource.vocabs[0])"
      ],
      "metadata": {
        "colab": {
          "base_uri": "https://localhost:8080/"
        },
        "id": "s7gLm0MCAVik",
        "outputId": "e9143967-a72f-4eaf-88c6-069957acc9e3"
      },
      "execution_count": 34,
      "outputs": [
        {
          "output_type": "stream",
          "name": "stdout",
          "text": [
            "1705 2922\n",
            "ダイガク 大学\n"
          ]
        }
      ]
    },
    {
      "cell_type": "markdown",
      "source": [
        "### コンバーターの初期化と比較\n",
        "*   MeCabとCoeFontの出力を比較する\n",
        "*   比較が一致しなかった場合、他のコンバータで検証する。\n",
        "*   すべてのコンバータの出力をdict型（keyに名詞、valueに各コンバーターの結果の配列）にまとめる\n",
        "\n"
      ],
      "metadata": {
        "id": "AI8rDV0dF37t"
      }
    },
    {
      "cell_type": "code",
      "source": [
        "test_04_converters = [TempCoeFontConverter(), GooConverter(app_id=secrets[\"goo_api_id\"]), YahooConverter(app_id=secrets[\"yahoo_app_id\"])]\n",
        "test_04_competition = ConverterCompetition(converters=test_04_converters)\n",
        "\n",
        "print(test_04_competition.compete_to_all(test_04_datasource, reset_cache=False))\n",
        "\n",
        "# print(test_04_competition.compete_to_mecab(test_04_datasource, converter_id=0, reset_cache=False)[0]) # noteの記事をデータソースにCoeFontを検証する。\n",
        "# print(test_04_competition.compete_to(test_04_datasource, subject_converter_id=1, target_converter_id=0, reset_cache=False)[0]) # noteの記事をConefont converterとgoo converterで比較する。\n",
        "# print(test_04_competition.compete_to(test_04_datasource, subject_converter_id=2, target_converter_id=0, reset_cache=False)[0]) # noteの記事をConefont converterとyahoo converterで比較する。"
      ],
      "metadata": {
        "colab": {
          "base_uri": "https://localhost:8080/"
        },
        "id": "2m4N-jM6QbBJ",
        "outputId": "51ca8e91-269b-4940-885d-94ce1b6dd25e"
      },
      "execution_count": null,
      "outputs": [
        {
          "output_type": "stream",
          "name": "stdout",
          "text": [
            "{'大学': ['ダイガク', 'ダイガク', 'ダイガク'], '月': ['ガツ', 'ツキ', 'ツキ']}\n"
          ]
        }
      ]
    },
    {
      "cell_type": "markdown",
      "source": [
        "# 単語（データセット単位）のストリーミングとバッチ処理"
      ],
      "metadata": {
        "id": "9zH5v9MvhVXC"
      }
    },
    {
      "cell_type": "code",
      "source": [
        "class CompetionBatch:\n",
        "  def __init__(self, competiton, streaming_iters, batch_character_size=200):\n",
        "    self.competiton = competiton\n",
        "    self.streaming_iters = streaming_iters\n",
        "    self.batch_character_size = batch_character_size\n",
        "\n",
        "  def start(self, reset_cache=False):\n",
        "    entries = []\n",
        "    character_size = 0\n",
        "    # 取得したデータソースをもとに比較処理\n",
        "    for datasource in self.streaming_iters:\n",
        "       # まだspreadsheetに登録されていない単語だけを抽出\n",
        "       filted_vocabs = [ (vocab, label) for vocab, label in zip(datasource.vocabs, datasource.labels) if checked_db.get(vocab.encode(\"utf-8\")) == None]\n",
        "\n",
        "       #バッチ処理のエントリーに追加+文字数を加算\n",
        "       entries += filted_vocabs\n",
        "       vocab_sizes = list(map(lambda vocab:len(vocab[0]), filted_vocabs))\n",
        "       character_size += sum(vocab_sizes)\n",
        "\n",
        "       # 新しく比較対象にエントリーされた総文字数がbatch_character_size以上になった場合、比較処理を行う\n",
        "       if self.batch_character_size <= character_size:\n",
        "         print(\"start new batch!\")\n",
        "         entry_vocabs = list(map(lambda vocab: vocab[0], entries))\n",
        "         entry_labels = list(map(lambda vocab: vocab[1], entries))\n",
        "         dataset = ArrayDataSource(entry_vocabs, entry_labels) # バッチ処理に必要なデータセットを作成\n",
        "         errors = self.competiton.compete_to_all(dataset, reset_cache) # coefont apiとmecab and 他社apiを比較する\n",
        "\n",
        "         self.save_to_spreadsheet(errors) # google spreadsheetに結果を書き込み\n",
        "         # 初期化\n",
        "         entries = []\n",
        "         character_size = 0\n",
        "\n",
        "  def save_to_spreadsheet(self, errors):\n",
        "    print(errors)"
      ],
      "metadata": {
        "id": "jPBp0vU8QRaM"
      },
      "execution_count": 86,
      "outputs": []
    },
    {
      "cell_type": "code",
      "source": [
        "test_09_converters = [\n",
        "    GooConverter(app_id=secrets[\"goo_api_id\"]),\n",
        "    YahooConverter(app_id=secrets[\"yahoo_app_id\"])]\n",
        "\n",
        "test_09_competition = ConverterCompetition(converters=test_09_converters)\n",
        "\n",
        "def getDataSourceFromWikipedia(limit=20):\n",
        "  count = 0\n",
        "  for event in EventSource(test_09_url, last_id=None):\n",
        "    if event.event == 'message':\n",
        "        try:\n",
        "            change = json.loads(event.data)\n",
        "        except ValueError:\n",
        "            pass\n",
        "        else:\n",
        "            if change[\"server_name\"] == 'ja.wikipedia.org':\n",
        "                datasource = WikipediaDataSource(title=change[\"title\"])\n",
        "                datasource.load()\n",
        "                # print(\"recieved:\", change[\"title\"], \"new count:\", len(datasource.vocabs))\n",
        "                count +=1\n",
        "                if count < limit:\n",
        "                   yield datasource\n",
        "                else:\n",
        "                   break\n",
        "\n",
        "test_09_batch = CompetionBatch(test_09_competition, streaming_iters=getDataSourceFromWikipedia(), batch_character_size=20)\n",
        "test_09_batch.start()"
      ],
      "metadata": {
        "colab": {
          "base_uri": "https://localhost:8080/"
        },
        "id": "rx1kN4rSYBuy",
        "outputId": "da65559f-0904-4647-d5a7-900d3aee3d38"
      },
      "execution_count": 94,
      "outputs": [
        {
          "output_type": "stream",
          "name": "stdout",
          "text": [
            "start new batch!\n",
            "** Goo API: {\"converted\": \"ロクオン。 シンゴウ。 ショリ。 ゴ。 オオヤケ。 キサキ。 サンカ。\", \"output_type\": \"katakana\", \"request_id\": \"labs.goo.ne.jp\\t1663437258\\t0\"}\n",
            "** Yahoo API: {\"id\":\"abc\",\"jsonrpc\":\"2.0\",\"result\":{\"word\":[{\"furigana\":\"おおやけ\",\"roman\":\"ooyake\",\"surface\":\"公\"},{\"surface\":\"。\"},{\"furigana\":\"きさき\",\"roman\":\"kisaki\",\"surface\":\"妃\"},{\"surface\":\"。\"}]}}\n",
            "{'年': ['ネン:mecab', 'トシ:c_0', 'トシ'], '月': ['ガツ:mecab', 'ツキ:c_0', 'ツキ'], '公': ['コウ:mecab', 'オオヤケ:c_0', 'オオヤケ'], '妃': ['ヒ:mecab', 'キサキ:c_0', 'キサキ'], '一': ['ヒト:mecab', 'イチ:c_0', '一']}\n",
            "start new batch!\n",
            "** Goo API: {\"converted\": \"ホウリツ。 セイサク。 ホウレイ。 バンゴウ。\", \"output_type\": \"katakana\", \"request_id\": \"labs.goo.ne.jp\\t1663437269\\t0\"}\n",
            "{'年': ['ネン:mecab', 'トシ:c_0', 'トシ'], '月': ['ガツ:mecab', 'ツキ:c_0', 'ツキ'], '日本': ['ニッポン:mecab', 'ニホン:c_0', 'ニホン']}\n",
            "start new batch!\n",
            "** Goo API: {\"converted\": \"ガイコウ。 ウマレ。 エイコク。 リョウジ。 フニン。 タイシ。 ケンム。 ベンム。 コウシ。 ヨウショク。 ハイグウ。 コウゴ。 ブンタン。 イクジ。 リョウリツ。 オット。 トモ。 ガイム。 レンポウ。 ニュウショウ。 ガイコク。 ガクシュウ。 テキセイ。 ケンサ。 セイセキ。 シュウトク。 ナンイ。 テイアン。 チュウキントウ。 チイキ。 キョウミ。 セイチョウ。 キキワケ。 ハンダン。 ショウキョ。 エン。 ハジマリ。 ロク。 カヅキ。 エイ。 コウエン。 カイガイ。 チ。 ココロ。 ヨロコビ。 タンノウ。 カツヨウ。 セッキョク。 ハッシン。\", \"output_type\": \"katakana\", \"request_id\": \"labs.goo.ne.jp\\t1663437270\\t0\"}\n",
            "** Yahoo API: {\"id\":\"abc\",\"jsonrpc\":\"2.0\",\"result\":{\"word\":[{\"furigana\":\"かげつ\",\"roman\":\"kagetu\",\"surface\":\"ヶ月\"},{\"surface\":\"。\"}]}}\n",
            "{'年': ['ネン:mecab', 'トシ:c_0', 'トシ'], '月': ['ガツ:mecab', 'ツキ:c_0', 'ツキ'], '日本': ['ニッポン:mecab', 'ニホン:c_0', 'ニホン'], 'ヶ月': ['カゲツ:mecab', 'カヅキ:c_0', 'カゲツ']}\n",
            "start new batch!\n",
            "** Goo API: {\"converted\": \"タケモト。 ダンセイ。 ヤマグチ。 トクヤマ。 シュウナン。\", \"output_type\": \"katakana\", \"request_id\": \"labs.goo.ne.jp\\t1663437272\\t0\"}\n",
            "{'年': ['ネン:mecab', 'トシ:c_0', 'トシ'], '月': ['ガツ:mecab', 'ツキ:c_0', 'ツキ'], '日本': ['ニッポン:mecab', 'ニホン:c_0', 'ニホン'], '二': ['ニ:mecab', 'ニー:c_0', '二']}\n",
            "start new batch!\n",
            "** Goo API: {\"converted\": \"ゼンコク。 ケモノシン。 エンブ。 オウゴン。 シュウ。 ゲンアン。 シャ。 アヤ。 サクガ。 ヒロシ。 カクゲツ。 ドウシ。 サイゴ。 キュウカン。 ショウネン。 イセキ。 イゴ。 キュウサイ。 セイサク。\", \"output_type\": \"katakana\", \"request_id\": \"labs.goo.ne.jp\\t1663437293\\t0\"}\n",
            "** Yahoo API: {\"id\":\"abc\",\"jsonrpc\":\"2.0\",\"result\":{\"word\":[{\"furigana\":\"じゅうしん\",\"roman\":\"zyuusin\",\"surface\":\"獣神\"},{\"surface\":\"。\"},{\"furigana\":\"あや\",\"roman\":\"aya\",\"surface\":\"綾\"},{\"surface\":\"。\"}]}}\n",
            "{'年': ['ネン:mecab', 'トシ:c_0', 'トシ'], '月': ['ガツ:mecab', 'ツキ:c_0', 'ツキ'], '獣神': ['ジュウシン:mecab', 'ケモノシン:c_0', 'ジュウシン'], '日本': ['ニッポン:mecab', 'ニホン:c_0', 'ニホン'], '綾': ['リョウ:mecab', 'アヤ:c_0', 'アヤ'], '巻': ['マキ:mecab', 'カン:c_0', 'マキ']}\n",
            "start new batch!\n",
            "** Goo API: {\"converted\": \"カクトウ。 カクトウ。 ハス。 シガ。\", \"output_type\": \"katakana\", \"request_id\": \"labs.goo.ne.jp\\t1663437296\\t0\"}\n",
            "** Yahoo API: {\"id\":\"abc\",\"jsonrpc\":\"2.0\",\"result\":{\"word\":[{\"furigana\":\"はす\",\"roman\":\"hasu\",\"surface\":\"蓮\"},{\"surface\":\"。\"}]}}\n",
            "{'蓮': ['レン:mecab', 'ハス:c_0', 'ハス'], '年': ['ネン:mecab', 'トシ:c_0', 'トシ'], '月': ['ガツ:mecab', 'ツキ:c_0', 'ツキ'], '日本': ['ニッポン:mecab', 'ニホン:c_0', 'ニホン'], '時': ['ジ:mecab', 'トキ:c_0', 'トキ']}\n",
            "start new batch!\n",
            "** Goo API: {\"converted\": \"シュウ。 キオク。 コダイ。 ウチュウ。 ヒコウ。 テイシュツ。 カガク。 タスウ。 キョゼツ。 ニセシ。 ニセ。 コウコ。 イッポウ。 テイショウ。 ライホウ。 シジ。 チキュウ。 セイメイ。 タンサ。 キョウドウ。 セッケイ。\", \"output_type\": \"katakana\", \"request_id\": \"labs.goo.ne.jp\\t1663437298\\t0\"}\n",
            "** Yahoo API: {\"id\":\"abc\",\"jsonrpc\":\"2.0\",\"result\":{\"word\":[{\"furigana\":\"にせ\",\"roman\":\"nise\",\"surface\":\"偽\"},{\"furigana\":\"し\",\"roman\":\"si\",\"surface\":\"史\"},{\"surface\":\"。\"}]}}\n",
            "{'年': ['ネン:mecab', 'トシ:c_0', 'トシ'], '月': ['ガツ:mecab', 'ツキ:c_0', 'ツキ'], '偽史': ['ギシ:mecab', 'ニセシ:c_0', 'ニセシ'], '体': ['タイ:mecab', 'カラダ:c_0', 'カラダ']}\n",
            "start new batch!\n",
            "{'倫': ['オサム:mecab', 'リン:c_0', 'ヒトシ'], '年': ['ネン:mecab', 'トシ:c_0', 'トシ'], '月': ['ガツ:mecab', 'ツキ:c_0', 'ツキ'], '日本': ['ニッポン:mecab', 'ニホン:c_0', 'ニホン'], '杯': ['ハイ:mecab', 'サカズキ:c_0', 'ハイ']}\n",
            "start new batch!\n",
            "** Goo API: {\"converted\": \"アイコ。 シンノウ。 コウゾク。 ショウゴウ。 トシノミヤ。 イン。 ゴヨウ。 ケイショウ。 デンカ。 ナルヒト。 テンノウ。 コウ。 ハハ。 マサコ。 コウゴウ。 アキヒト。 ジョウコウ。 ミチコ。 コウソン。 タンジョウ。 ハツ。 れいわ。 コウシツ。 ネンショウ。 ウチテイ。 ジュウキョ。 チヨダ。 コウキョ。 ゴショ。\", \"output_type\": \"katakana\", \"request_id\": \"labs.goo.ne.jp\\t1663437301\\t0\"}\n",
            "** Yahoo API: {\"id\":\"abc\",\"jsonrpc\":\"2.0\",\"result\":{\"word\":[{\"furigana\":\"しるし\",\"roman\":\"sirusi\",\"surface\":\"印\"},{\"surface\":\"。\"},{\"furigana\":\"なるひと\",\"roman\":\"naruhito\",\"surface\":\"徳仁\"},{\"surface\":\"。\"},{\"furigana\":\"のりかず\",\"roman\":\"norikazu\",\"surface\":\"令和\"},{\"surface\":\"。\"},{\"furigana\":\"ないてい\",\"roman\":\"naitei\",\"surface\":\"内廷\"},{\"surface\":\"。\"}]}}\n",
            "{'年': ['ネン:mecab', 'トシ:c_0', 'トシ'], '月': ['ガツ:mecab', 'ツキ:c_0', 'ツキ'], '日本': ['ニッポン:mecab', 'ニホン:c_0', 'ニホン'], '印': ['シルシ:mecab', 'イン:c_0', 'シルシ'], '徳仁': ['トクジン:mecab', 'ナルヒト:c_0', 'ナルヒト'], '令和': ['レイワ:mecab', 'れいわ:c_0', 'ノリカズ'], '名': ['メイ:mecab', 'ナ:c_0', 'ナ'], '内廷': ['ナイテイ:mecab', 'ウチテイ:c_0', 'ナイテイ'], '都': ['ト:mecab', 'ミヤコ:c_0', 'ト']}\n"
          ]
        }
      ]
    },
    {
      "cell_type": "markdown",
      "source": [
        "# データソースを自動的に取得する\n",
        "* データソースを主導で作成するのではなく、永続的に新しいデータソースから単語を取得できるエコシステムを構築する\n",
        "\n",
        "* WebhookやWebsoket, Server-sent Eventなどを用いてデータソースを自動で収集する\n",
        "(Wikipediaのstreaming機能など)\n",
        "\n",
        "## 要件\n",
        "*   永続的にプログラムがデータソースを自動で生成する\n",
        "*   単語のバリエーションの広がりを担保する\n",
        "\n",
        "\n",
        "\n",
        "\n",
        "\n",
        "\n"
      ],
      "metadata": {
        "id": "1yAaRptcOxlD"
      }
    },
    {
      "cell_type": "markdown",
      "source": [
        "## 案1: Wikipedia Streaming\n",
        "\n",
        "*   SSEにかけて、日本語のwikipediaの更新ログをとる\n",
        "*   WikipediaDataSourceにかけて、単語と第一レイヤーの読み予測ラベル（MeCab）を取得する。\n",
        "*   単語ごとに過去にCoeFontで検証したかどうかを問い合わせる。以下の条件を満たした場合は単語は次へ\n",
        "  * キーが「subject_noun」のvalueがNoneかどうか: Coefontの結果をすでに持っているか\n",
        "  * キーが「test_noun」のvalueがNoneかどうか: 検証が既に完了済みの名詞かどうか\n",
        "*   Coefontへ品詞のよみ変換をAPI経由で取得する。（いくつかの未検証の単語をまとめてバッチ処理）\n",
        "*   第一レイヤーの読み予測ラベルとCoeFontの読みが一致しなかった場合、第二レイヤーのコンバーターで比較を行う。\n",
        "*   過半数以上のよみを正解ラベルとしてデータベースおよびSpreadsheetに記録\n",
        "*  **これらを再帰的に実行**"
      ],
      "metadata": {
        "id": "SoM2ePXtLXMC"
      }
    },
    {
      "cell_type": "code",
      "source": [
        "!pip install sseclient"
      ],
      "metadata": {
        "colab": {
          "base_uri": "https://localhost:8080/"
        },
        "id": "tgyGAh_8NuFa",
        "outputId": "85435246-9e98-46f8-b643-d9b2d79a6409"
      },
      "execution_count": 37,
      "outputs": [
        {
          "output_type": "stream",
          "name": "stdout",
          "text": [
            "Looking in indexes: https://pypi.org/simple, https://us-python.pkg.dev/colab-wheels/public/simple/\n",
            "Collecting sseclient\n",
            "  Downloading sseclient-0.0.27.tar.gz (7.5 kB)\n",
            "Requirement already satisfied: requests>=2.9 in /usr/local/lib/python3.7/dist-packages (from sseclient) (2.23.0)\n",
            "Requirement already satisfied: six in /usr/local/lib/python3.7/dist-packages (from sseclient) (1.15.0)\n",
            "Requirement already satisfied: chardet<4,>=3.0.2 in /usr/local/lib/python3.7/dist-packages (from requests>=2.9->sseclient) (3.0.4)\n",
            "Requirement already satisfied: idna<3,>=2.5 in /usr/local/lib/python3.7/dist-packages (from requests>=2.9->sseclient) (2.10)\n",
            "Requirement already satisfied: urllib3!=1.25.0,!=1.25.1,<1.26,>=1.21.1 in /usr/local/lib/python3.7/dist-packages (from requests>=2.9->sseclient) (1.24.3)\n",
            "Requirement already satisfied: certifi>=2017.4.17 in /usr/local/lib/python3.7/dist-packages (from requests>=2.9->sseclient) (2022.6.15)\n",
            "Building wheels for collected packages: sseclient\n",
            "  Building wheel for sseclient (setup.py) ... \u001b[?25l\u001b[?25hdone\n",
            "  Created wheel for sseclient: filename=sseclient-0.0.27-py3-none-any.whl size=5584 sha256=d32750ae78f472aea11eb03e514812fac4108e25716893d150a5e4e1fd9f1261\n",
            "  Stored in directory: /root/.cache/pip/wheels/07/67/7e/96edf627ac746de1a5c5cbb8d59ed960f033b8352dc12c545d\n",
            "Successfully built sseclient\n",
            "Installing collected packages: sseclient\n",
            "Successfully installed sseclient-0.0.27\n"
          ]
        }
      ]
    },
    {
      "cell_type": "code",
      "source": [
        "import json\n",
        "from sseclient import SSEClient as EventSource\n",
        "test_09_url = 'https://stream.wikimedia.org/v2/stream/recentchange'\n",
        "test_09_vocabs = []\n",
        "\n",
        "for event in EventSource(test_09_url, last_id=None):\n",
        "    if event.event == 'message':\n",
        "        try:\n",
        "            change = json.loads(event.data)\n",
        "        except ValueError:\n",
        "            pass\n",
        "        else:\n",
        "            if change[\"server_name\"] == 'ja.wikipedia.org':\n",
        "                datasource = WikipediaDataSource(title=change[\"title\"])\n",
        "                datasource.load()\n",
        "                for new_vocab in datasource.vocabs:\n",
        "                  if new_vocab not in test_09_vocabs:\n",
        "                    test_09_vocabs.append(new_vocab)\n",
        "                print(change[\"title\"])\n",
        "                print(len(test_09_vocabs))"
      ],
      "metadata": {
        "id": "YdIYYzuZN__j"
      },
      "execution_count": null,
      "outputs": []
    },
    {
      "cell_type": "code",
      "source": [
        "test_09_vocabs"
      ],
      "metadata": {
        "colab": {
          "base_uri": "https://localhost:8080/"
        },
        "id": "W2KueSPeWL7I",
        "outputId": "33e3e691-8ac0-48cb-9d02-ec74718a69d7"
      },
      "execution_count": 46,
      "outputs": [
        {
          "output_type": "execute_result",
          "data": {
            "text/plain": [
              "['柴田',\n",
              " '地球',\n",
              " '防衛',\n",
              " '年',\n",
              " '月',\n",
              " '配信',\n",
              " '番組',\n",
              " '発売',\n",
              " '大滝',\n",
              " '詠一',\n",
              " '陸羽',\n",
              " '東',\n",
              " '宮城',\n",
              " '県',\n",
              " '遠田',\n",
              " '郡',\n",
              " '美里',\n",
              " '町',\n",
              " '小牛田',\n",
              " '駅',\n",
              " '山形',\n",
              " '新庄',\n",
              " '市',\n",
              " '日本',\n",
              " '旅客',\n",
              " '鉄道',\n",
              " '路線',\n",
              " '地方',\n",
              " '交通',\n",
              " '奥',\n",
              " '細道',\n",
              " '湯けむり',\n",
              " '愛称',\n",
              " '河内',\n",
              " '女優',\n",
              " '千葉',\n",
              " '出身',\n",
              " '株式',\n",
              " '会社',\n",
              " '所属',\n",
              " '飯豊',\n",
              " '平成',\n",
              " '本名',\n",
              " '旧',\n",
              " '芸名',\n",
              " '万理江',\n",
              " '読み',\n",
              " '内野',\n",
              " '孝',\n",
              " '聡',\n",
              " '男性',\n",
              " '声優',\n",
              " '東京',\n",
              " '都',\n",
              " '革命',\n",
              " '共産',\n",
              " '主義',\n",
              " '同盟',\n",
              " '全国',\n",
              " '委員',\n",
              " '会',\n",
              " '英語',\n",
              " '政治',\n",
              " '団体',\n",
              " '通称',\n",
              " '中核',\n",
              " '革',\n",
              " '共同',\n",
              " '左翼',\n",
              " '党派',\n",
              " '一',\n",
              " '当初',\n",
              " '本多',\n",
              " '前進',\n",
              " '関西',\n",
              " '再建',\n",
              " '協議',\n",
              " '対立',\n",
              " '離脱',\n",
              " '以降',\n",
              " '中央',\n",
              " '党',\n",
              " '安田',\n",
              " '反帝',\n",
              " '世界',\n",
              " '拠点',\n",
              " '社',\n",
              " '機関',\n",
              " '学生',\n",
              " '組織',\n",
              " '学同',\n",
              " '警察',\n",
              " '白書',\n",
              " '極左',\n",
              " '暴力',\n",
              " '集団',\n",
              " '合衆',\n",
              " '映画',\n",
              " '監督',\n",
              " '写真',\n",
              " '音楽',\n",
              " '作家',\n",
              " '州',\n",
              " '現在',\n",
              " '批判',\n",
              " '英',\n",
              " '社会',\n",
              " '思想',\n",
              " '継承',\n",
              " '発展',\n",
              " '歴史',\n",
              " '経済',\n",
              " '哲学',\n",
              " '分野',\n",
              " '体系',\n",
              " '学問',\n",
              " '見地',\n",
              " '教条',\n",
              " '整合',\n",
              " '欠如',\n",
              " '決定',\n",
              " '論',\n",
              " '個人',\n",
              " '権利',\n",
              " '人権',\n",
              " '自由',\n",
              " '抑圧',\n",
              " '是非',\n",
              " '価値',\n",
              " '理論',\n",
              " '歪み',\n",
              " '低下',\n",
              " '問題',\n",
              " '他',\n",
              " '認識',\n",
              " '議論',\n",
              " '連邦',\n",
              " '体制',\n",
              " '毛',\n",
              " '沢東',\n",
              " '自身',\n",
              " '労働',\n",
              " '真野',\n",
              " '拓実',\n",
              " '歌手',\n",
              " '舞台',\n",
              " '俳優',\n",
              " '新潟',\n",
              " '響',\n",
              " '通算',\n",
              " '新型',\n",
              " '感染',\n",
              " '流行',\n",
              " '越境',\n",
              " '移動',\n",
              " '制限',\n",
              " '観光',\n",
              " '客',\n",
              " '入国',\n",
              " '拒否',\n",
              " '国際',\n",
              " '運休',\n",
              " '海外',\n",
              " '旅行',\n",
              " '窮地',\n",
              " '利用',\n",
              " '外国',\n",
              " '地',\n",
              " '映像',\n",
              " '有料',\n",
              " '課金',\n",
              " '動画',\n",
              " '疑似',\n",
              " '体験',\n",
              " '販売',\n",
              " '売り上げ',\n",
              " '商',\n",
              " '行為',\n",
              " '家庭',\n",
              " '視聴',\n",
              " '前提',\n",
              " '時間',\n",
              " '旅',\n",
              " '呼称',\n",
              " '新木',\n",
              " '女性',\n",
              " '元',\n",
              " '福岡',\n",
              " '福津',\n",
              " '三河',\n",
              " '愛知',\n",
              " '刈谷',\n",
              " '前',\n",
              " '名',\n",
              " '白石',\n",
              " '兼',\n",
              " '斗',\n",
              " '山口',\n",
              " '早稲田',\n",
              " '大学',\n",
              " '部',\n",
              " '設置',\n",
              " '学部',\n",
              " '略称',\n",
              " '政経',\n",
              " '学術',\n",
              " '看板',\n",
              " '共',\n",
              " '国内',\n",
              " '私立',\n",
              " '文系',\n",
              " '中',\n",
              " '難関',\n",
              " '位置',\n",
              " '任天',\n",
              " '原作',\n",
              " '登場',\n",
              " '架空',\n",
              " '人物',\n",
              " '斎賀',\n",
              " '南島',\n",
              " '氷河',\n",
              " '水深',\n",
              " '三',\n",
              " '山々',\n",
              " '成熟',\n",
              " '森林',\n",
              " '湖',\n",
              " '行き先',\n",
              " '人気',\n",
              " '階',\n",
              " '猛',\n",
              " '弁護',\n",
              " '立憲',\n",
              " '民主',\n",
              " '衆議',\n",
              " '議員',\n",
              " '期',\n",
              " '自',\n",
              " '誓',\n",
              " '会長',\n",
              " '代',\n",
              " '総務',\n",
              " '大臣',\n",
              " '政務',\n",
              " '鳩山',\n",
              " '由紀夫',\n",
              " '内閣',\n",
              " '菅',\n",
              " '直人',\n",
              " '役員',\n",
              " '同',\n",
              " '岩手',\n",
              " '県連',\n",
              " '代表',\n",
              " '民進',\n",
              " '調査',\n",
              " '希望',\n",
              " '幹事',\n",
              " '代理',\n",
              " '国民',\n",
              " '代行',\n",
              " '憲法',\n",
              " '歴任',\n",
              " '水野',\n",
              " '亜美',\n",
              " '武内',\n",
              " '直子',\n",
              " '漫画',\n",
              " '作品',\n",
              " '美',\n",
              " '少女',\n",
              " '戦士',\n",
              " '実写',\n",
              " '話',\n",
              " '初',\n",
              " '北米',\n",
              " '版',\n",
              " '名前',\n",
              " '鰻',\n",
              " '泉',\n",
              " '海魚',\n",
              " '魚類',\n",
              " '総称',\n",
              " '熱帯',\n",
              " '温帯',\n",
              " '分布',\n",
              " '種類',\n",
              " '食用',\n",
              " '確認',\n",
              " '外見',\n",
              " '体型',\n",
              " '分類',\n",
              " '別',\n",
              " '種',\n",
              " '硬骨',\n",
              " '原始',\n",
              " '顎',\n",
              " '円口',\n",
              " '地域',\n",
              " '蒲焼',\n",
              " '鰻丼',\n",
              " '調理',\n",
              " '方法',\n",
              " '考案',\n",
              " '古く',\n",
              " '食',\n",
              " '文化',\n",
              " '関わり',\n",
              " '魚',\n",
              " '漁業',\n",
              " '養殖',\n",
              " '近年',\n",
              " '国外',\n",
              " '輸入',\n",
              " '項目',\n",
              " '側面',\n",
              " '解説',\n",
              " '生物',\n",
              " '参照',\n",
              " '上西',\n",
              " '哲平',\n",
              " '山梨',\n",
              " '政宗',\n",
              " '一成',\n",
              " '吽',\n",
              " '空',\n",
              " '主宰',\n",
              " '正宗',\n",
              " '表記',\n",
              " '岡田',\n",
              " '道郎',\n",
              " '改名',\n",
              " '名付け',\n",
              " '親',\n",
              " '占い師',\n",
              " '王',\n",
              " '麗華',\n",
              " '出生',\n",
              " '井上',\n",
              " '東映',\n",
              " '茂',\n",
              " '母',\n",
              " '従兄弟',\n",
              " '裕介',\n",
              " '本人',\n",
              " '広島',\n",
              " '呉',\n",
              " '楽曲',\n",
              " '埋葬',\n",
              " '原題',\n",
              " '短編',\n",
              " '小説',\n",
              " '仮死',\n",
              " '状態',\n",
              " '死亡',\n",
              " '誤認',\n",
              " '墓',\n",
              " '下',\n",
              " '生き埋め',\n",
              " '恐怖',\n",
              " '世紀',\n",
              " '西洋',\n",
              " '恐れ',\n",
              " '実際',\n",
              " '公衆',\n",
              " '興味',\n",
              " '初出',\n",
              " '岡本',\n",
              " '幸輔',\n",
              " '大阪',\n",
              " '府',\n",
              " '欧字',\n",
              " '競走',\n",
              " '繁殖',\n",
              " '牝馬',\n",
              " '勝ち鞍',\n",
              " '杯',\n",
              " '馬名',\n",
              " '意味',\n",
              " '語',\n",
              " '最高',\n",
              " '連想',\n",
              " '選手',\n",
              " '寺尾',\n",
              " '聰',\n",
              " '事務',\n",
              " '石原',\n",
              " '自ら',\n",
              " '父',\n",
              " '宇野',\n",
              " '重吉',\n",
              " '神奈川',\n",
              " '横浜',\n",
              " '保土ケ谷',\n",
              " '区',\n",
              " '目黒',\n",
              " '区立',\n",
              " '十',\n",
              " '学校',\n",
              " '和光',\n",
              " '学園',\n",
              " '法政',\n",
              " '二',\n",
              " '学院',\n",
              " '卒業',\n",
              " '製作',\n",
              " '対戦',\n",
              " '格闘',\n",
              " '桑田',\n",
              " '直樹',\n",
              " '浦和',\n",
              " '美術',\n",
              " '専門',\n",
              " '専修',\n",
              " '埼玉',\n",
              " '緑',\n",
              " '大間',\n",
              " '木',\n",
              " '法人',\n",
              " '鳥海',\n",
              " '設立',\n",
              " '創立',\n",
              " '教育',\n",
              " '標語',\n",
              " '国歌',\n",
              " '君が代',\n",
              " '国家',\n",
              " '首都',\n",
              " '全長',\n",
              " '以上',\n",
              " '国土',\n",
              " '列島',\n",
              " '千島',\n",
              " '南西',\n",
              " '諸島',\n",
              " '伊豆',\n",
              " '小笠原',\n",
              " '弧状',\n",
              " '構成',\n",
              " '部分',\n",
              " '北部',\n",
              " '島嶼',\n",
              " '寒帯',\n",
              " '地形',\n",
              " '起伏',\n",
              " '火',\n",
              " '山地',\n",
              " '丘陵',\n",
              " '面積',\n",
              " '沿岸',\n",
              " '平野',\n",
              " '人口',\n",
              " '集中',\n",
              " '行政',\n",
              " '区分',\n",
              " '道',\n",
              " '大和',\n",
              " '民族',\n",
              " '琉球',\n",
              " '人々',\n",
              " '居住',\n",
              " '通用',\n",
              " '明治',\n",
              " '維新',\n",
              " '帝国',\n",
              " '制定',\n",
              " '君主',\n",
              " '太平',\n",
              " '戦争',\n",
              " '連合',\n",
              " '占領',\n",
              " '昭和',\n",
              " '現行',\n",
              " '施行',\n",
              " '戦後',\n",
              " '移行',\n",
              " '平和',\n",
              " '条約',\n",
              " '主権',\n",
              " '回復',\n",
              " '砂',\n",
              " '栄冠',\n",
              " '三田',\n",
              " '房',\n",
              " '週刊',\n",
              " '講談',\n",
              " '号',\n",
              " '合併',\n",
              " '連載',\n",
              " '川元',\n",
              " '由香',\n",
              " '熊本',\n",
              " '八代',\n",
              " '芸能',\n",
              " '引退',\n",
              " '職場',\n",
              " '社長',\n",
              " '結婚',\n",
              " '離婚',\n",
              " '愛犬',\n",
              " '長谷',\n",
              " '徳人',\n",
              " '釜山',\n",
              " '称',\n",
              " '蓮',\n",
              " '堤',\n",
              " '大路',\n",
              " '本部',\n",
              " '大韓',\n",
              " '民国',\n",
              " '国立',\n",
              " '秩父',\n",
              " '本線',\n",
              " '羽生',\n",
              " '同県',\n",
              " '三峰',\n",
              " '口',\n",
              " '寄居',\n",
              " '以西',\n",
              " '方面',\n",
              " '側',\n",
              " '山間',\n",
              " '全線',\n",
              " '箇所',\n",
              " '存在',\n",
              " '天正',\n",
              " '国産',\n",
              " '一種',\n",
              " '年間',\n",
              " '製造',\n",
              " '由来',\n",
              " '遊技',\n",
              " '法',\n",
              " '外来',\n",
              " '骨牌',\n",
              " '加留多',\n",
              " '賀',\n",
              " '加',\n",
              " '太',\n",
              " '多',\n",
              " '可',\n",
              " '歌留多',\n",
              " '軽',\n",
              " '樗蒲',\n",
              " '漢字',\n",
              " '棍棒',\n",
              " '波',\n",
              " '宇',\n",
              " '巴',\n",
              " '花',\n",
              " '青',\n",
              " '刀剣',\n",
              " '波多',\n",
              " '伊',\n",
              " '寸',\n",
              " '赤',\n",
              " '金貨',\n",
              " '留',\n",
              " '太鼓',\n",
              " '聖杯',\n",
              " '津',\n",
              " '骨',\n",
              " '扶',\n",
              " '唇',\n",
              " '紋',\n",
              " '標',\n",
              " '豆',\n",
              " '牟',\n",
              " '虫',\n",
              " '数',\n",
              " '札',\n",
              " '女王',\n",
              " '騎馬',\n",
              " '馬',\n",
              " '国王',\n",
              " '切',\n",
              " '岐',\n",
              " '利',\n",
              " '桐',\n",
              " '腰',\n",
              " '絵札',\n",
              " '初期',\n",
              " '使用',\n",
              " '模造',\n",
              " '盾',\n",
              " '鎧兜',\n",
              " '武者',\n",
              " '物',\n",
              " '変化',\n",
              " '枚数',\n",
              " '拡張',\n",
              " '人数',\n",
              " '対応',\n",
              " '兵庫',\n",
              " '芦屋',\n",
              " '滴',\n",
              " '翠',\n",
              " '所蔵',\n",
              " '裏面',\n",
              " '池住',\n",
              " '貞次',\n",
              " '文字',\n",
              " '正保',\n",
              " '元年',\n",
              " '頃',\n",
              " '俳人',\n",
              " '松江',\n",
              " '重頼',\n",
              " '編纂',\n",
              " '俳諧',\n",
              " '草',\n",
              " '筑後',\n",
              " '名産',\n",
              " '三池',\n",
              " '元禄',\n",
              " '井原',\n",
              " '西鶴',\n",
              " '一目',\n",
              " '玉鉾',\n",
              " '巻',\n",
              " '四',\n",
              " '立花',\n",
              " '和泉',\n",
              " '守殿',\n",
              " '所',\n",
              " '名物',\n",
              " '享保',\n",
              " '桑林',\n",
              " '歓',\n",
              " '遊',\n",
              " '桑',\n",
              " '諸国',\n",
              " '夫',\n",
              " '洛',\n",
              " '経師',\n",
              " '細工',\n",
              " '友',\n",
              " '貞',\n",
              " '有',\n",
              " '古代',\n",
              " '物故',\n",
              " '捨',\n",
              " '後',\n",
              " '次第',\n",
              " '売',\n",
              " '業',\n",
              " '后',\n",
              " '編',\n",
              " '今',\n",
              " '黒',\n",
              " '裏',\n",
              " '云',\n",
              " '尋',\n",
              " '和',\n",
              " '万葉',\n",
              " '字',\n",
              " '用',\n",
              " '京都',\n",
              " '成',\n",
              " '他国',\n",
              " '曽',\n",
              " '而不',\n",
              " '矣',\n",
              " '安永',\n",
              " '校訂',\n",
              " '六',\n",
              " '村',\n",
              " '産',\n",
              " '九州',\n",
              " '大牟田',\n",
              " '発祥',\n",
              " '資料',\n",
              " '神戸',\n",
              " '博物',\n",
              " '重箱',\n",
              " '版木',\n",
              " '図像',\n",
              " '全貌',\n",
              " '復刻',\n",
              " '岐阜',\n",
              " '硯箱',\n",
              " '生産',\n",
              " '理由',\n",
              " '豊臣',\n",
              " '秀吉',\n",
              " '朝鮮',\n",
              " '出兵',\n",
              " '文禄',\n",
              " '慶長',\n",
              " '役',\n",
              " '肥前',\n",
              " '松浦',\n",
              " '名護屋',\n",
              " '佐賀',\n",
              " '唐津',\n",
              " '大名',\n",
              " '集結',\n",
              " '最盛',\n",
              " '万',\n",
              " '陣',\n",
              " '中心',\n",
              " '楽',\n",
              " '需要',\n",
              " '魔法',\n",
              " '制作',\n",
              " '分',\n",
              " '枠',\n",
              " '真帆',\n",
              " '青森',\n",
              " '八戸',\n",
              " '研',\n",
              " '音',\n",
              " '身長',\n",
              " '血液',\n",
              " '開発',\n",
              " '瑞',\n",
              " '傘下',\n",
              " '同名',\n",
              " '検出',\n",
              " '管理',\n",
              " '馬場',\n",
              " '惇',\n",
              " '平',\n",
              " '競馬',\n",
              " '重賞',\n",
              " '平地',\n",
              " '展開',\n",
              " '発端',\n",
              " '開始',\n",
              " '劇場',\n",
              " '従来',\n",
              " '黒田',\n",
              " '忠良',\n",
              " '徳島',\n",
              " '鈴木',\n",
              " '幸一',\n",
              " '実業',\n",
              " '取締',\n",
              " '経営',\n",
              " '責任',\n",
              " '初代',\n",
              " '春',\n",
              " '実行',\n",
              " '功労',\n",
              " '社団',\n",
              " '能率',\n",
              " '協会',\n",
              " '勤務',\n",
              " '研究',\n",
              " '企画',\n",
              " '森',\n",
              " '葉',\n",
              " '光一郎',\n",
              " '震災',\n",
              " '復興',\n",
              " '対策',\n",
              " '福島',\n",
              " '議会',\n",
              " '財務',\n",
              " '金融',\n",
              " '決算',\n",
              " '監視',\n",
              " '特命',\n",
              " '担当',\n",
              " '公共',\n",
              " '少子',\n",
              " '男女',\n",
              " '参画',\n",
              " '科学',\n",
              " '技術',\n",
              " '政策',\n",
              " '戦略',\n",
              " '改造',\n",
              " '外務',\n",
              " '選挙',\n",
              " '筑波',\n",
              " '山',\n",
              " '茨城',\n",
              " 'つつじヶ丘',\n",
              " '女体',\n",
              " '東方',\n",
              " '峰',\n",
              " '終点',\n",
              " '近く',\n",
              " '山頂',\n",
              " '郵政',\n",
              " '墨田',\n",
              " '押上',\n",
              " '所在',\n",
              " '類似',\n",
              " '施設',\n",
              " '運営',\n",
              " '公益',\n",
              " '財団',\n",
              " '通信',\n",
              " '委託',\n",
              " '令和',\n",
              " '台風',\n",
              " '発生',\n",
              " '提案',\n",
              " '名称',\n",
              " '遺跡',\n",
              " '現象',\n",
              " '影響',\n",
              " '平年',\n",
              " '傾向',\n",
              " '牧口',\n",
              " '真幸',\n",
              " '宮崎',\n",
              " '作曲',\n",
              " '作詞',\n",
              " '体重',\n",
              " '大川',\n",
              " '文',\n",
              " '西',\n",
              " '体',\n",
              " '山本',\n",
              " '進',\n",
              " '悟',\n",
              " '課',\n",
              " '自動',\n",
              " '整備',\n",
              " '工場',\n",
              " '時点',\n",
              " '保善',\n",
              " '横山',\n",
              " '智佐',\n",
              " '索引',\n",
              " '読み仮名',\n",
              " '記事',\n",
              " '一覧',\n",
              " '熊谷',\n",
              " '影森',\n",
              " '運行',\n",
              " '急行',\n",
              " '列車',\n",
              " '喚起',\n",
              " '外出',\n",
              " '自粛',\n",
              " '休業',\n",
              " '要請',\n",
              " '疲弊',\n",
              " '再興',\n",
              " '目的',\n",
              " '政府',\n",
              " '雪',\n",
              " '角川',\n",
              " '書店',\n",
              " '単行',\n",
              " '本',\n",
              " '停止',\n",
              " '中井',\n",
              " '美琴',\n",
              " '三重',\n",
              " '退社',\n",
              " '伊藤',\n",
              " '物語',\n",
              " '航空',\n",
              " '訓練',\n",
              " '深田',\n",
              " '祐介',\n",
              " '系列',\n",
              " '放送',\n",
              " '大映',\n",
              " '毎週',\n",
              " '火曜',\n",
              " '喜多村',\n",
              " '英梨',\n",
              " '朗',\n",
              " '彦',\n",
              " '韓国',\n",
              " '同年',\n",
              " '北条',\n",
              " '司',\n",
              " '設定',\n",
              " '北朝鮮',\n",
              " '紛争',\n",
              " '事件',\n",
              " '報復',\n",
              " '作戦',\n",
              " '途中',\n",
              " '部隊',\n",
              " '仲間',\n",
              " '味方',\n",
              " '攻撃',\n",
              " '息子',\n",
              " '復讐',\n",
              " '日吉',\n",
              " '雄太',\n",
              " '公認',\n",
              " '会計',\n",
              " '彩',\n",
              " '越谷',\n",
              " '錣山',\n",
              " '部屋',\n",
              " '相撲',\n",
              " '力士',\n",
              " '松本',\n",
              " '豊',\n",
              " '締め込み',\n",
              " '色',\n",
              " '水色',\n",
              " '両',\n",
              " '場所',\n",
              " '野球',\n",
              " '月刊',\n",
              " '小学',\n",
              " '少年',\n",
              " '宮本',\n",
              " '不滅',\n",
              " '奇跡',\n",
              " '成長',\n",
              " '要素',\n",
              " '削除',\n",
              " '依頼',\n",
              " '投票',\n",
              " '以下',\n",
              " '際',\n",
              " '参加',\n",
              " '形式',\n",
              " '票',\n",
              " '扱い',\n",
              " '一般',\n",
              " '資格',\n",
              " '緊急',\n",
              " '案件',\n",
              " '付与',\n",
              " '光',\n",
              " '星',\n",
              " '円谷',\n",
              " '特撮',\n",
              " '松竹',\n",
              " '公開',\n",
              " '同時',\n",
              " '上映',\n",
              " '敵',\n",
              " '近郊',\n",
              " '本拠',\n",
              " '総合',\n",
              " '関係',\n",
              " '常',\n",
              " '白熱',\n",
              " '照明',\n",
              " '発光',\n",
              " '器具',\n",
              " '消費',\n",
              " '電力',\n",
              " '寿命',\n",
              " '特徴',\n",
              " '定格',\n",
              " '範囲',\n",
              " '限り',\n",
              " '素子',\n",
              " '比較',\n",
              " '長寿',\n",
              " '命',\n",
              " '熱',\n",
              " '劣化',\n",
              " '要因',\n",
              " '普及',\n",
              " '赤色',\n",
              " '黄緑',\n",
              " '波長',\n",
              " '青色',\n",
              " '緑色',\n",
              " '発明',\n",
              " '三原',\n",
              " '白色',\n",
              " '発色',\n",
              " '応用',\n",
              " '主力',\n",
              " '光源',\n",
              " '花形',\n",
              " '恵子',\n",
              " '児童',\n",
              " '文学',\n",
              " '篠原',\n",
              " '大作',\n",
              " '死去',\n",
              " '幕張',\n",
              " '美浜',\n",
              " '区画',\n",
              " '高層',\n",
              " '賞',\n",
              " '受賞',\n",
              " '家族',\n",
              " '善哉',\n",
              " '島村',\n",
              " '洋子',\n",
              " '長編',\n",
              " '毎日',\n",
              " '関連',\n",
              " '企業',\n",
              " '顧客',\n",
              " '処理',\n",
              " '各種',\n",
              " '提供',\n",
              " '国籍',\n",
              " '長妻',\n",
              " ...]"
            ]
          },
          "metadata": {},
          "execution_count": 46
        }
      ]
    },
    {
      "cell_type": "markdown",
      "source": [
        "# CoeFontで使う単語一覧を抽出"
      ],
      "metadata": {
        "id": "U52GTgX0gDiz"
      }
    },
    {
      "cell_type": "code",
      "source": [
        "test_05_note_articles_id = [\n",
        "    \"n4ece27ed112b\",\n",
        "    \"n0433243163f5\",\n",
        "    \"n2861fae03861\",\n",
        "    \"n6965c22952ac\",\n",
        "    \"ndf3aed673e7f\",\n",
        "    \"n766dc842145d\",\n",
        "    \"ndace078a3cb1\"\n",
        "]\n",
        "test_05_data_sources = [NoteDataSource(id) for id in test_05_note_articles_id]\n",
        "test_05_nouns = []\n",
        "for data_source in test_05_data_sources:\n",
        "  data_source.load()\n",
        "  test_05_nouns = test_05_nouns + data_source.vocabs"
      ],
      "metadata": {
        "id": "UVgs9fCtgHwR"
      },
      "execution_count": 35,
      "outputs": []
    },
    {
      "cell_type": "code",
      "source": [
        "print(SYMBOL_READING_POINT.join(test_05_nouns))\n",
        "print(len(test_05_nouns))"
      ],
      "metadata": {
        "colab": {
          "base_uri": "https://localhost:8080/"
        },
        "id": "VFF7hQjqh-uB",
        "outputId": "5f70be69-9361-48a0-eb52-c685c25d0a91"
      },
      "execution_count": 36,
      "outputs": [
        {
          "output_type": "stream",
          "name": "stdout",
          "text": [
            "大学、入学、時代、人間、選択、幸せ、伝播、自分、不安、勉強、自負、技術、修得、人、一、倍、熱量、努力、実際、学生、身分、個人、開発、仕事、社会、感覚、自身、生活、半ば、先生、方、言葉、魂、所属、研究、会、友人、価値、方向、言語、学び、本質、事実、記事、今後、記録、執筆、迷走、逆、体得、宝物、月、終わり、勢い、文中、箇所、筆者、教え、理解、問題、発見、解決、最近、以外、中等、教育、学校、反面、事例、背景、論点、整理、視点、在学、骨、髄、変容、意見、参考、本当、少数、解釈、考え、注意、公式、見解、一切、独断、偏見、構成、主張、念頭、進学、意図、特徴、理系、文系、区別、自由、分野、横断、内外、耳、着眼、点、縦割り、意識、必要、対応、世界、帰着、複雑、議論、担保、題材、享受、世の中、発展、環境、注目、例、導入、暮らし、以前、単位、失敗、典型、話題、目的、不在、情報、恩恵、問い、探索、方法、論、先行、取り組み、事、欲望、合理、道筋、分断、限り、人々、単体、寄与、根幹、後者、先導、人材、育成、力、最終、身、年間、結果、創出、伝達、付加、創造、連鎖、今、命題、量産、輸出、変化、通り、知識、問いかけ、性質、着目、高校、思考、段、指導、要領、受験、上、補完、大体、偏差、目標、塾、多く、見直し、先ほど、未来、現在、逆算、実現、部分、気づき、時間、頭、番、学部、魅力、他、評価、軸、自ら、場所、全知、全能、認識、自走、維持、原点、生産、活動、土台、要約、具材、存在、深み、説得、要求、学問、幅、用意、構造、体、能力、主眼、基本、主、必然、現象、自体、最初、脱却、用語、集中、経営、達成、勢力、事業、拡大、話、説明、本格、前、合格、後、形、経験、皆、裏、相対、革新、意義、巷、機会、二、条件、分類、頭出し、趣旨、専攻、期待、空間、浸透、現状、素養、場面、強み、理由、確立、余白、子孫、重点、目、共有、先生、父、運、根、勘、根気、年、火曜、日、授業、気持ち、声、喉、隔離、最初、週間、棒、学期、絶対、症状、念、総合、大学、日本、美大、学部、美術、講義、隣、席、秋、元、中国、段々、悪寒、時間、半、頃、羽毛、布団、欲求、頭、気、部屋、優雅、陽性、日間、人柱、意味、不明、感染、体温、何、度、計算、勘弁、次、今度、比較、知識、圭、髪型、個性、姿、学生、番、代、内容、終わり、時、熱、解熱、自力、冷え、即席、氷枕、吐き気、お腹、紙、安心、感、頭痛、鼻、咳、痰、全身、筋肉、手、震え、汗、滝、横目、首、苦しみ、回復、気合い、記憶、中、母、病気、驚異、身、目、前回、倍、背中、感覚、近く、洗礼、心地、淵、朝日、水面、祝福、留学、前、今日、息抜き、専攻、全員、友達、単位、数、一緒、週、量、ドン引き、起業、初、課題、自分、回、程度、作り、夕方、寮、感じ、宗教、他、改宗、大人、権利、学業、職業、責任、人生、金曜、議題、地域、教科、進化、論、天地、創造、記載、議論、細分、以外、現地、勢い、話、残り、分、段、案、人、発言、顔、進捗、奴、価値、言葉、研究、会、都市、英語、力、ヶ月、車、味、急、食、正確、東京、食事、料理、国、舌、後、映画、体格、主人、熱意、名門、スポ根、心、熱量、試合、聖地、巡礼、鑑賞、得点、掲示、演出、毎年、新入、感動、拍手、間、愛校、洗脳、変、天邪鬼、方、今、土曜、朝、図書、事務、処理、管理、謎、空き地、騒ぎ、音楽、爆音、空、水しぶき、友人、合流、紹介、手当たり、次第、地面、空き缶、結局、家、給料、暮らし、久々、誘い、鮨詰め、階段、満杯、中庭、主催、男、警察、解散、波、到着、日曜、昨日、夜、面々、活動、勉強、本当、方向、音痴、十、八、九、真逆、道、意識、午後、壁画、足元、準備、就活、企業、深夜、階、生、気絶、月曜、食堂、最悪、語、日系、珍獣、扱い、明日、大柴、文体、来週、二十、人生、友人、機内、文、以上、気持ち、言葉、今、時差、完徹、朝、時、飛行、機、前日、夜、寮、友達、空港、見送り、年、日本、大学、生活、研究、会、食堂、現状、満足、心、自分、何、度、方、間、電車、移動、気、最後、中、錯覚、実、羽田、心配、空気、乗り換え、限り、初っ端、入国、審査、普通、強面、別室、連行、顔、電話、順番、家族、助け、母、強制、送還、名前、黒人、職員、裏面、中身、領事、信用、結局、早口、国際、目、皆、確認、絶対、責任、問答、乗り継ぎ、搭乗、付近、人種、比率、偏り、白人、中西部、機体、異常、隣、瞬間、無事、近く、今日、話、試し、無茶苦茶、関門、突破、未満、本当、宿泊、術、食事、合流、香港、上、表情、嫌い、北、解消、怒涛、祭り、記憶、月、授業、準備、提出、留学、担当、仕事、感、系、姉、哀れみ、怒り、興奮、韓国、履修、交渉、冗談、列、向かい、人、分、婚活、勢い、国、一緒、階、交換、全員、中国、最高、英語、空間、男女、別、部屋、辺、茂み、黄昏時、夕日、金色、青、空、自由、旗、声、鶯、緑、小鳥、水面、光、湖、側、洞窟、蝋燭、学生、膝、炎、故郷、遠く、涙、信心、現地、朝食、昼食、紹介、海外、新入、機会、天井、毎回、土曜、日、暇、日用、調達、後、運転、車、果樹、近所、挨拶、土産、桃、腹、時間、素面、音楽、爆音、中心、連絡、先、手、把握、回、会話、州、陸上、男子、目標、彼氏、実家、練習、日曜、教会、中高、学校、讃美、装飾、豪華、儀式、感じ、説明、洗礼、演劇、部、学内、学期、現代、版、一瞬、自体、意識、刷り込み、月曜、就活、辟易、無理、学事、正午、建物、場所、披露、宴会、机、結婚、周り、参加、提供、台湾、華僑、黄色、最初、他、語、全て、週間、問題、山積、醍醐、明日、自信、来週、夢、何、度、眠り、朝、法事、場面、中洲、吉塚、個室、父方、母方、親戚、一同、学校、夏服、二、結び、祖父、祖母、大叔父、大叔母、従兄弟、中、隣、目、母、今、茶汲み、認知、後、時々、調子、正気、涙、箸、頭、手、実家、座敷、畳、上、緑、扇風、機、風、頬、雪見、障子、庭、松、影、東、真夏、午後、時、博多、夏、家族、昼寝、白髪、二の腕、筋肉、代、身、頃、昔、福、服、視線、前、髪、片肘、規則、寝息、人間、曾祖母、果てし、入れ子、構造、気、名字、男系、身体、記憶、遠く、音、腕、視界、自室、壁、感覚、幸福、感、先々、週、父、呼吸、停止、復活、急、先週、十、三、回忌、三十、年、半分、人数、天涯、孤独、将来、枕、無事、月、締め切り、五大、純、文学、新人、賞、提出、完了、感、無量、小説、去年、夏、先生、個人、面談、文章、下手、母、味、相手、一言、半年、才能、学期、部、創作、授業、中間、課題、万、字、中学、高校、主題、年間、解放、年、再会、物語、続き、時間、解決、短縮、頃、敬愛、先輩、文、方向、期末、自分、箱、千、結局、家、暗喩、保守、環境、箱入り、娘、価値、以外、意味、人、上記、話、自身、解釈、嫁、間、今、形、男性、主人、女性、作品、少年、年上、この頃、長編、構想、祖母、情緒、高下、苦悩、渦、現実、父殺し、殺し、両親、喧嘩、大人、人間、精神、脱出、必要、要素、某、映画、平安、時代、中、詩、感情、表現、世界、憧れ、某女、優、追悼、時、誕生、日、手紙、杖、推敲、不安、最近、中略、以下、略、先、守り、心底、成人、所々、歩、感謝、担当、編集、研究、会、章、段階、壁打ち、雑談、反映、部分、本当、次、寮、番、理解、定点、感想、最後、源、説明、不明、一人、二人、発想、公開、半、研究、寮、豚肉、野菜、炒め物、向田、邦子、片手、二、章、半分、頃、後輩、課題、質問、通話、今、食堂、ご飯、電車、バイト先、〇、駅、秒、時間、確認、時、分、白米、予約、後ろ、席、他、車、運転、満喫、近く、常識、先輩、自分、友達、方、忠告、立場、映画、私史、最高、速度、指、出発、外、窓、曇り、深夜、国道、途中、入り口、横、曲がり角、注意、予想、前倒し、最後、詰め、自嘲、助手、普段、声、感謝、言葉、午後、最近、不眠、気味、別、最初、以上、声色、自信、一、番、存在、電話、相手、絶対、二人、鳩尾、恋人、遠慮、同性、彼氏、消去、何、度、期待、思考、回路、水平、線、額面、通り、普通、人間、馬鹿、虚無、感、唇、紅茶、上唇、下唇、接着、今日、目、制限、針、集中、無言、部屋、駐車、袖、一人、徒歩、孤独、夜道、駅前、威嚇、体感、音、返却、完了、翌日、朝、大学、手洗い、死、意味、鍵、上着、本、紙、保証、扉、前、廊下、足、床、壁、強制、機会、思索、昨日、態度、共通、話題、会話、努力、中、状況、同情、見返り、体、損得、勘定、好意、向こう、人、嫌い、幸せ、脳内、心、急、愛、利己、域、訓練、者、状態、成人、寛容、親切、自慢、高慢、礼儀、利益、悪、不正、真理、手紙、日、新聞、某、広告、要約、権利、指輪、会社、感動、既視、上記、聖句、聖書、記述、本当、自己、反省、隣人、全て、完成、絆、神、最大、表れ、子、この世、記念、去年、他者、学校、寄付、支援、団体、自分、力、道、人、大学、代、若者、企画、日本、代表、経営、識者、連載、二、回、未来、著者、慶應、義塾、教授、安宅、和人、頃、経験、社会、必要、思考、小松、話、画像、環境、情報、部、兼、株式、会社、協会、理事、定義、委員、前職、研究、太平、地域、中心、一人、商品、事業、開発、再生、年、途中、部門、統括、慶応、秋、現職、兼務、脳、神経、科学、総合、技術、会議、基本、計画、専門、調査、会、数理、教育、認定、制度、検討、座長、時代、変革、政府、著書、英治、出版、読書、学生、若手、世代、縁、生活、仕送り、親、駿台、予備、寮、寮監、住み込み、寮生、相談、相手、解決、対応、連中、実、本、時間、大量、ひと夏、当時、心、奥底、感じ、何十、人生、同時、感覚、青春、一人暮らし、仕組み、家庭、教師、塾、講師、子供、雑誌、校正、割烹、内装、解体、工事、宅配、便、工場、体験、苦学、貧乏、実感、学費、以外、足、昭和、初期、大家、許可、壁、床、根太、本当、今、裏側、進学、没頭、原則、禁止、圧倒、時給、応募、倍率、運、熱狂、週、全体、年少、卒業、就活、新卒、入社、修士、院生、時、奨学、収入、月、受験、仕事、生協、短期、正確、募集、謎、記載、報酬、額、笑、採用、期間、数、誘い、結果、何、言葉、年間、平日、朝、夜、土日、両方、大当たり、分析、千、億、円、単位、売上、身体、職場、偶然、学位、博士、号、以上、成長、意味、常、半、自他、共、目、関心、知覚、夢、理由、師匠、愛嬌、状況、印象、秘訣、幸せ、逆、一日、適当、限り、生命、命、火中、栗、度、喜び、機会、多く、場合、自ら、半ば、臨死、以来、無理、声、真、気、後半、興奮、変化、判断、軸、一、選択、想定、状態、他、バイト先、本業、問題、人材、国、審議、依頼、前、傾向、源泉、展開、星、芸風、徹底、理解、出会い、自身、恩師、先、名刺、先程、通り、欽、萩本、欽一、糸井、重里、日、個人、意見、長期、考え、自体、幅、失礼、方、宝、中、世の中、一人前、一流、選手、表現、医者、弁護、政治、官僚、世界、調整、国際、公務、革新、創業、全て、対極、学校、足場、実現、機構、組織、一員、価値、創出、機能、規模、自由、本来、関係、初め、〇、得意、元、習慣、身、仮、就職、週間、睡眠、割、後、週末、投資、部分、上、内面、外部、場所、兎、角、肝、呪い、解放、以下、企業、層、参画、一緒、繰り返し、探し、志望、動機、頭、髪の毛、染め、手段、方便、目的、時点、面接、存在、感、命がけ、課題、逃げ場、稀有、意思、決定、現状、挑戦、修羅、重み、大人、近く、他人、認識、歩、説明、個別、実施、事務、局、希望\n",
            "1705\n"
          ]
        }
      ]
    }
  ]
}