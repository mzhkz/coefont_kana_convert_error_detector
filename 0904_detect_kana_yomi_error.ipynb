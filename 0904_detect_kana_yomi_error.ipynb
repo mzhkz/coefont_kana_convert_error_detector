{
  "nbformat": 4,
  "nbformat_minor": 0,
  "metadata": {
    "colab": {
      "provenance": [],
      "collapsed_sections": [],
      "toc_visible": true,
      "authorship_tag": "ABX9TyMUOcRDWmvDPWN+lXUG45lT"
    },
    "kernelspec": {
      "name": "python3",
      "display_name": "Python 3"
    },
    "language_info": {
      "name": "python"
    }
  },
  "cells": [
    {
      "cell_type": "markdown",
      "source": [
        "# 事前準備\n",
        "## 必要なパッケージ等を読み込み/割り当て"
      ],
      "metadata": {
        "id": "LIP0DVX3SAYz"
      }
    },
    {
      "cell_type": "code",
      "source": [
        "! pip install mecab-python3 unidic-lite\n",
        "! pip install plyvel\n",
        "! pip install sseclient"
      ],
      "metadata": {
        "colab": {
          "base_uri": "https://localhost:8080/"
        },
        "id": "Oig2C9aqrY7B",
        "outputId": "0366f3b5-73dc-4c84-d06c-eb08443f3b74"
      },
      "execution_count": 1,
      "outputs": [
        {
          "output_type": "stream",
          "name": "stdout",
          "text": [
            "Looking in indexes: https://pypi.org/simple, https://us-python.pkg.dev/colab-wheels/public/simple/\n",
            "Collecting mecab-python3\n",
            "  Downloading mecab_python3-1.0.5-cp37-cp37m-manylinux_2_17_x86_64.manylinux2014_x86_64.whl (574 kB)\n",
            "\u001b[K     |████████████████████████████████| 574 kB 5.1 MB/s \n",
            "\u001b[?25hCollecting unidic-lite\n",
            "  Downloading unidic-lite-1.0.8.tar.gz (47.4 MB)\n",
            "\u001b[K     |████████████████████████████████| 47.4 MB 163 kB/s \n",
            "\u001b[?25hBuilding wheels for collected packages: unidic-lite\n",
            "  Building wheel for unidic-lite (setup.py) ... \u001b[?25l\u001b[?25hdone\n",
            "  Created wheel for unidic-lite: filename=unidic_lite-1.0.8-py3-none-any.whl size=47658836 sha256=341bced5998796bfdba956d5012a46b292acd9f5abd0c6e82da9dfa5cc203179\n",
            "  Stored in directory: /root/.cache/pip/wheels/de/69/b1/112140b599f2b13f609d485a99e357ba68df194d2079c5b1a2\n",
            "Successfully built unidic-lite\n",
            "Installing collected packages: unidic-lite, mecab-python3\n",
            "Successfully installed mecab-python3-1.0.5 unidic-lite-1.0.8\n",
            "Looking in indexes: https://pypi.org/simple, https://us-python.pkg.dev/colab-wheels/public/simple/\n",
            "Collecting plyvel\n",
            "  Downloading plyvel-1.4.0-cp37-cp37m-manylinux_2_12_x86_64.manylinux2010_x86_64.whl (693 kB)\n",
            "\u001b[K     |████████████████████████████████| 693 kB 5.2 MB/s \n",
            "\u001b[?25hInstalling collected packages: plyvel\n",
            "Successfully installed plyvel-1.4.0\n"
          ]
        }
      ]
    },
    {
      "cell_type": "code",
      "source": [
        "%matplotlib inline\n",
        "import numpy as np\n",
        "import matplotlib.pyplot as plt\n",
        "import requests as reqs\n",
        "import json\n",
        "import regex\n",
        "import plyvel\n",
        "import pickle\n",
        "import MeCab\n",
        "import datetime\n",
        "from sseclient import SSEClient as EventSource"
      ],
      "metadata": {
        "id": "l_CkY7fnR_5g"
      },
      "execution_count": 96,
      "outputs": []
    },
    {
      "cell_type": "markdown",
      "source": [
        "## 作業ディレクトリ（ファイルの読み込みや保存を行う絶対パス）"
      ],
      "metadata": {
        "id": "CpKIv31V__92"
      }
    },
    {
      "cell_type": "code",
      "source": [
        "APP_WORKDIR = \"/content/drive/MyDrive/coefont_kana_converter_error_detector/\""
      ],
      "metadata": {
        "id": "Qsg_nah3_ipM"
      },
      "execution_count": 3,
      "outputs": []
    },
    {
      "cell_type": "code",
      "source": [
        "from google.colab import drive\n",
        "drive.mount('/content/drive/')"
      ],
      "metadata": {
        "colab": {
          "base_uri": "https://localhost:8080/"
        },
        "id": "omnti7xwR5FQ",
        "outputId": "d19e95ea-3492-452e-b3fd-299b401b26a4"
      },
      "execution_count": 4,
      "outputs": [
        {
          "output_type": "stream",
          "name": "stdout",
          "text": [
            "Mounted at /content/drive/\n"
          ]
        }
      ]
    },
    {
      "cell_type": "markdown",
      "source": [
        "### APIのアクセストークンなど機密情報の管理"
      ],
      "metadata": {
        "id": "eSU3i3VYR5cM"
      }
    },
    {
      "cell_type": "code",
      "source": [
        "secrets = {}\n",
        "with open(APP_WORKDIR + 'secrets.json') as f:\n",
        "  secrets = json.load(f)"
      ],
      "metadata": {
        "id": "cA9ux2ZOR9pE"
      },
      "execution_count": 5,
      "outputs": []
    },
    {
      "cell_type": "markdown",
      "source": [
        "## データベースのセットアップ（品詞の保存）\n",
        "* APIのアクセス量を減らすため、過去に変換を行った単語をデータベースに保存し、キャッシュとして利用する。\n",
        "* 読み書きの早い、Key -> Value型のローカルファイル型データベースである。\n",
        "* Ethereumのノードの内部ではトランザクションの管理とかでも使われている。\n",
        "* https://github.com/google/leveldb\n",
        "* https://plyvel.readthedocs.io/en/latest/"
      ],
      "metadata": {
        "id": "Enp-uLRI-sCO"
      }
    },
    {
      "cell_type": "code",
      "source": [
        "vocab_db = plyvel.DB(APP_WORKDIR + 'vocabs.ldb', create_if_missing=True)\n",
        "lebels_db = plyvel.DB(APP_WORKDIR + 'lebels.ldb', create_if_missing=True)\n",
        "checked_db = plyvel.DB(APP_WORKDIR + 'checked.ldb', create_if_missing=True)\n",
        "\n",
        "dbs = [vocab_db, lebels_db, checked_db]"
      ],
      "metadata": {
        "id": "hG52BVjO-q4A"
      },
      "execution_count": 57,
      "outputs": []
    },
    {
      "cell_type": "markdown",
      "source": [
        "### パスを間違えたりして再読み込みする場合は以下セルを実行してから上のセルを実行する"
      ],
      "metadata": {
        "id": "wEDPI9QY_zsA"
      }
    },
    {
      "cell_type": "code",
      "source": [
        "for db in dbs:\n",
        "  db.close()"
      ],
      "metadata": {
        "id": "z_bvONVi_wGX"
      },
      "execution_count": 56,
      "outputs": []
    },
    {
      "cell_type": "markdown",
      "source": [
        "## 各種依存記号の設定"
      ],
      "metadata": {
        "id": "qEWp89VHTI3n"
      }
    },
    {
      "cell_type": "code",
      "source": [
        "SYMBOL_READING_POINT = \"、\" # 句読点\n",
        "SYMBOL_PUNCTUATION = \"。\" # 読点\n",
        "SYMBOL_HALF_SPACE = \" \" # 半角スペース\n",
        "SYMBOL_LONG_NOTE = \"ー\" # 伸ばし棒\n",
        "SYMBOL_NONE = \"\" # 空文字\n",
        "SYMBOL_TAB = \"\\t\" # TAB\n",
        "SYMBOL_SEMICORON = \";\" # SEMICORON"
      ],
      "metadata": {
        "id": "LAPCsUi5TINt"
      },
      "execution_count": 7,
      "outputs": []
    },
    {
      "cell_type": "markdown",
      "source": [
        "# データソース別のクラス\n",
        "* 単語中抽出に必要な対象（Webページなど）を管理する\n",
        "* 名詞の抽出とMeCabによるよみラベルを管理する。\n",
        "\n",
        "## 要件\n",
        "*   Webサイトからテキストをスクレイピング（Webサイトごとにテンプレートを作成する）\n",
        "*   リンクや特殊記号を排除する\n",
        "*   文章の形態素解析を行い、漢字が含まれている名詞のみを抽出する。\n",
        "\n"
      ],
      "metadata": {
        "id": "VlMjUzYgOt88"
      }
    },
    {
      "cell_type": "markdown",
      "source": [
        "### MecabのWakatiで初期化"
      ],
      "metadata": {
        "id": "hsYGGJU30m8P"
      }
    },
    {
      "cell_type": "code",
      "source": [
        "wakati = MeCab.Tagger()"
      ],
      "metadata": {
        "id": "CSDVVldM0jXR"
      },
      "execution_count": 8,
      "outputs": []
    },
    {
      "cell_type": "markdown",
      "source": [
        "### 漢字判定用の正規表現"
      ],
      "metadata": {
        "id": "VNtVNOTQ0j2j"
      }
    },
    {
      "cell_type": "code",
      "source": [
        "KANJI_REG_PETERN = regex.compile(r'\\p{Script=Han}+')"
      ],
      "metadata": {
        "id": "Ym4Waerl0Dwy"
      },
      "execution_count": 9,
      "outputs": []
    },
    {
      "cell_type": "markdown",
      "source": [
        "## ローダー"
      ],
      "metadata": {
        "id": "uRtAIwNx2E4m"
      }
    },
    {
      "cell_type": "code",
      "execution_count": 10,
      "metadata": {
        "id": "OTxjS4vLOpg_"
      },
      "outputs": [],
      "source": [
        "class DataSource:\n",
        "  def __init__(self):\n",
        "    self.vocabs = []\n",
        "    self.labels = [] \n",
        "\n",
        "  def _fetchData(self): # 文章（テキストデータ）を読み込む、ここは各サービスごとに取得の方法が異なるためオーバーライドする。\n",
        "    pass\n",
        "\n",
        "  def preprosessing(self, subject):\n",
        "    handled = self._replaceSymbol(subject) #ここから文字列\n",
        "    return handled\n",
        "\n",
        "  def _replaceSymbol(self, subject):\n",
        "    sentence = subject.replace(SYMBOL_TAB, SYMBOL_NONE)\n",
        "    return sentence\n",
        "\n",
        "  def load(self):\n",
        "    text = self._fetchData()\n",
        "    text = self.preprosessing(text)\n",
        "    vocabs, labels = self._analysis(text)\n",
        "    self.vocabs = vocabs\n",
        "    self.labels = labels \n",
        "\n",
        "  def _analysis(self, subject):\n",
        "    result = wakati.parse(subject) # 形態素解析分析 tab分けで結果が出てくる\n",
        "    vocabs = [line.split(SYMBOL_TAB) for line in result.splitlines()]\n",
        "    nouns = [vocab_data for vocab_data in vocabs if len(vocab_data) >= 4 and \"名詞\" in vocab_data[4][0:2] and KANJI_REG_PETERN.search(vocab_data[0])] # 漢字を含む名詞のみ抽出\n",
        "    nouns, labels = [noun[0] for noun in nouns],  [noun[2] for noun in nouns] # 品詞とかな変換を分割\n",
        "    unique_nouns = []\n",
        "    unique_labels = []\n",
        "    for noun, label in zip(nouns, labels):\n",
        "      if noun not in unique_nouns:\n",
        "        unique_nouns.append(noun)\n",
        "        unique_labels.append(label)\n",
        "    return unique_nouns, unique_labels # 名詞とMeCabによるかな変換を取得\n",
        "\n",
        "  def save(self, new_count=False):\n",
        "    reg_vocab_count = 0\n",
        "    for vocab, label in zip(self.vocabs, self.labels):\n",
        "      binary_key = vocab.encode(\"utf-8\") # key for level db\n",
        "      binary_lebel = label.encode(\"utf-8\") # key for level db\n",
        "      if new_count and vocab_db.get(binary_key) is None:\n",
        "        reg_vocab_count +=1\n",
        "      vocab_db.put(binary_key, binary_lebel)\n",
        "    return reg_vocab_count"
      ]
    },
    {
      "cell_type": "markdown",
      "source": [
        "## 各種サービスなど、オケージョンごとのローダー\n",
        "\n",
        "ローダーの対象\n",
        "*   note.com （記事サービス）\n",
        "*   wikipedia.org (辞書)\n",
        "*   ローカルファイル\n",
        "*   変数\n",
        "\n"
      ],
      "metadata": {
        "id": "6HYBpVtp2GpO"
      }
    },
    {
      "cell_type": "markdown",
      "source": [
        "### 変数からテキストを読み込む"
      ],
      "metadata": {
        "id": "HeSgc6ik0_72"
      }
    },
    {
      "cell_type": "code",
      "source": [
        "class ArrayDataSource(DataSource):\n",
        "  def __init__(self, vocabs, labels):\n",
        "    super().__init__()\n",
        "    self.vocabs = vocabs\n",
        "    self.labels = labels \n",
        "\n",
        "  def load(self):\n",
        "    pass\n",
        "\n",
        "  def _analysis(self, subject):\n",
        "    pass\n",
        "\n",
        "  def _fetchData(self):\n",
        "    return \"\".self.vocabs"
      ],
      "metadata": {
        "id": "kZur9LBQxBnt"
      },
      "execution_count": 11,
      "outputs": []
    },
    {
      "cell_type": "markdown",
      "source": [
        "### ローカルのテキストファイルからテキストを読み込む（バイナリファイル未対応）"
      ],
      "metadata": {
        "id": "YDovBKdZ1yhk"
      }
    },
    {
      "cell_type": "code",
      "source": [
        "class LocalDataSource(DataSource):\n",
        "  def __init__(self, file_path):\n",
        "    super().__init__()\n",
        "    self.file_path = file_path\n",
        "\n",
        "  def _fetchData(self):\n",
        "    with open(self.file_path) as f:\n",
        "      lines = f.readlines()\n",
        "      self.source = \"\".join(lines)\n",
        "    return self.source"
      ],
      "metadata": {
        "id": "dCKdod141LF1"
      },
      "execution_count": 12,
      "outputs": []
    },
    {
      "cell_type": "markdown",
      "source": [
        "### Note API v2\n",
        "note.comから記事を取得する"
      ],
      "metadata": {
        "id": "niCqReDO1uOs"
      }
    },
    {
      "cell_type": "code",
      "source": [
        "class NoteDataSource(DataSource):\n",
        "  def __init__(self, note_article_key):\n",
        "    super().__init__()\n",
        "    self.note_article_key = note_article_key\n",
        "\n",
        "  def _fetchData(self):\n",
        "    url = \"https://note.com/api/v1/notes/{}\".format(self.note_article_key)\n",
        "    response = reqs.get(url=url)\n",
        "    text = response.text\n",
        "    response_json = json.loads(text)\n",
        "    return response_json[\"data\"][\"body\"]"
      ],
      "metadata": {
        "id": "NBfLg5yC02Pv"
      },
      "execution_count": 13,
      "outputs": []
    },
    {
      "cell_type": "markdown",
      "source": [
        "### Wikipedia\n",
        "\n",
        "https://ja.wikipedia.org/w/api.php?format=json&action=query&prop=extracts&exintro&explaintext&redirects=1&titles=%E6%85%B6%E6%87%89%E7%BE%A9%E5%A1%BE%E5%A4%A7%E5%AD%A6"
      ],
      "metadata": {
        "id": "bz-PMmHI2apr"
      }
    },
    {
      "cell_type": "code",
      "source": [
        "class WikipediaDataSource(DataSource):\n",
        "  def __init__(self, title):\n",
        "    super().__init__()\n",
        "    self.title = title\n",
        "\n",
        "  def _fetchData(self):\n",
        "    url = \"https://ja.wikipedia.org/w/api.php?format=json&action=query&prop=extracts&exintro&explaintext&redirects=1\"\n",
        "    params = {\n",
        "        \"titles\": self.title,\n",
        "    }\n",
        "    response = reqs.get(url=url, params=params)\n",
        "    text = response.text\n",
        "    response_json = json.loads(text)\n",
        "    return list(response_json[\"query\"][\"pages\"].values())[0].get(\"extract\", \"\")"
      ],
      "metadata": {
        "id": "UR8adA3m08z4"
      },
      "execution_count": 44,
      "outputs": []
    },
    {
      "cell_type": "markdown",
      "source": [
        "### 一時開発用データセット"
      ],
      "metadata": {
        "id": "RpJhw7bl62Zb"
      }
    },
    {
      "cell_type": "code",
      "source": [
        "class TempDataSource(DataSource):\n",
        "  def __init__(self):\n",
        "    super().__init__()\n",
        "\n",
        "  # loadを上書き\n",
        "  def load(self):\n",
        "    note_articles_id = [\n",
        "      \"n4ece27ed112b\",\n",
        "      \"n0433243163f5\",\n",
        "      \"n2861fae03861\",\n",
        "      \"n6965c22952ac\",\n",
        "      \"ndf3aed673e7f\",\n",
        "      \"n766dc842145d\",\n",
        "      \"ndace078a3cb1\"\n",
        "    ]\n",
        "    data_sources = [NoteDataSource(id) for id in note_articles_id]\n",
        "    nouns = []\n",
        "    labels = []\n",
        "    for data_source in data_sources:\n",
        "      data_source.load()\n",
        "      nouns = nouns + data_source.vocabs\n",
        "      labels = labels + data_source.labels\n",
        "    # self.vocabs = nouns[:83]\n",
        "    # self.labels = labels[:83]\n",
        "    self.vocabs = nouns\n",
        "    self.labels = labels"
      ],
      "metadata": {
        "id": "5ZJ54oqW64Tv"
      },
      "execution_count": 33,
      "outputs": []
    },
    {
      "cell_type": "markdown",
      "source": [
        "## 各種ローダーのテスト"
      ],
      "metadata": {
        "id": "dYRPRiTr18CJ"
      }
    },
    {
      "cell_type": "code",
      "source": [
        "test01_note_datasource = NoteDataSource(note_article_key=\"n4ece27ed112b\")\n",
        "test01_note_datasource.load()\n",
        "\n",
        "print(test01_note_datasource.vocabs)\n",
        "print(test01_note_datasource.labels)\n",
        "\n",
        "test01_note_datasource.save(new_count=True)"
      ],
      "metadata": {
        "colab": {
          "base_uri": "https://localhost:8080/"
        },
        "id": "KbxdLpJqyQ8I",
        "outputId": "418753b9-4182-4e56-c4e5-5058945c62e8"
      },
      "execution_count": 16,
      "outputs": [
        {
          "output_type": "stream",
          "name": "stdout",
          "text": [
            "['大学', '入学', '時代', '人間', '選択', '幸せ', '伝播', '自分', '不安', '勉強', '自負', '技術', '修得', '人', '一', '倍', '熱量', '努力', '実際', '学生', '身分', '個人', '開発', '仕事', '社会', '感覚', '自身', '生活', '半ば', '先生', '方', '言葉', '魂', '所属', '研究', '会', '友人', '価値', '方向', '言語', '学び', '本質', '事実', '記事', '今後', '記録', '執筆', '迷走', '逆', '体得', '宝物', '月', '終わり', '勢い', '文中', '箇所', '筆者', '教え', '理解', '問題', '発見', '解決', '最近', '以外', '中等', '教育', '学校', '反面', '事例', '背景', '論点', '整理', '視点', '在学', '骨', '髄', '変容', '意見', '参考', '本当', '少数', '解釈', '考え', '注意', '公式', '見解', '一切', '独断', '偏見', '構成', '主張', '念頭', '進学', '意図', '特徴', '理系', '文系', '区別', '自由', '分野', '横断', '内外', '耳', '着眼', '点', '縦割り', '意識', '必要', '対応', '世界', '帰着', '複雑', '議論', '担保', '題材', '享受', '世の中', '発展', '環境', '注目', '例', '導入', '暮らし', '以前', '単位', '失敗', '典型', '話題', '目的', '不在', '情報', '恩恵', '問い', '探索', '方法', '論', '先行', '取り組み', '事', '欲望', '合理', '道筋', '分断', '限り', '人々', '単体', '寄与', '根幹', '後者', '先導', '人材', '育成', '力', '最終', '身', '年間', '結果', '創出', '伝達', '付加', '創造', '連鎖', '今', '命題', '量産', '輸出', '変化', '通り', '知識', '問いかけ', '性質', '着目', '高校', '思考', '段', '指導', '要領', '受験', '上', '補完', '大体', '偏差', '目標', '塾', '多く', '見直し', '先ほど', '未来', '現在', '逆算', '実現', '部分', '気づき', '時間', '頭', '番', '学部', '魅力', '他', '評価', '軸', '自ら', '場所', '全知', '全能', '認識', '自走', '維持', '原点', '生産', '活動', '土台', '要約', '具材', '存在', '深み', '説得', '要求', '学問', '幅', '用意', '構造', '体', '能力', '主眼', '基本', '主', '必然', '現象', '自体', '最初', '脱却', '用語', '集中', '経営', '達成', '勢力', '事業', '拡大', '話', '説明', '本格', '前', '合格', '後', '形', '経験', '皆', '裏', '相対', '革新', '意義', '巷', '機会', '二', '条件', '分類', '頭出し', '趣旨', '専攻', '期待', '空間', '浸透', '現状', '素養', '場面', '強み', '理由', '確立', '余白', '子孫', '重点', '目', '共有']\n",
            "['ダイガク', 'ニュウガク', 'ジダイ', 'ニンゲン', 'センタク', 'シアワセ', 'デンパ', 'ジブン', 'フアン', 'ベンキョウ', 'ジフ', 'ギジュツ', 'シュウトク', 'ヒト', 'イチ', 'バイ', 'ネツリョウ', 'ドリョク', 'ジッサイ', 'ガクセイ', 'ミブン', 'コジン', 'カイハツ', 'シゴト', 'シャカイ', 'カンカク', 'ジシン', 'セイカツ', 'ナカバ', 'センセイ', 'ホウ', 'コトバ', 'タマシイ', 'ショゾク', 'ケンキュウ', 'カイ', 'ユウジン', 'カチ', 'ホウコウ', 'ゲンゴ', 'マナビ', 'ホンシツ', 'ジジツ', 'キジ', 'コンゴ', 'キロク', 'シッピツ', 'メイソウ', 'ギャク', 'タイトク', 'タカラモノ', 'ガツ', 'オワリ', 'イキオイ', 'ブンチュウ', 'カショ', 'ヒッシャ', 'オシエ', 'リカイ', 'モンダイ', 'ハッケン', 'カイケツ', 'サイキン', 'イガイ', 'チュウトウ', 'キョウイク', 'ガッコウ', 'ハンメン', 'ジレイ', 'ハイケイ', 'ロンテン', 'セイリ', 'シテン', 'ザイガク', 'ホネ', 'ズイ', 'ヘンヨウ', 'イケン', 'サンコウ', 'ホントウ', 'ショウスウ', 'カイシャク', 'カンガエ', 'チュウイ', 'コウシキ', 'ケンカイ', 'イッサイ', 'ドクダン', 'ヘンケン', 'コウセイ', 'シュチョウ', 'ネントウ', 'シンガク', 'イト', 'トクチョウ', 'リケイ', 'ブンケイ', 'クベツ', 'ジユウ', 'ブンヤ', 'オウダン', 'ナイガイ', 'ミミ', 'チャクガン', 'テン', 'タテワリ', 'イシキ', 'ヒツヨウ', 'タイオウ', 'セカイ', 'キチャク', 'フクザツ', 'ギロン', 'タンポ', 'ダイザイ', 'キョウジュ', 'ヨノナカ', 'ハッテン', 'カンキョウ', 'チュウモク', 'レイ', 'ドウニュウ', 'クラシ', 'イゼン', 'タンイ', 'シッパイ', 'テンケイ', 'ワダイ', 'モクテキ', 'フザイ', 'ジョウホウ', 'オンケイ', 'トイ', 'タンサク', 'ホウホウ', 'ロン', 'センコウ', 'トリクミ', 'コト', 'ヨクボウ', 'ゴウリ', 'ミチスジ', 'ブンダン', 'カギリ', 'ヒトビト', 'タンタイ', 'キヨ', 'コンカン', 'コウシャ', 'センドウ', 'ジンザイ', 'イクセイ', 'チカラ', 'サイシュウ', 'ミ', 'ネンカン', 'ケッカ', 'ソウシュツ', 'デンタツ', 'フカ', 'ソウゾウ', 'レンサ', 'イマ', 'メイダイ', 'リョウサン', 'ユシュツ', 'ヘンカ', 'トオリ', 'チシキ', 'トイカケ', 'セイシツ', 'チャクモク', 'コウコウ', 'シコウ', 'ダン', 'シドウ', 'ヨウリョウ', 'ジュケン', 'ウエ', 'ホカン', 'ダイタイ', 'ヘンサ', 'モクヒョウ', 'ジュク', 'オオク', 'ミナオシ', 'サキホド', 'ミライ', 'ゲンザイ', 'ギャクサン', 'ジツゲン', 'ブブン', 'キヅキ', 'ジカン', 'アタマ', 'バン', 'ガクブ', 'ミリョク', 'タ', 'ヒョウカ', 'ジク', 'ミズカラ', 'バショ', 'ゼンチ', 'ゼンノウ', 'ニンシキ', 'ジソウ', 'イジ', 'ゲンテン', 'セイサン', 'カツドウ', 'ドダイ', 'ヨウヤク', 'グザイ', 'ソンザイ', 'フカミ', 'セットク', 'ヨウキュウ', 'ガクモン', 'ハバ', 'ヨウイ', 'コウゾウ', 'タイ', 'ノウリョク', 'シュガン', 'キホン', 'シュ', 'ヒツゼン', 'ゲンショウ', 'ジタイ', 'サイショ', 'ダッキャク', 'ヨウゴ', 'シュウチュウ', 'ケイエイ', 'タッセイ', 'セイリョク', 'ジギョウ', 'カクダイ', 'ハナシ', 'セツメイ', 'ホンカク', 'マエ', 'ゴウカク', 'アト', 'カタチ', 'ケイケン', 'ミナ', 'ウラ', 'ソウタイ', 'カクシン', 'イギ', 'チマタ', 'キカイ', 'ニ', 'ジョウケン', 'ブンルイ', 'アタマダシ', 'シュシ', 'センコウ', 'キタイ', 'クウカン', 'シントウ', 'ゲンジョウ', 'ソヨウ', 'バメン', 'ツヨミ', 'リユウ', 'カクリツ', 'ヨハク', 'シソン', 'ジュウテン', 'メ', 'キョウユウ']\n"
          ]
        },
        {
          "output_type": "execute_result",
          "data": {
            "text/plain": [
              "0"
            ]
          },
          "metadata": {},
          "execution_count": 16
        }
      ]
    },
    {
      "cell_type": "code",
      "source": [
        "test01_wiki_datasource = WikipediaDataSource(title=\"慶應義塾大学\")\n",
        "test01_wiki_datasource.load()\n",
        "\n",
        "print(test01_wiki_datasource.vocabs)\n",
        "print(test01_wiki_datasource.labels)\n",
        "\n",
        "test01_wiki_datasource.save(new_count=True)"
      ],
      "metadata": {
        "colab": {
          "base_uri": "https://localhost:8080/"
        },
        "id": "TiTVUKj-4PGY",
        "outputId": "52657faa-0788-4f94-d2aa-f52d3c2ee191"
      },
      "execution_count": 17,
      "outputs": [
        {
          "output_type": "stream",
          "name": "stdout",
          "text": [
            "['慶應', '義塾', '大学', '英語', '東京', '都', '港', '区', '三田', '丁目', '番', '号', '本部', '日本', '私立', '年', '創立', '設置', '略称', '慶大', '應', '旧', '字体', '報道', '慶応', '表記']\n",
            "['ケイオウ', 'ギジュク', 'ダイガク', 'エイゴ', 'トウキョウ', 'ト', 'ミナト', 'ク', 'ミタ', 'チョウメ', 'バン', 'ゴウ', 'ホンブ', 'ニッポン', 'シリツ', 'ネン', 'ソウリツ', 'セッチ', 'リャクショウ', 'ケイダイ', '應', 'キュウ', 'ジタイ', 'ホウドウ', 'ケイオウ', 'ヒョウキ']\n"
          ]
        },
        {
          "output_type": "execute_result",
          "data": {
            "text/plain": [
              "0"
            ]
          },
          "metadata": {},
          "execution_count": 17
        }
      ]
    },
    {
      "cell_type": "markdown",
      "source": [
        "# コンバーターのクラス\n",
        "\n",
        "* 漢字をかな変換するコンバータ\n",
        "* クラスとして機能を丸めることで複数のコンバーターの差異を吸収する。コンバーターを適用する順序を入れ替えるなど"
      ],
      "metadata": {
        "id": "fXVrUefMPnF4"
      }
    },
    {
      "cell_type": "code",
      "source": [
        "class BaseConverter:\n",
        "  def __init__(self, conveter_name):\n",
        "    self.converter_name = conveter_name\n",
        "    self.split_code = SYMBOL_SEMICORON\n",
        "\n",
        "  def preprosessing(self, subject):\n",
        "    return subject\n",
        "\n",
        "  def convert(self, vocabs):\n",
        "    sentence = SYMBOL_PUNCTUATION.join(vocabs) + SYMBOL_PUNCTUATION # 各単語をsplit tokenを付けて文字列化\n",
        "    result = self._execute_api(sentence)\n",
        "    # result = result.replace(SYMBOL_PUNCTUATION, SYMBOL_NONE)\n",
        "    converted_vocabs = [self.preprosessing(vocab) for vocab in result.split(SYMBOL_PUNCTUATION)] #文字列をsplit tokenを用いて単語ごとにリスト化\n",
        "    return converted_vocabs\n",
        "\n",
        "  def get_indexkey(self, noun):\n",
        "    return \"{}_{}\".format(self.converter_name, noun).encode(\"utf-8\")"
      ],
      "metadata": {
        "id": "8NiZ62R3RxUz"
      },
      "execution_count": 26,
      "outputs": []
    },
    {
      "cell_type": "markdown",
      "source": [
        "## CoeFont API (target)\n",
        "* CoefontのAPIのアクセス方法とアクセスキーが変わり次第、実装する"
      ],
      "metadata": {
        "id": "8LoJLI8UOGZ4"
      }
    },
    {
      "cell_type": "code",
      "source": [
        "SYMBOL_TRIGGER_1 = [\n",
        "        [\"オ\", \"コ\", \"ソ\", \"ト\", \"ノ\", \"ホ\", \"モ\", \"ヨ\", \"ロ\", \"ヲ\"], # o\n",
        "        [\"エ\", \"ケ\", \"セ\", \"ネ\", \"ヘ\", \"メ\", \"レ\"], # e removed テ\n",
        "        [\"ア\", \"カ\", \"サ\", \"タ\", \"ナ\", \"ハ\", \"マ\", \"ラ\", \"ヤ\", \"ラ\", \"ワ\"], # a\n",
        "        [\"ュ\", \"ョ\"],\n",
        "        [\"ゴ\", \"ゾ\", \"ド\", \"ボ\", \"ポ\", \"ゴ\", \"ゾ\", \"ド\", \"ボ\"],\n",
        "        [\"ギ\", \"ジ\", \"ヂ\", \"ビ\", \"ピ\", \"ギ\", \"ジ\", \"ジ\", \"ビ\",\"ピ\"],\n",
        "        [\"イ\", \"キ\", \"シ\", \"千\", \"二\", \"ヒ\", \"ミ\", \"リ\"], # i \n",
        "        [\"ウ\", \"ク\", \"ス\", \"ツ\", \"ヌ\", \"フ\", \"ム\", \"ユ\", \"ル\"] # u\n",
        "        ]\n",
        "\n",
        "SYMBOL_TRIGGER_2 = [\n",
        "        [\"ウ\"],\n",
        "        [\"イ\"],\n",
        "        [\"ア\"],\n",
        "        [\"ウ\"],\n",
        "        [\"ウ\"],\n",
        "        [\"イ\"],\n",
        "        [\"イ\"],\n",
        "        [\"ウ\"]\n",
        "        ]\n",
        "\n",
        "class CoeFontConverter(BaseConverter):\n",
        "  def __init__(self):\n",
        "    super().__init__(\"coefont\")\n",
        "\n",
        "  def _execute_api(self, sentence):\n",
        "    # coefontの実装\n",
        "    url = secrets[\"coefont_api_endpoint\"]\n",
        "    params = {\n",
        "        \"text\": sentence,\n",
        "    }\n",
        "\n",
        "    r = reqs.post(url=url, data=params)\n",
        "    response_text = r.text\n",
        "    print(\"** CoeFont API:\", response_text)\n",
        "    response_json = json.loads(response_text)\n",
        "    return response_json[\"yomi\"]\n",
        "\n",
        "  def preprosessing(self, subject):\n",
        "    list_kat_subject = list(subject)\n",
        "    kat_subject_size = len(list_kat_subject)-1\n",
        "    idkc = 0\n",
        "    while  idkc < kat_subject_size:\n",
        "      kat_char_pointer = list_kat_subject[idkc]\n",
        "      kat_char_next = list_kat_subject[idkc+1]\n",
        "      if kat_char_next == SYMBOL_LONG_NOTE:\n",
        "         for ids, symbols in enumerate(SYMBOL_TRIGGER_1):\n",
        "           if kat_char_pointer in symbols:\n",
        "               list_kat_subject[idkc+1] = SYMBOL_TRIGGER_2[ids][0]\n",
        "               idkc+=1\n",
        "      idkc+=1\n",
        "    return \"\".join(list_kat_subject)"
      ],
      "metadata": {
        "id": "nHuLN8qLQOfu"
      },
      "execution_count": 27,
      "outputs": []
    },
    {
      "cell_type": "markdown",
      "source": [
        "## 一時的開発用コンバータ\n",
        "\n",
        "*   CoeFontの出力を想定して、特定の単語を入力した静的な結果を返却する\n",
        "\n"
      ],
      "metadata": {
        "id": "7QlXXq2k8bRs"
      }
    },
    {
      "cell_type": "code",
      "source": [
        "class TempCoeFontConverter(CoeFontConverter):\n",
        "  def __init__(self):\n",
        "    super().__init__()\n",
        "\n",
        "  def _execute_api(self, sentence):\n",
        "    # coefontの実装\n",
        "    # 一時的な実装 決まった文章を返す\n",
        "    source = None\n",
        "    with open(APP_WORKDIR + \"response_commma.json\") as f:\n",
        "      source = json.load(f)\n",
        "    return source[\"yomi\"]"
      ],
      "metadata": {
        "id": "y5NXAUpe8Qwn"
      },
      "execution_count": 28,
      "outputs": []
    },
    {
      "cell_type": "markdown",
      "source": [
        "## Goo API\n",
        "* かな変換APIを使用する。\n",
        "* ドキュメントはこちら\n",
        "  * https://labs.goo.ne.jp/api/jp/hiragana-translation/"
      ],
      "metadata": {
        "id": "Hnp4QEbQOLne"
      }
    },
    {
      "cell_type": "code",
      "source": [
        "class GooConverter(BaseConverter):\n",
        "  def __init__(self, app_id):\n",
        "    super().__init__(\"goo\")\n",
        "    self.app_id = app_id\n",
        "\n",
        "  def _execute_api(self, sentence):\n",
        "    url = \"https://labs.goo.ne.jp/api/hiragana\"\n",
        "    params = {\n",
        "        \"app_id\": self.app_id,\n",
        "        \"sentence\": sentence,\n",
        "        \"output_type\": \"katakana\"\n",
        "    }\n",
        "\n",
        "    headers = {'Content-Type': 'application/json'}\n",
        "\n",
        "    r = reqs.post(url=url, data=params)\n",
        "    response_text = r.text\n",
        "    print(\"** Goo API:\", response_text)\n",
        "    response_json = json.loads(response_text)\n",
        "    return response_json.get(\"converted\", \"\")\n",
        "\n",
        "  def preprosessing(self, subject):\n",
        "     return subject.replace(SYMBOL_HALF_SPACE, SYMBOL_NONE)"
      ],
      "metadata": {
        "id": "VhNvRmfDvruk"
      },
      "execution_count": 78,
      "outputs": []
    },
    {
      "cell_type": "markdown",
      "source": [
        "## Yahoo API\n",
        "* かな変換APIを使用する。\n",
        "* ドキュメントはこちら\n",
        "  * https://developer.yahoo.co.jp/webapi/jlp/furigana/v2/furigana.html\n",
        "  * https://developer.yahoo.co.jp/webapi/jlp/sample/sample10.html"
      ],
      "metadata": {
        "id": "nBQpqPWhHcWu"
      }
    },
    {
      "cell_type": "code",
      "source": [
        "class YahooConverter(BaseConverter):\n",
        "  def __init__(self, app_id):\n",
        "    super().__init__(\"yahoo\")\n",
        "    self.app_id = app_id\n",
        "\n",
        "  def _execute_api(self, sentence):\n",
        "    url = \"https://jlp.yahooapis.jp/FuriganaService/V2/furigana\"\n",
        "    params = {\n",
        "      \"id\": \"abc\",\n",
        "      \"jsonrpc\": \"2.0\",\n",
        "      \"method\": \"jlp.furiganaservice.furigana\",\n",
        "      \"params\": {\n",
        "        \"q\": sentence,\n",
        "      }\n",
        "    }\n",
        "    headers = {\n",
        "        \"Content-Type\": \"application/json\",\n",
        "        \"User-Agent\": \"Yahoo AppID: {}\".format(self.app_id),\n",
        "    }\n",
        "\n",
        "    params = json.dumps(params).encode()\n",
        "    r = reqs.post(url=url, data=params, headers=headers)\n",
        "    response_text = r.text\n",
        "    print(\"** Yahoo API:\", response_text)\n",
        "    response_json = json.loads(response_text)\n",
        "    kana_list = [word.get(\"furigana\", word.get(\"surface\", \"ERR\")) for word in response_json[\"result\"][\"word\"]]\n",
        "    return SYMBOL_NONE.join(kana_list)\n",
        "\n",
        "  def _hiragana_to_katakana(self, target):\n",
        "    return ''.join([chr(n+96) if (12352 < n and n < 12439) or n==12445 or n==12446 else chr(n) for n in [ord(c) for c in target]])\n",
        "\n",
        "  def preprosessing(self, subject):\n",
        "    subject = self._hiragana_to_katakana(subject)\n",
        "    subject = subject.replace(SYMBOL_HALF_SPACE, SYMBOL_NONE)\n",
        "    return subject"
      ],
      "metadata": {
        "id": "5iKa08M4Hi9h"
      },
      "execution_count": 79,
      "outputs": []
    },
    {
      "cell_type": "markdown",
      "source": [
        "# データソース毎に読みの検証を行う\n",
        "* コンバータを用いてCoeFontの単語出力と比較を行う。\n",
        "* 比較の結果、不一致だった場合は他のコンバーターにおいても比較を行い、正解ラベルを付与できるよう分布を収束させる。"
      ],
      "metadata": {
        "id": "8n6ZLt9ZPd09"
      }
    },
    {
      "cell_type": "code",
      "source": [
        "class ConverterCompetition:\n",
        "  def __init__(self, converters):\n",
        "    self.converters = converters\n",
        "\n",
        "  # 指定されたデータソースをもとに、指定されたコンバータでかな変換を行う。\n",
        "  # 名詞と、かな変換の結果をタプル型で返却する。\n",
        "  def _convert_all_on(self, data_source, converter_id, reset_cache=False):\n",
        "    vocabs = data_source.vocabs\n",
        "    converter = self.converters[converter_id] # 指定されたコンバータを取得\n",
        "    db_keys = [converter.get_indexkey(vocab) for vocab in vocabs] # 名詞をデータベースに対応するIDに変換\n",
        "\n",
        "    caches = []\n",
        "    if reset_cache:\n",
        "      caches = [None for db_key in db_keys] # キャッシュ削除\n",
        "    else:\n",
        "      caches = [lebels_db.get(db_key) for db_key in db_keys] # データベースに問い合わせる。キャッシュがなかったらNoneが設定される\n",
        "\n",
        "    entred_vocab = [vocab for idv, vocab in enumerate(vocabs) if caches[idv] is None] # キャッシュが存在せず、新しくAPIから取得する名詞一覧\n",
        "    new_yomi_labels = [] # 変換された読みを保存するためのリスト\n",
        "\n",
        "    if (len(entred_vocab) > 0): # 新しくAPIからかな変換を取得する必要があるか確かめる\n",
        "      new_yomi_labels = converter.convert(entred_vocab)\n",
        "\n",
        "    for vocab, label in zip(entred_vocab, new_yomi_labels):\n",
        "      lebels_db.put(converter.get_indexkey(vocab), label.encode(\"utf-8\")) # APIから取得したよみをデータベースに保存（キャッシュとなり、以降これが使われる）\n",
        "\n",
        "    yomi_labels = []\n",
        "    iter_new_yomi_labels = iter(new_yomi_labels)\n",
        "    for idc, cache in enumerate(caches):\n",
        "      if cache:\n",
        "        yomi_labels.append(cache.decode(\"utf-8\")) # キャッシュ（db）にある場合はキャッシュから取得\n",
        "      else:\n",
        "        yomi_labels.append(next(iter_new_yomi_labels)) # ない場合は、先ほど変換した結果から取得\n",
        "    \n",
        "    return vocabs, yomi_labels\n",
        "\n",
        "  # 指定されたデータソースをもとに、指定されたコンバータ間で結果を比較する\n",
        "  # 不一致の単語とその結果をタプル型で返却する\n",
        "  def compete_to(self, data_source, subject_converter_id, target_converter_id, reset_cache=False):\n",
        "    vocabs, yomi_labels_0 = self._convert_all_on(data_source, subject_converter_id, reset_cache)\n",
        "    _, yomi_labels_1 = self._convert_all_on(data_source, target_converter_id, reset_cache)\n",
        "\n",
        "    errors = []\n",
        "    for idn, noun in enumerate(vocabs):\n",
        "      yomi_label_0 = yomi_labels_0[idn]\n",
        "      yomi_label_1 = yomi_labels_1[idn]\n",
        "      if yomi_label_0 != yomi_label_1: # 読みラベルを比較して、一致しなかった場合errorsに追加\n",
        "         errors.append([noun, yomi_label_0, yomi_label_1])\n",
        "\n",
        "    return errors\n",
        "\n",
        "  # 指定されたデータソースをもとに、Mecabと指定されたコンバータとの結果を比較する\n",
        "  # 不一致の単語とその結果をタプル型で返却する\n",
        "  def compete_to_mecab(self, data_source, converter_id=0, reset_cache=False):\n",
        "    vocabs, yomi_labels = self._convert_all_on(data_source, converter_id, reset_cache)\n",
        "\n",
        "    errors = []\n",
        "    for idn, noun in enumerate(vocabs):\n",
        "      yomi_label = yomi_labels[idn]\n",
        "      mecab_label = data_source.labels[idn]\n",
        "      if yomi_label != mecab_label: # 読みラベルを比較して、一致しなかった場合errorsに追加\n",
        "         errors.append([noun, yomi_label+\":c_{}\".format(self.converters[converter_id].converter_name), mecab_label + \":mecab\"]) # 単語, 比較対象の出力, mecabの出力\n",
        "\n",
        "    return errors\n",
        "\n",
        "  # 指定されたデータソースををもとに、すべてのコンバータの結果を表示する、\n",
        "  # ただし、対象はMeCabとCoeFontの比較で不一致の名詞のみ\n",
        "  # 不一致の単語に対する各コンバーター結果を辞書型で返却する。\n",
        "  def compete_to_all(self, data_source, reset_cache=False):\n",
        "    # MeCabのエラー抽出\n",
        "    errors_0 = self.compete_to_mecab(data_source, 0, reset_cache) # mecabとconverter 0を比較する\n",
        "    errors = {error_0[0]:[error_0[1], error_0[2]] for error_0 in errors_0} #エラーを格納するdict \n",
        "    errors_0_nouns = errors.keys()\n",
        "\n",
        "    # MeCabと一致しなかった単語を外部APIにかける、\n",
        "    for idc in range(1, len(self.converters)):\n",
        "      array_dataset = ArrayDataSource(errors_0_nouns, []) # 対象の単語をデータソース化\n",
        "      vocabs, yomi_labels = self._convert_all_on(array_dataset, idc, reset_cache) #APIの結果を取得\n",
        "      for checked_vocab, checked_label in zip(vocabs, yomi_labels):\n",
        "        errors[checked_vocab].append(checked_label)\n",
        "    return errors\n"
      ],
      "metadata": {
        "id": "FHm61F4SQOyl"
      },
      "execution_count": 108,
      "outputs": []
    },
    {
      "cell_type": "markdown",
      "source": [
        "# 誤字の検出と、複数APIを用いた結果の分布を取得する"
      ],
      "metadata": {
        "id": "MbPtolIyDVIn"
      }
    },
    {
      "cell_type": "markdown",
      "source": [
        "### データソースのロード"
      ],
      "metadata": {
        "id": "jhcqurD9FxZ1"
      }
    },
    {
      "cell_type": "code",
      "source": [
        "test_04_datasource = TempDataSource()\n",
        "test_04_datasource.load() # 単語の分割とMeCabのラベルを取得する\n",
        "\n",
        "# データソースの一致を確認\n",
        "test_04_result = TempCoeFontConverter().convert([])\n",
        "print(len((test_04_datasource.vocabs)), len(test_04_result))\n",
        "print(test_04_result[0], test_04_datasource.vocabs[0])"
      ],
      "metadata": {
        "colab": {
          "base_uri": "https://localhost:8080/"
        },
        "id": "s7gLm0MCAVik",
        "outputId": "e9143967-a72f-4eaf-88c6-069957acc9e3"
      },
      "execution_count": 34,
      "outputs": [
        {
          "output_type": "stream",
          "name": "stdout",
          "text": [
            "1705 2922\n",
            "ダイガク 大学\n"
          ]
        }
      ]
    },
    {
      "cell_type": "markdown",
      "source": [
        "### コンバーターの初期化と比較\n",
        "*   MeCabとCoeFontの出力を比較する\n",
        "*   比較が一致しなかった場合、他のコンバータで検証する。\n",
        "*   すべてのコンバータの出力をdict型（keyに名詞、valueに各コンバーターの結果の配列）にまとめる\n",
        "\n"
      ],
      "metadata": {
        "id": "AI8rDV0dF37t"
      }
    },
    {
      "cell_type": "code",
      "source": [
        "test_04_converters = [TempCoeFontConverter(), GooConverter(app_id=secrets[\"goo_api_id\"]), YahooConverter(app_id=secrets[\"yahoo_app_id\"])]\n",
        "test_04_competition = ConverterCompetition(converters=test_04_converters)\n",
        "\n",
        "print(test_04_competition.compete_to_all(test_04_datasource, reset_cache=False))\n",
        "\n",
        "# print(test_04_competition.compete_to_mecab(test_04_datasource, converter_id=0, reset_cache=False)[0]) # noteの記事をデータソースにCoeFontを検証する。\n",
        "# print(test_04_competition.compete_to(test_04_datasource, subject_converter_id=1, target_converter_id=0, reset_cache=False)[0]) # noteの記事をConefont converterとgoo converterで比較する。\n",
        "# print(test_04_competition.compete_to(test_04_datasource, subject_converter_id=2, target_converter_id=0, reset_cache=False)[0]) # noteの記事をConefont converterとyahoo converterで比較する。"
      ],
      "metadata": {
        "colab": {
          "base_uri": "https://localhost:8080/"
        },
        "id": "2m4N-jM6QbBJ",
        "outputId": "51ca8e91-269b-4940-885d-94ce1b6dd25e"
      },
      "execution_count": null,
      "outputs": [
        {
          "output_type": "stream",
          "name": "stdout",
          "text": [
            "{'大学': ['ダイガク', 'ダイガク', 'ダイガク'], '月': ['ガツ', 'ツキ', 'ツキ']}\n"
          ]
        }
      ]
    },
    {
      "cell_type": "markdown",
      "source": [
        "# 単語（データセット単位）のストリーミングとバッチ処理\n",
        "* データソースを主導で作成するのではなく、永続的に新しいデータソースから単語を取得できるエコシステムを構築する\n",
        "\n",
        "* WebhookやWebsoket, Server-sent Eventなどを用いてデータソースを自動で収集する\n",
        "(Wikipediaのstreaming機能など)\n",
        "\n",
        "## 要件\n",
        "*   永続的にプログラムがデータソースを自動で生成する\n",
        "*   単語のバリエーションの広がりを担保する\n",
        "\n",
        "\n",
        "\n",
        "\n",
        "\n",
        "\n"
      ],
      "metadata": {
        "id": "1yAaRptcOxlD"
      }
    },
    {
      "cell_type": "code",
      "source": [
        "class CompetionBatch:\n",
        "  def __init__(self, competiton, streaming_iters, batch_character_size=200):\n",
        "    self.competiton = competiton\n",
        "    self.streaming_iters = streaming_iters\n",
        "    self.batch_character_size = batch_character_size\n",
        "\n",
        "  def start(self, reset_cache=False, show_entry_rates=False):\n",
        "    entries = []\n",
        "    character_size = 0\n",
        "\n",
        "    # どれくらい単語が増えているか表示するため\n",
        "    entry_rates = []\n",
        "    last_clock_time = datetime.datetime.now().timestamp()\n",
        "\n",
        "    # 取得したデータソースをもとに比較処理\n",
        "    for datasource in self.streaming_iters:\n",
        "       # まだspreadsheetに登録されていない単語だけを抽出\n",
        "       entry_keys = [entry[0] for entry in entries]\n",
        "       filted_vocabs = [ (vocab, label) for vocab, label in zip(datasource.vocabs, datasource.labels) if checked_db.get(vocab.encode(\"utf-8\")) == None and vocab not in entry_keys]\n",
        "\n",
        "       #バッチ処理のエントリーに追加+文字数を加算\n",
        "       entries += filted_vocabs\n",
        "       vocab_sizes = list(map(lambda vocab:len(vocab[0]), filted_vocabs))\n",
        "       character_size += sum(vocab_sizes)\n",
        "\n",
        "       # どれくらい新しいエントリーが増えているか記録する\n",
        "       if show_entry_rates:\n",
        "         now = datetime.datetime.now().timestamp()\n",
        "         diff += len(filted_vocabs)\n",
        "\n",
        "         if now - last_clock_time >= 10: # 一分間観測する\n",
        "           entry_rates.append(diff) # 差分を追加\n",
        "           #初期化\n",
        "           last_clock_time = now\n",
        "           diff = 0\n",
        "\n",
        "       # 新しく比較対象にエントリーされた総文字数がbatch_character_size以上になった場合、比較処理を行う\n",
        "       if self.batch_character_size <= character_size:\n",
        "         print(\"start new batch!\")\n",
        "         entry_vocabs = list(map(lambda vocab: vocab[0], entries))\n",
        "         entry_labels = list(map(lambda vocab: vocab[1], entries))\n",
        "         dataset = ArrayDataSource(entry_vocabs, entry_labels) # バッチ処理に必要なデータセットを作成\n",
        "         errors = self.competiton.compete_to_all(dataset, reset_cache) # coefont apiとmecab and 他社apiを比較する\n",
        "         self.save_to_spreadsheet(errors) # google spreadsheetに結果を書き込み\n",
        "\n",
        "         # 初期化\n",
        "         entries = []\n",
        "         character_size = 0\n",
        "    \n",
        "    # 変化量を表示\n",
        "    if show_entry_rates:\n",
        "      x = np.arange(1, len(entry_rates)+1)\n",
        "      y = np.array(entry_rates)\n",
        "      plt.xlabel('times')\n",
        "      plt.ylabel('size of new entry')\n",
        "      plt.ylim(0)\n",
        "      plt.plot(x, y)\n",
        "\n",
        "  def save_to_spreadsheet(self, errors):\n",
        "    print(errors)"
      ],
      "metadata": {
        "id": "jPBp0vU8QRaM"
      },
      "execution_count": 111,
      "outputs": []
    },
    {
      "cell_type": "markdown",
      "source": [
        "# データセットの自動取得（wikipedia rechange logs）\n",
        "* データソースを主導で作成するのではなく、永続的に新しいデータソースから単語を取得できるエコシステムを構築する\n",
        "\n",
        "## 要件\n",
        "*   永続的にプログラムがデータソースを自動で生成できる\n",
        "*   単語数に基づき、バッチ処理的に単語の比較とspreadsheetへのアノテーションが行われる。\n",
        "*   単語のバリエーションの広がりを担保する\n",
        "\n",
        "\n",
        "\n",
        "\n",
        "\n",
        "\n"
      ],
      "metadata": {
        "id": "DPhw0_3emQvH"
      }
    },
    {
      "cell_type": "code",
      "source": [
        "test_09_converters = [\n",
        "    # GooConverter(app_id=secrets[\"goo_api_id\"]),\n",
        "    YahooConverter(app_id=secrets[\"yahoo_app_id\"])]\n",
        "\n",
        "test_09_competition = ConverterCompetition(converters=test_09_converters)\n",
        "test_09_url = 'https://stream.wikimedia.org/v2/stream/recentchange'\n",
        "\n",
        "# wikipediaの更新ログをデータセットに変換するイテレータ\n",
        "def getDataSourceFromWikipedia(limit=None):\n",
        "  count = 0\n",
        "  for event in EventSource(test_09_url, last_id=None):\n",
        "    if event.event == 'message':\n",
        "        try:\n",
        "            change = json.loads(event.data)\n",
        "        except ValueError:\n",
        "            pass\n",
        "        else:\n",
        "            if change[\"server_name\"] == 'ja.wikipedia.org':\n",
        "                datasource = WikipediaDataSource(title=change[\"title\"])\n",
        "                datasource.load()\n",
        "                count +=1\n",
        "                if limit != None and count >= limit:\n",
        "                   break\n",
        "                else:\n",
        "                   yield datasource\n",
        "\n",
        "# datasetの上限100, バッチ処理100characterに設定し、ストリーミングを行う\n",
        "test_09_batch = CompetionBatch(test_09_competition, streaming_iters=getDataSourceFromWikipedia(limit=100), batch_character_size=50)\n",
        "test_09_batch.start(show_entry_rates=True) #ストリーミング処理を開始"
      ],
      "metadata": {
        "colab": {
          "base_uri": "https://localhost:8080/"
        },
        "id": "rx1kN4rSYBuy",
        "outputId": "e4365c3c-eb55-49d9-97d7-d2c496219c1f"
      },
      "execution_count": null,
      "outputs": [
        {
          "output_type": "stream",
          "name": "stdout",
          "text": [
            "start new batch!\n",
            "** Yahoo API: {\"id\":\"abc\",\"jsonrpc\":\"2.0\",\"result\":{\"word\":[{\"furigana\":\"やまもと\",\"roman\":\"yamamoto\",\"surface\":\"山本\"},{\"surface\":\"。\"},{\"furigana\":\"だいと\",\"roman\":\"daito\",\"surface\":\"大斗\"},{\"surface\":\"。\"},{\"furigana\":\"よなご\",\"roman\":\"yonago\",\"surface\":\"米子\"},{\"surface\":\"。\"},{\"furigana\":\"がいや\",\"roman\":\"gaiya\",\"surface\":\"外野\"},{\"surface\":\"。\"},{\"furigana\":\"みぎなげ\",\"roman\":\"miginage\",\"surface\":\"右投\"},{\"surface\":\"。\"},{\"furigana\":\"ひびや\",\"roman\":\"hibiya\",\"surface\":\"日比谷\"},{\"surface\":\"。\"},{\"furigana\":\"ちよだ\",\"roman\":\"tiyoda\",\"surface\":\"千代田\"},{\"surface\":\"。\"},{\"furigana\":\"かん\",\"roman\":\"kan\",\"surface\":\"館\"},{\"surface\":\"。\"},{\"furigana\":\"とうほう\",\"roman\":\"touhou\",\"surface\":\"東宝\"},{\"surface\":\"。\"},{\"furigana\":\"かいかん\",\"roman\":\"kaikan\",\"surface\":\"会館\"},{\"surface\":\"。\"},{\"furigana\":\"たからづか\",\"roman\":\"takarazuka\",\"surface\":\"宝塚\"},{\"surface\":\"。\"},{\"furigana\":\"ゆらい\",\"roman\":\"yurai\",\"surface\":\"由来\"},{\"surface\":\"。\"},{\"furigana\":\"ちか\",\"roman\":\"tika\",\"surface\":\"地下\"},{\"surface\":\"。\"},{\"furigana\":\"かい\",\"roman\":\"kai\",\"surface\":\"階\"},{\"surface\":\"。\"},{\"furigana\":\"かずかず\",\"roman\":\"kazukazu\",\"surface\":\"数々\"},{\"surface\":\"。\"},{\"furigana\":\"じょうえい\",\"roman\":\"zyouei\",\"surface\":\"上映\"},{\"surface\":\"。\"},{\"furigana\":\"けいしょう\",\"roman\":\"keisyou\",\"surface\":\"継承\"},{\"surface\":\"。\"},{\"furigana\":\"だい\",\"roman\":\"dai\",\"surface\":\"代\"},{\"surface\":\"。\"},{\"furigana\":\"どうきょ\",\"roman\":\"doukyo\",\"surface\":\"同居\"},{\"surface\":\"。\"}]}}\n",
            "{'年': ['トシ:c_yahoo', 'ネン:mecab'], '月': ['ツキ:c_yahoo', 'ガツ:mecab'], '館': ['カン:c_yahoo', 'ヤカタ:mecab']}\n",
            "start new batch!\n",
            "** Yahoo API: {\"id\":\"abc\",\"jsonrpc\":\"2.0\",\"result\":{\"word\":[{\"furigana\":\"くま\",\"roman\":\"kuma\",\"surface\":\"熊\"},{\"surface\":\"。\"},{\"furigana\":\"ほんみょう\",\"roman\":\"honmyou\",\"surface\":\"本名\"},{\"surface\":\"。\"},{\"furigana\":\"いのうえ\",\"roman\":\"inoue\",\"surface\":\"井上\"},{\"surface\":\"。\"},{\"furigana\":\"ちくら\",\"roman\":\"tikura\",\"surface\":\"千蔵\"},{\"surface\":\"。\"},{\"furigana\":\"いしぐら\",\"roman\":\"isigura\",\"surface\":\"石倉\"},{\"surface\":\"。\"},{\"furigana\":\"さぶろう\",\"roman\":\"saburou\",\"surface\":\"三郎\"},{\"surface\":\"。\"},{\"furigana\":\"おざわ\",\"roman\":\"ozawa\",\"surface\":\"小澤\"},{\"surface\":\"。\"},{\"furigana\":\"ひらき\",\"roman\":\"hiraki\",\"surface\":\"開\"},{\"surface\":\"。\"},{\"furigana\":\"しか\",\"roman\":\"sika\",\"surface\":\"歯科\"},{\"surface\":\"。\"},{\"furigana\":\"いし\",\"roman\":\"isi\",\"surface\":\"医師\"},{\"surface\":\"。\"},{\"furigana\":\"いしはら\",\"roman\":\"isihara\",\"surface\":\"石原\"},{\"surface\":\"。\"},{\"furigana\":\"えんしゅつ\",\"roman\":\"ensyutu\",\"surface\":\"演出\"},{\"surface\":\"。\"},{\"furigana\":\"きょうと\",\"roman\":\"kyouto\",\"surface\":\"京都\"},{\"surface\":\"。\"},{\"furigana\":\"まいずる\",\"roman\":\"maizuru\",\"surface\":\"舞鶴\"},{\"surface\":\"。\"},{\"furigana\":\"とりしまり\",\"roman\":\"torisimari\",\"surface\":\"取締\"},{\"surface\":\"。\"},{\"furigana\":\"やく\",\"roman\":\"yaku\",\"surface\":\"役\"},{\"surface\":\"。\"}]}}\n",
            "{'千蔵': ['チクラ:c_yahoo', 'センゾウ:mecab'], '年': ['トシ:c_yahoo', 'ネン:mecab'], '月': ['ツキ:c_yahoo', 'ガツ:mecab'], '日本': ['ニホン:c_yahoo', 'ニッポン:mecab'], '石倉': ['イシグラ:c_yahoo', 'イシクラ:mecab'], '開': ['ヒラキ:c_yahoo', 'カイ:mecab'], '舞鶴': ['マイズル:c_yahoo', 'マイヅル:mecab']}\n",
            "start new batch!\n",
            "** Yahoo API: {\"id\":\"abc\",\"jsonrpc\":\"2.0\",\"result\":{\"word\":[{\"furigana\":\"なや\",\"roman\":\"naya\",\"surface\":\"納谷\"},{\"surface\":\"。\"},{\"furigana\":\"ごろう\",\"roman\":\"gorou\",\"surface\":\"悟朗\"},{\"surface\":\"。\"},{\"furigana\":\"しょうわ\",\"roman\":\"syouwa\",\"surface\":\"昭和\"},{\"surface\":\"。\"},{\"furigana\":\"へいせい\",\"roman\":\"heisei\",\"surface\":\"平成\"},{\"surface\":\"。\"},{\"furigana\":\"ろくろう\",\"roman\":\"rokurou\",\"surface\":\"六朗\"},{\"surface\":\"。\"},{\"furigana\":\"ひの\",\"roman\":\"hino\",\"surface\":\"火野\"},{\"surface\":\"。\"},{\"furigana\":\"こ\",\"roman\":\"ko\",\"surface\":\"子\"},{\"surface\":\"。\"},{\"furigana\":\"しゅりょう\",\"roman\":\"syuryou\",\"surface\":\"首領\"},{\"surface\":\"。\"},{\"furigana\":\"しみず\",\"roman\":\"simizu\",\"surface\":\"清水\"},{\"surface\":\"。\"},{\"furigana\":\"けんたろう\",\"roman\":\"kentarou\",\"surface\":\"健太郎\"},{\"surface\":\"。\"},{\"furigana\":\"むらかみ\",\"roman\":\"murakami\",\"surface\":\"村上\"},{\"surface\":\"。\"},{\"furigana\":\"かずひこ\",\"roman\":\"kazuhiko\",\"surface\":\"和彦\"},{\"surface\":\"。\"},{\"furigana\":\"ごくどう\",\"roman\":\"gokudou\",\"surface\":\"極道\"},{\"surface\":\"。\"},{\"furigana\":\"たけ\",\"roman\":\"take\",\"surface\":\"竹\"},{\"surface\":\"。\"},{\"furigana\":\"しょぼう\",\"roman\":\"syobou\",\"surface\":\"書房\"},{\"surface\":\"。\"},{\"furigana\":\"がいでん\",\"roman\":\"gaiden\",\"surface\":\"外伝\"},{\"surface\":\"。\"},{\"furigana\":\"はくりゅう\",\"roman\":\"hakuryuu\",\"surface\":\"白竜\"},{\"surface\":\"。\"},{\"furigana\":\"びゃっこ\",\"roman\":\"byakko\",\"surface\":\"白虎\"},{\"surface\":\"。\"},{\"furigana\":\"けんざん\",\"roman\":\"kenzan\",\"surface\":\"見参\"},{\"surface\":\"。\"}]}}\n",
            "{'年': ['トシ:c_yahoo', 'ネン:mecab'], '月': ['ツキ:c_yahoo', 'ガツ:mecab'], '日本': ['ニホン:c_yahoo', 'ニッポン:mecab'], '竹': ['タケ:c_yahoo', 'チク:mecab'], '見参': ['ケンザン:c_yahoo', 'ゲンザン:mecab']}\n",
            "start new batch!\n",
            "** Yahoo API: {\"id\":\"abc\",\"jsonrpc\":\"2.0\",\"result\":{\"word\":[{\"furigana\":\"はなみ\",\"roman\":\"hanami\",\"surface\":\"八奈見\"},{\"surface\":\"。\"},{\"furigana\":\"じょうじ\",\"roman\":\"zyouzi\",\"surface\":\"乗児\"},{\"surface\":\"。\"},{\"furigana\":\"ちゅうか\",\"roman\":\"tyuuka\",\"surface\":\"中華\"},{\"surface\":\"。\"},{\"furigana\":\"みんこく\",\"roman\":\"minkoku\",\"surface\":\"民国\"},{\"surface\":\"。\"},{\"furigana\":\"まんしゅう\",\"roman\":\"mansyuu\",\"surface\":\"満洲\"},{\"surface\":\"。\"},{\"furigana\":\"そだち\",\"roman\":\"sodati\",\"subword\":[{\"furigana\":\"そだ\",\"roman\":\"soda\",\"surface\":\"育\"},{\"furigana\":\"ち\",\"roman\":\"ti\",\"surface\":\"ち\"}],\"surface\":\"育ち\"},{\"surface\":\"。\"},{\"furigana\":\"あお\",\"roman\":\"ao\",\"surface\":\"青\"},{\"surface\":\"。\"},{\"furigana\":\"しらつち\",\"roman\":\"siratuti\",\"surface\":\"白土\"},{\"surface\":\"。\"},{\"furigana\":\"まん\",\"roman\":\"man\",\"surface\":\"満\"},{\"surface\":\"。\"},{\"furigana\":\"はなび\",\"roman\":\"hanabi\",\"surface\":\"花火\"},{\"surface\":\"。\"},{\"furigana\":\"ねんかん\",\"roman\":\"nenkan\",\"surface\":\"年間\"},{\"surface\":\"。\"},{\"furigana\":\"べつ\",\"roman\":\"betu\",\"surface\":\"別\"},{\"surface\":\"。\"},{\"furigana\":\"ももいろ\",\"roman\":\"momoiro\",\"surface\":\"桃色\"},{\"surface\":\"。\"},{\"furigana\":\"じき\",\"roman\":\"ziki\",\"surface\":\"時期\"},{\"surface\":\"。\"},{\"furigana\":\"すいてい\",\"roman\":\"suitei\",\"surface\":\"推定\"},{\"surface\":\"。\"},{\"furigana\":\"すう\",\"roman\":\"suu\",\"surface\":\"数\"},{\"surface\":\"。\"}]}}\n",
            "{'八奈見': ['ハナミ:c_yahoo', 'ヤナミ:mecab'], '年': ['トシ:c_yahoo', 'ネン:mecab'], '月': ['ツキ:c_yahoo', 'ガツ:mecab'], '日本': ['ニホン:c_yahoo', 'ニッポン:mecab'], '二': ['二:c_yahoo', 'ニ:mecab'], '繁': ['シゲ:c_yahoo', 'シゲル:mecab'], '三': ['三:c_yahoo', 'サン:mecab'], '数': ['スウ:c_yahoo', 'カズ:mecab']}\n",
            "start new batch!\n",
            "** Yahoo API: {\"id\":\"abc\",\"jsonrpc\":\"2.0\",\"result\":{\"word\":[{\"furigana\":\"あいち\",\"roman\":\"aiti\",\"surface\":\"愛知\"},{\"surface\":\"。\"},{\"furigana\":\"けんりつ\",\"roman\":\"kenritu\",\"surface\":\"県立\"},{\"surface\":\"。\"},{\"furigana\":\"とよはし\",\"roman\":\"toyohasi\",\"surface\":\"豊橋\"},{\"surface\":\"。\"},{\"furigana\":\"みなみ\",\"roman\":\"minami\",\"surface\":\"南\"},{\"surface\":\"。\"},{\"furigana\":\"がっこう\",\"roman\":\"gakkou\",\"surface\":\"学校\"},{\"surface\":\"。\"},{\"furigana\":\"しみずちょう\",\"roman\":\"simizutyou\",\"surface\":\"清水町\"},{\"surface\":\"。\"},{\"furigana\":\"じ\",\"roman\":\"zi\",\"surface\":\"字\"},{\"surface\":\"。\"},{\"furigana\":\"もとまち\",\"roman\":\"motomati\",\"surface\":\"元町\"},{\"surface\":\"。\"},{\"furigana\":\"ふつう\",\"roman\":\"hutuu\",\"surface\":\"普通\"},{\"surface\":\"。\"},{\"furigana\":\"へいせつ\",\"roman\":\"heisetu\",\"surface\":\"併設\"},{\"surface\":\"。\"},{\"furigana\":\"こうりつ\",\"roman\":\"kouritu\",\"surface\":\"公立\"},{\"surface\":\"。\"},{\"furigana\":\"こうこう\",\"roman\":\"koukou\",\"surface\":\"高校\"},{\"surface\":\"。\"},{\"furigana\":\"おおつか\",\"roman\":\"ootuka\",\"surface\":\"大塚\"},{\"surface\":\"。\"},{\"furigana\":\"よしただ\",\"roman\":\"yositada\",\"surface\":\"芳忠\"},{\"surface\":\"。\"},{\"furigana\":\"おかやま\",\"roman\":\"okayama\",\"surface\":\"岡山\"},{\"surface\":\"。\"},{\"furigana\":\"つやま\",\"roman\":\"tuyama\",\"surface\":\"津山\"},{\"surface\":\"。\"},{\"furigana\":\"いちかわ\",\"roman\":\"itikawa\",\"surface\":\"市川\"},{\"surface\":\"。\"},{\"furigana\":\"ち\",\"roman\":\"ti\",\"surface\":\"治\"},{\"surface\":\"。\"},{\"furigana\":\"くまがや\",\"roman\":\"kumagaya\",\"surface\":\"熊谷\"},{\"surface\":\"。\"},{\"furigana\":\"だいひょう\",\"roman\":\"daihyou\",\"surface\":\"代表\"},{\"surface\":\"。\"}]}}\n",
            "{'年': ['トシ:c_yahoo', 'ネン:mecab'], '月': ['ツキ:c_yahoo', 'ガツ:mecab'], '日本': ['ニホン:c_yahoo', 'ニッポン:mecab'], '治': ['チ:c_yahoo', 'オサム:mecab']}\n",
            "start new batch!\n",
            "** Yahoo API: {\"id\":\"abc\",\"jsonrpc\":\"2.0\",\"result\":{\"word\":[{\"furigana\":\"なかのぶ\",\"roman\":\"nakanobu\",\"surface\":\"中信\"},{\"surface\":\"。\"},{\"furigana\":\"きょうだい\",\"roman\":\"kyoudai\",\"surface\":\"兄弟\"},{\"surface\":\"。\"},{\"furigana\":\"べつめい\",\"roman\":\"betumei\",\"surface\":\"別名\"},{\"surface\":\"。\"},{\"furigana\":\"たいわん\",\"roman\":\"taiwan\",\"surface\":\"台湾\"},{\"surface\":\"。\"},{\"furigana\":\"しょくぎょう\",\"roman\":\"syokugyou\",\"surface\":\"職業\"},{\"surface\":\"。\"},{\"furigana\":\"ぼうだま\",\"roman\":\"boudama\",\"surface\":\"棒球\"},{\"surface\":\"。\"},{\"furigana\":\"ぜんしん\",\"roman\":\"zensin\",\"surface\":\"前身\"},{\"surface\":\"。\"},{\"furigana\":\"はんてん\",\"roman\":\"hanten\",\"surface\":\"飯店\"},{\"surface\":\"。\"},{\"furigana\":\"きいろ\",\"roman\":\"kiiro\",\"surface\":\"黄色\"},{\"surface\":\"。\"},{\"furigana\":\"えんじゅ\",\"roman\":\"enzyu\",\"surface\":\"槐\"},{\"surface\":\"。\"},{\"furigana\":\"さいしゅう\",\"roman\":\"saisyuu\",\"surface\":\"最終\"},{\"surface\":\"。\"}]}}\n",
            "{'中信': ['ナカノブ:c_yahoo', 'チュウシン:mecab'], '二': ['二:c_yahoo', 'ニ:mecab'], '年': ['トシ:c_yahoo', 'ネン:mecab'], '月': ['ツキ:c_yahoo', 'ガツ:mecab'], '日本': ['ニホン:c_yahoo', 'ニッポン:mecab']}\n",
            "start new batch!\n",
            "** Yahoo API: {\"id\":\"abc\",\"jsonrpc\":\"2.0\",\"result\":{\"word\":[{\"furigana\":\"くまくら\",\"roman\":\"kumakura\",\"surface\":\"熊倉\"},{\"surface\":\"。\"},{\"furigana\":\"かずお\",\"roman\":\"kazuo\",\"surface\":\"一雄\"},{\"surface\":\"。\"},{\"furigana\":\"しんちょう\",\"roman\":\"sintyou\",\"surface\":\"身長\"},{\"surface\":\"。\"},{\"furigana\":\"けつえき\",\"roman\":\"ketueki\",\"surface\":\"血液\"},{\"surface\":\"。\"},{\"furigana\":\"しょうがい\",\"roman\":\"syougai\",\"surface\":\"生涯\"},{\"surface\":\"。\"},{\"furigana\":\"えんげき\",\"roman\":\"engeki\",\"surface\":\"演劇\"},{\"surface\":\"。\"},{\"furigana\":\"せんだ\",\"roman\":\"senda\",\"surface\":\"千田\"},{\"surface\":\"。\"},{\"furigana\":\"みつお\",\"roman\":\"mituo\",\"surface\":\"光男\"},{\"surface\":\"。\"}]}}\n",
            "{'年': ['トシ:c_yahoo', 'ネン:mecab'], '月': ['ツキ:c_yahoo', 'ガツ:mecab'], '日本': ['ニホン:c_yahoo', 'ニッポン:mecab']}\n",
            "start new batch!\n",
            "** Yahoo API: {\"id\":\"abc\",\"jsonrpc\":\"2.0\",\"result\":{\"word\":[{\"furigana\":\"しえい\",\"roman\":\"siei\",\"surface\":\"市営\"},{\"surface\":\"。\"},{\"furigana\":\"こうつう\",\"roman\":\"koutuu\",\"surface\":\"交通\"},{\"surface\":\"。\"},{\"furigana\":\"からすま\",\"roman\":\"karasuma\",\"surface\":\"烏丸\"},{\"surface\":\"。\"},{\"furigana\":\"せん\",\"roman\":\"sen\",\"surface\":\"線\"},{\"surface\":\"。\"},{\"furigana\":\"とうざい\",\"roman\":\"touzai\",\"surface\":\"東西\"},{\"surface\":\"。\"},{\"furigana\":\"ろせん\",\"roman\":\"rosen\",\"surface\":\"路線\"},{\"surface\":\"。\"},{\"furigana\":\"さいきょう\",\"roman\":\"saikyou\",\"surface\":\"西京\"},{\"surface\":\"。\"},{\"furigana\":\"しない\",\"roman\":\"sinai\",\"surface\":\"市内\"},{\"surface\":\"。\"},{\"furigana\":\"うじ\",\"roman\":\"uzi\",\"surface\":\"宇治\"},{\"surface\":\"。\"},{\"furigana\":\"じょうれい\",\"roman\":\"zyourei\",\"surface\":\"条例\"},{\"surface\":\"。\"},{\"furigana\":\"こうそく\",\"roman\":\"kousoku\",\"surface\":\"高速\"},{\"surface\":\"。\"},{\"furigana\":\"てつどう\",\"roman\":\"tetudou\",\"surface\":\"鉄道\"},{\"surface\":\"。\"},{\"furigana\":\"よみがな\",\"roman\":\"yomigana\",\"subword\":[{\"furigana\":\"よ\",\"roman\":\"yo\",\"surface\":\"読\"},{\"furigana\":\"み\",\"roman\":\"mi\",\"surface\":\"み\"},{\"furigana\":\"がな\",\"roman\":\"gana\",\"surface\":\"仮名\"}],\"surface\":\"読み仮名\"},{\"surface\":\"。\"},{\"furigana\":\"かひょう\",\"roman\":\"kahyou\",\"surface\":\"下表\"},{\"surface\":\"。\"},{\"furigana\":\"ふとじ\",\"roman\":\"hutozi\",\"surface\":\"太字\"},{\"surface\":\"。\"},{\"furigana\":\"ぶんり\",\"roman\":\"bunri\",\"surface\":\"分離\"},{\"surface\":\"。\"},{\"furigana\":\"くろさわ\",\"roman\":\"kurosawa\",\"surface\":\"黒沢\"},{\"surface\":\"。\"},{\"furigana\":\"かしゅ\",\"roman\":\"kasyu\",\"surface\":\"歌手\"},{\"surface\":\"。\"},{\"furigana\":\"ちちぶ\",\"roman\":\"titibu\",\"surface\":\"秩父\"},{\"surface\":\"。\"},{\"furigana\":\"げいのう\",\"roman\":\"geinou\",\"surface\":\"芸能\"},{\"surface\":\"。\"}]}}\n",
            "{'西京': ['サイキョウ:c_yahoo', 'ニシキョウ:mecab'], '年': ['トシ:c_yahoo', 'ネン:mecab'], '月': ['ツキ:c_yahoo', 'ガツ:mecab'], '日本': ['ニホン:c_yahoo', 'ニッポン:mecab']}\n",
            "start new batch!\n",
            "** Yahoo API: {\"id\":\"abc\",\"jsonrpc\":\"2.0\",\"result\":{\"word\":[{\"furigana\":\"しゅほう\",\"roman\":\"syuhou\",\"surface\":\"手法\"},{\"surface\":\"。\"},{\"furigana\":\"とうえい\",\"roman\":\"touei\",\"surface\":\"東映\"},{\"surface\":\"。\"},{\"furigana\":\"どうが\",\"roman\":\"douga\",\"surface\":\"動画\"},{\"surface\":\"。\"},{\"furigana\":\"はら\",\"roman\":\"hara\",\"surface\":\"原\"},{\"surface\":\"。\"},{\"furigana\":\"とおる\",\"roman\":\"tooru\",\"surface\":\"徹\"},{\"surface\":\"。\"},{\"furigana\":\"せつりつ\",\"roman\":\"seturitu\",\"surface\":\"設立\"},{\"surface\":\"。\"},{\"furigana\":\"かいそ\",\"roman\":\"kaiso\",\"surface\":\"改組\"},{\"surface\":\"。\"},{\"furigana\":\"かいさん\",\"roman\":\"kaisan\",\"surface\":\"解散\"},{\"surface\":\"。\"},{\"furigana\":\"かぜ\",\"roman\":\"kaze\",\"surface\":\"風\"},{\"surface\":\"。\"},{\"furigana\":\"たに\",\"roman\":\"tani\",\"surface\":\"谷\"},{\"surface\":\"。\"},{\"furigana\":\"みなもと\",\"roman\":\"minamoto\",\"surface\":\"源\"},{\"surface\":\"。\"},{\"furigana\":\"しずおか\",\"roman\":\"sizuoka\",\"surface\":\"静岡\"},{\"surface\":\"。\"},{\"furigana\":\"ふじのみや\",\"roman\":\"huzinomiya\",\"surface\":\"富士宮\"},{\"surface\":\"。\"},{\"furigana\":\"てらまち\",\"roman\":\"teramati\",\"surface\":\"寺町\"},{\"surface\":\"。\"},{\"furigana\":\"とうかい\",\"roman\":\"toukai\",\"surface\":\"東海\"},{\"surface\":\"。\"},{\"furigana\":\"りょかく\",\"roman\":\"ryokaku\",\"surface\":\"旅客\"},{\"surface\":\"。\"},{\"furigana\":\"みのぶ\",\"roman\":\"minobu\",\"surface\":\"身延\"},{\"surface\":\"。\"},{\"furigana\":\"ばん\",\"roman\":\"ban\",\"surface\":\"番\"},{\"furigana\":\"ごう\",\"roman\":\"gou\",\"surface\":\"号\"},{\"surface\":\"。\"}]}}\n",
            "{'日本': ['ニホン:c_yahoo', 'ニッポン:mecab'], '年': ['トシ:c_yahoo', 'ネン:mecab'], '道': ['ミチ:c_yahoo', 'ドウ:mecab']}\n",
            "start new batch!\n",
            "** Yahoo API: {\"id\":\"abc\",\"jsonrpc\":\"2.0\",\"result\":{\"word\":[{\"furigana\":\"さの\",\"roman\":\"sano\",\"surface\":\"佐野\"},{\"surface\":\"。\"},{\"furigana\":\"じゅんや\",\"roman\":\"zyunya\",\"surface\":\"淳哉\"},{\"surface\":\"。\"},{\"furigana\":\"ゆびわ\",\"roman\":\"yubiwa\",\"surface\":\"指輪\"},{\"surface\":\"。\"},{\"furigana\":\"きょうどう\",\"roman\":\"kyoudou\",\"surface\":\"共同\"},{\"surface\":\"。\"},{\"furigana\":\"じょじ\",\"roman\":\"zyozi\",\"surface\":\"叙事\"},{\"surface\":\"。\"},{\"furigana\":\"ぼうけん\",\"roman\":\"bouken\",\"surface\":\"冒険\"},{\"surface\":\"。\"},{\"furigana\":\"いわい\",\"roman\":\"iwai\",\"surface\":\"岩井\"},{\"surface\":\"。\"},{\"furigana\":\"ゆうき\",\"roman\":\"yuuki\",\"surface\":\"勇気\"},{\"surface\":\"。\"},{\"furigana\":\"たすく\",\"roman\":\"tasuku\",\"surface\":\"佑\"},{\"surface\":\"。\"}]}}\n",
            "{'年': ['トシ:c_yahoo', 'ネン:mecab'], '月': ['ツキ:c_yahoo', 'ガツ:mecab'], '三': ['三:c_yahoo', 'サン:mecab'], '澤': ['オモダカ:c_yahoo', 'サワ:mecab'], '佑': ['タスク:c_yahoo', 'ユウ:mecab']}\n",
            "start new batch!\n",
            "** Yahoo API: {\"id\":\"abc\",\"jsonrpc\":\"2.0\",\"result\":{\"word\":[{\"furigana\":\"なんみん\",\"roman\":\"nanmin\",\"surface\":\"難民\"},{\"surface\":\"。\"},{\"furigana\":\"きき\",\"roman\":\"kiki\",\"surface\":\"危機\"},{\"surface\":\"。\"},{\"furigana\":\"かいし\",\"roman\":\"kaisi\",\"surface\":\"開始\"},{\"surface\":\"。\"},{\"furigana\":\"しんこう\",\"roman\":\"sinkou\",\"surface\":\"侵攻\"},{\"surface\":\"。\"},{\"furigana\":\"はっせい\",\"roman\":\"hassei\",\"surface\":\"発生\"},{\"surface\":\"。\"},{\"furigana\":\"まん\",\"roman\":\"man\",\"surface\":\"万\"},{\"surface\":\"。\"},{\"furigana\":\"いじょう\",\"roman\":\"izyou\",\"surface\":\"以上\"},{\"surface\":\"。\"},{\"furigana\":\"こくない\",\"roman\":\"kokunai\",\"surface\":\"国内\"},{\"surface\":\"。\"},{\"furigana\":\"ひなん\",\"roman\":\"hinan\",\"surface\":\"避難\"},{\"surface\":\"。\"},{\"furigana\":\"どうこく\",\"roman\":\"doukoku\",\"surface\":\"同国\"},{\"surface\":\"。\"},{\"furigana\":\"じんこう\",\"roman\":\"zinkou\",\"surface\":\"人口\"},{\"surface\":\"。\"},{\"furigana\":\"じたく\",\"roman\":\"zitaku\",\"surface\":\"自宅\"},{\"surface\":\"。\"},{\"furigana\":\"わり\",\"roman\":\"wari\",\"surface\":\"割\"},{\"surface\":\"。\"},{\"furigana\":\"こども\",\"roman\":\"kodomo\",\"surface\":\"子供\"},{\"surface\":\"。\"},{\"furigana\":\"じどう\",\"roman\":\"zidou\",\"surface\":\"児童\"},{\"surface\":\"。\"},{\"furigana\":\"いえ\",\"roman\":\"ie\",\"surface\":\"家\"},{\"surface\":\"。\"},{\"furigana\":\"くに\",\"roman\":\"kuni\",\"surface\":\"国\"},{\"surface\":\"。\"},{\"furigana\":\"いらい\",\"roman\":\"irai\",\"surface\":\"以来\"},{\"surface\":\"。\"},{\"furigana\":\"ねんだい\",\"roman\":\"nendai\",\"surface\":\"年代\"},{\"surface\":\"。\"},{\"furigana\":\"ふんそう\",\"roman\":\"hunsou\",\"surface\":\"紛争\"},{\"surface\":\"。\"},{\"furigana\":\"せいき\",\"roman\":\"seiki\",\"surface\":\"世紀\"},{\"surface\":\"。\"},{\"furigana\":\"たいはん\",\"roman\":\"taihan\",\"surface\":\"大半\"},{\"surface\":\"。\"},{\"furigana\":\"にしがわ\",\"roman\":\"nisigawa\",\"surface\":\"西側\"},{\"surface\":\"。\"},{\"furigana\":\"きんりん\",\"roman\":\"kinrin\",\"surface\":\"近隣\"},{\"surface\":\"。\"},{\"furigana\":\"しょこく\",\"roman\":\"syokoku\",\"surface\":\"諸国\"},{\"surface\":\"。\"},{\"furigana\":\"にゅうこく\",\"roman\":\"nyuukoku\",\"surface\":\"入国\"},{\"surface\":\"。\"},{\"furigana\":\"りんせつ\",\"roman\":\"rinsetu\",\"surface\":\"隣接\"},{\"surface\":\"。\"},{\"furigana\":\"くにぐに\",\"roman\":\"kuniguni\",\"surface\":\"国々\"},{\"surface\":\"。\"},{\"furigana\":\"いちぶ\",\"roman\":\"itibu\",\"surface\":\"一部\"},{\"surface\":\"。\"},{\"furigana\":\"いどう\",\"roman\":\"idou\",\"surface\":\"移動\"},{\"surface\":\"。\"},{\"furigana\":\"しょうすう\",\"roman\":\"syousuu\",\"surface\":\"少数\"},{\"surface\":\"。\"},{\"furigana\":\"ひとびと\",\"roman\":\"hitobito\",\"surface\":\"人々\"},{\"surface\":\"。\"},{\"furigana\":\"ろうどう\",\"roman\":\"roudou\",\"surface\":\"労働\"},{\"surface\":\"。\"},{\"furigana\":\"しじょう\",\"roman\":\"sizyou\",\"surface\":\"市場\"},{\"surface\":\"。\"},{\"furigana\":\"とし\",\"roman\":\"tosi\",\"surface\":\"都市\"},{\"surface\":\"。\"},{\"furigana\":\"たいせい\",\"roman\":\"taisei\",\"surface\":\"態勢\"},{\"surface\":\"。\"},{\"furigana\":\"きそん\",\"roman\":\"kison\",\"surface\":\"既存\"},{\"surface\":\"。\"},{\"furigana\":\"うむ\",\"roman\":\"umu\",\"surface\":\"有無\"},{\"surface\":\"。\"},{\"furigana\":\"よういん\",\"roman\":\"youin\",\"surface\":\"要因\"},{\"surface\":\"。\"},{\"furigana\":\"してき\",\"roman\":\"siteki\",\"surface\":\"指摘\"},{\"surface\":\"。\"},{\"furigana\":\"こっきょう\",\"roman\":\"kokkyou\",\"surface\":\"国境\"},{\"surface\":\"。\"},{\"furigana\":\"おうしゅう\",\"roman\":\"ousyuu\",\"surface\":\"欧州\"},{\"surface\":\"。\"},{\"furigana\":\"れんごう\",\"roman\":\"rengou\",\"surface\":\"連合\"},{\"surface\":\"。\"},{\"furigana\":\"きょか\",\"roman\":\"kyoka\",\"surface\":\"許可\"},{\"surface\":\"。\"},{\"furigana\":\"かめい\",\"roman\":\"kamei\",\"surface\":\"加盟\"},{\"surface\":\"。\"},{\"furigana\":\"たいざい\",\"roman\":\"taizai\",\"surface\":\"滞在\"},{\"surface\":\"。\"},{\"furigana\":\"けんり\",\"roman\":\"kenri\",\"surface\":\"権利\"},{\"surface\":\"。\"},{\"surface\":\"一\"},{\"furigana\":\"じ\",\"roman\":\"zi\",\"surface\":\"時\"},{\"surface\":\"。\"},{\"furigana\":\"しれい\",\"roman\":\"sirei\",\"surface\":\"指令\"},{\"surface\":\"。\"},{\"furigana\":\"はつどう\",\"roman\":\"hatudou\",\"surface\":\"発動\"},{\"surface\":\"。\"},{\"furigana\":\"さべつ\",\"roman\":\"sabetu\",\"surface\":\"差別\"},{\"surface\":\"。\"},{\"furigana\":\"ほうこく\",\"roman\":\"houkoku\",\"surface\":\"報告\"},{\"surface\":\"。\"}]}}\n",
            "{'年': ['トシ:c_yahoo', 'ネン:mecab'], '月': ['ツキ:c_yahoo', 'ガツ:mecab'], '二': ['二:c_yahoo', 'ニ:mecab'], '後': ['アト:c_yahoo', 'ゴ:mecab'], '一時': ['一ジ:c_yahoo', 'イチジ:mecab']}\n",
            "start new batch!\n",
            "** Yahoo API: {\"id\":\"abc\",\"jsonrpc\":\"2.0\",\"result\":{\"word\":[{\"furigana\":\"かつのすけ\",\"roman\":\"katunosuke\",\"surface\":\"勝之助\"},{\"surface\":\"。\"},{\"furigana\":\"ぶんきゅう\",\"roman\":\"bunkyuu\",\"surface\":\"文久\"},{\"surface\":\"。\"},{\"furigana\":\"がんねん\",\"roman\":\"gannen\",\"surface\":\"元年\"},{\"surface\":\"。\"},{\"furigana\":\"きぞく\",\"roman\":\"kizoku\",\"surface\":\"貴族\"},{\"surface\":\"。\"},{\"furigana\":\"こうしゃく\",\"roman\":\"kousyaku\",\"surface\":\"侯爵\"},{\"surface\":\"。\"},{\"furigana\":\"じょうやく\",\"roman\":\"zyouyaku\",\"surface\":\"条約\"},{\"surface\":\"。\"},{\"furigana\":\"かいせい\",\"roman\":\"kaisei\",\"surface\":\"改正\"},{\"surface\":\"。\"},{\"furigana\":\"じんりょく\",\"roman\":\"zinryoku\",\"surface\":\"尽力\"},{\"surface\":\"。\"},{\"furigana\":\"さっか\",\"roman\":\"sakka\",\"surface\":\"作家\"},{\"surface\":\"。\"},{\"furigana\":\"しょう\",\"roman\":\"syou\",\"surface\":\"賞\"},{\"surface\":\"。\"},{\"furigana\":\"じゅしょう\",\"roman\":\"zyusyou\",\"surface\":\"受賞\"},{\"surface\":\"。\"}]}}\n",
            "{'月': ['ツキ:c_yahoo', 'ガツ:mecab'], '年': ['トシ:c_yahoo', 'ネン:mecab'], '日本': ['ニホン:c_yahoo', 'ニッポン:mecab'], '純': ['スミ:c_yahoo', 'ジュン:mecab']}\n",
            "start new batch!\n",
            "** Yahoo API: {\"id\":\"abc\",\"jsonrpc\":\"2.0\",\"result\":{\"word\":[{\"furigana\":\"げいじゅつ\",\"roman\":\"geizyutu\",\"surface\":\"芸術\"},{\"surface\":\"。\"},{\"furigana\":\"ざいじゅう\",\"roman\":\"zaizyuu\",\"surface\":\"在住\"},{\"surface\":\"。\"},{\"furigana\":\"さんか\",\"roman\":\"sanka\",\"surface\":\"参加\"},{\"surface\":\"。\"},{\"furigana\":\"じっしゃ\",\"roman\":\"zissya\",\"surface\":\"実写\"},{\"surface\":\"。\"},{\"furigana\":\"たんぺん\",\"roman\":\"tanpen\",\"surface\":\"短編\"},{\"surface\":\"。\"},{\"furigana\":\"ちょうへん\",\"roman\":\"tyouhen\",\"surface\":\"長編\"},{\"surface\":\"。\"}]}}\n",
            "{'年': ['トシ:c_yahoo', 'ネン:mecab'], '月': ['ツキ:c_yahoo', 'ガツ:mecab'], '澤': ['オモダカ:c_yahoo', 'サワ:mecab'], '佑': ['タスク:c_yahoo', 'ユウ:mecab']}\n",
            "start new batch!\n",
            "** Yahoo API: {\"id\":\"abc\",\"jsonrpc\":\"2.0\",\"result\":{\"word\":[{\"furigana\":\"ふじ\",\"roman\":\"huzi\",\"surface\":\"富士\"},{\"surface\":\"。\"},{\"furigana\":\"こうぎょう\",\"roman\":\"kougyou\",\"surface\":\"工業\"},{\"surface\":\"。\"},{\"furigana\":\"せいぞう\",\"roman\":\"seizou\",\"surface\":\"製造\"},{\"surface\":\"。\"},{\"furigana\":\"ぶもん\",\"roman\":\"bumon\",\"surface\":\"部門\"},{\"surface\":\"。\"},{\"furigana\":\"こうくう\",\"roman\":\"koukuu\",\"surface\":\"航空\"},{\"surface\":\"。\"},{\"furigana\":\"き\",\"roman\":\"ki\",\"surface\":\"機\"},{\"surface\":\"。\"},{\"furigana\":\"さく\",\"roman\":\"saku\",\"surface\":\"作\"},{\"surface\":\"。\"},{\"furigana\":\"しゅつえん\",\"roman\":\"syutuen\",\"surface\":\"出演\"},{\"surface\":\"。\"},{\"furigana\":\"はっこう\",\"roman\":\"hakkou\",\"surface\":\"発行\"},{\"surface\":\"。\"},{\"furigana\":\"せいきょう\",\"roman\":\"seikyou\",\"surface\":\"政教\"},{\"surface\":\"。\"},{\"furigana\":\"ざっし\",\"roman\":\"zassi\",\"surface\":\"雑誌\"},{\"surface\":\"。\"}]}}\n",
            "{'名': ['ナ:c_yahoo', 'メイ:mecab'], '年': ['トシ:c_yahoo', 'ネン:mecab'], '月': ['ツキ:c_yahoo', 'ガツ:mecab'], '日本': ['ニホン:c_yahoo', 'ニッポン:mecab']}\n",
            "start new batch!\n",
            "** Yahoo API: {\"id\":\"abc\",\"jsonrpc\":\"2.0\",\"result\":{\"word\":[{\"furigana\":\"ひとあじ\",\"roman\":\"hitoazi\",\"subword\":[{\"furigana\":\"ひと\",\"roman\":\"hito\",\"surface\":\"ひと\"},{\"furigana\":\"あじ\",\"roman\":\"azi\",\"surface\":\"味\"}],\"surface\":\"ひと味\"},{\"surface\":\"。\"},{\"furigana\":\"さんか\",\"roman\":\"sanka\",\"surface\":\"傘下\"},{\"surface\":\"。\"},{\"furigana\":\"でんわ\",\"roman\":\"denwa\",\"surface\":\"電話\"},{\"surface\":\"。\"},{\"furigana\":\"こうかん\",\"roman\":\"koukan\",\"surface\":\"交換\"},{\"surface\":\"。\"},{\"furigana\":\"つうしん\",\"roman\":\"tuusin\",\"surface\":\"通信\"},{\"surface\":\"。\"},{\"furigana\":\"りよう\",\"roman\":\"riyou\",\"surface\":\"利用\"},{\"surface\":\"。\"},{\"furigana\":\"そうてい\",\"roman\":\"soutei\",\"surface\":\"想定\"},{\"surface\":\"。\"},{\"furigana\":\"しよう\",\"roman\":\"siyou\",\"surface\":\"仕様\"},{\"surface\":\"。\"},{\"furigana\":\"しんらい\",\"roman\":\"sinrai\",\"surface\":\"信頼\"},{\"surface\":\"。\"},{\"furigana\":\"じゅうし\",\"roman\":\"zyuusi\",\"surface\":\"重視\"},{\"surface\":\"。\"},{\"furigana\":\"ふじつう\",\"roman\":\"huzituu\",\"surface\":\"富士通\"},{\"surface\":\"。\"},{\"furigana\":\"ひたち\",\"roman\":\"hitati\",\"surface\":\"日立\"},{\"surface\":\"。\"},{\"furigana\":\"きょうりょく\",\"roman\":\"kyouryoku\",\"surface\":\"協力\"},{\"surface\":\"。\"}]}}\n",
            "{'年': ['トシ:c_yahoo', 'ネン:mecab'], '月': ['ツキ:c_yahoo', 'ガツ:mecab'], '日本': ['ニホン:c_yahoo', 'ニッポン:mecab'], '一': ['一:c_yahoo', 'ヒト:mecab']}\n",
            "start new batch!\n",
            "** Yahoo API: {\"id\":\"abc\",\"jsonrpc\":\"2.0\",\"result\":{\"word\":[{\"furigana\":\"さっきょく\",\"roman\":\"sakkyoku\",\"surface\":\"作曲\"},{\"surface\":\"。\"},{\"furigana\":\"しょうにん\",\"roman\":\"syounin\",\"surface\":\"小人\"},{\"surface\":\"。\"},{\"furigana\":\"おうぞく\",\"roman\":\"ouzoku\",\"surface\":\"王族\"},{\"surface\":\"。\"},{\"furigana\":\"ぐんじん\",\"roman\":\"gunzin\",\"surface\":\"軍人\"},{\"surface\":\"。\"},{\"furigana\":\"きへい\",\"roman\":\"kihei\",\"surface\":\"騎兵\"},{\"surface\":\"。\"},{\"furigana\":\"たいしょう\",\"roman\":\"taisyou\",\"surface\":\"大将\"},{\"surface\":\"。\"},{\"furigana\":\"おうじ\",\"roman\":\"ouzi\",\"surface\":\"王子\"},{\"surface\":\"。\"},{\"furigana\":\"おい\",\"roman\":\"oi\",\"surface\":\"甥\"},{\"surface\":\"。\"}]}}\n",
            "{'年': ['トシ:c_yahoo', 'ネン:mecab'], '月': ['ツキ:c_yahoo', 'ガツ:mecab'], '小人': ['ショウニン:c_yahoo', 'コビト:mecab']}\n",
            "start new batch!\n",
            "** Yahoo API: {\"id\":\"abc\",\"jsonrpc\":\"2.0\",\"result\":{\"word\":[{\"furigana\":\"しょくひん\",\"roman\":\"syokuhin\",\"surface\":\"食品\"},{\"surface\":\"。\"},{\"furigana\":\"ひがし\",\"roman\":\"higasi\",\"surface\":\"東\"},{\"furigana\":\"おおさか\",\"roman\":\"oosaka\",\"surface\":\"大阪\"},{\"surface\":\"。\"},{\"furigana\":\"ほんてん\",\"roman\":\"honten\",\"surface\":\"本店\"},{\"surface\":\"。\"},{\"furigana\":\"ちゅうしん\",\"roman\":\"tyuusin\",\"surface\":\"中心\"},{\"surface\":\"。\"},{\"furigana\":\"おおて\",\"roman\":\"oote\",\"surface\":\"大手\"},{\"surface\":\"。\"},{\"furigana\":\"りゃくごう\",\"roman\":\"ryakugou\",\"surface\":\"略号\"},{\"surface\":\"。\"},{\"furigana\":\"しょく\",\"roman\":\"syoku\",\"surface\":\"食\"},{\"surface\":\"。\"},{\"furigana\":\"かいいん\",\"roman\":\"kaiin\",\"surface\":\"会員\"},{\"surface\":\"。\"},{\"furigana\":\"さんわ\",\"roman\":\"sanwa\",\"surface\":\"三和\"},{\"surface\":\"。\"},{\"furigana\":\"もちかぶ\",\"roman\":\"motikabu\",\"surface\":\"持株\"},{\"surface\":\"。\"},{\"furigana\":\"しょうごう\",\"roman\":\"syougou\",\"surface\":\"商号\"},{\"surface\":\"。\"},{\"furigana\":\"しんせつ\",\"roman\":\"sinsetu\",\"surface\":\"新設\"},{\"surface\":\"。\"},{\"furigana\":\"ぶんかつ\",\"roman\":\"bunkatu\",\"surface\":\"分割\"},{\"surface\":\"。\"},{\"furigana\":\"じゅんび\",\"roman\":\"zyunbi\",\"surface\":\"準備\"},{\"surface\":\"。\"}]}}\n",
            "{'日本': ['ニホン:c_yahoo', 'ニッポン:mecab']}\n",
            "start new batch!\n",
            "** Yahoo API: {\"id\":\"abc\",\"jsonrpc\":\"2.0\",\"result\":{\"word\":[{\"furigana\":\"かみ\",\"roman\":\"kami\",\"surface\":\"加美\"},{\"surface\":\"。\"},{\"furigana\":\"あんな\",\"roman\":\"anna\",\"surface\":\"杏奈\"},{\"surface\":\"。\"},{\"furigana\":\"すみのえ\",\"roman\":\"suminoe\",\"surface\":\"住之江\"},{\"surface\":\"。\"},{\"furigana\":\"ながた\",\"roman\":\"nagata\",\"surface\":\"長田\"},{\"surface\":\"。\"},{\"furigana\":\"でんき\",\"roman\":\"denki\",\"surface\":\"電気\"},{\"surface\":\"。\"},{\"furigana\":\"きどう\",\"roman\":\"kidou\",\"surface\":\"軌道\"},{\"surface\":\"。\"},{\"furigana\":\"ようらん\",\"roman\":\"youran\",\"surface\":\"要覧\"},{\"surface\":\"。\"},{\"furigana\":\"さい\",\"roman\":\"sai\",\"surface\":\"際\"},{\"surface\":\"。\"},{\"furigana\":\"きごう\",\"roman\":\"kigou\",\"surface\":\"記号\"},{\"surface\":\"。\"},{\"furigana\":\"おおどおり\",\"roman\":\"oodoori\",\"surface\":\"大通\"},{\"surface\":\"。\"},{\"furigana\":\"きぎ\",\"roman\":\"kigi\",\"surface\":\"木々\"},{\"surface\":\"。\"},{\"furigana\":\"みどり\",\"roman\":\"midori\",\"surface\":\"緑\"},{\"surface\":\"。\"},{\"furigana\":\"きんき\",\"roman\":\"kinki\",\"surface\":\"近畿\"},{\"surface\":\"。\"},{\"furigana\":\"きんてつ\",\"roman\":\"kintetu\",\"surface\":\"近鉄\"},{\"surface\":\"。\"},{\"furigana\":\"がっけん\",\"roman\":\"gakken\",\"surface\":\"学研\"},{\"surface\":\"。\"},{\"furigana\":\"なら\",\"roman\":\"nara\",\"surface\":\"奈良\"},{\"surface\":\"。\"},{\"furigana\":\"とみがおか\",\"roman\":\"tomigaoka\",\"surface\":\"登美ヶ丘\"},{\"surface\":\"。\"},{\"furigana\":\"かいつう\",\"roman\":\"kaituu\",\"surface\":\"開通\"},{\"surface\":\"。\"},{\"furigana\":\"そうご\",\"roman\":\"sougo\",\"surface\":\"相互\"},{\"surface\":\"。\"},{\"furigana\":\"ちょくつう\",\"roman\":\"tyokutuu\",\"surface\":\"直通\"},{\"surface\":\"。\"},{\"furigana\":\"うんてん\",\"roman\":\"unten\",\"surface\":\"運転\"},{\"surface\":\"。\"},{\"furigana\":\"じっし\",\"roman\":\"zissi\",\"surface\":\"実施\"},{\"surface\":\"。\"},{\"furigana\":\"りょうせん\",\"roman\":\"ryousen\",\"surface\":\"両線\"},{\"surface\":\"。\"}]}}\n",
            "{'年': ['トシ:c_yahoo', 'ネン:mecab'], '月': ['ツキ:c_yahoo', 'ガツ:mecab'], '日本': ['ニホン:c_yahoo', 'ニッポン:mecab'], '大通': ['オオドオリ:c_yahoo', 'ダイツウ:mecab']}\n",
            "start new batch!\n",
            "** Yahoo API: {\"id\":\"abc\",\"jsonrpc\":\"2.0\",\"result\":{\"word\":[{\"furigana\":\"さとう\",\"roman\":\"satou\",\"surface\":\"佐藤\"},{\"surface\":\"。\"},{\"furigana\":\"すすむ\",\"roman\":\"susumu\",\"surface\":\"奨\"},{\"surface\":\"。\"},{\"furigana\":\"すだ\",\"roman\":\"suda\",\"surface\":\"墨田\"},{\"surface\":\"。\"},{\"furigana\":\"もりかわ\",\"roman\":\"morikawa\",\"surface\":\"森川\"},{\"surface\":\"。\"},{\"furigana\":\"あおい\",\"roman\":\"aoi\",\"surface\":\"葵\"},{\"surface\":\"。\"},{\"furigana\":\"せんぞく\",\"roman\":\"senzoku\",\"surface\":\"専属\"},{\"surface\":\"。\"}]}}\n",
            "{'年': ['トシ:c_yahoo', 'ネン:mecab'], '月': ['ツキ:c_yahoo', 'ガツ:mecab'], '墨田': ['スダ:c_yahoo', 'スミダ:mecab'], '日本': ['ニホン:c_yahoo', 'ニッポン:mecab']}\n",
            "start new batch!\n",
            "** Yahoo API: {\"id\":\"abc\",\"jsonrpc\":\"2.0\",\"result\":{\"word\":[{\"furigana\":\"へんみ\",\"roman\":\"henmi\",\"surface\":\"逸見\"},{\"surface\":\"。\"},{\"furigana\":\"まさたか\",\"roman\":\"masataka\",\"surface\":\"政孝\"},{\"surface\":\"。\"},{\"furigana\":\"たいしゃ\",\"roman\":\"taisya\",\"surface\":\"退社\"},{\"surface\":\"。\"},{\"furigana\":\"みき\",\"roman\":\"miki\",\"surface\":\"三木\"},{\"surface\":\"。\"},{\"furigana\":\"ぎょうむ\",\"roman\":\"gyoumu\",\"surface\":\"業務\"},{\"surface\":\"。\"},{\"furigana\":\"ていけい\",\"roman\":\"teikei\",\"surface\":\"提携\"},{\"surface\":\"。\"},{\"furigana\":\"しご\",\"roman\":\"sigo\",\"surface\":\"死後\"},{\"surface\":\"。\"},{\"furigana\":\"へんこう\",\"roman\":\"henkou\",\"surface\":\"変更\"},{\"surface\":\"。\"},{\"furigana\":\"あべの\",\"roman\":\"abeno\",\"surface\":\"阿倍野\"},{\"surface\":\"。\"},{\"furigana\":\"はるえ\",\"roman\":\"harue\",\"surface\":\"晴恵\"},{\"surface\":\"。\"},{\"furigana\":\"たろう\",\"roman\":\"tarou\",\"surface\":\"太郎\"},{\"surface\":\"。\"},{\"furigana\":\"ちょうじょ\",\"roman\":\"tyouzyo\",\"surface\":\"長女\"},{\"surface\":\"。\"},{\"furigana\":\"あい\",\"roman\":\"ai\",\"surface\":\"愛\"},{\"surface\":\"。\"}]}}\n",
            "{'年': ['トシ:c_yahoo', 'ネン:mecab'], '月': ['ツキ:c_yahoo', 'ガツ:mecab'], '逸見': ['ヘンミ:c_yahoo', 'イツミ:mecab'], '日本': ['ニホン:c_yahoo', 'ニッポン:mecab']}\n",
            "start new batch!\n",
            "** Yahoo API: {\"id\":\"abc\",\"jsonrpc\":\"2.0\",\"result\":{\"word\":[{\"furigana\":\"ふくすう\",\"roman\":\"hukusuu\",\"surface\":\"複数\"},{\"surface\":\"。\"},{\"furigana\":\"しんわ\",\"roman\":\"sinwa\",\"surface\":\"神話\"},{\"surface\":\"。\"},{\"furigana\":\"きげん\",\"roman\":\"kigen\",\"surface\":\"起源\"},{\"surface\":\"。\"},{\"furigana\":\"きた\",\"roman\":\"kita\",\"surface\":\"北\"},{\"surface\":\"。\"},{\"furigana\":\"でんしょう\",\"roman\":\"densyou\",\"surface\":\"伝承\"},{\"surface\":\"。\"},{\"furigana\":\"しゅぞく\",\"roman\":\"syuzoku\",\"surface\":\"種族\"},{\"surface\":\"。\"},{\"furigana\":\"ようせい\",\"roman\":\"yousei\",\"surface\":\"妖精\"},{\"surface\":\"。\"},{\"furigana\":\"ほくおう\",\"roman\":\"hokuou\",\"surface\":\"北欧\"},{\"surface\":\"。\"},{\"furigana\":\"ほんらい\",\"roman\":\"honrai\",\"surface\":\"本来\"},{\"surface\":\"。\"},{\"furigana\":\"しぜん\",\"roman\":\"sizen\",\"surface\":\"自然\"},{\"surface\":\"。\"},{\"furigana\":\"しんぞく\",\"roman\":\"sinzoku\",\"surface\":\"神族\"},{\"surface\":\"。\"},{\"furigana\":\"がいけん\",\"roman\":\"gaiken\",\"surface\":\"外見\"},{\"surface\":\"。\"},{\"furigana\":\"いずみ\",\"roman\":\"izumi\",\"surface\":\"泉\"},{\"surface\":\"。\"},{\"furigana\":\"いど\",\"roman\":\"ido\",\"surface\":\"井戸\"},{\"surface\":\"。\"},{\"furigana\":\"ふし\",\"roman\":\"husi\",\"surface\":\"不死\"},{\"surface\":\"。\"},{\"furigana\":\"ちょうめい\",\"roman\":\"tyoumei\",\"surface\":\"長命\"},{\"surface\":\"。\"},{\"furigana\":\"まほう\",\"roman\":\"mahou\",\"surface\":\"魔法\"},{\"surface\":\"。\"},{\"furigana\":\"ちから\",\"roman\":\"tikara\",\"surface\":\"力\"},{\"surface\":\"。\"},{\"furigana\":\"けんめい\",\"roman\":\"kenmei\",\"surface\":\"賢明\"},{\"surface\":\"。\"},{\"furigana\":\"はんしん\",\"roman\":\"hansin\",\"surface\":\"半神\"},{\"surface\":\"。\"},{\"furigana\":\"かつやく\",\"roman\":\"katuyaku\",\"surface\":\"活躍\"},{\"surface\":\"。\"},{\"furigana\":\"せいこう\",\"roman\":\"seikou\",\"surface\":\"成功\"},{\"surface\":\"。\"},{\"furigana\":\"ていばん\",\"roman\":\"teiban\",\"surface\":\"定番\"},{\"surface\":\"。\"},{\"furigana\":\"きんねん\",\"roman\":\"kinnen\",\"surface\":\"近年\"},{\"surface\":\"。\"},{\"furigana\":\"こと\",\"roman\":\"koto\",\"surface\":\"事\"},{\"surface\":\"。\"},{\"furigana\":\"かんじ\",\"roman\":\"kanzi\",\"surface\":\"漢字\"},{\"surface\":\"。\"}]}}\n",
            "{'日本': ['ニホン:c_yahoo', 'ニッポン:mecab']}\n",
            "start new batch!\n",
            "** Yahoo API: {\"id\":\"abc\",\"jsonrpc\":\"2.0\",\"result\":{\"word\":[{\"furigana\":\"そうさく\",\"roman\":\"sousaku\",\"surface\":\"創作\"},{\"surface\":\"。\"},{\"furigana\":\"かいぶつ\",\"roman\":\"kaibutu\",\"surface\":\"怪物\"},{\"surface\":\"。\"},{\"furigana\":\"あっき\",\"roman\":\"akki\",\"surface\":\"悪鬼\"},{\"surface\":\"。\"},{\"furigana\":\"ほのお\",\"roman\":\"honoo\",\"surface\":\"焔\"},{\"surface\":\"。\"},{\"furigana\":\"ぜんたい\",\"roman\":\"zentai\",\"surface\":\"全体\"},{\"surface\":\"。\"},{\"furigana\":\"もともと\",\"roman\":\"motomoto\",\"surface\":\"元々\"},{\"surface\":\"。\"},{\"furigana\":\"ひ\",\"roman\":\"hi\",\"surface\":\"火\"},{\"surface\":\"。\"},{\"furigana\":\"めいおう\",\"roman\":\"meiou\",\"surface\":\"冥王\"},{\"surface\":\"。\"},{\"furigana\":\"ゆうわく\",\"roman\":\"yuuwaku\",\"surface\":\"誘惑\"},{\"surface\":\"。\"},{\"furigana\":\"りはん\",\"roman\":\"rihan\",\"surface\":\"離反\"},{\"surface\":\"。\"},{\"furigana\":\"りゅう\",\"roman\":\"ryuu\",\"surface\":\"竜\"},{\"surface\":\"。\"},{\"furigana\":\"きょうだい\",\"roman\":\"kyoudai\",\"surface\":\"強大\"},{\"surface\":\"。\"},{\"furigana\":\"はいか\",\"roman\":\"haika\",\"surface\":\"配下\"},{\"surface\":\"。\"},{\"furigana\":\"じょうこ\",\"roman\":\"zyouko\",\"surface\":\"上古\"},{\"surface\":\"。\"},{\"furigana\":\"てんてき\",\"roman\":\"tenteki\",\"surface\":\"天敵\"},{\"surface\":\"。\"},{\"furigana\":\"ぶぶん\",\"roman\":\"bubun\",\"surface\":\"部分\"},{\"surface\":\"。\"},{\"furigana\":\"さんげき\",\"roman\":\"sangeki\",\"surface\":\"惨劇\"},{\"surface\":\"。\"}]}}\n",
            "{'名': ['ナ:c_yahoo', 'メイ:mecab']}\n",
            "start new batch!\n",
            "** Yahoo API: {\"id\":\"abc\",\"jsonrpc\":\"2.0\",\"result\":{\"word\":[{\"furigana\":\"ほんか\",\"roman\":\"honka\",\"surface\":\"本科\"},{\"surface\":\"。\"},{\"furigana\":\"いっぽう\",\"roman\":\"ippou\",\"surface\":\"一方\"},{\"surface\":\"。\"},{\"furigana\":\"じてん\",\"roman\":\"ziten\",\"surface\":\"時点\"},{\"surface\":\"。\"},{\"furigana\":\"こうほく\",\"roman\":\"kouhoku\",\"surface\":\"港北\"},{\"surface\":\"。\"},{\"furigana\":\"よこはま\",\"roman\":\"yokohama\",\"surface\":\"横浜\"},{\"surface\":\"。\"},{\"furigana\":\"つづき\",\"roman\":\"tuzuki\",\"surface\":\"都筑\"},{\"surface\":\"。\"},{\"furigana\":\"ちく\",\"roman\":\"tiku\",\"surface\":\"地区\"},{\"surface\":\"。\"},{\"furigana\":\"しょうぎょう\",\"roman\":\"syougyou\",\"surface\":\"商業\"},{\"surface\":\"。\"},{\"furigana\":\"きた\",\"roman\":\"kita\",\"surface\":\"北\"},{\"furigana\":\"えき\",\"roman\":\"eki\",\"surface\":\"駅\"},{\"surface\":\"。\"},{\"furigana\":\"ちゅうかん\",\"roman\":\"tyuukan\",\"surface\":\"中間\"},{\"surface\":\"。\"},{\"furigana\":\"とほ\",\"roman\":\"toho\",\"surface\":\"徒歩\"},{\"surface\":\"。\"}]}}\n",
            "{'澤': ['オモダカ:c_yahoo', 'サワ:mecab'], '佑': ['タスク:c_yahoo', 'ユウ:mecab'], '鳥綱': ['トリヅナ:c_yahoo', 'チョウコウ:mecab'], '科': ['カ:c_yahoo', 'トガ:mecab'], '年': ['トシ:c_yahoo', 'ネン:mecab'], '分': ['ブン:c_yahoo', 'フン:mecab']}\n",
            "start new batch!\n",
            "** Yahoo API: {\"id\":\"abc\",\"jsonrpc\":\"2.0\",\"result\":{\"word\":[{\"furigana\":\"なか\",\"roman\":\"naka\",\"surface\":\"中\"},{\"furigana\":\"つ\",\"roman\":\"tu\",\"surface\":\"つ\"},{\"furigana\":\"くに\",\"roman\":\"kuni\",\"surface\":\"国\"},{\"surface\":\"。\"},{\"furigana\":\"のど\",\"roman\":\"nodo\",\"surface\":\"喉\"},{\"surface\":\"。\"},{\"furigana\":\"よびな\",\"roman\":\"yobina\",\"subword\":[{\"furigana\":\"よ\",\"roman\":\"yo\",\"surface\":\"呼\"},{\"furigana\":\"び\",\"roman\":\"bi\",\"surface\":\"び\"},{\"furigana\":\"な\",\"roman\":\"na\",\"surface\":\"名\"}],\"surface\":\"呼び名\"},{\"surface\":\"。\"},{\"furigana\":\"とも\",\"roman\":\"tomo\",\"surface\":\"智\"},{\"surface\":\"。\"},{\"furigana\":\"もん\",\"roman\":\"mon\",\"surface\":\"門\"},{\"surface\":\"。\"},{\"furigana\":\"へいあん\",\"roman\":\"heian\",\"surface\":\"平安\"},{\"surface\":\"。\"},{\"furigana\":\"きょうだい\",\"roman\":\"kyoudai\",\"surface\":\"京大\"},{\"surface\":\"。\"},{\"furigana\":\"だいり\",\"roman\":\"dairi\",\"surface\":\"内裏\"},{\"surface\":\"。\"},{\"furigana\":\"がいかく\",\"roman\":\"gaikaku\",\"surface\":\"外郭\"},{\"surface\":\"。\"},{\"surface\":\"十\"},{\"surface\":\"。\"},{\"furigana\":\"えもん\",\"roman\":\"emon\",\"surface\":\"衛門\"},{\"surface\":\"。\"},{\"furigana\":\"けいご\",\"roman\":\"keigo\",\"surface\":\"警固\"},{\"surface\":\"。\"}]}}\n",
            "{'三': ['三:c_yahoo', 'サン:mecab'], '年': ['トシ:c_yahoo', 'ネン:mecab'], '月': ['ツキ:c_yahoo', 'ガツ:mecab'], '日本': ['ニホン:c_yahoo', 'ニッポン:mecab'], '名': ['ナ:c_yahoo', 'メイ:mecab'], '達': ['タッシ:c_yahoo', 'トオル:mecab'], '智': ['トモ:c_yahoo', 'サトシ:mecab'], '十': ['十:c_yahoo', 'ジュウ:mecab'], '二': ['二:c_yahoo', 'ニ:mecab']}\n",
            "start new batch!\n",
            "** Yahoo API: {\"id\":\"abc\",\"jsonrpc\":\"2.0\",\"result\":{\"word\":[{\"furigana\":\"きゅうしゅう\",\"roman\":\"kyuusyuu\",\"surface\":\"九州\"},{\"surface\":\"。\"},{\"furigana\":\"ざいせき\",\"roman\":\"zaiseki\",\"surface\":\"在籍\"},{\"surface\":\"。\"},{\"furigana\":\"かんせん\",\"roman\":\"kansen\",\"surface\":\"幹線\"},{\"surface\":\"。\"},{\"furigana\":\"でんしゃ\",\"roman\":\"densya\",\"surface\":\"電車\"},{\"surface\":\"。\"},{\"furigana\":\"とうかいどう\",\"roman\":\"toukaidou\",\"surface\":\"東海道\"},{\"surface\":\"。\"},{\"furigana\":\"えいぎょう\",\"roman\":\"eigyou\",\"surface\":\"営業\"},{\"surface\":\"。\"},{\"furigana\":\"せだい\",\"roman\":\"sedai\",\"surface\":\"世代\"},{\"surface\":\"。\"},{\"furigana\":\"ほうどう\",\"roman\":\"houdou\",\"surface\":\"報道\"},{\"surface\":\"。\"},{\"furigana\":\"しりょう\",\"roman\":\"siryou\",\"surface\":\"資料\"},{\"surface\":\"。\"},{\"furigana\":\"べんぎ\",\"roman\":\"bengi\",\"surface\":\"便宜\"},{\"surface\":\"。\"},{\"furigana\":\"いか\",\"roman\":\"ika\",\"surface\":\"以下\"},{\"surface\":\"。\"},{\"furigana\":\"とういつ\",\"roman\":\"touitu\",\"surface\":\"統一\"},{\"surface\":\"。\"}]}}\n",
            "{'年': ['トシ:c_yahoo', 'ネン:mecab'], '月': ['ツキ:c_yahoo', 'ガツ:mecab'], '日本': ['ニホン:c_yahoo', 'ニッポン:mecab'], '名': ['ナ:c_yahoo', 'メイ:mecab']}\n",
            "start new batch!\n",
            "** Yahoo API: {\"id\":\"abc\",\"jsonrpc\":\"2.0\",\"result\":{\"word\":[{\"furigana\":\"しゅつりょく\",\"roman\":\"syuturyoku\",\"surface\":\"出力\"},{\"surface\":\"。\"},{\"furigana\":\"しょしき\",\"roman\":\"syosiki\",\"surface\":\"書式\"},{\"surface\":\"。\"},{\"furigana\":\"なまえ\",\"roman\":\"namae\",\"surface\":\"名前\"},{\"surface\":\"。\"},{\"furigana\":\"くうかん\",\"roman\":\"kuukan\",\"surface\":\"空間\"},{\"surface\":\"。\"},{\"furigana\":\"やなぎや\",\"roman\":\"yanagiya\",\"surface\":\"柳家\"},{\"surface\":\"。\"},{\"furigana\":\"こさん\",\"roman\":\"kosan\",\"subword\":[{\"furigana\":\"こ\",\"roman\":\"ko\",\"surface\":\"小\"},{\"furigana\":\"さん\",\"roman\":\"san\",\"surface\":\"さん\"}],\"surface\":\"小さん\"},{\"surface\":\"。\"},{\"furigana\":\"らくご\",\"roman\":\"rakugo\",\"surface\":\"落語\"},{\"surface\":\"。\"},{\"furigana\":\"としま\",\"roman\":\"tosima\",\"surface\":\"豊島\"},{\"surface\":\"。\"},{\"furigana\":\"ぎんのすけ\",\"roman\":\"ginnosuke\",\"surface\":\"銀之助\"},{\"surface\":\"。\"},{\"furigana\":\"こっか\",\"roman\":\"kokka\",\"surface\":\"国家\"},{\"surface\":\"。\"},{\"furigana\":\"しょき\",\"roman\":\"syoki\",\"surface\":\"初期\"},{\"surface\":\"。\"},{\"furigana\":\"ぞくへん\",\"roman\":\"zokuhen\",\"surface\":\"続編\"},{\"surface\":\"。\"},{\"furigana\":\"きかん\",\"roman\":\"kikan\",\"surface\":\"期間\"},{\"surface\":\"。\"},{\"furigana\":\"しゅっぱん\",\"roman\":\"syuppan\",\"surface\":\"出版\"},{\"surface\":\"。\"},{\"furigana\":\"おおく\",\"roman\":\"ooku\",\"subword\":[{\"furigana\":\"おお\",\"roman\":\"oo\",\"surface\":\"多\"},{\"furigana\":\"く\",\"roman\":\"ku\",\"surface\":\"く\"}],\"surface\":\"多く\"},{\"surface\":\"。\"},{\"furigana\":\"ほんやく\",\"roman\":\"honyaku\",\"surface\":\"翻訳\"},{\"surface\":\"。\"},{\"furigana\":\"ぞうさつ\",\"roman\":\"zousatu\",\"surface\":\"増刷\"},{\"surface\":\"。\"},{\"furigana\":\"ぶんがく\",\"roman\":\"bungaku\",\"surface\":\"文学\"},{\"surface\":\"。\"}]}}\n",
            "{'三': ['三:c_yahoo', 'サン:mecab'], '年': ['トシ:c_yahoo', 'ネン:mecab'], '月': ['ツキ:c_yahoo', 'ガツ:mecab'], '二': ['二:c_yahoo', 'ニ:mecab'], '巻': ['マキ:c_yahoo', 'カン:mecab'], '一': ['一:c_yahoo', 'ヒト:mecab']}\n",
            "start new batch!\n",
            "** Yahoo API: {\"id\":\"abc\",\"jsonrpc\":\"2.0\",\"result\":{\"word\":[{\"furigana\":\"たいおう\",\"roman\":\"taiou\",\"surface\":\"対応\"},{\"surface\":\"。\"},{\"furigana\":\"せいび\",\"roman\":\"seibi\",\"surface\":\"整備\"},{\"surface\":\"。\"},{\"furigana\":\"たいりょう\",\"roman\":\"tairyou\",\"surface\":\"大量\"},{\"surface\":\"。\"},{\"furigana\":\"いらい\",\"roman\":\"irai\",\"surface\":\"依頼\"},{\"surface\":\"。\"},{\"furigana\":\"さぎょう\",\"roman\":\"sagyou\",\"surface\":\"作業\"},{\"surface\":\"。\"},{\"furigana\":\"ふるや\",\"roman\":\"huruya\",\"surface\":\"古谷\"},{\"surface\":\"。\"},{\"furigana\":\"いっこう\",\"roman\":\"ikkou\",\"surface\":\"一行\"},{\"surface\":\"。\"},{\"furigana\":\"きんたいち\",\"roman\":\"kintaiti\",\"surface\":\"金田一\"},{\"surface\":\"。\"},{\"furigana\":\"こうすけ\",\"roman\":\"kousuke\",\"surface\":\"耕助\"},{\"surface\":\"。\"},{\"furigana\":\"ていしゅつ\",\"roman\":\"teisyutu\",\"surface\":\"提出\"},{\"surface\":\"。\"}]}}\n",
            "{'年': ['トシ:c_yahoo', 'ネン:mecab'], '日本': ['ニホン:c_yahoo', 'ニッポン:mecab'], '月': ['ツキ:c_yahoo', 'ガツ:mecab'], '一': ['一:c_yahoo', 'イチ:mecab'], '度': ['タビ:c_yahoo', 'ド:mecab'], '方': ['ホウ:c_yahoo', 'カタ:mecab'], '金田一': ['キンタイチ:c_yahoo', 'キンダイチ:mecab']}\n",
            "start new batch!\n",
            "** Yahoo API: {\"id\":\"abc\",\"jsonrpc\":\"2.0\",\"result\":{\"word\":[{\"furigana\":\"にったい\",\"roman\":\"nittai\",\"surface\":\"日台\"},{\"surface\":\"。\"},{\"furigana\":\"かんけい\",\"roman\":\"kankei\",\"surface\":\"関係\"},{\"surface\":\"。\"},{\"furigana\":\"がくめい\",\"roman\":\"gakumei\",\"surface\":\"学名\"},{\"surface\":\"。\"},{\"furigana\":\"め\",\"roman\":\"me\",\"surface\":\"目\"},{\"surface\":\"。\"},{\"furigana\":\"げんせ\",\"roman\":\"gense\",\"surface\":\"現世\"},{\"surface\":\"。\"},{\"furigana\":\"げんし\",\"roman\":\"gensi\",\"surface\":\"原始\"},{\"surface\":\"。\"},{\"furigana\":\"ていぎ\",\"roman\":\"teigi\",\"surface\":\"定義\"},{\"surface\":\"。\"},{\"furigana\":\"しょせつ\",\"roman\":\"syosetu\",\"surface\":\"諸説\"},{\"surface\":\"。\"},{\"furigana\":\"きょうぎ\",\"roman\":\"kyougi\",\"surface\":\"狭義\"},{\"surface\":\"。\"},{\"furigana\":\"こうぎ\",\"roman\":\"kougi\",\"surface\":\"広義\"},{\"surface\":\"。\"},{\"furigana\":\"できごと\",\"roman\":\"dekigoto\",\"surface\":\"出来事\"},{\"surface\":\"。\"}]}}\n",
            "{'日本': ['ニホン:c_yahoo', 'ニッポン:mecab'], '顎': ['アゴ:c_yahoo', 'ガク:mecab'], '種': ['タネ:c_yahoo', 'シュ:mecab'], '平': ['ヘイ:c_yahoo', 'タイラ:mecab'], '年': ['トシ:c_yahoo', 'ネン:mecab'], '一': ['一:c_yahoo', 'イチ:mecab'], '度': ['タビ:c_yahoo', 'ド:mecab'], '方': ['ホウ:c_yahoo', 'カタ:mecab'], '月': ['ツキ:c_yahoo', 'ガツ:mecab'], '金田一': ['キンタイチ:c_yahoo', 'キンダイチ:mecab']}\n",
            "start new batch!\n",
            "** Yahoo API: {\"id\":\"abc\",\"jsonrpc\":\"2.0\",\"result\":{\"word\":[{\"furigana\":\"ひょう\",\"roman\":\"hyou\",\"surface\":\"表\"},{\"surface\":\"。\"},{\"furigana\":\"じょうたい\",\"roman\":\"zyoutai\",\"surface\":\"状態\"},{\"surface\":\"。\"},{\"furigana\":\"らん\",\"roman\":\"ran\",\"surface\":\"欄\"},{\"surface\":\"。\"},{\"furigana\":\"まる\",\"roman\":\"maru\",\"surface\":\"丸\"},{\"surface\":\"。\"},{\"furigana\":\"かっこ\",\"roman\":\"kakko\",\"surface\":\"括弧\"},{\"surface\":\"。\"},{\"furigana\":\"はいり\",\"roman\":\"hairi\",\"subword\":[{\"furigana\":\"はい\",\"roman\":\"hai\",\"surface\":\"入\"},{\"furigana\":\"り\",\"roman\":\"ri\",\"surface\":\"り\"}],\"surface\":\"入り\"},{\"surface\":\"。\"},{\"furigana\":\"あか\",\"roman\":\"aka\",\"surface\":\"赤\"},{\"surface\":\"。\"},{\"furigana\":\"ちゅうしゅつ\",\"roman\":\"tyuusyutu\",\"surface\":\"抽出\"},{\"surface\":\"。\"},{\"furigana\":\"ざんてい\",\"roman\":\"zantei\",\"surface\":\"暫定\"},{\"surface\":\"。\"},{\"furigana\":\"もと\",\"roman\":\"moto\",\"surface\":\"基\"},{\"surface\":\"。\"},{\"furigana\":\"じたい\",\"roman\":\"zitai\",\"surface\":\"自体\"},{\"surface\":\"。\"},{\"furigana\":\"しゅういつ\",\"roman\":\"syuuitu\",\"surface\":\"秀逸\"},{\"surface\":\"。\"},{\"furigana\":\"ひょうじ\",\"roman\":\"hyouzi\",\"surface\":\"表示\"},{\"surface\":\"。\"},{\"furigana\":\"しゅとく\",\"roman\":\"syutoku\",\"surface\":\"取得\"},{\"surface\":\"。\"},{\"furigana\":\"せいせい\",\"roman\":\"seisei\",\"surface\":\"生成\"},{\"surface\":\"。\"},{\"furigana\":\"ないよう\",\"roman\":\"naiyou\",\"surface\":\"内容\"},{\"surface\":\"。\"},{\"furigana\":\"じかい\",\"roman\":\"zikai\",\"surface\":\"次回\"},{\"surface\":\"。\"},{\"furigana\":\"こうしん\",\"roman\":\"kousin\",\"surface\":\"更新\"},{\"surface\":\"。\"},{\"furigana\":\"うわがき\",\"roman\":\"uwagaki\",\"subword\":[{\"furigana\":\"うわが\",\"roman\":\"uwaga\",\"surface\":\"上書\"},{\"furigana\":\"き\",\"roman\":\"ki\",\"surface\":\"き\"}],\"surface\":\"上書き\"},{\"surface\":\"。\"},{\"furigana\":\"こうじょう\",\"roman\":\"kouzyou\",\"surface\":\"恒常\"},{\"surface\":\"。\"},{\"furigana\":\"だいめい\",\"roman\":\"daimei\",\"surface\":\"題名\"},{\"surface\":\"。\"},{\"furigana\":\"たすう\",\"roman\":\"tasuu\",\"surface\":\"多数\"},{\"surface\":\"。\"}]}}\n",
            "{'日本': ['ニホン:c_yahoo', 'ニッポン:mecab'], '入り': ['ハイリ:c_yahoo', 'イリ:mecab'], '名': ['ナ:c_yahoo', 'メイ:mecab'], '時': ['トキ:c_yahoo', 'ジ:mecab']}\n",
            "\n",
            "start new batch!\n",
            "** Yahoo API: {\"id\":\"abc\",\"jsonrpc\":\"2.0\",\"result\":{\"word\":[{\"furigana\":\"おそれ\",\"roman\":\"osore\",\"surface\":\"恐\"},{\"surface\":\"。\"},{\"furigana\":\"せいちょう\",\"roman\":\"seityou\",\"surface\":\"成長\"},{\"surface\":\"。\"},{\"furigana\":\"あし\",\"roman\":\"asi\",\"surface\":\"足\"},{\"surface\":\"。\"},{\"furigana\":\"はったつ\",\"roman\":\"hattatu\",\"surface\":\"発達\"},{\"surface\":\"。\"},{\"furigana\":\"ぜんし\",\"roman\":\"zensi\",\"surface\":\"前肢\"},{\"surface\":\"。\"},{\"furigana\":\"たいか\",\"roman\":\"taika\",\"surface\":\"退化\"},{\"surface\":\"。\"},{\"furigana\":\"ぜんしゅ\",\"roman\":\"zensyu\",\"surface\":\"全種\"},{\"surface\":\"。\"},{\"furigana\":\"ほにゅう\",\"roman\":\"honyuu\",\"surface\":\"哺乳\"},{\"surface\":\"。\"},{\"furigana\":\"はんえい\",\"roman\":\"hanei\",\"surface\":\"繁栄\"},{\"surface\":\"。\"},{\"furigana\":\"そうしょく\",\"roman\":\"sousyoku\",\"surface\":\"草食\"},{\"surface\":\"。\"},{\"furigana\":\"ため\",\"roman\":\"tame\",\"surface\":\"為\"},{\"surface\":\"。\"},{\"furigana\":\"いがい\",\"roman\":\"igai\",\"surface\":\"以外\"},{\"surface\":\"。\"},{\"furigana\":\"じょうりく\",\"roman\":\"zyouriku\",\"surface\":\"上陸\"},{\"surface\":\"。\"},{\"furigana\":\"げんしょう\",\"roman\":\"gensyou\",\"surface\":\"減少\"},{\"surface\":\"。\"},{\"furigana\":\"らんかく\",\"roman\":\"rankaku\",\"surface\":\"乱獲\"},{\"surface\":\"。\"}]}}\n",
            "{'年': ['トシ:c_yahoo', 'ネン:mecab'], '月': ['ツキ:c_yahoo', 'ガツ:mecab'], '日本': ['ニホン:c_yahoo', 'ニッポン:mecab'], '顎': ['アゴ:c_yahoo', 'ガク:mecab'], '種': ['タネ:c_yahoo', 'シュ:mecab']}\n"
          ]
        }
      ]
    }
  ]
}