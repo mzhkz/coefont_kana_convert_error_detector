{
  "nbformat": 4,
  "nbformat_minor": 0,
  "metadata": {
    "colab": {
      "provenance": [],
      "collapsed_sections": [],
      "toc_visible": true,
      "authorship_tag": "ABX9TyMys1WLWkQNSt0L50eKNlJl",
      "include_colab_link": true
    },
    "kernelspec": {
      "name": "python3",
      "display_name": "Python 3"
    },
    "language_info": {
      "name": "python"
    }
  },
  "cells": [
    {
      "cell_type": "markdown",
      "metadata": {
        "id": "view-in-github",
        "colab_type": "text"
      },
      "source": [
        "<a href=\"https://colab.research.google.com/github/mzhkz/coefont_kana_convert_error_detector/blob/main/0904_detect_kana_yomi_error.ipynb\" target=\"_parent\"><img src=\"https://colab.research.google.com/assets/colab-badge.svg\" alt=\"Open In Colab\"/></a>"
      ]
    },
    {
      "cell_type": "markdown",
      "source": [
        "# 事前準備\n",
        "## 必要なパッケージ等を読み込み/割り当て"
      ],
      "metadata": {
        "id": "LIP0DVX3SAYz"
      }
    },
    {
      "cell_type": "code",
      "source": [
        "! pip install mecab-python3 unidic-lite\n",
        "! pip install plyvel"
      ],
      "metadata": {
        "colab": {
          "base_uri": "https://localhost:8080/"
        },
        "id": "Oig2C9aqrY7B",
        "outputId": "d3be2332-b153-4384-b380-199ffa06038a"
      },
      "execution_count": 1,
      "outputs": [
        {
          "output_type": "stream",
          "name": "stdout",
          "text": [
            "Looking in indexes: https://pypi.org/simple, https://us-python.pkg.dev/colab-wheels/public/simple/\n",
            "Collecting mecab-python3\n",
            "  Downloading mecab_python3-1.0.5-cp37-cp37m-manylinux_2_17_x86_64.manylinux2014_x86_64.whl (574 kB)\n",
            "\u001b[K     |████████████████████████████████| 574 kB 29.3 MB/s \n",
            "\u001b[?25hCollecting unidic-lite\n",
            "  Downloading unidic-lite-1.0.8.tar.gz (47.4 MB)\n",
            "\u001b[K     |████████████████████████████████| 47.4 MB 1.2 MB/s \n",
            "\u001b[?25hBuilding wheels for collected packages: unidic-lite\n",
            "  Building wheel for unidic-lite (setup.py) ... \u001b[?25l\u001b[?25hdone\n",
            "  Created wheel for unidic-lite: filename=unidic_lite-1.0.8-py3-none-any.whl size=47658836 sha256=cc196f1879e3528effaa20c9bc339d214419512c9fdfc423cc0534830aad7fea\n",
            "  Stored in directory: /root/.cache/pip/wheels/de/69/b1/112140b599f2b13f609d485a99e357ba68df194d2079c5b1a2\n",
            "Successfully built unidic-lite\n",
            "Installing collected packages: unidic-lite, mecab-python3\n",
            "Successfully installed mecab-python3-1.0.5 unidic-lite-1.0.8\n",
            "Looking in indexes: https://pypi.org/simple, https://us-python.pkg.dev/colab-wheels/public/simple/\n",
            "Collecting plyvel\n",
            "  Downloading plyvel-1.4.0-cp37-cp37m-manylinux_2_12_x86_64.manylinux2010_x86_64.whl (693 kB)\n",
            "\u001b[K     |████████████████████████████████| 693 kB 27.7 MB/s \n",
            "\u001b[?25hInstalling collected packages: plyvel\n",
            "Successfully installed plyvel-1.4.0\n"
          ]
        }
      ]
    },
    {
      "cell_type": "code",
      "source": [
        "import numpy as np\n",
        "import requests as reqs\n",
        "import json\n",
        "import regex\n",
        "import plyvel\n",
        "import pickle\n",
        "import MeCab"
      ],
      "metadata": {
        "id": "l_CkY7fnR_5g"
      },
      "execution_count": 2,
      "outputs": []
    },
    {
      "cell_type": "markdown",
      "source": [
        "## 作業ディレクトリ（ファイルの読み込みや保存を行う絶対パス）"
      ],
      "metadata": {
        "id": "CpKIv31V__92"
      }
    },
    {
      "cell_type": "code",
      "source": [
        "APP_WORKDIR = \"/content/drive/MyDrive/coefont_kana_converter_error_detector/\""
      ],
      "metadata": {
        "id": "Qsg_nah3_ipM"
      },
      "execution_count": 3,
      "outputs": []
    },
    {
      "cell_type": "code",
      "source": [
        "from google.colab import drive\n",
        "drive.mount('/content/drive/')"
      ],
      "metadata": {
        "colab": {
          "base_uri": "https://localhost:8080/"
        },
        "id": "omnti7xwR5FQ",
        "outputId": "3725e9f9-5e04-4d08-b272-2752d1c4e709"
      },
      "execution_count": 4,
      "outputs": [
        {
          "output_type": "stream",
          "name": "stdout",
          "text": [
            "Mounted at /content/drive/\n"
          ]
        }
      ]
    },
    {
      "cell_type": "markdown",
      "source": [
        "### APIのアクセストークンなど機密情報の管理"
      ],
      "metadata": {
        "id": "eSU3i3VYR5cM"
      }
    },
    {
      "cell_type": "code",
      "source": [
        "secrets = {}\n",
        "with open(APP_WORKDIR + 'secrets.json') as f:\n",
        "  secrets = json.load(f)"
      ],
      "metadata": {
        "id": "cA9ux2ZOR9pE"
      },
      "execution_count": 5,
      "outputs": []
    },
    {
      "cell_type": "markdown",
      "source": [
        "## データベースのセットアップ（品詞の保存）\n",
        "* APIのアクセス量を減らすため、過去に変換を行った単語をデータベースに保存し、キャッシュとして利用する。\n",
        "* 読み書きの早い、Key -> Value型のローカルファイル型データベースである。\n",
        "* Ethereumのノードの内部ではトランザクションの管理とかでも使われている。\n",
        "* https://github.com/google/leveldb\n",
        "* https://plyvel.readthedocs.io/en/latest/"
      ],
      "metadata": {
        "id": "Enp-uLRI-sCO"
      }
    },
    {
      "cell_type": "code",
      "source": [
        "vocab_db = plyvel.DB(APP_WORKDIR + 'vocabs.ldb', create_if_missing=True)\n",
        "lebels_db = plyvel.DB(APP_WORKDIR + 'lebels.ldb', create_if_missing=True)\n",
        "\n",
        "dbs = [vocab_db, lebels_db]"
      ],
      "metadata": {
        "id": "hG52BVjO-q4A"
      },
      "execution_count": 8,
      "outputs": []
    },
    {
      "cell_type": "markdown",
      "source": [
        "### パスを間違えたりして再読み込みする場合は以下セルを実行してから上のセルを実行する"
      ],
      "metadata": {
        "id": "wEDPI9QY_zsA"
      }
    },
    {
      "cell_type": "code",
      "source": [
        "for db in dbs:\n",
        "  db.close()"
      ],
      "metadata": {
        "id": "z_bvONVi_wGX"
      },
      "execution_count": 7,
      "outputs": []
    },
    {
      "cell_type": "markdown",
      "source": [
        "## 各種依存記号の設定"
      ],
      "metadata": {
        "id": "qEWp89VHTI3n"
      }
    },
    {
      "cell_type": "code",
      "source": [
        "SYMBOL_READING_POINT = \"、\" # 句読点\n",
        "SYMBOL_PUNCTUATION = \"。\" # 読点\n",
        "SYMBOL_HALF_SPACE = \" \" # 半角スペース\n",
        "SYMBOL_LONG_NOTE = \"ー\" # 伸ばし棒\n",
        "SYMBOL_NONE = \"\" # 空文字\n",
        "SYMBOL_TAB = \"\\t\" # TAB\n",
        "SYMBOL_SEMICORON = \";\" # SEMICORON"
      ],
      "metadata": {
        "id": "LAPCsUi5TINt"
      },
      "execution_count": 42,
      "outputs": []
    },
    {
      "cell_type": "markdown",
      "source": [
        "# データソース別のクラス\n",
        "* 単語中抽出に必要な対象（Webページなど）を管理する\n",
        "* 名詞の抽出とMeCabによるよみラベルを管理する。\n",
        "\n",
        "## 要件\n",
        "*   Webサイトからテキストをスクレイピング（Webサイトごとにテンプレートを作成する）\n",
        "*   リンクや特殊記号を排除する\n",
        "*   文章の形態素解析を行い、漢字が含まれている名詞のみを抽出する。\n",
        "\n"
      ],
      "metadata": {
        "id": "VlMjUzYgOt88"
      }
    },
    {
      "cell_type": "markdown",
      "source": [
        "### MecabのWakatiで初期化"
      ],
      "metadata": {
        "id": "hsYGGJU30m8P"
      }
    },
    {
      "cell_type": "code",
      "source": [
        "wakati = MeCab.Tagger()"
      ],
      "metadata": {
        "id": "CSDVVldM0jXR"
      },
      "execution_count": 10,
      "outputs": []
    },
    {
      "cell_type": "markdown",
      "source": [
        "### 漢字判定用の正規表現"
      ],
      "metadata": {
        "id": "VNtVNOTQ0j2j"
      }
    },
    {
      "cell_type": "code",
      "source": [
        "KANJI_REG_PETERN = regex.compile(r'\\p{Script=Han}+')"
      ],
      "metadata": {
        "id": "Ym4Waerl0Dwy"
      },
      "execution_count": 11,
      "outputs": []
    },
    {
      "cell_type": "markdown",
      "source": [
        "## ローダー"
      ],
      "metadata": {
        "id": "uRtAIwNx2E4m"
      }
    },
    {
      "cell_type": "code",
      "execution_count": 12,
      "metadata": {
        "id": "OTxjS4vLOpg_"
      },
      "outputs": [],
      "source": [
        "class DataSource:\n",
        "  def __init__(self):\n",
        "    self.vocabs = []\n",
        "    self.labels = [] \n",
        "\n",
        "  def _fetchData(self): # 文章（テキストデータ）を読み込む、ここは各サービスごとに取得の方法が異なるためオーバーライドする。\n",
        "    pass\n",
        "\n",
        "  def preprosessing(self, subject):\n",
        "    handled = self._replaceSymbol(subject) #ここから文字列\n",
        "    return handled\n",
        "\n",
        "  def _replaceSymbol(self, subject):\n",
        "    sentence = subject.replace(SYMBOL_TAB, SYMBOL_NONE)\n",
        "    return sentence\n",
        "\n",
        "  def load(self):\n",
        "    text = self._fetchData()\n",
        "    text = self.preprosessing(text)\n",
        "    vocabs, labels = self._analysis(text)\n",
        "    self.vocabs = vocabs\n",
        "    self.labels = labels \n",
        "\n",
        "  def _analysis(self, subject):\n",
        "    result = wakati.parse(subject) # 形態素解析分析　tab分けで結果が出てくる\n",
        "    vocabs = [line.split(SYMBOL_TAB) for line in result.splitlines()]\n",
        "    nouns = [vocab_data for vocab_data in vocabs if len(vocab_data) >= 4 and \"名詞\" in vocab_data[4][0:2] and KANJI_REG_PETERN.search(vocab_data[0])] # 漢字を含む名詞のみ抽出\n",
        "    return [noun[0] for noun in nouns],  [noun[2] for noun in nouns] # 名詞とMeCabによるかな変換を取得\n",
        "\n",
        "  def save(self, new_count=False):\n",
        "    reg_vocab_count = 0\n",
        "    for vocab, label in zip(self.vocabs, self.labels):\n",
        "      binary_key = vocab.encode(\"utf-8\") # key for level db\n",
        "      binary_lebel = label.encode(\"utf-8\") # key for level db\n",
        "      if new_count and vocab_db.get(binary_key) is None:\n",
        "        reg_vocab_count +=1\n",
        "      vocab_db.put(binary_key, binary_lebel)\n",
        "    return reg_vocab_count"
      ]
    },
    {
      "cell_type": "markdown",
      "source": [
        "## 各種サービスなど、オケージョンごとのローダー\n",
        "\n",
        "ローダーの対象\n",
        "*   note.com （記事サービス）\n",
        "*   wikipedia.org (辞書)\n",
        "*   ローカルファイル\n",
        "*   変数\n",
        "\n"
      ],
      "metadata": {
        "id": "6HYBpVtp2GpO"
      }
    },
    {
      "cell_type": "markdown",
      "source": [
        "### 変数からテキストを読み込む"
      ],
      "metadata": {
        "id": "HeSgc6ik0_72"
      }
    },
    {
      "cell_type": "code",
      "source": [
        "class ArgDataSource(DataSource):\n",
        "  def __init__(self, source):\n",
        "    super().__init__()\n",
        "    self.source = source\n",
        "\n",
        "  def _fetchData(self):\n",
        "    return self.source"
      ],
      "metadata": {
        "id": "kZur9LBQxBnt"
      },
      "execution_count": 13,
      "outputs": []
    },
    {
      "cell_type": "markdown",
      "source": [
        "### ローカルのテキストファイルからテキストを読み込む（バイナリファイル未対応）"
      ],
      "metadata": {
        "id": "YDovBKdZ1yhk"
      }
    },
    {
      "cell_type": "code",
      "source": [
        "class LocalDataSource(DataSource):\n",
        "  def __init__(self, file_path):\n",
        "    super().__init__()\n",
        "    self.file_path = file_path\n",
        "\n",
        "  def _fetchData(self):\n",
        "    with open(self.file_path) as f:\n",
        "      lines = f.readlines()\n",
        "      self.source = \"\".join(lines)\n",
        "    return self.source"
      ],
      "metadata": {
        "id": "dCKdod141LF1"
      },
      "execution_count": 14,
      "outputs": []
    },
    {
      "cell_type": "markdown",
      "source": [
        "### Note API v2\n",
        "note.comから記事を取得する"
      ],
      "metadata": {
        "id": "niCqReDO1uOs"
      }
    },
    {
      "cell_type": "code",
      "source": [
        "class NoteDataSource(DataSource):\n",
        "  def __init__(self, note_article_key):\n",
        "    super().__init__()\n",
        "    self.note_article_key = note_article_key\n",
        "\n",
        "  def _fetchData(self):\n",
        "    url = \"https://note.com/api/v1/notes/{}\".format(self.note_article_key)\n",
        "    response = reqs.get(url=url)\n",
        "    text = response.text\n",
        "    response_json = json.loads(text)\n",
        "    return response_json[\"data\"][\"body\"]"
      ],
      "metadata": {
        "id": "NBfLg5yC02Pv"
      },
      "execution_count": 15,
      "outputs": []
    },
    {
      "cell_type": "markdown",
      "source": [
        "### Wikipedia\n",
        "\n",
        "https://ja.wikipedia.org/w/api.php?format=json&action=query&prop=extracts&exintro&explaintext&redirects=1&titles=%E6%85%B6%E6%87%89%E7%BE%A9%E5%A1%BE%E5%A4%A7%E5%AD%A6"
      ],
      "metadata": {
        "id": "bz-PMmHI2apr"
      }
    },
    {
      "cell_type": "code",
      "source": [
        "class WikipediaDataSource(DataSource):\n",
        "  def __init__(self, title):\n",
        "    super().__init__()\n",
        "    self.title = title\n",
        "\n",
        "  def _fetchData(self):\n",
        "    url = \"https://ja.wikipedia.org/w/api.php?format=json&action=query&prop=extracts&exintro&explaintext&redirects=1\"\n",
        "    params = {\n",
        "        \"titles\": self.title,\n",
        "    }\n",
        "    response = reqs.get(url=url, params=params)\n",
        "    text = response.text\n",
        "    response_json = json.loads(text)\n",
        "    return list(response_json[\"query\"][\"pages\"].values())[0][\"extract\"]"
      ],
      "metadata": {
        "id": "UR8adA3m08z4"
      },
      "execution_count": 16,
      "outputs": []
    },
    {
      "cell_type": "markdown",
      "source": [
        "### 一時開発用データセット"
      ],
      "metadata": {
        "id": "RpJhw7bl62Zb"
      }
    },
    {
      "cell_type": "code",
      "source": [
        "class TempDataSource(DataSource):\n",
        "  def __init__(self):\n",
        "    super().__init__()\n",
        "\n",
        "  # loadを上書き\n",
        "  def load(self):\n",
        "    note_articles_id = [\n",
        "      \"n4ece27ed112b\",\n",
        "      \"n0433243163f5\",\n",
        "      \"n2861fae03861\",\n",
        "      \"n6965c22952ac\",\n",
        "      \"ndf3aed673e7f\",\n",
        "      \"n766dc842145d\",\n",
        "      \"ndace078a3cb1\"\n",
        "    ]\n",
        "    data_sources = [NoteDataSource(id) for id in note_articles_id]\n",
        "    nouns = []\n",
        "    labels = []\n",
        "    for data_source in data_sources:\n",
        "      data_source.load()\n",
        "      nouns = nouns + data_source.vocabs\n",
        "      labels = labels + data_source.labels\n",
        "    self.vocabs = nouns[:83]\n",
        "    self.labels = labels[:83]"
      ],
      "metadata": {
        "id": "5ZJ54oqW64Tv"
      },
      "execution_count": 108,
      "outputs": []
    },
    {
      "cell_type": "markdown",
      "source": [
        "## 各種ローダーのテスト"
      ],
      "metadata": {
        "id": "dYRPRiTr18CJ"
      }
    },
    {
      "cell_type": "code",
      "source": [
        "test01_note_datasource = NoteDataSource(note_article_key=\"n4ece27ed112b\")\n",
        "test01_note_datasource.load()\n",
        "\n",
        "print(test01_note_datasource.vocabs)\n",
        "print(test01_note_datasource.labels)\n",
        "\n",
        "test01_note_datasource.save(new_count=True)"
      ],
      "metadata": {
        "colab": {
          "base_uri": "https://localhost:8080/"
        },
        "id": "KbxdLpJqyQ8I",
        "outputId": "a2b0f8e4-41bd-4f51-e7c0-c08d9aa86e2a"
      },
      "execution_count": 125,
      "outputs": [
        {
          "output_type": "stream",
          "name": "stdout",
          "text": [
            "['大学', '入学', '時代', '人間', '選択', '幸せ', '伝播', '自分', '不安', '勉強', '自負', '技術', '修得', '人', '一', '倍', '熱量', '努力', '実際', '学生', '身分', '個人', '開発', '仕事', '社会', '感覚', '自身', '大学', '生活', '半ば', '先生', '方', '言葉', '魂', '所属', '研究', '会', '大学', '友人', '魂', '魂', '価値', '方向', '魂', '言語', '自分', '学び', '本質', '事実', '記事', '魂', '言語', '今後', '学び', '記録', '執筆', '実際', '魂', '自分', '迷走', '逆', '自分', '言葉', '勉強', '自分', '言葉', '体得', '自分', '言葉', '宝物', '月', '終わり', '友人', '勢い', '文中', '箇所', '筆者', '教え', '記事', '理解', '問題', '発見', '解決', '最近', '以外', '問題', '発見', '解決', '中等', '教育', '学校', '反面', '言葉', '本質', '事例', '問題', '発見', '解決', '教育', '時代', '背景', '論点', '整理', '視点', '在学', '骨', '髄', '視点', '変容', '個人', '一', '意見', '参考', '学び', '人', '本当', '少数', '自身', '解釈', '最近', '言語', '学び', '考え', '解釈', '選択', '注意', '公式', '見解', '一切', '自身', '独断', '偏見', '構成', '解釈', '個人', '主張', '念頭', '進学', '意図', '特徴', '理系', '文系', '区別', '自由', '分野', '横断', '学び', '意見', '内外', '耳', '本質', '着眼', '点', '縦割り', '問題', '意識', '背景', '必要', '見解', '縦割り', '対応', '世界', '帰着', '複雑', '問題', '解決', '議論', '解決', '担保', '一', '題材', '価値', '享受', '社会', '世界', '世の中', '幸せ', '発展', '環境', '問題', '背景', '注目', '例', '導入', '暮らし', '以前', '単位', '着眼', '点', '失敗', '事例', '典型', '例', '話題', '考え', '目的', '不在', '問題', '情報', '以前', '恩恵', '世の中', '幸せ', '問い', '探索', '方法', '論', '議論', '先行', '背景', '問い', '取り組み', '事例', '事', '人間', '欲望', '方向', '合理', '道筋', '必要', '理系', '人', '文系', '理系', '縦割り', '社会', '分断', '限り', '人々', '幸せ', '世界', '単体', '人々', '幸せ', '寄与', '価値', '享受', '時代', '幸せ', '根幹', '幸せ', '後者', '先導', '人材', '育成', '力', '最終', '価値', '身', '大学', '年間', '結果', '価値', '創出', '伝達', '付加', '価値', '創造', '連鎖', '今', '世界', '命題', '一', '量産', '輸出', '世界', '人々', '幸せ', '本質', '世界', '時代', '時代', '価値', '世界', '価値', '変化', '対応', '力', '通り', '量産', '世界', '本質', '力', '知識', '価値', '創造', '選択', '世界', '教育', '教育', '問いかけ', '必要', '大学', '教育', '性質', '着目', '見解', '高校', '大学', '思考', '段', '高校', '指導', '要領', '大学', '受験', '上', '補完', '大体', '偏差', '大学', '進学', '目標', '学校', '塾', '教育', '解決', '受験', '上', '多く', '高校', '補完', '高校', '力', '補完', '時代', '本質', '見直し', '以前', '力', '必要', '先ほど', '問い', '探索', '未来', '現在', '逆算', '実現', '部分', '力', '問題', '意識', '力', '高校', '本質', '力', '学び', '本質', '気づき', '実際', '体得', '力', '身', '時間', '必要', '頭', '勉強', '人', '高校', '一', '番', '学部', '生活', '年間', '本質', '魅力', '他', '学部', '他', '大学', '評価', '軸', '軸', '軸', '自ら', '自ら', '軸', '補完', '学び', '場所', '全知', '全能', '認識', '自ら', '自走', '変化', '対応', '力', '教育', '目的', '環境', '維持', '力', '問題', '発見', '解決', '原点', '生産', '活動', '土台', '要約', '自分', '補完', '具材', '存在', '深み', '説得', '要求', '大体', '学問', '幅', '用意', '深み', '構造', '体', '変化', '意識', '本質', '能力', '主眼', '学び', '軸', '問い', '意識', '基本', '分野', '横断', '意識', '分野', '横断', '主', '目的', '意識', '必然', '現象', '評価', '軸', '自体', '論点', '最初', '問い', '問題', '発見', '解決', '学び', '教育', '脱却', '教育', '教育', '選択', '記事', '用語', '選択', '集中', '言葉', '経営', '方向', '選択', '達成', '勢力', '集中', '事業', '拡大', '話', '大学', '受験', '説明', '受験', '勉強', '本格', '前', '勉強', '分野', '学部', '進学', '大学', '選択', '合格', '後', '受験', '勉強', '形', '補完', '集中', '大学', '受験', '経験', '人', '必然', '選択', '集中', '皆', '経験', '今', '現在', '集中', '補完', '裏', '集中', '集中', '相対', '選択', '着眼', '点', '今後', '発展', '文系', '人材', '技術', '革新', '時代', '理系', '人材', '存在', '意義', '意見', '巷', '機会', '未来', '二', '文系', '理系', '条件', '軸', '集中', '選択', '分類', '記事', '頭出し', '縦割り', '対応', '世界', '趣旨', '主張', '自身', '専攻', '身', '技術', '未来', '技術', '期待', '情報', '技術', '生活', '空間', '浸透', '現状', '未来', '上', '素養', '必要', '場面', '上', '理系', '人材', '裏', '社会', '強み', '理由', '確立', '存在', '余白', '存在', '本当', '未来', '今', '今', '本当', '子孫', '未来', '問題', '意識', '重点', '自身', '目', '前', '問い', '未来', '問い', '選択', '未来', '視点', '時間', '参考', '共有']\n",
            "['ダイガク', 'ニュウガク', 'ジダイ', 'ニンゲン', 'センタク', 'シアワセ', 'デンパ', 'ジブン', 'フアン', 'ベンキョウ', 'ジフ', 'ギジュツ', 'シュウトク', 'ヒト', 'イチ', 'バイ', 'ネツリョウ', 'ドリョク', 'ジッサイ', 'ガクセイ', 'ミブン', 'コジン', 'カイハツ', 'シゴト', 'シャカイ', 'カンカク', 'ジシン', 'ダイガク', 'セイカツ', 'ナカバ', 'センセイ', 'ホウ', 'コトバ', 'タマシイ', 'ショゾク', 'ケンキュウ', 'カイ', 'ダイガク', 'ユウジン', 'タマシイ', 'タマシイ', 'カチ', 'ホウコウ', 'タマシイ', 'ゲンゴ', 'ジブン', 'マナビ', 'ホンシツ', 'ジジツ', 'キジ', 'タマシイ', 'ゲンゴ', 'コンゴ', 'マナビ', 'キロク', 'シッピツ', 'ジッサイ', 'タマシイ', 'ジブン', 'メイソウ', 'ギャク', 'ジブン', 'コトバ', 'ベンキョウ', 'ジブン', 'コトバ', 'タイトク', 'ジブン', 'コトバ', 'タカラモノ', 'ガツ', 'オワリ', 'ユウジン', 'イキオイ', 'ブンチュウ', 'カショ', 'ヒッシャ', 'オシエ', 'キジ', 'リカイ', 'モンダイ', 'ハッケン', 'カイケツ', 'サイキン', 'イガイ', 'モンダイ', 'ハッケン', 'カイケツ', 'チュウトウ', 'キョウイク', 'ガッコウ', 'ハンメン', 'コトバ', 'ホンシツ', 'ジレイ', 'モンダイ', 'ハッケン', 'カイケツ', 'キョウイク', 'ジダイ', 'ハイケイ', 'ロンテン', 'セイリ', 'シテン', 'ザイガク', 'ホネ', 'ズイ', 'シテン', 'ヘンヨウ', 'コジン', 'ヒト', 'イケン', 'サンコウ', 'マナビ', 'ヒト', 'ホントウ', 'ショウスウ', 'ジシン', 'カイシャク', 'サイキン', 'ゲンゴ', 'マナビ', 'カンガエ', 'カイシャク', 'センタク', 'チュウイ', 'コウシキ', 'ケンカイ', 'イッサイ', 'ジシン', 'ドクダン', 'ヘンケン', 'コウセイ', 'カイシャク', 'コジン', 'シュチョウ', 'ネントウ', 'シンガク', 'イト', 'トクチョウ', 'リケイ', 'ブンケイ', 'クベツ', 'ジユウ', 'ブンヤ', 'オウダン', 'マナビ', 'イケン', 'ナイガイ', 'ミミ', 'ホンシツ', 'チャクガン', 'テン', 'タテワリ', 'モンダイ', 'イシキ', 'ハイケイ', 'ヒツヨウ', 'ケンカイ', 'タテワリ', 'タイオウ', 'セカイ', 'キチャク', 'フクザツ', 'モンダイ', 'カイケツ', 'ギロン', 'カイケツ', 'タンポ', 'ヒト', 'ダイザイ', 'カチ', 'キョウジュ', 'シャカイ', 'セカイ', 'ヨノナカ', 'シアワセ', 'ハッテン', 'カンキョウ', 'モンダイ', 'ハイケイ', 'チュウモク', 'レイ', 'ドウニュウ', 'クラシ', 'イゼン', 'タンイ', 'チャクガン', 'テン', 'シッパイ', 'ジレイ', 'テンケイ', 'レイ', 'ワダイ', 'カンガエ', 'モクテキ', 'フザイ', 'モンダイ', 'ジョウホウ', 'イゼン', 'オンケイ', 'ヨノナカ', 'シアワセ', 'トイ', 'タンサク', 'ホウホウ', 'ロン', 'ギロン', 'センコウ', 'ハイケイ', 'トイ', 'トリクミ', 'ジレイ', 'コト', 'ニンゲン', 'ヨクボウ', 'ホウコウ', 'ゴウリ', 'ミチスジ', 'ヒツヨウ', 'リケイ', 'ヒト', 'ブンケイ', 'リケイ', 'タテワリ', 'シャカイ', 'ブンダン', 'カギリ', 'ヒトビト', 'シアワセ', 'セカイ', 'タンタイ', 'ヒトビト', 'シアワセ', 'キヨ', 'カチ', 'キョウジュ', 'ジダイ', 'シアワセ', 'コンカン', 'シアワセ', 'コウシャ', 'センドウ', 'ジンザイ', 'イクセイ', 'チカラ', 'サイシュウ', 'カチ', 'ミ', 'ダイガク', 'ネンカン', 'ケッカ', 'カチ', 'ソウシュツ', 'デンタツ', 'フカ', 'カチ', 'ソウゾウ', 'レンサ', 'イマ', 'セカイ', 'メイダイ', 'ヒト', 'リョウサン', 'ユシュツ', 'セカイ', 'ヒトビト', 'シアワセ', 'ホンシツ', 'セカイ', 'ジダイ', 'ジダイ', 'カチ', 'セカイ', 'カチ', 'ヘンカ', 'タイオウ', 'チカラ', 'トオリ', 'リョウサン', 'セカイ', 'ホンシツ', 'チカラ', 'チシキ', 'カチ', 'ソウゾウ', 'センタク', 'セカイ', 'キョウイク', 'キョウイク', 'トイカケ', 'ヒツヨウ', 'ダイガク', 'キョウイク', 'セイシツ', 'チャクモク', 'ケンカイ', 'コウコウ', 'ダイガク', 'シコウ', 'ダン', 'コウコウ', 'シドウ', 'ヨウリョウ', 'ダイガク', 'ジュケン', 'ウエ', 'ホカン', 'ダイタイ', 'ヘンサ', 'ダイガク', 'シンガク', 'モクヒョウ', 'ガッコウ', 'ジュク', 'キョウイク', 'カイケツ', 'ジュケン', 'ウエ', 'オオク', 'コウコウ', 'ホカン', 'コウコウ', 'チカラ', 'ホカン', 'ジダイ', 'ホンシツ', 'ミナオシ', 'イゼン', 'チカラ', 'ヒツヨウ', 'サキホド', 'トイ', 'タンサク', 'ミライ', 'ゲンザイ', 'ギャクサン', 'ジツゲン', 'ブブン', 'チカラ', 'モンダイ', 'イシキ', 'チカラ', 'コウコウ', 'ホンシツ', 'チカラ', 'マナビ', 'ホンシツ', 'キヅキ', 'ジッサイ', 'タイトク', 'チカラ', 'ミ', 'ジカン', 'ヒツヨウ', 'アタマ', 'ベンキョウ', 'ヒト', 'コウコウ', 'イチ', 'バン', 'ガクブ', 'セイカツ', 'ネンカン', 'ホンシツ', 'ミリョク', 'タ', 'ガクブ', 'タ', 'ダイガク', 'ヒョウカ', 'ジク', 'ジク', 'ジク', 'ミズカラ', 'ミズカラ', 'ジク', 'ホカン', 'マナビ', 'バショ', 'ゼンチ', 'ゼンノウ', 'ニンシキ', 'ミズカラ', 'ジソウ', 'ヘンカ', 'タイオウ', 'チカラ', 'キョウイク', 'モクテキ', 'カンキョウ', 'イジ', 'チカラ', 'モンダイ', 'ハッケン', 'カイケツ', 'ゲンテン', 'セイサン', 'カツドウ', 'ドダイ', 'ヨウヤク', 'ジブン', 'ホカン', 'グザイ', 'ソンザイ', 'フカミ', 'セットク', 'ヨウキュウ', 'ダイタイ', 'ガクモン', 'ハバ', 'ヨウイ', 'フカミ', 'コウゾウ', 'タイ', 'ヘンカ', 'イシキ', 'ホンシツ', 'ノウリョク', 'シュガン', 'マナビ', 'ジク', 'トイ', 'イシキ', 'キホン', 'ブンヤ', 'オウダン', 'イシキ', 'ブンヤ', 'オウダン', 'シュ', 'モクテキ', 'イシキ', 'ヒツゼン', 'ゲンショウ', 'ヒョウカ', 'ジク', 'ジタイ', 'ロンテン', 'サイショ', 'トイ', 'モンダイ', 'ハッケン', 'カイケツ', 'マナビ', 'キョウイク', 'ダッキャク', 'キョウイク', 'キョウイク', 'センタク', 'キジ', 'ヨウゴ', 'センタク', 'シュウチュウ', 'コトバ', 'ケイエイ', 'ホウコウ', 'センタク', 'タッセイ', 'セイリョク', 'シュウチュウ', 'ジギョウ', 'カクダイ', 'ハナシ', 'ダイガク', 'ジュケン', 'セツメイ', 'ジュケン', 'ベンキョウ', 'ホンカク', 'マエ', 'ベンキョウ', 'ブンヤ', 'ガクブ', 'シンガク', 'ダイガク', 'センタク', 'ゴウカク', 'アト', 'ジュケン', 'ベンキョウ', 'カタチ', 'ホカン', 'シュウチュウ', 'ダイガク', 'ジュケン', 'ケイケン', 'ヒト', 'ヒツゼン', 'センタク', 'シュウチュウ', 'ミナ', 'ケイケン', 'イマ', 'ゲンザイ', 'シュウチュウ', 'ホカン', 'ウラ', 'シュウチュウ', 'シュウチュウ', 'ソウタイ', 'センタク', 'チャクガン', 'テン', 'コンゴ', 'ハッテン', 'ブンケイ', 'ジンザイ', 'ギジュツ', 'カクシン', 'ジダイ', 'リケイ', 'ジンザイ', 'ソンザイ', 'イギ', 'イケン', 'チマタ', 'キカイ', 'ミライ', 'ニ', 'ブンケイ', 'リケイ', 'ジョウケン', 'ジク', 'シュウチュウ', 'センタク', 'ブンルイ', 'キジ', 'アタマダシ', 'タテワリ', 'タイオウ', 'セカイ', 'シュシ', 'シュチョウ', 'ジシン', 'センコウ', 'ミ', 'ギジュツ', 'ミライ', 'ギジュツ', 'キタイ', 'ジョウホウ', 'ギジュツ', 'セイカツ', 'クウカン', 'シントウ', 'ゲンジョウ', 'ミライ', 'ウエ', 'ソヨウ', 'ヒツヨウ', 'バメン', 'ウエ', 'リケイ', 'ジンザイ', 'ウラ', 'シャカイ', 'ツヨミ', 'リユウ', 'カクリツ', 'ソンザイ', 'ヨハク', 'ソンザイ', 'ホントウ', 'ミライ', 'イマ', 'イマ', 'ホントウ', 'シソン', 'ミライ', 'モンダイ', 'イシキ', 'ジュウテン', 'ジシン', 'メ', 'マエ', 'トイ', 'ミライ', 'トイ', 'センタク', 'ミライ', 'シテン', 'ジカン', 'サンコウ', 'キョウユウ']\n"
          ]
        },
        {
          "output_type": "execute_result",
          "data": {
            "text/plain": [
              "0"
            ]
          },
          "metadata": {},
          "execution_count": 125
        }
      ]
    },
    {
      "cell_type": "code",
      "source": [
        "test01_wiki_datasource = WikipediaDataSource(title=\"慶應義塾大学\")\n",
        "test01_wiki_datasource.load()\n",
        "\n",
        "print(test01_wiki_datasource.vocabs)\n",
        "print(test01_wiki_datasource.labels)\n",
        "\n",
        "test01_wiki_datasource.save(new_count=True)"
      ],
      "metadata": {
        "colab": {
          "base_uri": "https://localhost:8080/"
        },
        "id": "TiTVUKj-4PGY",
        "outputId": "84ba7b6f-b407-41e8-ce7b-e50920f9a03a"
      },
      "execution_count": 126,
      "outputs": [
        {
          "output_type": "stream",
          "name": "stdout",
          "text": [
            "['慶應', '義塾', '大学', '英語', '東京', '都', '港', '区', '三田', '丁目', '番', '号', '本部', '日本', '私立', '大学', '年', '創立', '年', '大学', '設置', '大学', '略称', '慶應', '慶大', '應', '旧', '字体', '報道', '慶応', '表記']\n",
            "['ケイオウ', 'ギジュク', 'ダイガク', 'エイゴ', 'トウキョウ', 'ト', 'ミナト', 'ク', 'ミタ', 'チョウメ', 'バン', 'ゴウ', 'ホンブ', 'ニッポン', 'シリツ', 'ダイガク', 'ネン', 'ソウリツ', 'ネン', 'ダイガク', 'セッチ', 'ダイガク', 'リャクショウ', 'ケイオウ', 'ケイダイ', '應', 'キュウ', 'ジタイ', 'ホウドウ', 'ケイオウ', 'ヒョウキ']\n"
          ]
        },
        {
          "output_type": "execute_result",
          "data": {
            "text/plain": [
              "0"
            ]
          },
          "metadata": {},
          "execution_count": 126
        }
      ]
    },
    {
      "cell_type": "markdown",
      "source": [
        "# コンバーターのクラス\n",
        "\n",
        "* 漢字をかな変換するコンバータ\n",
        "* クラスとして機能を丸めることで複数のコンバーターの差異を吸収する。コンバーターを適用する順序を入れ替えるなど"
      ],
      "metadata": {
        "id": "fXVrUefMPnF4"
      }
    },
    {
      "cell_type": "code",
      "source": [
        "class BaseConverter:\n",
        "  def __init__(self, conveter_name):\n",
        "    self.converter_name = conveter_name\n",
        "    self.split_code = SYMBOL_SEMICORON\n",
        "\n",
        "  def preprosessing(self, subject):\n",
        "    return subject\n",
        "\n",
        "  def convert(self, vocabs):\n",
        "    sentence = SYMBOL_READING_POINT.join(vocabs) # 各単語をsplit tokenを付けて文字列化\n",
        "    result = self._execute_api(sentence)\n",
        "    converted_vocabs = [self.preprosessing(vocab) for vocab in result.split(SYMBOL_READING_POINT)] #文字列をsplit tokenを用いて単語ごとにリスト化\n",
        "    return converted_vocabs\n",
        "\n",
        "  def get_indexkey(self, noun):\n",
        "    return \"{}_{}\".format(self.converter_name, noun).encode(\"utf-8\")"
      ],
      "metadata": {
        "id": "8NiZ62R3RxUz"
      },
      "execution_count": 85,
      "outputs": []
    },
    {
      "cell_type": "markdown",
      "source": [
        "## CoeFont API (target)\n",
        "* CoefontのAPIのアクセス方法とアクセスキーが変わり次第、実装する"
      ],
      "metadata": {
        "id": "8LoJLI8UOGZ4"
      }
    },
    {
      "cell_type": "code",
      "source": [
        "SYMBOL_TRIGGER_1 = [\n",
        "        [\"オ\", \"コ\", \"ソ\", \"ト\", \"ノ\", \"ホ\", \"モ\", \"ヨ\", \"ロ\", \"ヲ\"], # o\n",
        "        [\"エ\", \"ケ\", \"セ\", \"ネ\", \"ヘ\", \"メ\", \"レ\"], # e removed テ\n",
        "        [\"ア\", \"カ\", \"サ\", \"タ\", \"ナ\", \"ハ\", \"マ\", \"ラ\", \"ヤ\", \"ラ\", \"ワ\"], # a\n",
        "        [\"ュ\", \"ョ\"],\n",
        "        [\"ゴ\", \"ゾ\", \"ド\", \"ボ\", \"ポ\", \"ゴ\", \"ゾ\", \"ド\", \"ボ\"],\n",
        "        [\"ギ\", \"ジ\", \"ヂ\", \"ビ\", \"ピ\", \"ギ\", \"ジ\", \"ジ\", \"ビ\",\"ピ\"],\n",
        "        [\"イ\", \"キ\", \"シ\", \"千\", \"二\", \"ヒ\", \"ミ\", \"リ\"], # i \n",
        "        [\"ウ\", \"ク\", \"ス\", \"ツ\", \"ヌ\", \"フ\", \"ム\", \"ユ\", \"ル\"] # u\n",
        "        ]\n",
        "\n",
        "SYMBOL_TRIGGER_2 = [\n",
        "        [\"ウ\"],\n",
        "        [\"イ\"],\n",
        "        [\"ア\"],\n",
        "        [\"ウ\"],\n",
        "        [\"ウ\"],\n",
        "        [\"イ\"],\n",
        "        [\"イ\"],\n",
        "        [\"ウ\"]\n",
        "        ]\n",
        "\n",
        "class CoeFontConverter(BaseConverter):\n",
        "  def __init__(self):\n",
        "    super().__init__(\"coefont\")\n",
        "\n",
        "  def _execute_api(self, sentence):\n",
        "    # coefontの実装\n",
        "    # 一時的な実装 決まった文章を返す\n",
        "    pass\n",
        "\n",
        "  def preprosessing(self, subject):\n",
        "    list_kat_subject = list(subject)\n",
        "    kat_subject_size = len(list_kat_subject)-1\n",
        "    idkc = 0\n",
        "    while  idkc < kat_subject_size:\n",
        "      kat_char_pointer = list_kat_subject[idkc]\n",
        "      kat_char_next = list_kat_subject[idkc+1]\n",
        "      if kat_char_next == SYMBOL_LONG_NOTE:\n",
        "         for ids, symbols in enumerate(SYMBOL_TRIGGER_1):\n",
        "           if kat_char_pointer in symbols:\n",
        "               list_kat_subject[idkc+1] = SYMBOL_TRIGGER_2[ids][0]\n",
        "               idkc+=1\n",
        "      idkc+=1\n",
        "    return \"\".join(list_kat_subject)"
      ],
      "metadata": {
        "id": "nHuLN8qLQOfu"
      },
      "execution_count": 128,
      "outputs": []
    },
    {
      "cell_type": "markdown",
      "source": [
        "## 一時的開発用コンバータ"
      ],
      "metadata": {
        "id": "7QlXXq2k8bRs"
      }
    },
    {
      "cell_type": "code",
      "source": [
        "class TempCoeFontConverter(CoeFontConverter):\n",
        "  def __init__(self):\n",
        "    super().__init__()\n",
        "\n",
        "  def _execute_api(self, sentence):\n",
        "    # coefontの実装\n",
        "    # 一時的な実装 決まった文章を返す\n",
        "    source = None\n",
        "    with open(APP_WORKDIR + \"response_commma.json\") as f:\n",
        "      source = json.load(f)\n",
        "    return source[\"yomi\"]"
      ],
      "metadata": {
        "id": "y5NXAUpe8Qwn"
      },
      "execution_count": 86,
      "outputs": []
    },
    {
      "cell_type": "markdown",
      "source": [
        "## Goo API\n",
        "* かな変換APIを使用する。\n",
        "* ドキュメントはこちら\n",
        "  * https://labs.goo.ne.jp/api/jp/hiragana-translation/"
      ],
      "metadata": {
        "id": "Hnp4QEbQOLne"
      }
    },
    {
      "cell_type": "code",
      "source": [
        "class GooConverter(BaseConverter):\n",
        "  def __init__(self, app_id):\n",
        "    super().__init__(\"goo\")\n",
        "    self.app_id = app_id\n",
        "\n",
        "  def _execute_api(self, sentence):\n",
        "    url = \"https://labs.goo.ne.jp/api/hiragana\"\n",
        "    params = {\n",
        "        \"app_id\": self.app_id,\n",
        "        \"sentence\": sentence,\n",
        "        \"output_type\": \"katakana\"\n",
        "    }\n",
        "\n",
        "    headers = {'Content-Type': 'application/json'}\n",
        "\n",
        "    r = reqs.post(url=url, data=params)\n",
        "    response_text = r.text\n",
        "    print(response_text)\n",
        "    response_json = json.loads(response_text)\n",
        "    return response_json[\"converted\"]\n",
        "\n",
        "  def preprosessing(self, subject):\n",
        "     return subject.replace(SYMBOL_HALF_SPACE, SYMBOL_NONE)"
      ],
      "metadata": {
        "id": "VhNvRmfDvruk"
      },
      "execution_count": 84,
      "outputs": []
    },
    {
      "cell_type": "markdown",
      "source": [
        "# データソース毎に読みの検証を行う\n",
        "* コンバータを用いてCoeFontの単語出力と比較を行う。\n",
        "* 比較の結果、不一致だった場合は他のコンバーターにおいても比較を行い、正解ラベルを付与できるよう分布を収束させる。"
      ],
      "metadata": {
        "id": "8n6ZLt9ZPd09"
      }
    },
    {
      "cell_type": "code",
      "source": [
        "class ConverterCompetition:\n",
        "  def __init__(self, converters):\n",
        "    self.converters = converters\n",
        "\n",
        "  def _convert_all_on(self, data_source, converter_id):\n",
        "    vocabs = data_source.vocabs\n",
        "    converter = self.converters[converter_id] # 指定されたコンバータを取得\n",
        "\n",
        "    db_keys = [converter.get_indexkey(vocab) for vocab in vocabs] # 名詞をデータベースに対応するIDに変換\n",
        "    caches = [None for db_key in db_keys] # キャッシュ削除\n",
        "    # caches = [lebels_db.get(db_key) for db_key in db_keys] # データベースに問い合わせる。キャッシュがなかったらNoneが設定される\n",
        "    entred_vocab = [vocab for idv, vocab in enumerate(vocabs) if caches[idv] is None] # キャッシュが存在せず、新しくAPIから取得する名詞一覧\n",
        "\n",
        "    new_yomi_labels = []\n",
        "    print(\"未キャッシュ:\", len(entred_vocab))\n",
        "    if (len(entred_vocab) > 0): # 新しくAPIからかな変換を取得する必要があるか確かめる\n",
        "      new_yomi_labels = converter.convert(entred_vocab)\n",
        "\n",
        "    for vocab, label in zip(entred_vocab, new_yomi_labels):\n",
        "      lebels_db.put(converter.get_indexkey(vocab), label.encode(\"utf-8\")) # APIから取得したよみをデータベースに保存（キャッシュとなり、以降これが使われる）\n",
        "\n",
        "    yomi_labels = []\n",
        "    iter_new_yomi_labels = iter(new_yomi_labels)\n",
        "    for idc, cache in enumerate(caches):\n",
        "      if cache:\n",
        "        yomi_labels.append(cache.decode(\"utf-8\")) # キャッシュ（db）にある場合はキャッシュから取得\n",
        "      else:\n",
        "        yomi_labels.append(next(iter_new_yomi_labels)) # ない場合は、先ほど変換した結果から取得\n",
        "    \n",
        "    return vocabs, yomi_labels\n",
        "\n",
        "  def compete(self, data_source, converter_id=0):\n",
        "    vocabs, yomi_labels = self._convert_all_on(data_source, converter_id)\n",
        "    errors = []\n",
        "    for idn, noun in enumerate(vocabs):\n",
        "      yomi_label = yomi_labels[idn]\n",
        "      mecab_label = data_source.labels[idn]\n",
        "\n",
        "      if yomi_label != mecab_label:\n",
        "         errors.append([noun, yomi_label, mecab_label])\n",
        "    return errors"
      ],
      "metadata": {
        "id": "FHm61F4SQOyl"
      },
      "execution_count": 130,
      "outputs": []
    },
    {
      "cell_type": "code",
      "source": [
        "test_04_datasource = TempDataSource()\n",
        "test_04_datasource.load()"
      ],
      "metadata": {
        "id": "s7gLm0MCAVik"
      },
      "execution_count": null,
      "outputs": []
    },
    {
      "cell_type": "code",
      "source": [
        "test_04_result = TempCoeFontConverter().convert([])\n",
        "\n",
        "print(len((test_04_datasource.vocabs)), len(test_04_result))\n",
        "print(test_04_result[0], test_04_datasource.vocabs[0])\n",
        "\n",
        "test_04_converters = [TempCoeFontConverter(), GooConverter(app_id=secrets[\"goo_api_id\"])]\n",
        "test_04_competition = ConverterCompetition(converters=test_04_converters)\n",
        "\n",
        "test_04_competition.compete(test_04_datasource, converter_id=0) # noteの記事をデータソースにgooAPIを検証する。"
      ],
      "metadata": {
        "colab": {
          "base_uri": "https://localhost:8080/"
        },
        "id": "2m4N-jM6QbBJ",
        "outputId": "6bb69248-10aa-42e9-e2d4-ca989445475f"
      },
      "execution_count": 131,
      "outputs": [
        {
          "output_type": "stream",
          "name": "stdout",
          "text": [
            "83 83\n",
            "ダイガク 大学\n",
            "未キャッシュ: 83\n"
          ]
        },
        {
          "output_type": "execute_result",
          "data": {
            "text/plain": [
              "[['月', 'ツキ', 'ガツ']]"
            ]
          },
          "metadata": {},
          "execution_count": 131
        }
      ]
    },
    {
      "cell_type": "markdown",
      "source": [
        "# データソースを自動的に取得する\n",
        "* データソースを主導で作成するのではなく、永続的に新しいデータソースから単語を取得できるエコシステムを構築する\n",
        "\n",
        "* WebhookやWebsoket, Server-sent Eventなどを用いてデータソースを自動で収集する\n",
        "(Wikipediaのstreaming機能など)\n",
        "\n",
        "## 要件\n",
        "*   永続的にプログラムがデータソースを自動で生成する\n",
        "*   単語のバリエーションの広がりを担保する\n",
        "\n",
        "\n",
        "\n",
        "\n",
        "\n",
        "\n"
      ],
      "metadata": {
        "id": "1yAaRptcOxlD"
      }
    },
    {
      "cell_type": "markdown",
      "source": [
        "## 案1: Wikipedia Streaming\n",
        "\n",
        "*   SSEにかけて、日本語のwikipediaの更新ログをとる\n",
        "*   WikipediaDataSourceにかけて、単語と第一レイヤーの読み予測ラベル（MeCab）を取得する。\n",
        "*   単語ごとに過去にCoeFontで検証したかどうかを問い合わせる。以下の条件を満たした場合は単語は次へ\n",
        "  * キーが「subject_noun」のvalueがNoneかどうか: Coefontの結果をすでに持っているか\n",
        "  * キーが「test_noun」のvalueがNoneかどうか: 検証が既に完了済みの名詞かどうか\n",
        "*   Coefontへ品詞のよみ変換をAPI経由で取得する。（いくつかの未検証の単語をまとめてバッチ処理）\n",
        "*   第一レイヤーの読み予測ラベルとCoeFontの読みが一致しなかった場合、第二レイヤーのコンバーターで比較を行う。\n",
        "*   過半数以上のよみを正解ラベルとしてデータベースおよびSpreadsheetに記録\n",
        "*  **これらを再帰的に実行**"
      ],
      "metadata": {
        "id": "SoM2ePXtLXMC"
      }
    },
    {
      "cell_type": "code",
      "source": [],
      "metadata": {
        "id": "YdIYYzuZN__j"
      },
      "execution_count": null,
      "outputs": []
    },
    {
      "cell_type": "markdown",
      "source": [
        "# 実行"
      ],
      "metadata": {
        "id": "qyrs5hYiS-F4"
      }
    },
    {
      "cell_type": "code",
      "source": [],
      "metadata": {
        "id": "xJmdIhm9TBP8"
      },
      "execution_count": null,
      "outputs": []
    },
    {
      "cell_type": "markdown",
      "source": [
        "# CoeFontで使う単語一覧を抽出"
      ],
      "metadata": {
        "id": "U52GTgX0gDiz"
      }
    },
    {
      "cell_type": "code",
      "source": [
        "test_05_note_articles_id = [\n",
        "    \"n4ece27ed112b\",\n",
        "    \"n0433243163f5\",\n",
        "    \"n2861fae03861\",\n",
        "    \"n6965c22952ac\",\n",
        "    \"ndf3aed673e7f\",\n",
        "    \"n766dc842145d\",\n",
        "    \"ndace078a3cb1\"\n",
        "]\n",
        "test_05_data_sources = [NoteDataSource(id) for id in test_05_note_articles_id]\n",
        "test_05_nouns = []\n",
        "for data_source in test_05_data_sources:\n",
        "  data_source.load()\n",
        "  test_05_nouns = test_05_nouns + data_source.vocabs"
      ],
      "metadata": {
        "id": "UVgs9fCtgHwR"
      },
      "execution_count": 61,
      "outputs": []
    },
    {
      "cell_type": "code",
      "source": [
        "print(SYMBOL_READING_POINT.join(test_05_nouns))\n",
        "print(len(test_05_nouns))"
      ],
      "metadata": {
        "colab": {
          "base_uri": "https://localhost:8080/"
        },
        "id": "VFF7hQjqh-uB",
        "outputId": "7b24de53-6c45-4472-d56e-733c72e35424"
      },
      "execution_count": 62,
      "outputs": [
        {
          "output_type": "stream",
          "name": "stdout",
          "text": [
            "大学、入学、時代、人間、選択、幸せ、伝播、自分、不安、勉強、自負、技術、修得、人、一、倍、熱量、努力、実際、学生、身分、個人、開発、仕事、社会、感覚、自身、大学、生活、半ば、先生、方、言葉、魂、所属、研究、会、大学、友人、魂、魂、価値、方向、魂、言語、自分、学び、本質、事実、記事、魂、言語、今後、学び、記録、執筆、実際、魂、自分、迷走、逆、自分、言葉、勉強、自分、言葉、体得、自分、言葉、宝物、月、終わり、友人、勢い、文中、箇所、筆者、教え、記事、理解、問題、発見、解決、最近、以外、問題、発見、解決、中等、教育、学校、反面、言葉、本質、事例、問題、発見、解決、教育、時代、背景、論点、整理、視点、在学、骨、髄、視点、変容、個人、一、意見、参考、学び、人、本当、少数、自身、解釈、最近、言語、学び、考え、解釈、選択、注意、公式、見解、一切、自身、独断、偏見、構成、解釈、個人、主張、念頭、進学、意図、特徴、理系、文系、区別、自由、分野、横断、学び、意見、内外、耳、本質、着眼、点、縦割り、問題、意識、背景、必要、見解、縦割り、対応、世界、帰着、複雑、問題、解決、議論、解決、担保、一、題材、価値、享受、社会、世界、世の中、幸せ、発展、環境、問題、背景、注目、例、導入、暮らし、以前、単位、着眼、点、失敗、事例、典型、例、話題、考え、目的、不在、問題、情報、以前、恩恵、世の中、幸せ、問い、探索、方法、論、議論、先行、背景、問い、取り組み、事例、事、人間、欲望、方向、合理、道筋、必要、理系、人、文系、理系、縦割り、社会、分断、限り、人々、幸せ、世界、単体、人々、幸せ、寄与、価値、享受、時代、幸せ、根幹、幸せ、後者、先導、人材、育成、力、最終、価値、身、大学、年間、結果、価値、創出、伝達、付加、価値、創造、連鎖、今、世界、命題、一、量産、輸出、世界、人々、幸せ、本質、世界、時代、時代、価値、世界、価値、変化、対応、力、通り、量産、世界、本質、力、知識、価値、創造、選択、世界、教育、教育、問いかけ、必要、大学、教育、性質、着目、見解、高校、大学、思考、段、高校、指導、要領、大学、受験、上、補完、大体、偏差、大学、進学、目標、学校、塾、教育、解決、受験、上、多く、高校、補完、高校、力、補完、時代、本質、見直し、以前、力、必要、先ほど、問い、探索、未来、現在、逆算、実現、部分、力、問題、意識、力、高校、本質、力、学び、本質、気づき、実際、体得、力、身、時間、必要、頭、勉強、人、高校、一、番、学部、生活、年間、本質、魅力、他、学部、他、大学、評価、軸、軸、軸、自ら、自ら、軸、補完、学び、場所、全知、全能、認識、自ら、自走、変化、対応、力、教育、目的、環境、維持、力、問題、発見、解決、原点、生産、活動、土台、要約、自分、補完、具材、存在、深み、説得、要求、大体、学問、幅、用意、深み、構造、体、変化、意識、本質、能力、主眼、学び、軸、問い、意識、基本、分野、横断、意識、分野、横断、主、目的、意識、必然、現象、評価、軸、自体、論点、最初、問い、問題、発見、解決、学び、教育、脱却、教育、教育、選択、記事、用語、選択、集中、言葉、経営、方向、選択、達成、勢力、集中、事業、拡大、話、大学、受験、説明、受験、勉強、本格、前、勉強、分野、学部、進学、大学、選択、合格、後、受験、勉強、形、補完、集中、大学、受験、経験、人、必然、選択、集中、皆、経験、今、現在、集中、補完、裏、集中、集中、相対、選択、着眼、点、今後、発展、文系、人材、技術、革新、時代、理系、人材、存在、意義、意見、巷、機会、未来、二、文系、理系、条件、軸、集中、選択、分類、記事、頭出し、縦割り、対応、世界、趣旨、主張、自身、専攻、身、技術、未来、技術、期待、情報、技術、生活、空間、浸透、現状、未来、上、素養、必要、場面、上、理系、人材、裏、社会、強み、理由、確立、存在、余白、存在、本当、未来、今、今、本当、子孫、未来、問題、意識、重点、自身、目、前、問い、未来、問い、選択、未来、視点、時間、参考、共有、先生、父、運、根、勘、根、根気、年、根気、年、火曜、日、授業、気持ち、声、喉、隔離、最初、週間、棒、授業、最初、週間、授業、学期、絶対、症状、念、授業、授業、総合、大学、日本、美大、学部、授業、美術、講義、隣、席、秋、元、中国、講義、段々、悪寒、時間、半、授業、頃、羽毛、布団、欲求、頭、気、部屋、優雅、陽性、日間、隔離、隔離、人柱、意味、不明、感染、体温、何、度、計算、勘弁、次、授業、今度、授業、比較、知識、先生、圭、髪型、個性、姿、気、学生、番、代、内容、終わり、時、熱、解熱、熱、自力、冷え、即席、氷枕、吐き気、お腹、紙、安心、感、頭痛、鼻、咳、痰、全身、筋肉、手、震え、年、番、気持ち、汗、滝、横目、首、苦しみ、回復、気合い、気合い、気合い、記憶、中、母、声、病気、驚異、回復、身、時間、目、時、度、前回、倍、時、目、背中、感覚、熱、度、近く、体温、洗礼、心地、淵、朝日、水面、祝福、留学、前、今日、授業、息抜き、専攻、学生、全員、友達、次、授業、日本、単位、数、一緒、授業、時間、授業、週、量、ドン引き、授業、起業、授業、内容、初、週、課題、自分、起業、計算、気、授業、回、課題、程度、声、声、友達、作り、夕方、寮、友達、感じ、洗礼、宗教、他、宗教、改宗、大人、洗礼、権利、学業、宗教、職業、自分、自分、責任、人生、金曜、日、議題、地域、教科、教科、進化、論、天地、創造、記載、議論、細分、学生、以外、全員、現地、学生、勢い、議論、自分、地域、教科、話、宗教、日本、残り、分、段、案、他、人、発言、量、授業、顔、議論、進捗、奴、価値、先生、言葉、今日、研究、会、最初、都市、知識、議論、言葉、英語、議論、力、ヶ月、現地、発言、夕方、友達、車、日本、味、急、日本、食、正確、日本、食、東京、食事、料理、料理、料理、国、料理、日本、舌、味、後、映画、年、映画、体格、頭、主人、熱意、名門、スポ根、心、意味、自分、英語、熱量、試合、聖地、巡礼、聖地、鑑賞、映画、得点、掲示、演出、毎年、学期、新入、留学、目、感動、拍手、間、愛校、洗脳、変、天邪鬼、方、今、試合、土曜、日、朝、図書、事務、処理、管理、友達、謎、空き地、騒ぎ、音楽、爆音、空、水しぶき、友人、合流、友達、紹介、手当たり、次第、地面、空き缶、気、方、今度、首、結局、夕方、友達、家、数、給料、暮らし、車、久々、中、友達、誘い、一緒、次、家、鮨詰め、家、感じ、謎、階段、人、満杯、部屋、中庭、寮、友達、友達、友達、紹介、時、急、主催、男、警察、解散、波、寮、友達、時、到着、日曜、日、朝、昨日、夜、面々、顔、金曜、土曜、活動、日曜、勉強、隔離、本当、方向、音痴、十、八、九、真逆、道、意識、午後、勉強、壁画、足元、図書、授業、週間、準備、時間、就活、企業、研究、深夜、謎、寮、階、階、味、生、気絶、深夜、月曜、日、間、食堂、今日、朝、最悪、日本、語、日本、日系、新入、日本、珍獣、扱い、授業、明日、大柴、文体、来週、二十、人生、友人、機内、文、以上、気持ち、言葉、今、時差、完徹、朝、時、飛行、機、前日、夜、寮、友達、空港、友人、見送り、友達、年、日本、友達、年、大学、年、生活、研究、会、食堂、研究、友達、現状、満足、今、心、自分、日本、年、人生、何、度、方、間、飛行、機、電車、移動、気、最後、飛行、機、中、移動、錯覚、実、羽田、心配、空気、乗り換え、空港、限り、空港、初っ端、入国、審査、普通、強面、入国、審査、別室、連行、別室、顔、電話、順番、友人、家族、助け、母、電話、強制、送還、名前、強面、黒人、職員、時、裏面、中身、領事、信用、結局、電話、早口、大学、国際、職員、目、皆、確認、領事、絶対、責任、問答、入国、乗り継ぎ、搭乗、付近、人種、比率、偏り、目、白人、黒人、中西部、機体、異常、隣、瞬間、無事、大学、近く、空港、今日、寮、電話、話、普通、試し、無茶苦茶、関門、突破、未満、本当、宿泊、術、今日、食事、近く、合流、香港、上、表情、嫌い、時、時、北、解消、寮、怒涛、祭り、記憶、月、授業、準備、提出、留学、担当、仕事、感、系、黒人、姉、哀れみ、怒り、目、興奮、韓国、年、履修、交渉、本当、怒涛、友達、冗談、列、向かい、人、分、列、婚活、勢い、名前、国、寮、一緒、何、階、絶対、交換、気、全員、中国、日本、最高、強制、英語、空間、最高、全員、寮、生活、男女、別、寮、部屋、辺、茂み、黄昏時、夕日、金色、青、空、自由、旗、声、鶯、緑、小鳥、水面、光、湖、側、洞窟、蝋燭、学生、皆、膝、炎、中、故郷、遠く、涙、側、信心、寮、友達、中、現地、友達、朝食、昼食、現地、友達、紹介、留学、海外、新入、機会、感、天井、毎回、食事、名前、土曜、日、暇、朝、日用、調達、後、友達、友達、運転、車、友達、果樹、近所、挨拶、日本、土産、現地、調達、桃、腹、夜、時間、素面、音楽、爆音、中心、連絡、先、交換、手、遠く、目、把握、何、回、会話、連絡、先、交換、時間、州、陸上、男子、現地、人、目標、彼氏、実家、練習、日曜、日、教会、中高、学校、讃美、装飾、豪華、儀式、感じ、現地、友達、説明、洗礼、演劇、部、学内、学期、現代、版、人種、家族、白人、黒人、一瞬、自体、意識、刷り込み、月曜、朝、時間、就活、時差、辟易、交換、留学、就活、無理、学事、正午、建物、空間、今日、留学、場所、披露、宴会、机、結婚、留学、担当、挨拶、中、周り、参加、提供、日本、結局、中国、台湾、華僑、韓国、周り、黄色、人種、最初、他、人種、友達、語、語、全て、本当、週間、感じ、問題、山積、醍醐、明日、授業、自信、来週、夢、何、度、眠り、朝、法事、場面、中洲、吉塚、個室、父方、母方、親戚、一同、学校、夏服、二、結び、祖父、祖母、大叔父、大叔母、従兄弟、夢、中、隣、祖母、目、母、今、茶汲み、母、認知、後、時々、調子、祖母、正気、度、母、母、夢、夢、中、涙、祖母、箸、頭、手、場面、夢、中、目、実家、座敷、畳、上、緑、扇風、機、風、頬、雪見、障子、庭、松、影、東、真夏、午後、時、博多、夏、家族、昼寝、祖母、白髪、二の腕、筋肉、代、身、祖母、母、母、頃、母、昔、福、服、視線、目、前、祖母、髪、夢、片肘、規則、寝息、人間、祖母、前、祖母、母、前、母、母、中、母、祖母、中、祖母、曾祖母、中、果てし、入れ子、構造、気、名字、男系、今、名字、身体、記憶、遠く、音、音、夢、腕、視界、目、自室、壁、感覚、幸福、感、先々、週、父、呼吸、停止、復活、急、先週、祖父、十、三、回忌、祖母、三十、三、回忌、年、前、半分、人数、天涯、孤独、将来、枕、無事、月、締め切り、五大、純、文学、新人、賞、提出、完了、感、無量、小説、去年、夏、先生、個人、面談、先生、文章、下手、母、文章、味、相手、一言、半年、才能、学期、文学、部、創作、授業、中間、課題、提出、万、字、小説、中学、高校、主題、年間、解放、年、再会、物語、物語、続き、時間、解決、時間、短縮、頃、敬愛、先輩、文、方向、先輩、期末、自分、箱、万、千、字、小説、箱、結局、家、暗喩、保守、環境、箱入り、娘、家、価値、以外、箱、価値、解放、意味、箱、人、価値、人、上記、話、自分、自身、解釈、家、箱、嫁、箱、間、今、今、自分、箱、形、形、自分、男性、主人、箱、時間、女性、作品、主人、少年、年上、男性、この頃、長編、構想、女性、主人、女性、自分、小説、年、祖母、情緒、高下、苦悩、渦、現実、父殺し、母、殺し、両親、喧嘩、大人、人間、両親、精神、脱出、自分、必要、要素、要素、某、映画、某、文学、作品、自分、平安、時代、文学、自分、中、詩、文章、感情、表現、世界、憧れ、某女、優、追悼、時、自分、文章、中、誕生、日、手紙、文、杖、推敲、不安、最近、文章、中略、以下、略、文章、人、手紙、先、守り、万、字、時、心底、結局、成人、人間、形、所々、歩、感謝、担当、編集、研究、会、章、形、構想、段階、壁打ち、相手、雑談、反映、部分、本当、編集、才能、次、寮、番、理解、定点、作品、感想、作品、理解、最後、源、月、説明、意味、不明、一人、二人、部分、発想、公開、人、半、研究、寮、豚肉、野菜、炒め物、向田、邦子、片手、二、章、半分、頃、後輩、課題、質問、通話、今、食堂、ご飯、電車、バイト先、〇、〇、駅、秒、時間、確認、時、分、半、白米、予約、後ろ、席、他、後輩、時間、電車、〇、〇、駅、車、運転、満喫、近く、駅、時間、常識、先輩、自分、友達、方、忠告、自分、立場、映画、私史、最高、速度、指、出発、外、窓、曇り、車、深夜、国道、車、途中、入り口、横、曲がり角、注意、予想、分、前倒し、電車、入り口、最後、最後、詰め、自嘲、助手、席、普段、声、感謝、言葉、午後、最近、不眠、気味、別、感謝、言葉、最初、以上、自分、声色、自信、一、番、存在、最初、電話、相手、〇、〇、絶対、二人、鳩尾、恋人、遠慮、同性、彼氏、消去、存在、何、度、期待、何、度、思考、回路、水平、線、言葉、額面、通り、普通、人間、馬鹿、虚無、感、唇、紅茶、上唇、下唇、接着、言葉、後輩、声、今日、一、度、目、制限、速度、針、集中、無言、自分、部屋、駐車、一、度、袖、一人、寮、徒歩、分、駐車、深夜、時、孤独、夜道、駅前、目、威嚇、体感、分、音、返却、完了、翌日、朝、大学、研究、手洗い、死、意味、鍵、上着、本、紙、時、保証、扉、前、廊下、足、床、壁、強制、機会、思索、昨日、態度、共通、話題、会話、努力、中、分、一人、今、状況、同情、見返り、深夜、体、時間、損得、勘定、好意、向こう、人、彼氏、嫌い、自分、幸せ、脳内、心、好意、急、自分、愛、利己、愛、域、人、訓練、者、状態、成人、先輩、愛、寛容、愛、親切、人、愛、自慢、高慢、礼儀、自分、利益、人、悪、不正、真理、期待、愛、手紙、日、新聞、某、広告、目、要約、愛、権利、愛、時、指輪、会社、感動、既視、感、上記、聖句、愛、自分、利益、聖書、愛、記述、本当、自分、愛、自己、愛、反省、隣人、自分、愛、全て、完成、絆、神、最大、表れ、神、子、この世、記念、日、去年、頃、他者、学校、寄付、支援、団体、自分、力、道、人、大学、代、若者、力、企画、日本、代表、経営、識者、若者、連載、企画、二、回、日本、未来、著者、慶應、義塾、大学、教授、安宅、和人、安宅、代、頃、経験、社会、必要、思考、代表、小松、話、画像、慶應、義塾、大学、環境、情報、部、教授、兼、株式、会社、協会、理事、定義、委員、安宅、和人、前職、研究、太平、地域、中心、一人、商品、事業、開発、再生、年、途中、研究、開発、部門、統括、慶応、義塾、秋、現職、兼務、大学、脳、神経、科学、総合、科学、技術、会議、基本、計画、専門、調査、会、委員、数理、教育、認定、制度、検討、会、座長、時代、変革、政府、委員、著書、英治、出版、読書、研究、学生、時代、安宅、学生、若手、社会、安宅、学生、世代、縁、学生、生活、仕送り、親、基本、大学、年、駿台、予備、寮、寮監、住み込み、日本、寮生、相談、相手、解決、対応、寮生、自分、連中、実、寮、時代、本、時間、大量、ひと夏、年、当時、寮生、心、奥底、感じ、本、何十、人生、同時、感覚、青春、生活、学生、生活、年、寮、一人暮らし、社会、仕組み、家庭、教師、塾、講師、当時、子供、親、雑誌、校正、割烹、内装、解体、工事、宅配、便、工場、体験、苦学、貧乏、実感、学費、以外、自分、足、昭和、初期、大家、許可、壁、床、根太、以外、本当、頃、経験、今、学生、社会、裏側、仕組み、体験、大学、進学、研究、没頭、原則、禁止、研究、圧倒、時給、駿台、予備、講師、応募、倍率、運、熱狂、週、時間、当時、駿台、全体、年少、講師、一人、卒業、子供、頃、科学、就活、研究、読書、学生、時代、安宅、年、時代、研究、新卒、入社、修士、院生、時、奨学、予備、講師、収入、月、受験、仕事、奨学、大学、生協、短期、情報、正確、募集、当時、謎、会社、記載、報酬、額、笑、応募、採用、期間、数、年、誘い、研究、経験、結果、何、年、入社、当時、時間、言葉、頃、年間、平日、朝、時、夜、時、時、土日、両方、生活、年、仕事、大当たり、自分、分析、商品、年間、千、億、円、単位、売上、身体、職場、偶然、会社、研究、学位、博士、号、人生、卒業、研究、人生、以上、成長、意味、当時、一人、自分、常、感覚、年、半、自他、共、目、結果、脳、神経、科学、大学、自分、関心、常、知覚、子供、頃、夢、理由、実、師匠、安宅、笑、安宅、人生、縁、愛嬌、安宅、状況、常、印象、秘訣、実感、時、幸せ、逆、自分、一日、時、自分、適当、限り、自分、生命、命、感じ、火中、栗、何、度、喜び、以上、機会、適当、多く、場合、時間、自ら、頃、半ば、臨死、体験、経験、以来、無理、感じ、身体、心、声、常、自分、時、真、気、代、後半、頃、自分、本当、興奮、実感、本当、意味、変化、以来、判断、軸、一、自分、意味、変化、軸、選択、自分、軸、場合、想定、状態、人生、何、度、他、理由、道、バイト先、熱狂、本業、社会、問題、人材、話、気、仕事、国、審議、会、依頼、以上、社会、変革、仕事、常、年、前、想定、人生、傾向、人生、源泉、自分、想定、人生、展開、傾向、星、芸風、徹底、展開、感じ、自分、理解、人、出会い、自身、学生、時代、恩師、本、仕事、偶然、縁、出会い、先、未来、人生、縁、愛嬌、今、人生、人、人、一人、安宅、名刺、新卒、入社、未来、若者、若者、先程、通り、想定、展開、人生、一、欽、萩本、欽一、仕事、運、糸井、重里、日、言葉、個人、意見、長期、考え、展開、対応、場合、人生、先、自体、人生、幅、想定、今、状況、人、自分、人生、失礼、方、人生、宝、展開、中、自分、人生、世の中、道、一人前、一流、必要、世の中、選手、表現、医者、弁護、研究、教育、世の中、政治、官僚、世界、調整、国際、公務、社会、革新、社会、変革、事業、会社、創業、世の中、全て、対極、会社、学校、卒業、年、道、足場、一人前、自分、自分、世の中、自分、社会、実現、数、年間、会社、経験、人生、中、会社、言葉、会社、会社、官僚、機構、組織、一員、組織、価値、創出、機構、仕組み、一、機能、一、意味、規模、組織、人生、自由、度、自分、本来、関係、熱狂、心、組織、一員、場合、初め、自分、時間、〇、〇、価値、得意、頃、元、判断、前、習慣、身、仮、就職、場合、週、一、日、時間、時間、一、週間、時間、睡眠、割、割、時間、自由、仕事、後、時間、週末、自分、投資、時間、就活、自分、就活、自身、就活、自分、人、就活、未来、自分、部分、上、世の中、未来、自分、環境、人、逆、世の中、自分、本、自分、経験、内面、外部、両方、必要、世の中、自分、自分、場所、自由、兎、角、道、一人前、社会、対応、肝、得意、道、大学、専門、一、安宅、呪い、言葉、自ら、解放、以下、企業、経営、層、新卒、参画、経営、一緒、事業、経験、安宅、学生、学生、繰り返し、自分、探し、就活、志望、動機、頭、髪の毛、染め、時間、時間、人生、方、自分、心、自分、必要、経験、就活、意味、手段、方便、就活、目的、時点、未来、数、面接、会社、人、存在、感、人、会社、命がけ、人、企業、経営、経営、課題、逃げ場、解決、経験、稀有、環境、経営、一緒、世の中、自分、意思、決定、会社、経験、人、成長、自分、現状、人、挑戦、価値、修羅、数、成長、修羅、経験、人、言葉、重み、無理、呪い、言葉、大人、近く、自分、人生、他人、判断、運、縁、自分、自由、認識、自ら、呪い、言葉、未来、一、歩、説明、会、個別、相談、会、実施、事務、局、希望、対応\n",
            "2930\n"
          ]
        }
      ]
    }
  ]
}