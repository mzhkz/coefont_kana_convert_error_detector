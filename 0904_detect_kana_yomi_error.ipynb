{
  "nbformat": 4,
  "nbformat_minor": 0,
  "metadata": {
    "colab": {
      "provenance": [],
      "collapsed_sections": [],
      "toc_visible": true,
      "authorship_tag": "ABX9TyOjLQmvpvH7jBEckeWizBuZ",
      "include_colab_link": true
    },
    "kernelspec": {
      "name": "python3",
      "display_name": "Python 3"
    },
    "language_info": {
      "name": "python"
    }
  },
  "cells": [
    {
      "cell_type": "markdown",
      "metadata": {
        "id": "view-in-github",
        "colab_type": "text"
      },
      "source": [
        "<a href=\"https://colab.research.google.com/github/mzhkz/coefont_kana_convert_error_detector/blob/main/0904_detect_kana_yomi_error.ipynb\" target=\"_parent\"><img src=\"https://colab.research.google.com/assets/colab-badge.svg\" alt=\"Open In Colab\"/></a>"
      ]
    },
    {
      "cell_type": "markdown",
      "source": [
        "# 事前準備\n",
        "## 必要なパッケージ等を読み込み/割り当て"
      ],
      "metadata": {
        "id": "LIP0DVX3SAYz"
      }
    },
    {
      "cell_type": "code",
      "source": [
        "! pip install mecab-python3 unidic-lite\n",
        "! pip install plyvel\n",
        "! pip install sseclient"
      ],
      "metadata": {
        "colab": {
          "base_uri": "https://localhost:8080/"
        },
        "id": "Oig2C9aqrY7B",
        "outputId": "0366f3b5-73dc-4c84-d06c-eb08443f3b74"
      },
      "execution_count": 1,
      "outputs": [
        {
          "output_type": "stream",
          "name": "stdout",
          "text": [
            "Looking in indexes: https://pypi.org/simple, https://us-python.pkg.dev/colab-wheels/public/simple/\n",
            "Collecting mecab-python3\n",
            "  Downloading mecab_python3-1.0.5-cp37-cp37m-manylinux_2_17_x86_64.manylinux2014_x86_64.whl (574 kB)\n",
            "\u001b[K     |████████████████████████████████| 574 kB 5.1 MB/s \n",
            "\u001b[?25hCollecting unidic-lite\n",
            "  Downloading unidic-lite-1.0.8.tar.gz (47.4 MB)\n",
            "\u001b[K     |████████████████████████████████| 47.4 MB 163 kB/s \n",
            "\u001b[?25hBuilding wheels for collected packages: unidic-lite\n",
            "  Building wheel for unidic-lite (setup.py) ... \u001b[?25l\u001b[?25hdone\n",
            "  Created wheel for unidic-lite: filename=unidic_lite-1.0.8-py3-none-any.whl size=47658836 sha256=341bced5998796bfdba956d5012a46b292acd9f5abd0c6e82da9dfa5cc203179\n",
            "  Stored in directory: /root/.cache/pip/wheels/de/69/b1/112140b599f2b13f609d485a99e357ba68df194d2079c5b1a2\n",
            "Successfully built unidic-lite\n",
            "Installing collected packages: unidic-lite, mecab-python3\n",
            "Successfully installed mecab-python3-1.0.5 unidic-lite-1.0.8\n",
            "Looking in indexes: https://pypi.org/simple, https://us-python.pkg.dev/colab-wheels/public/simple/\n",
            "Collecting plyvel\n",
            "  Downloading plyvel-1.4.0-cp37-cp37m-manylinux_2_12_x86_64.manylinux2010_x86_64.whl (693 kB)\n",
            "\u001b[K     |████████████████████████████████| 693 kB 5.2 MB/s \n",
            "\u001b[?25hInstalling collected packages: plyvel\n",
            "Successfully installed plyvel-1.4.0\n"
          ]
        }
      ]
    },
    {
      "cell_type": "code",
      "source": [
        "%matplotlib inline\n",
        "import numpy as np\n",
        "import matplotlib.pyplot as plt\n",
        "import requests as reqs\n",
        "import json\n",
        "import regex\n",
        "import plyvel\n",
        "import pickle\n",
        "import MeCab\n",
        "import datetime\n",
        "from sseclient import SSEClient as EventSource"
      ],
      "metadata": {
        "id": "l_CkY7fnR_5g"
      },
      "execution_count": 96,
      "outputs": []
    },
    {
      "cell_type": "markdown",
      "source": [
        "## 作業ディレクトリ（ファイルの読み込みや保存を行う絶対パス）"
      ],
      "metadata": {
        "id": "CpKIv31V__92"
      }
    },
    {
      "cell_type": "code",
      "source": [
        "APP_WORKDIR = \"/content/drive/MyDrive/coefont_kana_converter_error_detector/\""
      ],
      "metadata": {
        "id": "Qsg_nah3_ipM"
      },
      "execution_count": 3,
      "outputs": []
    },
    {
      "cell_type": "code",
      "source": [
        "from google.colab import drive\n",
        "drive.mount('/content/drive/')"
      ],
      "metadata": {
        "colab": {
          "base_uri": "https://localhost:8080/"
        },
        "id": "omnti7xwR5FQ",
        "outputId": "d19e95ea-3492-452e-b3fd-299b401b26a4"
      },
      "execution_count": 4,
      "outputs": [
        {
          "output_type": "stream",
          "name": "stdout",
          "text": [
            "Mounted at /content/drive/\n"
          ]
        }
      ]
    },
    {
      "cell_type": "markdown",
      "source": [
        "### APIのアクセストークンなど機密情報の管理"
      ],
      "metadata": {
        "id": "eSU3i3VYR5cM"
      }
    },
    {
      "cell_type": "code",
      "source": [
        "secrets = {}\n",
        "with open(APP_WORKDIR + 'secrets.json') as f:\n",
        "  secrets = json.load(f)"
      ],
      "metadata": {
        "id": "cA9ux2ZOR9pE"
      },
      "execution_count": 5,
      "outputs": []
    },
    {
      "cell_type": "markdown",
      "source": [
        "## データベースのセットアップ（品詞の保存）\n",
        "* APIのアクセス量を減らすため、過去に変換を行った単語をデータベースに保存し、キャッシュとして利用する。\n",
        "* 読み書きの早い、Key -> Value型のローカルファイル型データベースである。\n",
        "* Ethereumのノードの内部ではトランザクションの管理とかでも使われている。\n",
        "* https://github.com/google/leveldb\n",
        "* https://plyvel.readthedocs.io/en/latest/"
      ],
      "metadata": {
        "id": "Enp-uLRI-sCO"
      }
    },
    {
      "cell_type": "code",
      "source": [
        "vocab_db = plyvel.DB(APP_WORKDIR + 'vocabs.ldb', create_if_missing=True)\n",
        "lebels_db = plyvel.DB(APP_WORKDIR + 'lebels.ldb', create_if_missing=True)\n",
        "checked_db = plyvel.DB(APP_WORKDIR + 'checked.ldb', create_if_missing=True)\n",
        "\n",
        "dbs = [vocab_db, lebels_db, checked_db]"
      ],
      "metadata": {
        "id": "hG52BVjO-q4A"
      },
      "execution_count": 57,
      "outputs": []
    },
    {
      "cell_type": "markdown",
      "source": [
        "### パスを間違えたりして再読み込みする場合は以下セルを実行してから上のセルを実行する"
      ],
      "metadata": {
        "id": "wEDPI9QY_zsA"
      }
    },
    {
      "cell_type": "code",
      "source": [
        "for db in dbs:\n",
        "  db.close()"
      ],
      "metadata": {
        "id": "z_bvONVi_wGX"
      },
      "execution_count": 56,
      "outputs": []
    },
    {
      "cell_type": "markdown",
      "source": [
        "## 各種依存記号の設定"
      ],
      "metadata": {
        "id": "qEWp89VHTI3n"
      }
    },
    {
      "cell_type": "code",
      "source": [
        "SYMBOL_READING_POINT = \"、\" # 句読点\n",
        "SYMBOL_PUNCTUATION = \"。\" # 読点\n",
        "SYMBOL_HALF_SPACE = \" \" # 半角スペース\n",
        "SYMBOL_LONG_NOTE = \"ー\" # 伸ばし棒\n",
        "SYMBOL_NONE = \"\" # 空文字\n",
        "SYMBOL_TAB = \"\\t\" # TAB\n",
        "SYMBOL_SEMICORON = \";\" # SEMICORON"
      ],
      "metadata": {
        "id": "LAPCsUi5TINt"
      },
      "execution_count": 7,
      "outputs": []
    },
    {
      "cell_type": "markdown",
      "source": [
        "# データソース別のクラス\n",
        "* 単語中抽出に必要な対象（Webページなど）を管理する\n",
        "* 名詞の抽出とMeCabによるよみラベルを管理する。\n",
        "\n",
        "## 要件\n",
        "*   Webサイトからテキストをスクレイピング（Webサイトごとにテンプレートを作成する）\n",
        "*   リンクや特殊記号を排除する\n",
        "*   文章の形態素解析を行い、漢字が含まれている名詞のみを抽出する。\n",
        "\n"
      ],
      "metadata": {
        "id": "VlMjUzYgOt88"
      }
    },
    {
      "cell_type": "markdown",
      "source": [
        "### MecabのWakatiで初期化"
      ],
      "metadata": {
        "id": "hsYGGJU30m8P"
      }
    },
    {
      "cell_type": "code",
      "source": [
        "wakati = MeCab.Tagger()"
      ],
      "metadata": {
        "id": "CSDVVldM0jXR"
      },
      "execution_count": 8,
      "outputs": []
    },
    {
      "cell_type": "markdown",
      "source": [
        "### 漢字判定用の正規表現"
      ],
      "metadata": {
        "id": "VNtVNOTQ0j2j"
      }
    },
    {
      "cell_type": "code",
      "source": [
        "KANJI_REG_PETERN = regex.compile(r'\\p{Script=Han}+')"
      ],
      "metadata": {
        "id": "Ym4Waerl0Dwy"
      },
      "execution_count": 9,
      "outputs": []
    },
    {
      "cell_type": "markdown",
      "source": [
        "## ローダー"
      ],
      "metadata": {
        "id": "uRtAIwNx2E4m"
      }
    },
    {
      "cell_type": "code",
      "execution_count": 10,
      "metadata": {
        "id": "OTxjS4vLOpg_"
      },
      "outputs": [],
      "source": [
        "class DataSource:\n",
        "  def __init__(self):\n",
        "    self.vocabs = []\n",
        "    self.labels = [] \n",
        "\n",
        "  def _fetchData(self): # 文章（テキストデータ）を読み込む、ここは各サービスごとに取得の方法が異なるためオーバーライドする。\n",
        "    pass\n",
        "\n",
        "  def preprosessing(self, subject):\n",
        "    handled = self._replaceSymbol(subject) #ここから文字列\n",
        "    return handled\n",
        "\n",
        "  def _replaceSymbol(self, subject):\n",
        "    sentence = subject.replace(SYMBOL_TAB, SYMBOL_NONE)\n",
        "    return sentence\n",
        "\n",
        "  def load(self):\n",
        "    text = self._fetchData()\n",
        "    text = self.preprosessing(text)\n",
        "    vocabs, labels = self._analysis(text)\n",
        "    self.vocabs = vocabs\n",
        "    self.labels = labels \n",
        "\n",
        "  def _analysis(self, subject):\n",
        "    result = wakati.parse(subject) # 形態素解析分析 tab分けで結果が出てくる\n",
        "    vocabs = [line.split(SYMBOL_TAB) for line in result.splitlines()]\n",
        "    nouns = [vocab_data for vocab_data in vocabs if len(vocab_data) >= 4 and \"名詞\" in vocab_data[4][0:2] and KANJI_REG_PETERN.search(vocab_data[0])] # 漢字を含む名詞のみ抽出\n",
        "    nouns, labels = [noun[0] for noun in nouns],  [noun[2] for noun in nouns] # 品詞とかな変換を分割\n",
        "    unique_nouns = []\n",
        "    unique_labels = []\n",
        "    for noun, label in zip(nouns, labels):\n",
        "      if noun not in unique_nouns:\n",
        "        unique_nouns.append(noun)\n",
        "        unique_labels.append(label)\n",
        "    return unique_nouns, unique_labels # 名詞とMeCabによるかな変換を取得\n",
        "\n",
        "  def save(self, new_count=False):\n",
        "    reg_vocab_count = 0\n",
        "    for vocab, label in zip(self.vocabs, self.labels):\n",
        "      binary_key = vocab.encode(\"utf-8\") # key for level db\n",
        "      binary_lebel = label.encode(\"utf-8\") # key for level db\n",
        "      if new_count and vocab_db.get(binary_key) is None:\n",
        "        reg_vocab_count +=1\n",
        "      vocab_db.put(binary_key, binary_lebel)\n",
        "    return reg_vocab_count"
      ]
    },
    {
      "cell_type": "markdown",
      "source": [
        "## 各種サービスなど、オケージョンごとのローダー\n",
        "\n",
        "ローダーの対象\n",
        "*   note.com （記事サービス）\n",
        "*   wikipedia.org (辞書)\n",
        "*   ローカルファイル\n",
        "*   変数\n",
        "\n"
      ],
      "metadata": {
        "id": "6HYBpVtp2GpO"
      }
    },
    {
      "cell_type": "markdown",
      "source": [
        "### 変数からテキストを読み込む"
      ],
      "metadata": {
        "id": "HeSgc6ik0_72"
      }
    },
    {
      "cell_type": "code",
      "source": [
        "class ArrayDataSource(DataSource):\n",
        "  def __init__(self, vocabs, labels):\n",
        "    super().__init__()\n",
        "    self.vocabs = vocabs\n",
        "    self.labels = labels \n",
        "\n",
        "  def load(self):\n",
        "    pass\n",
        "\n",
        "  def _analysis(self, subject):\n",
        "    pass\n",
        "\n",
        "  def _fetchData(self):\n",
        "    return \"\".self.vocabs"
      ],
      "metadata": {
        "id": "kZur9LBQxBnt"
      },
      "execution_count": 11,
      "outputs": []
    },
    {
      "cell_type": "markdown",
      "source": [
        "### ローカルのテキストファイルからテキストを読み込む（バイナリファイル未対応）"
      ],
      "metadata": {
        "id": "YDovBKdZ1yhk"
      }
    },
    {
      "cell_type": "code",
      "source": [
        "class LocalDataSource(DataSource):\n",
        "  def __init__(self, file_path):\n",
        "    super().__init__()\n",
        "    self.file_path = file_path\n",
        "\n",
        "  def _fetchData(self):\n",
        "    with open(self.file_path) as f:\n",
        "      lines = f.readlines()\n",
        "      self.source = \"\".join(lines)\n",
        "    return self.source"
      ],
      "metadata": {
        "id": "dCKdod141LF1"
      },
      "execution_count": 12,
      "outputs": []
    },
    {
      "cell_type": "markdown",
      "source": [
        "### Note API v2\n",
        "note.comから記事を取得する"
      ],
      "metadata": {
        "id": "niCqReDO1uOs"
      }
    },
    {
      "cell_type": "code",
      "source": [
        "class NoteDataSource(DataSource):\n",
        "  def __init__(self, note_article_key):\n",
        "    super().__init__()\n",
        "    self.note_article_key = note_article_key\n",
        "\n",
        "  def _fetchData(self):\n",
        "    url = \"https://note.com/api/v1/notes/{}\".format(self.note_article_key)\n",
        "    response = reqs.get(url=url)\n",
        "    text = response.text\n",
        "    response_json = json.loads(text)\n",
        "    return response_json[\"data\"][\"body\"]"
      ],
      "metadata": {
        "id": "NBfLg5yC02Pv"
      },
      "execution_count": 13,
      "outputs": []
    },
    {
      "cell_type": "markdown",
      "source": [
        "### Wikipedia\n",
        "\n",
        "https://ja.wikipedia.org/w/api.php?format=json&action=query&prop=extracts&exintro&explaintext&redirects=1&titles=%E6%85%B6%E6%87%89%E7%BE%A9%E5%A1%BE%E5%A4%A7%E5%AD%A6"
      ],
      "metadata": {
        "id": "bz-PMmHI2apr"
      }
    },
    {
      "cell_type": "code",
      "source": [
        "class WikipediaDataSource(DataSource):\n",
        "  def __init__(self, title):\n",
        "    super().__init__()\n",
        "    self.title = title\n",
        "\n",
        "  def _fetchData(self):\n",
        "    url = \"https://ja.wikipedia.org/w/api.php?format=json&action=query&prop=extracts&exintro&explaintext&redirects=1\"\n",
        "    params = {\n",
        "        \"titles\": self.title,\n",
        "    }\n",
        "    response = reqs.get(url=url, params=params)\n",
        "    text = response.text\n",
        "    response_json = json.loads(text)\n",
        "    return list(response_json[\"query\"][\"pages\"].values())[0].get(\"extract\", \"\")"
      ],
      "metadata": {
        "id": "UR8adA3m08z4"
      },
      "execution_count": 44,
      "outputs": []
    },
    {
      "cell_type": "markdown",
      "source": [
        "### 一時開発用データセット"
      ],
      "metadata": {
        "id": "RpJhw7bl62Zb"
      }
    },
    {
      "cell_type": "code",
      "source": [
        "class TempDataSource(DataSource):\n",
        "  def __init__(self):\n",
        "    super().__init__()\n",
        "\n",
        "  # loadを上書き\n",
        "  def load(self):\n",
        "    note_articles_id = [\n",
        "      \"n4ece27ed112b\",\n",
        "      \"n0433243163f5\",\n",
        "      \"n2861fae03861\",\n",
        "      \"n6965c22952ac\",\n",
        "      \"ndf3aed673e7f\",\n",
        "      \"n766dc842145d\",\n",
        "      \"ndace078a3cb1\"\n",
        "    ]\n",
        "    data_sources = [NoteDataSource(id) for id in note_articles_id]\n",
        "    nouns = []\n",
        "    labels = []\n",
        "    for data_source in data_sources:\n",
        "      data_source.load()\n",
        "      nouns = nouns + data_source.vocabs\n",
        "      labels = labels + data_source.labels\n",
        "    # self.vocabs = nouns[:83]\n",
        "    # self.labels = labels[:83]\n",
        "    self.vocabs = nouns\n",
        "    self.labels = labels"
      ],
      "metadata": {
        "id": "5ZJ54oqW64Tv"
      },
      "execution_count": 33,
      "outputs": []
    },
    {
      "cell_type": "markdown",
      "source": [
        "## 各種ローダーのテスト"
      ],
      "metadata": {
        "id": "dYRPRiTr18CJ"
      }
    },
    {
      "cell_type": "code",
      "source": [
        "test01_note_datasource = NoteDataSource(note_article_key=\"n4ece27ed112b\")\n",
        "test01_note_datasource.load()\n",
        "\n",
        "print(test01_note_datasource.vocabs)\n",
        "print(test01_note_datasource.labels)\n",
        "\n",
        "test01_note_datasource.save(new_count=True)"
      ],
      "metadata": {
        "colab": {
          "base_uri": "https://localhost:8080/"
        },
        "id": "KbxdLpJqyQ8I",
        "outputId": "418753b9-4182-4e56-c4e5-5058945c62e8"
      },
      "execution_count": 16,
      "outputs": [
        {
          "output_type": "stream",
          "name": "stdout",
          "text": [
            "['大学', '入学', '時代', '人間', '選択', '幸せ', '伝播', '自分', '不安', '勉強', '自負', '技術', '修得', '人', '一', '倍', '熱量', '努力', '実際', '学生', '身分', '個人', '開発', '仕事', '社会', '感覚', '自身', '生活', '半ば', '先生', '方', '言葉', '魂', '所属', '研究', '会', '友人', '価値', '方向', '言語', '学び', '本質', '事実', '記事', '今後', '記録', '執筆', '迷走', '逆', '体得', '宝物', '月', '終わり', '勢い', '文中', '箇所', '筆者', '教え', '理解', '問題', '発見', '解決', '最近', '以外', '中等', '教育', '学校', '反面', '事例', '背景', '論点', '整理', '視点', '在学', '骨', '髄', '変容', '意見', '参考', '本当', '少数', '解釈', '考え', '注意', '公式', '見解', '一切', '独断', '偏見', '構成', '主張', '念頭', '進学', '意図', '特徴', '理系', '文系', '区別', '自由', '分野', '横断', '内外', '耳', '着眼', '点', '縦割り', '意識', '必要', '対応', '世界', '帰着', '複雑', '議論', '担保', '題材', '享受', '世の中', '発展', '環境', '注目', '例', '導入', '暮らし', '以前', '単位', '失敗', '典型', '話題', '目的', '不在', '情報', '恩恵', '問い', '探索', '方法', '論', '先行', '取り組み', '事', '欲望', '合理', '道筋', '分断', '限り', '人々', '単体', '寄与', '根幹', '後者', '先導', '人材', '育成', '力', '最終', '身', '年間', '結果', '創出', '伝達', '付加', '創造', '連鎖', '今', '命題', '量産', '輸出', '変化', '通り', '知識', '問いかけ', '性質', '着目', '高校', '思考', '段', '指導', '要領', '受験', '上', '補完', '大体', '偏差', '目標', '塾', '多く', '見直し', '先ほど', '未来', '現在', '逆算', '実現', '部分', '気づき', '時間', '頭', '番', '学部', '魅力', '他', '評価', '軸', '自ら', '場所', '全知', '全能', '認識', '自走', '維持', '原点', '生産', '活動', '土台', '要約', '具材', '存在', '深み', '説得', '要求', '学問', '幅', '用意', '構造', '体', '能力', '主眼', '基本', '主', '必然', '現象', '自体', '最初', '脱却', '用語', '集中', '経営', '達成', '勢力', '事業', '拡大', '話', '説明', '本格', '前', '合格', '後', '形', '経験', '皆', '裏', '相対', '革新', '意義', '巷', '機会', '二', '条件', '分類', '頭出し', '趣旨', '専攻', '期待', '空間', '浸透', '現状', '素養', '場面', '強み', '理由', '確立', '余白', '子孫', '重点', '目', '共有']\n",
            "['ダイガク', 'ニュウガク', 'ジダイ', 'ニンゲン', 'センタク', 'シアワセ', 'デンパ', 'ジブン', 'フアン', 'ベンキョウ', 'ジフ', 'ギジュツ', 'シュウトク', 'ヒト', 'イチ', 'バイ', 'ネツリョウ', 'ドリョク', 'ジッサイ', 'ガクセイ', 'ミブン', 'コジン', 'カイハツ', 'シゴト', 'シャカイ', 'カンカク', 'ジシン', 'セイカツ', 'ナカバ', 'センセイ', 'ホウ', 'コトバ', 'タマシイ', 'ショゾク', 'ケンキュウ', 'カイ', 'ユウジン', 'カチ', 'ホウコウ', 'ゲンゴ', 'マナビ', 'ホンシツ', 'ジジツ', 'キジ', 'コンゴ', 'キロク', 'シッピツ', 'メイソウ', 'ギャク', 'タイトク', 'タカラモノ', 'ガツ', 'オワリ', 'イキオイ', 'ブンチュウ', 'カショ', 'ヒッシャ', 'オシエ', 'リカイ', 'モンダイ', 'ハッケン', 'カイケツ', 'サイキン', 'イガイ', 'チュウトウ', 'キョウイク', 'ガッコウ', 'ハンメン', 'ジレイ', 'ハイケイ', 'ロンテン', 'セイリ', 'シテン', 'ザイガク', 'ホネ', 'ズイ', 'ヘンヨウ', 'イケン', 'サンコウ', 'ホントウ', 'ショウスウ', 'カイシャク', 'カンガエ', 'チュウイ', 'コウシキ', 'ケンカイ', 'イッサイ', 'ドクダン', 'ヘンケン', 'コウセイ', 'シュチョウ', 'ネントウ', 'シンガク', 'イト', 'トクチョウ', 'リケイ', 'ブンケイ', 'クベツ', 'ジユウ', 'ブンヤ', 'オウダン', 'ナイガイ', 'ミミ', 'チャクガン', 'テン', 'タテワリ', 'イシキ', 'ヒツヨウ', 'タイオウ', 'セカイ', 'キチャク', 'フクザツ', 'ギロン', 'タンポ', 'ダイザイ', 'キョウジュ', 'ヨノナカ', 'ハッテン', 'カンキョウ', 'チュウモク', 'レイ', 'ドウニュウ', 'クラシ', 'イゼン', 'タンイ', 'シッパイ', 'テンケイ', 'ワダイ', 'モクテキ', 'フザイ', 'ジョウホウ', 'オンケイ', 'トイ', 'タンサク', 'ホウホウ', 'ロン', 'センコウ', 'トリクミ', 'コト', 'ヨクボウ', 'ゴウリ', 'ミチスジ', 'ブンダン', 'カギリ', 'ヒトビト', 'タンタイ', 'キヨ', 'コンカン', 'コウシャ', 'センドウ', 'ジンザイ', 'イクセイ', 'チカラ', 'サイシュウ', 'ミ', 'ネンカン', 'ケッカ', 'ソウシュツ', 'デンタツ', 'フカ', 'ソウゾウ', 'レンサ', 'イマ', 'メイダイ', 'リョウサン', 'ユシュツ', 'ヘンカ', 'トオリ', 'チシキ', 'トイカケ', 'セイシツ', 'チャクモク', 'コウコウ', 'シコウ', 'ダン', 'シドウ', 'ヨウリョウ', 'ジュケン', 'ウエ', 'ホカン', 'ダイタイ', 'ヘンサ', 'モクヒョウ', 'ジュク', 'オオク', 'ミナオシ', 'サキホド', 'ミライ', 'ゲンザイ', 'ギャクサン', 'ジツゲン', 'ブブン', 'キヅキ', 'ジカン', 'アタマ', 'バン', 'ガクブ', 'ミリョク', 'タ', 'ヒョウカ', 'ジク', 'ミズカラ', 'バショ', 'ゼンチ', 'ゼンノウ', 'ニンシキ', 'ジソウ', 'イジ', 'ゲンテン', 'セイサン', 'カツドウ', 'ドダイ', 'ヨウヤク', 'グザイ', 'ソンザイ', 'フカミ', 'セットク', 'ヨウキュウ', 'ガクモン', 'ハバ', 'ヨウイ', 'コウゾウ', 'タイ', 'ノウリョク', 'シュガン', 'キホン', 'シュ', 'ヒツゼン', 'ゲンショウ', 'ジタイ', 'サイショ', 'ダッキャク', 'ヨウゴ', 'シュウチュウ', 'ケイエイ', 'タッセイ', 'セイリョク', 'ジギョウ', 'カクダイ', 'ハナシ', 'セツメイ', 'ホンカク', 'マエ', 'ゴウカク', 'アト', 'カタチ', 'ケイケン', 'ミナ', 'ウラ', 'ソウタイ', 'カクシン', 'イギ', 'チマタ', 'キカイ', 'ニ', 'ジョウケン', 'ブンルイ', 'アタマダシ', 'シュシ', 'センコウ', 'キタイ', 'クウカン', 'シントウ', 'ゲンジョウ', 'ソヨウ', 'バメン', 'ツヨミ', 'リユウ', 'カクリツ', 'ヨハク', 'シソン', 'ジュウテン', 'メ', 'キョウユウ']\n"
          ]
        },
        {
          "output_type": "execute_result",
          "data": {
            "text/plain": [
              "0"
            ]
          },
          "metadata": {},
          "execution_count": 16
        }
      ]
    },
    {
      "cell_type": "code",
      "source": [
        "test01_wiki_datasource = WikipediaDataSource(title=\"慶應義塾大学\")\n",
        "test01_wiki_datasource.load()\n",
        "\n",
        "print(test01_wiki_datasource.vocabs)\n",
        "print(test01_wiki_datasource.labels)\n",
        "\n",
        "test01_wiki_datasource.save(new_count=True)"
      ],
      "metadata": {
        "colab": {
          "base_uri": "https://localhost:8080/"
        },
        "id": "TiTVUKj-4PGY",
        "outputId": "52657faa-0788-4f94-d2aa-f52d3c2ee191"
      },
      "execution_count": 17,
      "outputs": [
        {
          "output_type": "stream",
          "name": "stdout",
          "text": [
            "['慶應', '義塾', '大学', '英語', '東京', '都', '港', '区', '三田', '丁目', '番', '号', '本部', '日本', '私立', '年', '創立', '設置', '略称', '慶大', '應', '旧', '字体', '報道', '慶応', '表記']\n",
            "['ケイオウ', 'ギジュク', 'ダイガク', 'エイゴ', 'トウキョウ', 'ト', 'ミナト', 'ク', 'ミタ', 'チョウメ', 'バン', 'ゴウ', 'ホンブ', 'ニッポン', 'シリツ', 'ネン', 'ソウリツ', 'セッチ', 'リャクショウ', 'ケイダイ', '應', 'キュウ', 'ジタイ', 'ホウドウ', 'ケイオウ', 'ヒョウキ']\n"
          ]
        },
        {
          "output_type": "execute_result",
          "data": {
            "text/plain": [
              "0"
            ]
          },
          "metadata": {},
          "execution_count": 17
        }
      ]
    },
    {
      "cell_type": "markdown",
      "source": [
        "# コンバーターのクラス\n",
        "\n",
        "* 漢字をかな変換するコンバータ\n",
        "* クラスとして機能を丸めることで複数のコンバーターの差異を吸収する。コンバーターを適用する順序を入れ替えるなど"
      ],
      "metadata": {
        "id": "fXVrUefMPnF4"
      }
    },
    {
      "cell_type": "code",
      "source": [
        "class BaseConverter:\n",
        "  def __init__(self, conveter_name):\n",
        "    self.converter_name = conveter_name\n",
        "    self.split_code = SYMBOL_SEMICORON\n",
        "\n",
        "  def preprosessing(self, subject):\n",
        "    return subject\n",
        "\n",
        "  def convert(self, vocabs):\n",
        "    sentence = SYMBOL_PUNCTUATION.join(vocabs) + SYMBOL_PUNCTUATION # 各単語をsplit tokenを付けて文字列化\n",
        "    result = self._execute_api(sentence)\n",
        "    # result = result.replace(SYMBOL_PUNCTUATION, SYMBOL_NONE)\n",
        "    converted_vocabs = [self.preprosessing(vocab) for vocab in result.split(SYMBOL_PUNCTUATION)] #文字列をsplit tokenを用いて単語ごとにリスト化\n",
        "    return converted_vocabs\n",
        "\n",
        "  def get_indexkey(self, noun):\n",
        "    return \"{}_{}\".format(self.converter_name, noun).encode(\"utf-8\")"
      ],
      "metadata": {
        "id": "8NiZ62R3RxUz"
      },
      "execution_count": 26,
      "outputs": []
    },
    {
      "cell_type": "markdown",
      "source": [
        "## CoeFont API (target)\n",
        "* CoefontのAPIのアクセス方法とアクセスキーが変わり次第、実装する"
      ],
      "metadata": {
        "id": "8LoJLI8UOGZ4"
      }
    },
    {
      "cell_type": "code",
      "source": [
        "SYMBOL_TRIGGER_1 = [\n",
        "        [\"オ\", \"コ\", \"ソ\", \"ト\", \"ノ\", \"ホ\", \"モ\", \"ヨ\", \"ロ\", \"ヲ\"], # o\n",
        "        [\"エ\", \"ケ\", \"セ\", \"ネ\", \"ヘ\", \"メ\", \"レ\"], # e removed テ\n",
        "        [\"ア\", \"カ\", \"サ\", \"タ\", \"ナ\", \"ハ\", \"マ\", \"ラ\", \"ヤ\", \"ラ\", \"ワ\"], # a\n",
        "        [\"ュ\", \"ョ\"],\n",
        "        [\"ゴ\", \"ゾ\", \"ド\", \"ボ\", \"ポ\", \"ゴ\", \"ゾ\", \"ド\", \"ボ\"],\n",
        "        [\"ギ\", \"ジ\", \"ヂ\", \"ビ\", \"ピ\", \"ギ\", \"ジ\", \"ジ\", \"ビ\",\"ピ\"],\n",
        "        [\"イ\", \"キ\", \"シ\", \"千\", \"二\", \"ヒ\", \"ミ\", \"リ\"], # i \n",
        "        [\"ウ\", \"ク\", \"ス\", \"ツ\", \"ヌ\", \"フ\", \"ム\", \"ユ\", \"ル\"] # u\n",
        "        ]\n",
        "\n",
        "SYMBOL_TRIGGER_2 = [\n",
        "        [\"ウ\"],\n",
        "        [\"イ\"],\n",
        "        [\"ア\"],\n",
        "        [\"ウ\"],\n",
        "        [\"ウ\"],\n",
        "        [\"イ\"],\n",
        "        [\"イ\"],\n",
        "        [\"ウ\"]\n",
        "        ]\n",
        "\n",
        "class CoeFontConverter(BaseConverter):\n",
        "  def __init__(self):\n",
        "    super().__init__(\"coefont\")\n",
        "\n",
        "  def _execute_api(self, sentence):\n",
        "    # coefontの実装\n",
        "    url = secrets[\"coefont_api_endpoint\"]\n",
        "    params = {\n",
        "        \"text\": sentence,\n",
        "    }\n",
        "\n",
        "    r = reqs.post(url=url, data=params)\n",
        "    response_text = r.text\n",
        "    print(\"** CoeFont API:\", response_text)\n",
        "    response_json = json.loads(response_text)\n",
        "    return response_json[\"yomi\"]\n",
        "\n",
        "  def preprosessing(self, subject):\n",
        "    list_kat_subject = list(subject)\n",
        "    kat_subject_size = len(list_kat_subject)-1\n",
        "    idkc = 0\n",
        "    while  idkc < kat_subject_size:\n",
        "      kat_char_pointer = list_kat_subject[idkc]\n",
        "      kat_char_next = list_kat_subject[idkc+1]\n",
        "      if kat_char_next == SYMBOL_LONG_NOTE:\n",
        "         for ids, symbols in enumerate(SYMBOL_TRIGGER_1):\n",
        "           if kat_char_pointer in symbols:\n",
        "               list_kat_subject[idkc+1] = SYMBOL_TRIGGER_2[ids][0]\n",
        "               idkc+=1\n",
        "      idkc+=1\n",
        "    return \"\".join(list_kat_subject)"
      ],
      "metadata": {
        "id": "nHuLN8qLQOfu"
      },
      "execution_count": 27,
      "outputs": []
    },
    {
      "cell_type": "markdown",
      "source": [
        "## 一時的開発用コンバータ\n",
        "\n",
        "*   CoeFontの出力を想定して、特定の単語を入力した静的な結果を返却する\n",
        "\n"
      ],
      "metadata": {
        "id": "7QlXXq2k8bRs"
      }
    },
    {
      "cell_type": "code",
      "source": [
        "class TempCoeFontConverter(CoeFontConverter):\n",
        "  def __init__(self):\n",
        "    super().__init__()\n",
        "\n",
        "  def _execute_api(self, sentence):\n",
        "    # coefontの実装\n",
        "    # 一時的な実装 決まった文章を返す\n",
        "    source = None\n",
        "    with open(APP_WORKDIR + \"response_commma.json\") as f:\n",
        "      source = json.load(f)\n",
        "    return source[\"yomi\"]"
      ],
      "metadata": {
        "id": "y5NXAUpe8Qwn"
      },
      "execution_count": 28,
      "outputs": []
    },
    {
      "cell_type": "markdown",
      "source": [
        "## Goo API\n",
        "* かな変換APIを使用する。\n",
        "* ドキュメントはこちら\n",
        "  * https://labs.goo.ne.jp/api/jp/hiragana-translation/"
      ],
      "metadata": {
        "id": "Hnp4QEbQOLne"
      }
    },
    {
      "cell_type": "code",
      "source": [
        "class GooConverter(BaseConverter):\n",
        "  def __init__(self, app_id):\n",
        "    super().__init__(\"goo\")\n",
        "    self.app_id = app_id\n",
        "\n",
        "  def _execute_api(self, sentence):\n",
        "    url = \"https://labs.goo.ne.jp/api/hiragana\"\n",
        "    params = {\n",
        "        \"app_id\": self.app_id,\n",
        "        \"sentence\": sentence,\n",
        "        \"output_type\": \"katakana\"\n",
        "    }\n",
        "\n",
        "    headers = {'Content-Type': 'application/json'}\n",
        "\n",
        "    r = reqs.post(url=url, data=params)\n",
        "    response_text = r.text\n",
        "    print(\"** Goo API:\", response_text)\n",
        "    response_json = json.loads(response_text)\n",
        "    return response_json.get(\"converted\", \"\")\n",
        "\n",
        "  def preprosessing(self, subject):\n",
        "     return subject.replace(SYMBOL_HALF_SPACE, SYMBOL_NONE)"
      ],
      "metadata": {
        "id": "VhNvRmfDvruk"
      },
      "execution_count": 78,
      "outputs": []
    },
    {
      "cell_type": "markdown",
      "source": [
        "## Yahoo API\n",
        "* かな変換APIを使用する。\n",
        "* ドキュメントはこちら\n",
        "  * https://developer.yahoo.co.jp/webapi/jlp/furigana/v2/furigana.html\n",
        "  * https://developer.yahoo.co.jp/webapi/jlp/sample/sample10.html"
      ],
      "metadata": {
        "id": "nBQpqPWhHcWu"
      }
    },
    {
      "cell_type": "code",
      "source": [
        "class YahooConverter(BaseConverter):\n",
        "  def __init__(self, app_id):\n",
        "    super().__init__(\"yahoo\")\n",
        "    self.app_id = app_id\n",
        "\n",
        "  def _execute_api(self, sentence):\n",
        "    url = \"https://jlp.yahooapis.jp/FuriganaService/V2/furigana\"\n",
        "    params = {\n",
        "      \"id\": \"abc\",\n",
        "      \"jsonrpc\": \"2.0\",\n",
        "      \"method\": \"jlp.furiganaservice.furigana\",\n",
        "      \"params\": {\n",
        "        \"q\": sentence,\n",
        "      }\n",
        "    }\n",
        "    headers = {\n",
        "        \"Content-Type\": \"application/json\",\n",
        "        \"User-Agent\": \"Yahoo AppID: {}\".format(self.app_id),\n",
        "    }\n",
        "\n",
        "    params = json.dumps(params).encode()\n",
        "    r = reqs.post(url=url, data=params, headers=headers)\n",
        "    response_text = r.text\n",
        "    print(\"** Yahoo API:\", response_text)\n",
        "    response_json = json.loads(response_text)\n",
        "    kana_list = [word.get(\"furigana\", word.get(\"surface\", \"ERR\")) for word in response_json[\"result\"][\"word\"]]\n",
        "    return SYMBOL_NONE.join(kana_list)\n",
        "\n",
        "  def _hiragana_to_katakana(self, target):\n",
        "    return ''.join([chr(n+96) if (12352 < n and n < 12439) or n==12445 or n==12446 else chr(n) for n in [ord(c) for c in target]])\n",
        "\n",
        "  def preprosessing(self, subject):\n",
        "    subject = self._hiragana_to_katakana(subject)\n",
        "    subject = subject.replace(SYMBOL_HALF_SPACE, SYMBOL_NONE)\n",
        "    return subject"
      ],
      "metadata": {
        "id": "5iKa08M4Hi9h"
      },
      "execution_count": 79,
      "outputs": []
    },
    {
      "cell_type": "markdown",
      "source": [
        "# データソース毎に読みの検証を行う\n",
        "* コンバータを用いてCoeFontの単語出力と比較を行う。\n",
        "* 比較の結果、不一致だった場合は他のコンバーターにおいても比較を行い、正解ラベルを付与できるよう分布を収束させる。"
      ],
      "metadata": {
        "id": "8n6ZLt9ZPd09"
      }
    },
    {
      "cell_type": "code",
      "source": [
        "class ConverterCompetition:\n",
        "  def __init__(self, converters):\n",
        "    self.converters = converters\n",
        "\n",
        "  # 指定されたデータソースをもとに、指定されたコンバータでかな変換を行う。\n",
        "  # 名詞と、かな変換の結果をタプル型で返却する。\n",
        "  def _convert_all_on(self, data_source, converter_id, reset_cache=False):\n",
        "    vocabs = data_source.vocabs\n",
        "    converter = self.converters[converter_id] # 指定されたコンバータを取得\n",
        "    db_keys = [converter.get_indexkey(vocab) for vocab in vocabs] # 名詞をデータベースに対応するIDに変換\n",
        "\n",
        "    caches = []\n",
        "    if reset_cache:\n",
        "      caches = [None for db_key in db_keys] # キャッシュ削除\n",
        "    else:\n",
        "      caches = [lebels_db.get(db_key) for db_key in db_keys] # データベースに問い合わせる。キャッシュがなかったらNoneが設定される\n",
        "\n",
        "    entred_vocab = [vocab for idv, vocab in enumerate(vocabs) if caches[idv] is None] # キャッシュが存在せず、新しくAPIから取得する名詞一覧\n",
        "    new_yomi_labels = [] # 変換された読みを保存するためのリスト\n",
        "\n",
        "    if (len(entred_vocab) > 0): # 新しくAPIからかな変換を取得する必要があるか確かめる\n",
        "      new_yomi_labels = converter.convert(entred_vocab)\n",
        "\n",
        "    for vocab, label in zip(entred_vocab, new_yomi_labels):\n",
        "      lebels_db.put(converter.get_indexkey(vocab), label.encode(\"utf-8\")) # APIから取得したよみをデータベースに保存（キャッシュとなり、以降これが使われる）\n",
        "\n",
        "    yomi_labels = []\n",
        "    iter_new_yomi_labels = iter(new_yomi_labels)\n",
        "    for idc, cache in enumerate(caches):\n",
        "      if cache:\n",
        "        yomi_labels.append(cache.decode(\"utf-8\")) # キャッシュ（db）にある場合はキャッシュから取得\n",
        "      else:\n",
        "        yomi_labels.append(next(iter_new_yomi_labels)) # ない場合は、先ほど変換した結果から取得\n",
        "    \n",
        "    return vocabs, yomi_labels\n",
        "\n",
        "  # 指定されたデータソースをもとに、指定されたコンバータ間で結果を比較する\n",
        "  # 不一致の単語とその結果をタプル型で返却する\n",
        "  def compete_to(self, data_source, subject_converter_id, target_converter_id, reset_cache=False):\n",
        "    vocabs, yomi_labels_0 = self._convert_all_on(data_source, subject_converter_id, reset_cache)\n",
        "    _, yomi_labels_1 = self._convert_all_on(data_source, target_converter_id, reset_cache)\n",
        "\n",
        "    errors = []\n",
        "    for idn, noun in enumerate(vocabs):\n",
        "      yomi_label_0 = yomi_labels_0[idn]\n",
        "      yomi_label_1 = yomi_labels_1[idn]\n",
        "      if yomi_label_0 != yomi_label_1: # 読みラベルを比較して、一致しなかった場合errorsに追加\n",
        "         errors.append([noun, yomi_label_0, yomi_label_1])\n",
        "\n",
        "    return errors\n",
        "\n",
        "  # 指定されたデータソースをもとに、Mecabと指定されたコンバータとの結果を比較する\n",
        "  # 不一致の単語とその結果をタプル型で返却する\n",
        "  def compete_to_mecab(self, data_source, converter_id=0, reset_cache=False):\n",
        "    vocabs, yomi_labels = self._convert_all_on(data_source, converter_id, reset_cache)\n",
        "\n",
        "    errors = []\n",
        "    for idn, noun in enumerate(vocabs):\n",
        "      yomi_label = yomi_labels[idn]\n",
        "      mecab_label = data_source.labels[idn]\n",
        "      if yomi_label != mecab_label: # 読みラベルを比較して、一致しなかった場合errorsに追加\n",
        "         errors.append([noun, yomi_label+\":{}\".format(self.converters[converter_id].converter_name), mecab_label + \":mecab\"]) # 単語, 比較対象の出力, mecabの出力\n",
        "\n",
        "    return errors\n",
        "\n",
        "  # 指定されたデータソースををもとに、すべてのコンバータの結果を表示する、\n",
        "  # ただし、対象はMeCabとCoeFontの比較で不一致の名詞のみ\n",
        "  # 不一致の単語に対する各コンバーター結果を辞書型で返却する。\n",
        "  def compete_to_all(self, data_source, reset_cache=False):\n",
        "    # MeCabのエラー抽出\n",
        "    errors_0 = self.compete_to_mecab(data_source, 0, reset_cache) # mecabとconverter 0を比較する\n",
        "    errors = {error_0[0]:[error_0[1], error_0[2]] for error_0 in errors_0} #エラーを格納するdict \n",
        "    errors_0_nouns = errors.keys()\n",
        "\n",
        "    # MeCabと一致しなかった単語を外部APIにかける、\n",
        "    for idc in range(1, len(self.converters)):\n",
        "      array_dataset = ArrayDataSource(errors_0_nouns, []) # 対象の単語をデータソース化\n",
        "      vocabs, yomi_labels = self._convert_all_on(array_dataset, idc, reset_cache) #APIの結果を取得\n",
        "      for checked_vocab, checked_label in zip(vocabs, yomi_labels):\n",
        "        errors[checked_vocab].append(checked_label)\n",
        "    return errors\n"
      ],
      "metadata": {
        "id": "FHm61F4SQOyl"
      },
      "execution_count": 123,
      "outputs": []
    },
    {
      "cell_type": "markdown",
      "source": [
        "# 誤字の検出と、複数APIを用いた結果の分布を取得する"
      ],
      "metadata": {
        "id": "MbPtolIyDVIn"
      }
    },
    {
      "cell_type": "markdown",
      "source": [
        "### データソースのロード"
      ],
      "metadata": {
        "id": "jhcqurD9FxZ1"
      }
    },
    {
      "cell_type": "code",
      "source": [
        "test_04_datasource = TempDataSource()\n",
        "test_04_datasource.load() # 単語の分割とMeCabのラベルを取得する\n",
        "\n",
        "# データソースの一致を確認\n",
        "test_04_result = TempCoeFontConverter().convert([])\n",
        "print(len((test_04_datasource.vocabs)), len(test_04_result))\n",
        "print(test_04_result[0], test_04_datasource.vocabs[0])"
      ],
      "metadata": {
        "colab": {
          "base_uri": "https://localhost:8080/"
        },
        "id": "s7gLm0MCAVik",
        "outputId": "e9143967-a72f-4eaf-88c6-069957acc9e3"
      },
      "execution_count": 34,
      "outputs": [
        {
          "output_type": "stream",
          "name": "stdout",
          "text": [
            "1705 2922\n",
            "ダイガク 大学\n"
          ]
        }
      ]
    },
    {
      "cell_type": "markdown",
      "source": [
        "### コンバーターの初期化と比較\n",
        "*   MeCabとCoeFontの出力を比較する\n",
        "*   比較が一致しなかった場合、他のコンバータで検証する。\n",
        "*   すべてのコンバータの出力をdict型（keyに名詞、valueに各コンバーターの結果の配列）にまとめる\n",
        "\n"
      ],
      "metadata": {
        "id": "AI8rDV0dF37t"
      }
    },
    {
      "cell_type": "code",
      "source": [
        "test_04_converters = [TempCoeFontConverter(), GooConverter(app_id=secrets[\"goo_api_id\"]), YahooConverter(app_id=secrets[\"yahoo_app_id\"])]\n",
        "test_04_competition = ConverterCompetition(converters=test_04_converters)\n",
        "\n",
        "print(test_04_competition.compete_to_all(test_04_datasource, reset_cache=False))\n",
        "\n",
        "# print(test_04_competition.compete_to_mecab(test_04_datasource, converter_id=0, reset_cache=False)[0]) # noteの記事をデータソースにCoeFontを検証する。\n",
        "# print(test_04_competition.compete_to(test_04_datasource, subject_converter_id=1, target_converter_id=0, reset_cache=False)[0]) # noteの記事をConefont converterとgoo converterで比較する。\n",
        "# print(test_04_competition.compete_to(test_04_datasource, subject_converter_id=2, target_converter_id=0, reset_cache=False)[0]) # noteの記事をConefont converterとyahoo converterで比較する。"
      ],
      "metadata": {
        "colab": {
          "base_uri": "https://localhost:8080/"
        },
        "id": "2m4N-jM6QbBJ",
        "outputId": "51ca8e91-269b-4940-885d-94ce1b6dd25e"
      },
      "execution_count": null,
      "outputs": [
        {
          "output_type": "stream",
          "name": "stdout",
          "text": [
            "{'大学': ['ダイガク', 'ダイガク', 'ダイガク'], '月': ['ガツ', 'ツキ', 'ツキ']}\n"
          ]
        }
      ]
    },
    {
      "cell_type": "markdown",
      "source": [
        "# 単語（データセット単位）のストリーミングとバッチ処理\n",
        "* データソースを主導で作成するのではなく、永続的に新しいデータソースから単語を取得できるエコシステムを構築する\n",
        "\n",
        "* WebhookやWebsoket, Server-sent Eventなどを用いてデータソースを自動で収集する\n",
        "(Wikipediaのstreaming機能など)\n",
        "\n",
        "## 要件\n",
        "*   永続的にプログラムがデータソースを自動で生成する\n",
        "*   単語のバリエーションの広がりを担保する\n",
        "\n",
        "\n",
        "\n",
        "\n",
        "\n",
        "\n"
      ],
      "metadata": {
        "id": "1yAaRptcOxlD"
      }
    },
    {
      "cell_type": "code",
      "source": [
        "class CompetionBatch:\n",
        "  def __init__(self, competiton, streaming_iters, batch_character_size=200):\n",
        "    self.competiton = competiton\n",
        "    self.streaming_iters = streaming_iters\n",
        "    self.batch_character_size = batch_character_size\n",
        "\n",
        "  def start(self, reset_cache=False, show_entry_rates=False):\n",
        "    entries = []\n",
        "    character_size = 0\n",
        "\n",
        "    # どれくらい単語が増えているか表示するため\n",
        "    diff = 0\n",
        "    entry_rates = []\n",
        "    last_clock_time = datetime.datetime.now().timestamp()\n",
        "\n",
        "    # 取得したデータソースをもとに比較処理\n",
        "    for datasource in self.streaming_iters:\n",
        "       # まだspreadsheetに登録されていない単語だけを抽出\n",
        "       entry_keys = [entry[0] for entry in entries]\n",
        "       filted_vocabs = [ (vocab, label) for vocab, label in zip(datasource.vocabs, datasource.labels) if checked_db.get(vocab.encode(\"utf-8\")) == None and vocab not in entry_keys]\n",
        "\n",
        "       #バッチ処理のエントリーに追加+文字数を加算\n",
        "       entries += filted_vocabs\n",
        "       vocab_sizes = list(map(lambda vocab: len(vocab[0]), filted_vocabs))\n",
        "       character_size += sum(vocab_sizes)\n",
        "\n",
        "       # どれくらい新しいエントリーが増えているか記録する\n",
        "       if show_entry_rates:\n",
        "         now = datetime.datetime.now().timestamp()\n",
        "         diff += len(filted_vocabs)\n",
        "\n",
        "         if now - last_clock_time >= 10: # 一分間観測する\n",
        "           entry_rates.append(diff) # 差分を追加\n",
        "           #初期化\n",
        "           last_clock_time = now\n",
        "           diff = 0\n",
        "\n",
        "       # 新しく比較対象にエントリーされた総文字数がbatch_character_size以上になった場合、比較処理を行う\n",
        "       if self.batch_character_size <= character_size:\n",
        "         print(\"start new batch!\")\n",
        "         entry_vocabs = list(map(lambda vocab: vocab[0], entries))\n",
        "         entry_labels = list(map(lambda vocab: vocab[1], entries))\n",
        "         dataset = ArrayDataSource(entry_vocabs, entry_labels) # バッチ処理に必要なデータセットを作成\n",
        "         errors = self.competiton.compete_to_all(dataset, reset_cache) # coefont apiとmecab and 他社apiを比較する\n",
        "         self.save_to_spreadsheet(errors) # google spreadsheetに結果を書き込み\n",
        "\n",
        "         # 初期化\n",
        "         entries = []\n",
        "         character_size = 0\n",
        "    \n",
        "    # 変化量を表示\n",
        "    if show_entry_rates:\n",
        "      print(\"total count:\", sum(entry_rates))\n",
        "      x = np.arange(1, len(entry_rates)+1)\n",
        "      y = np.array(entry_rates)\n",
        "      plt.xlabel('times')\n",
        "      plt.ylabel('size of new entry')\n",
        "      plt.plot(x, y)\n",
        "\n",
        "  def save_to_spreadsheet(self, errors):\n",
        "    print(\"detect errors:\", errors)\n",
        "\n",
        "    # checked_dbに単語を追加\n",
        "    set_on = \"1\".encode(\"utf-8\")\n",
        "    for err_vocab in errors.keys():\n",
        "      checked_db.put(err_vocab.encode(\"utf-8\"), set_on)"
      ],
      "metadata": {
        "id": "jPBp0vU8QRaM"
      },
      "execution_count": 129,
      "outputs": []
    },
    {
      "cell_type": "markdown",
      "source": [
        "# データセットの自動取得（wikipedia rechange logs）\n",
        "* データソースを主導で作成するのではなく、永続的に新しいデータソースから単語を取得できるエコシステムを構築する\n",
        "\n",
        "## 要件\n",
        "*   永続的にプログラムがデータソースを自動で生成できる\n",
        "*   単語数に基づき、バッチ処理的に単語の比較とspreadsheetへのアノテーションが行われる。\n",
        "*   単語のバリエーションの広がりを担保する\n",
        "\n",
        "\n",
        "\n",
        "\n",
        "\n",
        "\n"
      ],
      "metadata": {
        "id": "DPhw0_3emQvH"
      }
    },
    {
      "cell_type": "code",
      "source": [
        "test_09_converters = [\n",
        "    # GooConverter(app_id=secrets[\"goo_api_id\"]),\n",
        "    YahooConverter(app_id=secrets[\"yahoo_app_id\"])]\n",
        "\n",
        "test_09_competition = ConverterCompetition(converters=test_09_converters)\n",
        "test_09_url = 'https://stream.wikimedia.org/v2/stream/recentchange'\n",
        "\n",
        "# wikipediaの更新ログをデータセットに変換するイテレータ\n",
        "def getDataSourceFromWikipedia(limit=None):\n",
        "  count = 0\n",
        "  for event in EventSource(test_09_url, last_id=None):\n",
        "    if event.event == 'message':\n",
        "        try:\n",
        "            change = json.loads(event.data)\n",
        "        except ValueError:\n",
        "            pass\n",
        "        else:\n",
        "            if change[\"server_name\"] == 'ja.wikipedia.org':\n",
        "                datasource = WikipediaDataSource(title=change[\"title\"])\n",
        "                datasource.load()\n",
        "                count +=1\n",
        "                yield datasource\n",
        "                if limit != None and count >= limit:\n",
        "                   break\n",
        "\n",
        "# datasetの上限100, バッチ処理100characterに設定し、ストリーミングを行う\n",
        "test_09_batch = CompetionBatch(test_09_competition, streaming_iters=getDataSourceFromWikipedia(limit=100), batch_character_size=100)\n",
        "test_09_batch.start(show_entry_rates=True) #ストリーミング処理を開始"
      ],
      "metadata": {
        "colab": {
          "base_uri": "https://localhost:8080/",
          "height": 1000
        },
        "id": "rx1kN4rSYBuy",
        "outputId": "e577995d-c79e-48cd-ad83-f10530b49256"
      },
      "execution_count": 130,
      "outputs": [
        {
          "output_type": "stream",
          "name": "stdout",
          "text": [
            "start new batch!\n",
            "** Yahoo API: {\"id\":\"abc\",\"jsonrpc\":\"2.0\",\"result\":{\"word\":[{\"furigana\":\"くぼた\",\"roman\":\"kubota\",\"surface\":\"窪田\"},{\"surface\":\"。\"},{\"furigana\":\"まさたか\",\"roman\":\"masataka\",\"surface\":\"正孝\"},{\"surface\":\"。\"},{\"furigana\":\"みずかわ\",\"roman\":\"mizukawa\",\"surface\":\"水川\"},{\"surface\":\"。\"},{\"furigana\":\"かんな\",\"roman\":\"kanna\",\"surface\":\"神奈\"},{\"surface\":\"。\"},{\"furigana\":\"のぶとし\",\"roman\":\"nobutosi\",\"surface\":\"延年\"},{\"surface\":\"。\"},{\"furigana\":\"しながわ\",\"roman\":\"sinagawa\",\"surface\":\"品川\"},{\"surface\":\"。\"},{\"furigana\":\"ゆうき\",\"roman\":\"yuuki\",\"surface\":\"有機\"},{\"surface\":\"。\"},{\"furigana\":\"ほう\",\"roman\":\"hou\",\"surface\":\"法\"},{\"surface\":\"。\"},{\"furigana\":\"いんよう\",\"roman\":\"inyou\",\"surface\":\"引用\"},{\"surface\":\"。\"},{\"furigana\":\"りょうど\",\"roman\":\"ryoudo\",\"surface\":\"領土\"},{\"surface\":\"。\"},{\"furigana\":\"りっぽう\",\"roman\":\"rippou\",\"surface\":\"立法\"},{\"surface\":\"。\"},{\"furigana\":\"しほう\",\"roman\":\"sihou\",\"surface\":\"司法\"},{\"surface\":\"。\"},{\"furigana\":\"かいぐん\",\"roman\":\"kaigun\",\"surface\":\"海軍\"},{\"surface\":\"。\"},{\"furigana\":\"ないむ\",\"roman\":\"naimu\",\"surface\":\"内務\"},{\"surface\":\"。\"},{\"furigana\":\"しょくみん\",\"roman\":\"syokumin\",\"surface\":\"植民\"},{\"surface\":\"。\"},{\"furigana\":\"しはい\",\"roman\":\"sihai\",\"surface\":\"支配\"},{\"surface\":\"。\"},{\"furigana\":\"げんてい\",\"roman\":\"gentei\",\"surface\":\"限定\"},{\"surface\":\"。\"},{\"furigana\":\"みだし\",\"roman\":\"midasi\",\"subword\":[{\"furigana\":\"みだ\",\"roman\":\"mida\",\"surface\":\"見出\"},{\"furigana\":\"し\",\"roman\":\"si\",\"surface\":\"し\"}],\"surface\":\"見出し\"},{\"surface\":\"。\"},{\"furigana\":\"かいめい\",\"roman\":\"kaimei\",\"surface\":\"改名\"},{\"surface\":\"。\"}]}}\n",
            "detect errors: {'延年': ['ノブトシ:yahoo', 'エンネン:mecab']}\n",
            "start new batch!\n",
            "** Yahoo API: {\"id\":\"abc\",\"jsonrpc\":\"2.0\",\"result\":{\"word\":[{\"furigana\":\"しつもん\",\"roman\":\"situmon\",\"surface\":\"質問\"},{\"surface\":\"。\"},{\"furigana\":\"ぎもん\",\"roman\":\"gimon\",\"surface\":\"疑問\"},{\"surface\":\"。\"},{\"furigana\":\"そうだん\",\"roman\":\"soudan\",\"surface\":\"相談\"},{\"surface\":\"。\"},{\"furigana\":\"じこう\",\"roman\":\"zikou\",\"surface\":\"事項\"},{\"surface\":\"。\"},{\"furigana\":\"えんりょ\",\"roman\":\"enryo\",\"surface\":\"遠慮\"},{\"surface\":\"。\"}]}}\n",
            "detect errors: {}\n",
            "start new batch!\n",
            "** Yahoo API: {\"id\":\"abc\",\"jsonrpc\":\"2.0\",\"result\":{\"word\":[{\"furigana\":\"くまきり\",\"roman\":\"kumakiri\",\"surface\":\"熊切\"},{\"surface\":\"。\"},{\"furigana\":\"あさみ\",\"roman\":\"asami\",\"subword\":[{\"furigana\":\"あさ\",\"roman\":\"asa\",\"surface\":\"あさ\"},{\"furigana\":\"み\",\"roman\":\"mi\",\"surface\":\"美\"}],\"surface\":\"あさ美\"},{\"surface\":\"。\"},{\"furigana\":\"じゃんし\",\"roman\":\"zyansi\",\"surface\":\"雀士\"},{\"surface\":\"。\"},{\"furigana\":\"しゅっしょう\",\"roman\":\"syussyou\",\"surface\":\"出生\"},{\"surface\":\"。\"},{\"furigana\":\"すぎなみ\",\"roman\":\"suginami\",\"surface\":\"杉並\"},{\"surface\":\"。\"},{\"furigana\":\"はままつ\",\"roman\":\"hamamatu\",\"surface\":\"浜松\"},{\"surface\":\"。\"},{\"furigana\":\"なごや\",\"roman\":\"nagoya\",\"surface\":\"名古屋\"},{\"surface\":\"。\"},{\"furigana\":\"ふなばし\",\"roman\":\"hunabasi\",\"surface\":\"船橋\"},{\"surface\":\"。\"},{\"furigana\":\"きょじゅう\",\"roman\":\"kyozyuu\",\"surface\":\"居住\"},{\"surface\":\"。\"},{\"furigana\":\"あさだ\",\"roman\":\"asada\",\"surface\":\"浅田\"},{\"surface\":\"。\"},{\"furigana\":\"まさこ\",\"roman\":\"masako\",\"surface\":\"真子\"},{\"surface\":\"。\"},{\"furigana\":\"ろんぶん\",\"roman\":\"ronbun\",\"surface\":\"論文\"},{\"surface\":\"。\"}]}}\n",
            "detect errors: {'泰': ['タイ:yahoo', 'ヤスシ:mecab'], '勝': ['カチ:yahoo', 'マサル:mecab'], '龍谷': ['リュウヤ:yahoo', 'リュウコク:mecab']}\n",
            "start new batch!\n",
            "** Yahoo API: {\"id\":\"abc\",\"jsonrpc\":\"2.0\",\"result\":{\"word\":[{\"furigana\":\"しみず\",\"roman\":\"simizu\",\"surface\":\"志水\"},{\"surface\":\"。\"},{\"furigana\":\"もくざい\",\"roman\":\"mokuzai\",\"surface\":\"木材\"},{\"surface\":\"。\"},{\"furigana\":\"ひのき\",\"roman\":\"hinoki\",\"surface\":\"檜\"},{\"surface\":\"。\"},{\"furigana\":\"ふろ\",\"roman\":\"huro\",\"surface\":\"風呂\"},{\"surface\":\"。\"},{\"furigana\":\"すしおけ\",\"roman\":\"susioke\",\"surface\":\"寿司桶\"},{\"surface\":\"。\"},{\"furigana\":\"めしびつ\",\"roman\":\"mesibitu\",\"surface\":\"飯櫃\"},{\"surface\":\"。\"},{\"furigana\":\"こうずき\",\"roman\":\"kouzuki\",\"surface\":\"木器\"},{\"surface\":\"。\"},{\"furigana\":\"せいさん\",\"roman\":\"seisan\",\"surface\":\"生産\"},{\"surface\":\"。\"},{\"furigana\":\"てだすけ\",\"roman\":\"tedasuke\",\"subword\":[{\"furigana\":\"てだす\",\"roman\":\"tedasu\",\"surface\":\"手助\"},{\"furigana\":\"け\",\"roman\":\"ke\",\"surface\":\"け\"}],\"surface\":\"手助け\"},{\"surface\":\"。\"},{\"furigana\":\"うえ\",\"roman\":\"ue\",\"surface\":\"上\"},{\"surface\":\"。\"},{\"furigana\":\"かき\",\"roman\":\"kaki\",\"surface\":\"下記\"},{\"surface\":\"。\"},{\"furigana\":\"がいとう\",\"roman\":\"gaitou\",\"surface\":\"該当\"},{\"surface\":\"。\"},{\"furigana\":\"くぎり\",\"roman\":\"kugiri\",\"subword\":[{\"furigana\":\"くぎ\",\"roman\":\"kugi\",\"surface\":\"区切\"},{\"furigana\":\"り\",\"roman\":\"ri\",\"surface\":\"り\"}],\"surface\":\"区切り\"},{\"surface\":\"。\"},{\"furigana\":\"まつび\",\"roman\":\"matubi\",\"surface\":\"末尾\"},{\"surface\":\"。\"},{\"furigana\":\"とうこう\",\"roman\":\"toukou\",\"surface\":\"投稿\"},{\"surface\":\"。\"},{\"furigana\":\"あん\",\"roman\":\"an\",\"surface\":\"案\"},{\"surface\":\"。\"},{\"furigana\":\"ぼしゅう\",\"roman\":\"bosyuu\",\"surface\":\"募集\"},{\"surface\":\"。\"},{\"furigana\":\"じょうけん\",\"roman\":\"zyouken\",\"surface\":\"条件\"},{\"surface\":\"。\"},{\"furigana\":\"みとおし\",\"roman\":\"mitoosi\",\"subword\":[{\"furigana\":\"みとお\",\"roman\":\"mitoo\",\"surface\":\"見通\"},{\"furigana\":\"し\",\"roman\":\"si\",\"surface\":\"し\"}],\"surface\":\"見通し\"},{\"surface\":\"。\"},{\"furigana\":\"めいき\",\"roman\":\"meiki\",\"surface\":\"明記\"},{\"surface\":\"。\"},{\"furigana\":\"そくじ\",\"roman\":\"sokuzi\",\"surface\":\"即時\"},{\"surface\":\"。\"},{\"furigana\":\"しんにん\",\"roman\":\"sinnin\",\"surface\":\"信任\"},{\"surface\":\"。\"},{\"furigana\":\"ついにん\",\"roman\":\"tuinin\",\"surface\":\"追認\"},{\"surface\":\"。\"},{\"furigana\":\"てきとう\",\"roman\":\"tekitou\",\"surface\":\"適当\"},{\"surface\":\"。\"},{\"furigana\":\"いってい\",\"roman\":\"ittei\",\"surface\":\"一定\"},{\"surface\":\"。\"},{\"furigana\":\"はじめ\",\"roman\":\"hazime\",\"subword\":[{\"furigana\":\"はじ\",\"roman\":\"hazi\",\"surface\":\"初\"},{\"furigana\":\"め\",\"roman\":\"me\",\"surface\":\"め\"}],\"surface\":\"初め\"},{\"surface\":\"。\"},{\"furigana\":\"いけん\",\"roman\":\"iken\",\"surface\":\"意見\"},{\"surface\":\"。\"},{\"furigana\":\"かっせい\",\"roman\":\"kassei\",\"surface\":\"活性\"},{\"surface\":\"。\"}]}}\n",
            "detect errors: {'飯櫃': ['メシビツ:yahoo', 'イイビツ:mecab'], '木器': ['コウズキ:yahoo', 'モッキ:mecab'], '日間': ['ヒマ:yahoo', 'カカン:mecab']}\n",
            "start new batch!\n",
            "** Yahoo API: {\"id\":\"abc\",\"jsonrpc\":\"2.0\",\"result\":{\"word\":[{\"furigana\":\"こめつぶ\",\"roman\":\"kometubu\",\"surface\":\"米粒\"},{\"surface\":\"。\"},{\"furigana\":\"しゃきょう\",\"roman\":\"syakyou\",\"surface\":\"写経\"},{\"surface\":\"。\"},{\"furigana\":\"でばやし\",\"roman\":\"debayasi\",\"surface\":\"出囃子\"},{\"surface\":\"。\"},{\"furigana\":\"くまた\",\"roman\":\"kumata\",\"surface\":\"熊田\"},{\"surface\":\"。\"},{\"furigana\":\"ようこ\",\"roman\":\"youko\",\"surface\":\"曜子\"},{\"surface\":\"。\"},{\"furigana\":\"わせい\",\"roman\":\"wasei\",\"surface\":\"和製\"},{\"surface\":\"。\"},{\"furigana\":\"めんきょ\",\"roman\":\"menkyo\",\"surface\":\"免許\"},{\"surface\":\"。\"},{\"furigana\":\"ふだん\",\"roman\":\"hudan\",\"surface\":\"普段\"},{\"surface\":\"。\"},{\"furigana\":\"きかい\",\"roman\":\"kikai\",\"surface\":\"機会\"},{\"surface\":\"。\"},{\"furigana\":\"しょるい\",\"roman\":\"syorui\",\"surface\":\"書類\"},{\"surface\":\"。\"},{\"furigana\":\"じったい\",\"roman\":\"zittai\",\"surface\":\"実態\"},{\"surface\":\"。\"},{\"furigana\":\"つうよう\",\"roman\":\"tuuyou\",\"surface\":\"通用\"},{\"surface\":\"。\"},{\"furigana\":\"がいねん\",\"roman\":\"gainen\",\"surface\":\"概念\"},{\"surface\":\"。\"},{\"furigana\":\"きゅうじつ\",\"roman\":\"kyuuzitu\",\"surface\":\"休日\"},{\"surface\":\"。\"},{\"furigana\":\"ぎのう\",\"roman\":\"ginou\",\"surface\":\"技能\"},{\"surface\":\"。\"},{\"furigana\":\"かわぐち\",\"roman\":\"kawaguti\",\"surface\":\"川口\"},{\"surface\":\"。\"},{\"furigana\":\"はるな\",\"roman\":\"haruna\",\"surface\":\"春奈\"},{\"surface\":\"。\"},{\"furigana\":\"ごとう\",\"roman\":\"gotou\",\"surface\":\"五島\"},{\"surface\":\"。\"},{\"furigana\":\"ふくえ\",\"roman\":\"hukue\",\"surface\":\"福江\"},{\"surface\":\"。\"},{\"furigana\":\"きよこ\",\"roman\":\"kiyoko\",\"surface\":\"聖子\"},{\"surface\":\"。\"},{\"furigana\":\"くるめ\",\"roman\":\"kurume\",\"surface\":\"久留米\"},{\"surface\":\"。\"},{\"furigana\":\"こうはん\",\"roman\":\"kouhan\",\"surface\":\"後半\"},{\"surface\":\"。\"},{\"furigana\":\"いんたい\",\"roman\":\"intai\",\"surface\":\"引退\"},{\"surface\":\"。\"},{\"furigana\":\"かわきた\",\"roman\":\"kawakita\",\"surface\":\"川北\"},{\"surface\":\"。\"},{\"furigana\":\"おおはし\",\"roman\":\"oohasi\",\"surface\":\"大橋\"},{\"surface\":\"。\"},{\"furigana\":\"いしかわ\",\"roman\":\"isikawa\",\"surface\":\"石川\"},{\"surface\":\"。\"},{\"furigana\":\"しろやま\",\"roman\":\"siroyama\",\"surface\":\"白山\"},{\"surface\":\"。\"},{\"furigana\":\"きづ\",\"roman\":\"kizu\",\"surface\":\"木津\"},{\"surface\":\"。\"},{\"furigana\":\"どうけん\",\"roman\":\"douken\",\"surface\":\"同県\"},{\"surface\":\"。\"},{\"furigana\":\"のみ\",\"roman\":\"nomi\",\"surface\":\"能美\"},{\"surface\":\"。\"},{\"furigana\":\"くち\",\"roman\":\"kuti\",\"surface\":\"口\"},{\"surface\":\"。\"},{\"furigana\":\"どうろ\",\"roman\":\"douro\",\"surface\":\"道路\"},{\"surface\":\"。\"},{\"furigana\":\"こうしゃ\",\"roman\":\"kousya\",\"surface\":\"公社\"},{\"surface\":\"。\"},{\"furigana\":\"ゆうりょう\",\"roman\":\"yuuryou\",\"surface\":\"有料\"},{\"surface\":\"。\"},{\"furigana\":\"かが\",\"roman\":\"kaga\",\"surface\":\"加賀\"},{\"surface\":\"。\"}]}}\n",
            "detect errors: {'熊田': ['クマタ:yahoo', 'クマダ:mecab'], '聖子': ['キヨコ:yahoo', 'セイコ:mecab'], '白山': ['シロヤマ:yahoo', 'ハクサン:mecab']}\n",
            "start new batch!\n",
            "** Yahoo API: {\"id\":\"abc\",\"jsonrpc\":\"2.0\",\"result\":{\"word\":[{\"furigana\":\"いちいん\",\"roman\":\"itiin\",\"surface\":\"一員\"},{\"surface\":\"。\"},{\"furigana\":\"くまもと\",\"roman\":\"kumamoto\",\"surface\":\"熊本\"},{\"surface\":\"。\"},{\"furigana\":\"じしん\",\"roman\":\"zisin\",\"surface\":\"地震\"},{\"surface\":\"。\"},{\"furigana\":\"おおいた\",\"roman\":\"ooita\",\"surface\":\"大分\"},{\"surface\":\"。\"},{\"furigana\":\"きしょう\",\"roman\":\"kisyou\",\"surface\":\"気象\"},{\"surface\":\"。\"},{\"furigana\":\"しんど\",\"roman\":\"sindo\",\"surface\":\"震度\"},{\"surface\":\"。\"},{\"furigana\":\"かいきゅう\",\"roman\":\"kaikyuu\",\"surface\":\"階級\"},{\"surface\":\"。\"},{\"furigana\":\"かんそく\",\"roman\":\"kansoku\",\"surface\":\"観測\"},{\"surface\":\"。\"},{\"furigana\":\"ぜんき\",\"roman\":\"zenki\",\"surface\":\"前記\"},{\"surface\":\"。\"},{\"furigana\":\"じこく\",\"roman\":\"zikoku\",\"surface\":\"時刻\"},{\"surface\":\"。\"},{\"furigana\":\"みめい\",\"roman\":\"mimei\",\"surface\":\"未明\"},{\"surface\":\"。\"},{\"furigana\":\"いちれん\",\"roman\":\"itiren\",\"surface\":\"一連\"},{\"surface\":\"。\"},{\"furigana\":\"ましき\",\"roman\":\"masiki\",\"surface\":\"益城\"},{\"surface\":\"。\"},{\"furigana\":\"ゆれ\",\"roman\":\"yure\",\"subword\":[{\"furigana\":\"ゆ\",\"roman\":\"yu\",\"surface\":\"揺\"},{\"furigana\":\"れ\",\"roman\":\"re\",\"surface\":\"れ\"}],\"surface\":\"揺れ\"},{\"surface\":\"。\"},{\"furigana\":\"けいそく\",\"roman\":\"keisoku\",\"surface\":\"計測\"},{\"surface\":\"。\"},{\"furigana\":\"とうほく\",\"roman\":\"touhoku\",\"surface\":\"東北\"},{\"surface\":\"。\"},{\"furigana\":\"たいへい\",\"roman\":\"taihei\",\"surface\":\"太平\"},{\"surface\":\"。\"},{\"furigana\":\"おき\",\"roman\":\"oki\",\"surface\":\"沖\"},{\"surface\":\"。\"},{\"furigana\":\"みやぎ\",\"roman\":\"miyagi\",\"surface\":\"宮城\"},{\"surface\":\"。\"},{\"furigana\":\"くりはら\",\"roman\":\"kurihara\",\"surface\":\"栗原\"},{\"surface\":\"。\"},{\"furigana\":\"ないりく\",\"roman\":\"nairiku\",\"surface\":\"内陸\"},{\"surface\":\"。\"},{\"furigana\":\"さいた\",\"roman\":\"saita\",\"surface\":\"最多\"},{\"surface\":\"。\"}]}}\n",
            "detect errors: {}\n",
            "start new batch!\n",
            "** Yahoo API: {\"id\":\"abc\",\"jsonrpc\":\"2.0\",\"result\":{\"word\":[{\"furigana\":\"しゅしょう\",\"roman\":\"syusyou\",\"surface\":\"首相\"},{\"surface\":\"。\"},{\"furigana\":\"とうしゅ\",\"roman\":\"tousyu\",\"surface\":\"党首\"},{\"surface\":\"。\"},{\"furigana\":\"くさつ\",\"roman\":\"kusatu\",\"surface\":\"草津\"},{\"surface\":\"。\"},{\"furigana\":\"ぐんま\",\"roman\":\"gunma\",\"surface\":\"群馬\"},{\"surface\":\"。\"},{\"furigana\":\"ほくせい\",\"roman\":\"hokusei\",\"surface\":\"北西\"},{\"surface\":\"。\"},{\"furigana\":\"あずま\",\"roman\":\"azuma\",\"surface\":\"吾妻\"},{\"surface\":\"。\"},{\"furigana\":\"じもと\",\"roman\":\"zimoto\",\"surface\":\"地元\"},{\"surface\":\"。\"},{\"furigana\":\"あさひ\",\"roman\":\"asahi\",\"surface\":\"朝日\"},{\"surface\":\"。\"},{\"furigana\":\"にちよう\",\"roman\":\"nitiyou\",\"surface\":\"日曜\"},{\"surface\":\"。\"},{\"furigana\":\"とくさつ\",\"roman\":\"tokusatu\",\"surface\":\"特撮\"},{\"surface\":\"。\"}]}}\n",
            "detect errors: {}\n",
            "\n",
            "start new batch!\n",
            "** Yahoo API: {\"id\":\"abc\",\"jsonrpc\":\"2.0\",\"result\":{\"word\":[{\"furigana\":\"くろかみ\",\"roman\":\"kurokami\",\"surface\":\"黒髪\"},{\"surface\":\"。\"},{\"furigana\":\"かしきり\",\"roman\":\"kasikiri\",\"surface\":\"貸切\"},{\"surface\":\"。\"},{\"furigana\":\"あつし\",\"roman\":\"atusi\",\"surface\":\"合志\"},{\"surface\":\"。\"},{\"furigana\":\"ふじさき\",\"roman\":\"huzisaki\",\"surface\":\"藤崎\"},{\"surface\":\"。\"},{\"furigana\":\"みやまえ\",\"roman\":\"miyamae\",\"surface\":\"宮前\"},{\"surface\":\"。\"},{\"furigana\":\"みよ\",\"roman\":\"miyo\",\"surface\":\"御代\"},{\"surface\":\"。\"},{\"furigana\":\"きくち\",\"roman\":\"kikuti\",\"surface\":\"菊池\"},{\"surface\":\"。\"},{\"furigana\":\"やまが\",\"roman\":\"yamaga\",\"surface\":\"山鹿\"},{\"surface\":\"。\"},{\"furigana\":\"でんてつ\",\"roman\":\"dentetu\",\"surface\":\"電鉄\"},{\"surface\":\"。\"},{\"furigana\":\"きく\",\"roman\":\"kiku\",\"surface\":\"菊\"},{\"surface\":\"。\"},{\"furigana\":\"にしてつ\",\"roman\":\"nisitetu\",\"surface\":\"西鉄\"},{\"surface\":\"。\"},{\"furigana\":\"ひっとう\",\"roman\":\"hittou\",\"surface\":\"筆頭\"},{\"surface\":\"。\"},{\"furigana\":\"かぶぬし\",\"roman\":\"kabunusi\",\"surface\":\"株主\"},{\"surface\":\"。\"},{\"furigana\":\"げん\",\"roman\":\"gen\",\"surface\":\"減\"},{\"surface\":\"。\"},{\"furigana\":\"ぞうし\",\"roman\":\"zousi\",\"surface\":\"増資\"},{\"surface\":\"。\"},{\"furigana\":\"かいしょう\",\"roman\":\"kaisyou\",\"surface\":\"解消\"},{\"surface\":\"。\"},{\"furigana\":\"おおさか\",\"roman\":\"oosaka\",\"surface\":\"大坂\"},{\"surface\":\"。\"},{\"furigana\":\"はいきゅう\",\"roman\":\"haikyuu\",\"surface\":\"配給\"},{\"surface\":\"。\"},{\"furigana\":\"がんざん\",\"roman\":\"ganzan\",\"surface\":\"元三\"},{\"surface\":\"。\"},{\"furigana\":\"いながき\",\"roman\":\"inagaki\",\"surface\":\"稲垣\"},{\"surface\":\"。\"},{\"furigana\":\"ひろし\",\"roman\":\"hirosi\",\"surface\":\"浩\"},{\"surface\":\"。\"},{\"furigana\":\"みふね\",\"roman\":\"mihune\",\"surface\":\"三船\"},{\"surface\":\"。\"},{\"furigana\":\"としお\",\"roman\":\"tosio\",\"surface\":\"敏郎\"},{\"surface\":\"。\"},{\"furigana\":\"ひらた\",\"roman\":\"hirata\",\"surface\":\"平田\"},{\"surface\":\"。\"},{\"furigana\":\"あきひこ\",\"roman\":\"akihiko\",\"surface\":\"昭彦\"},{\"surface\":\"。\"},{\"furigana\":\"だん\",\"roman\":\"dan\",\"surface\":\"團\"},{\"surface\":\"。\"},{\"furigana\":\"はいち\",\"roman\":\"haiti\",\"surface\":\"配置\"},{\"surface\":\"。\"},{\"furigana\":\"よいどれ\",\"roman\":\"yoidore\",\"subword\":[{\"furigana\":\"よ\",\"roman\":\"yo\",\"surface\":\"酔\"},{\"furigana\":\"いどれ\",\"roman\":\"idore\",\"surface\":\"いどれ\"}],\"surface\":\"酔いどれ\"},{\"surface\":\"。\"},{\"furigana\":\"てんし\",\"roman\":\"tensi\",\"surface\":\"天使\"},{\"surface\":\"。\"},{\"furigana\":\"あこがれ\",\"roman\":\"akogare\",\"subword\":[{\"furigana\":\"あこが\",\"roman\":\"akoga\",\"surface\":\"憧\"},{\"furigana\":\"れ\",\"roman\":\"re\",\"surface\":\"れ\"}],\"surface\":\"憧れ\"},{\"surface\":\"。\"},{\"furigana\":\"くが\",\"roman\":\"kuga\",\"surface\":\"久我\"},{\"surface\":\"。\"},{\"furigana\":\"はるこ\",\"roman\":\"haruko\",\"surface\":\"美子\"},{\"surface\":\"。\"},{\"furigana\":\"けっこん\",\"roman\":\"kekkon\",\"surface\":\"結婚\"},{\"surface\":\"。\"},{\"furigana\":\"たんば\",\"roman\":\"tanba\",\"surface\":\"丹波\"},{\"surface\":\"。\"},{\"furigana\":\"てつお\",\"roman\":\"tetuo\",\"surface\":\"哲郎\"},{\"surface\":\"。\"},{\"furigana\":\"ぜんねん\",\"roman\":\"zennen\",\"surface\":\"前年\"},{\"surface\":\"。\"},{\"furigana\":\"たにぐち\",\"roman\":\"taniguti\",\"surface\":\"谷口\"},{\"surface\":\"。\"},{\"furigana\":\"ちぎら\",\"roman\":\"tigira\",\"surface\":\"千吉\"},{\"surface\":\"。\"},{\"furigana\":\"こくてい\",\"roman\":\"kokutei\",\"surface\":\"国定\"},{\"surface\":\"。\"},{\"furigana\":\"ちゅうじ\",\"roman\":\"tyuuzi\",\"surface\":\"忠治\"},{\"surface\":\"。\"},{\"furigana\":\"じょえん\",\"roman\":\"zyoen\",\"surface\":\"助演\"},{\"surface\":\"。\"}]}}\n",
            "detect errors: {'合志': ['アツシ:yahoo', 'コウシ:mecab'], '元三': ['ガンザン:yahoo', 'モトゾウ:mecab'], '久我': ['クガ:yahoo', 'コガ:mecab'], '美子': ['ハルコ:yahoo', 'ヨシコ:mecab'], '哲郎': ['テツオ:yahoo', 'テツロウ:mecab'], '千吉': ['チギラ:yahoo', 'センキチ:mecab'], '国定': ['コクテイ:yahoo', 'クニサダ:mecab'], '忠治': ['チュウジ:yahoo', 'タダハル:mecab']}\n",
            "start new batch!\n",
            "** Yahoo API: {\"id\":\"abc\",\"jsonrpc\":\"2.0\",\"result\":{\"word\":[{\"furigana\":\"ないかく\",\"roman\":\"naikaku\",\"surface\":\"内閣\"},{\"surface\":\"。\"},{\"furigana\":\"ちょう\",\"roman\":\"tyou\",\"surface\":\"長\"},{\"surface\":\"。\"},{\"furigana\":\"せいさく\",\"roman\":\"seisaku\",\"surface\":\"政策\"},{\"surface\":\"。\"},{\"furigana\":\"だいじん\",\"roman\":\"daizin\",\"surface\":\"大臣\"},{\"surface\":\"。\"},{\"furigana\":\"こうそく\",\"roman\":\"kousoku\",\"surface\":\"拘束\"},{\"surface\":\"。\"},{\"furigana\":\"ししん\",\"roman\":\"sisin\",\"surface\":\"指針\"},{\"surface\":\"。\"},{\"furigana\":\"さくてい\",\"roman\":\"sakutei\",\"surface\":\"策定\"},{\"surface\":\"。\"},{\"furigana\":\"けんげん\",\"roman\":\"kengen\",\"surface\":\"権限\"},{\"surface\":\"。\"},{\"furigana\":\"けんぽう\",\"roman\":\"kenpou\",\"surface\":\"憲法\"},{\"surface\":\"。\"},{\"furigana\":\"きてい\",\"roman\":\"kitei\",\"surface\":\"規定\"},{\"surface\":\"。\"},{\"furigana\":\"どうはい\",\"roman\":\"douhai\",\"surface\":\"同輩\"},{\"surface\":\"。\"},{\"furigana\":\"しゅせき\",\"roman\":\"syuseki\",\"surface\":\"首席\"},{\"surface\":\"。\"},{\"furigana\":\"にんめい\",\"roman\":\"ninmei\",\"surface\":\"任命\"},{\"surface\":\"。\"},{\"furigana\":\"すいせん\",\"roman\":\"suisen\",\"surface\":\"推薦\"},{\"surface\":\"。\"},{\"furigana\":\"かいにん\",\"roman\":\"kainin\",\"surface\":\"解任\"},{\"surface\":\"。\"},{\"furigana\":\"どうい\",\"roman\":\"doui\",\"surface\":\"同意\"},{\"surface\":\"。\"},{\"furigana\":\"せいど\",\"roman\":\"seido\",\"surface\":\"制度\"},{\"surface\":\"。\"},{\"furigana\":\"とっしゅつ\",\"roman\":\"tossyutu\",\"surface\":\"突出\"},{\"surface\":\"。\"},{\"furigana\":\"しょくむ\",\"roman\":\"syokumu\",\"surface\":\"職務\"},{\"surface\":\"。\"},{\"furigana\":\"あらかわ\",\"roman\":\"arakawa\",\"surface\":\"荒川\"},{\"surface\":\"。\"},{\"furigana\":\"たゆう\",\"roman\":\"tayuu\",\"surface\":\"太夫\"},{\"surface\":\"。\"},{\"furigana\":\"ぼつねん\",\"roman\":\"botunen\",\"surface\":\"没年\"},{\"surface\":\"。\"},{\"furigana\":\"ふしょう\",\"roman\":\"husyou\",\"surface\":\"不詳\"},{\"surface\":\"。\"},{\"furigana\":\"まつやま\",\"roman\":\"matuyama\",\"surface\":\"松山\"},{\"surface\":\"。\"},{\"furigana\":\"げんろく\",\"roman\":\"genroku\",\"surface\":\"元禄\"},{\"surface\":\"。\"},{\"furigana\":\"えど\",\"roman\":\"edo\",\"surface\":\"江戸\"},{\"surface\":\"。\"},{\"furigana\":\"しかん\",\"roman\":\"sikan\",\"surface\":\"仕官\"},{\"surface\":\"。\"},{\"furigana\":\"めつき\",\"roman\":\"metuki\",\"surface\":\"目付\"},{\"surface\":\"。\"},{\"furigana\":\"いし\",\"roman\":\"isi\",\"surface\":\"石\"},{\"surface\":\"。\"},{\"furigana\":\"ふち\",\"roman\":\"huti\",\"surface\":\"扶持\"},{\"surface\":\"。\"},{\"furigana\":\"はんし\",\"roman\":\"hansi\",\"surface\":\"藩士\"},{\"surface\":\"。\"},{\"furigana\":\"はんしゅ\",\"roman\":\"hansyu\",\"surface\":\"藩主\"},{\"surface\":\"。\"},{\"furigana\":\"まつへい\",\"roman\":\"matuhei\",\"surface\":\"松平\"},{\"surface\":\"。\"},{\"furigana\":\"いき\",\"roman\":\"iki\",\"surface\":\"壱岐\"},{\"surface\":\"。\"},{\"furigana\":\"かみ\",\"roman\":\"kami\",\"surface\":\"守\"},{\"surface\":\"。\"},{\"furigana\":\"なお\",\"roman\":\"nao\",\"surface\":\"直\"},{\"surface\":\"。\"},{\"furigana\":\"みた\",\"roman\":\"mita\",\"surface\":\"三田\"},{\"surface\":\"。\"},{\"furigana\":\"なかやしき\",\"roman\":\"nakayasiki\",\"surface\":\"中屋敷\"},{\"surface\":\"。\"},{\"furigana\":\"やしき\",\"roman\":\"yasiki\",\"surface\":\"屋敷\"},{\"surface\":\"。\"},{\"furigana\":\"あこう\",\"roman\":\"akou\",\"surface\":\"赤穂\"},{\"surface\":\"。\"},{\"furigana\":\"ぎし\",\"roman\":\"gisi\",\"surface\":\"義士\"},{\"surface\":\"。\"},{\"furigana\":\"せっぷく\",\"roman\":\"seppuku\",\"surface\":\"切腹\"},{\"surface\":\"。\"},{\"furigana\":\"ほりべ\",\"roman\":\"horibe\",\"surface\":\"堀部\"},{\"surface\":\"。\"},{\"furigana\":\"やすべえ\",\"roman\":\"yasubee\",\"surface\":\"安兵衛\"},{\"surface\":\"。\"},{\"furigana\":\"ふわ\",\"roman\":\"huwa\",\"surface\":\"不破\"},{\"surface\":\"。\"},{\"furigana\":\"かず\",\"roman\":\"kazu\",\"surface\":\"数\"},{\"furigana\":\"うえもん\",\"roman\":\"uemon\",\"surface\":\"右衛門\"},{\"surface\":\"。\"},{\"furigana\":\"かいしゃく\",\"roman\":\"kaisyaku\",\"surface\":\"介錯\"},{\"surface\":\"。\"}]}}\n",
            "detect errors: {'十': ['十:yahoo', 'ジュウ:mecab'], '生': ['ナマ:yahoo', 'セイ:mecab'], '目付': ['メツキ:yahoo', 'メツケ:mecab'], '石': ['イシ:yahoo', 'コク:mecab'], '松平': ['マツヘイ:yahoo', 'マツダイラ:mecab'], '守': ['カミ:yahoo', 'マモル:mecab'], '直': ['ナオ:yahoo', 'ジカ:mecab'], '数右衛門': ['カズウエモン:yahoo', 'カズエモン:mecab']}\n",
            "start new batch!\n",
            "** Yahoo API: {\"id\":\"abc\",\"jsonrpc\":\"2.0\",\"result\":{\"word\":[{\"furigana\":\"はん\",\"roman\":\"han\",\"surface\":\"反\"},{\"furigana\":\"かい\",\"roman\":\"kai\",\"surface\":\"回\"},{\"surface\":\"。\"},{\"furigana\":\"ひてい\",\"roman\":\"hitei\",\"surface\":\"否定\"},{\"surface\":\"。\"},{\"furigana\":\"かんじょう\",\"roman\":\"kanzyou\",\"surface\":\"感情\"},{\"surface\":\"。\"},{\"furigana\":\"たいど\",\"roman\":\"taido\",\"surface\":\"態度\"},{\"surface\":\"。\"},{\"furigana\":\"ことがら\",\"roman\":\"kotogara\",\"surface\":\"事柄\"},{\"surface\":\"。\"},{\"furigana\":\"じっけん\",\"roman\":\"zikken\",\"surface\":\"実験\"},{\"surface\":\"。\"},{\"furigana\":\"さくせん\",\"roman\":\"sakusen\",\"surface\":\"作戦\"},{\"surface\":\"。\"},{\"furigana\":\"かんしょう\",\"roman\":\"kansyou\",\"surface\":\"環礁\"},{\"surface\":\"。\"},{\"furigana\":\"ねつ\",\"roman\":\"netu\",\"surface\":\"熱\"},{\"surface\":\"。\"},{\"furigana\":\"ばくだん\",\"roman\":\"bakudan\",\"surface\":\"爆弾\"},{\"surface\":\"。\"},{\"furigana\":\"すいそ\",\"roman\":\"suiso\",\"surface\":\"水素\"},{\"surface\":\"。\"},{\"furigana\":\"ゆうごう\",\"roman\":\"yuugou\",\"surface\":\"融合\"},{\"surface\":\"。\"},{\"furigana\":\"へいき\",\"roman\":\"heiki\",\"surface\":\"兵器\"},{\"surface\":\"。\"},{\"furigana\":\"はんのう\",\"roman\":\"hannou\",\"surface\":\"反応\"},{\"surface\":\"。\"},{\"furigana\":\"げんいん\",\"roman\":\"genin\",\"surface\":\"原因\"},{\"surface\":\"。\"},{\"furigana\":\"かんさん\",\"roman\":\"kansan\",\"surface\":\"換算\"},{\"surface\":\"。\"},{\"furigana\":\"じぜん\",\"roman\":\"zizen\",\"surface\":\"事前\"},{\"surface\":\"。\"},{\"furigana\":\"ほうしゃ\",\"roman\":\"housya\",\"surface\":\"放射\"},{\"surface\":\"。\"},{\"furigana\":\"のう\",\"roman\":\"nou\",\"surface\":\"能\"},{\"surface\":\"。\"},{\"furigana\":\"おせん\",\"roman\":\"osen\",\"surface\":\"汚染\"},{\"surface\":\"。\"},{\"furigana\":\"こうか\",\"roman\":\"kouka\",\"surface\":\"降下\"},{\"surface\":\"。\"},{\"furigana\":\"しょうがい\",\"roman\":\"syougai\",\"surface\":\"障害\"},{\"surface\":\"。\"},{\"furigana\":\"ぎょせん\",\"roman\":\"gyosen\",\"surface\":\"漁船\"},{\"surface\":\"。\"},{\"surface\":\"五\"},{\"surface\":\"。\"},{\"furigana\":\"ふくりゅう\",\"roman\":\"hukuryuu\",\"surface\":\"福竜\"},{\"surface\":\"。\"},{\"furigana\":\"のりくみ\",\"roman\":\"norikumi\",\"surface\":\"乗組\"},{\"surface\":\"。\"},{\"furigana\":\"きゅうせい\",\"roman\":\"kyuusei\",\"surface\":\"急性\"},{\"surface\":\"。\"},{\"furigana\":\"しょうこう\",\"roman\":\"syoukou\",\"surface\":\"症候\"},{\"surface\":\"。\"},{\"furigana\":\"けいき\",\"roman\":\"keiki\",\"surface\":\"契機\"},{\"surface\":\"。\"},{\"furigana\":\"たいき\",\"roman\":\"taiki\",\"surface\":\"大気\"},{\"surface\":\"。\"},{\"furigana\":\"はんたい\",\"roman\":\"hantai\",\"surface\":\"反対\"},{\"surface\":\"。\"},{\"furigana\":\"うんどう\",\"roman\":\"undou\",\"surface\":\"運動\"},{\"surface\":\"。\"},{\"furigana\":\"もりあがり\",\"roman\":\"moriagari\",\"subword\":[{\"furigana\":\"も\",\"roman\":\"mo\",\"surface\":\"盛\"},{\"furigana\":\"り\",\"roman\":\"ri\",\"surface\":\"り\"},{\"furigana\":\"あ\",\"roman\":\"a\",\"surface\":\"上\"},{\"furigana\":\"がり\",\"roman\":\"gari\",\"surface\":\"がり\"}],\"surface\":\"盛り上がり\"},{\"surface\":\"。\"}]}}\n",
            "detect errors: {'五': ['五:yahoo', 'ゴ:mecab']}\n",
            "start new batch!\n",
            "** Yahoo API: {\"id\":\"abc\",\"jsonrpc\":\"2.0\",\"result\":{\"word\":[{\"furigana\":\"くまの\",\"roman\":\"kumano\",\"surface\":\"熊野\"},{\"surface\":\"。\"},{\"furigana\":\"ごんげん\",\"roman\":\"gongen\",\"surface\":\"権現\"},{\"surface\":\"。\"},{\"furigana\":\"ももたろう\",\"roman\":\"momotarou\",\"surface\":\"桃太郎\"},{\"surface\":\"。\"},{\"furigana\":\"じんじゃ\",\"roman\":\"zinzya\",\"surface\":\"神社\"},{\"surface\":\"。\"},{\"furigana\":\"たかまつ\",\"roman\":\"takamatu\",\"surface\":\"高松\"},{\"surface\":\"。\"},{\"furigana\":\"きなしちょう\",\"roman\":\"kinasityou\",\"surface\":\"鬼無町\"},{\"surface\":\"。\"},{\"furigana\":\"きなし\",\"roman\":\"kinasi\",\"surface\":\"鬼無\"},{\"surface\":\"。\"},{\"furigana\":\"しゅうにん\",\"roman\":\"syuunin\",\"surface\":\"就任\"},{\"surface\":\"。\"},{\"furigana\":\"ちゅうにち\",\"roman\":\"tyuuniti\",\"surface\":\"駐日\"},{\"surface\":\"。\"},{\"furigana\":\"しょく\",\"roman\":\"syoku\",\"surface\":\"職\"},{\"surface\":\"。\"},{\"furigana\":\"けんしゅう\",\"roman\":\"kensyuu\",\"surface\":\"研修\"},{\"surface\":\"。\"},{\"furigana\":\"じさく\",\"roman\":\"zisaku\",\"surface\":\"自作\"},{\"surface\":\"。\"},{\"furigana\":\"てがき\",\"roman\":\"tegaki\",\"subword\":[{\"furigana\":\"てが\",\"roman\":\"tega\",\"surface\":\"手書\"},{\"furigana\":\"き\",\"roman\":\"ki\",\"surface\":\"き\"}],\"surface\":\"手書き\"},{\"surface\":\"。\"},{\"furigana\":\"じょうよう\",\"roman\":\"zyouyou\",\"surface\":\"常用\"},{\"surface\":\"。\"},{\"furigana\":\"ほかん\",\"roman\":\"hokan\",\"surface\":\"保管\"},{\"surface\":\"。\"},{\"furigana\":\"かえさ\",\"roman\":\"kaesa\",\"surface\":\"帰\"},{\"furigana\":\"えい\",\"roman\":\"ei\",\"surface\":\"英\"},{\"surface\":\"。\"},{\"furigana\":\"あいだ\",\"roman\":\"aida\",\"surface\":\"間\"},{\"surface\":\"。\"}]}}\n",
            "detect errors: {'弁務': ['ベンツトメ:yahoo', 'ベンム:mecab'], '帰英': ['カエサエイ:yahoo', 'キエイ:mecab'], '六': ['六:yahoo', 'ロク:mecab']}\n",
            "start new batch!\n",
            "** Yahoo API: {\"id\":\"abc\",\"jsonrpc\":\"2.0\",\"result\":{\"word\":[{\"furigana\":\"はっぷ\",\"roman\":\"happu\",\"surface\":\"発布\"},{\"surface\":\"。\"},{\"furigana\":\"かんぱつ\",\"roman\":\"kanpatu\",\"surface\":\"渙発\"},{\"surface\":\"。\"},{\"furigana\":\"ちょくご\",\"roman\":\"tyokugo\",\"surface\":\"勅語\"},{\"surface\":\"。\"},{\"furigana\":\"どうじつ\",\"roman\":\"douzitu\",\"surface\":\"同日\"},{\"surface\":\"。\"},{\"furigana\":\"こくぶん\",\"roman\":\"kokubun\",\"surface\":\"告文\"},{\"surface\":\"。\"},{\"furigana\":\"さとし\",\"roman\":\"satosi\",\"surface\":\"諭\"},{\"surface\":\"。\"},{\"furigana\":\"こう\",\"roman\":\"kou\",\"surface\":\"誥\"},{\"surface\":\"。\"}]}}\n",
            "detect errors: {'諭': ['サトシ:yahoo', 'サトル:mecab'], '誥': ['コウ:yahoo', '誥:mecab']}\n",
            "start new batch!\n",
            "** Yahoo API: {\"id\":\"abc\",\"jsonrpc\":\"2.0\",\"result\":{\"word\":[{\"furigana\":\"せいとう\",\"roman\":\"seitou\",\"surface\":\"政党\"},{\"surface\":\"。\"},{\"furigana\":\"きょくう\",\"roman\":\"kyokuu\",\"surface\":\"極右\"},{\"surface\":\"。\"},{\"furigana\":\"かいぎ\",\"roman\":\"kaigi\",\"surface\":\"懐疑\"},{\"surface\":\"。\"},{\"furigana\":\"げいにん\",\"roman\":\"geinin\",\"surface\":\"芸人\"},{\"surface\":\"。\"},{\"furigana\":\"まんざい\",\"roman\":\"manzai\",\"surface\":\"漫才\"},{\"surface\":\"。\"},{\"furigana\":\"ひとつばし\",\"roman\":\"hitotubasi\",\"surface\":\"一橋\"},{\"surface\":\"。\"},{\"furigana\":\"なりき\",\"roman\":\"nariki\",\"surface\":\"成城\"},{\"surface\":\"。\"},{\"furigana\":\"じょうきん\",\"roman\":\"zyoukin\",\"surface\":\"常勤\"},{\"surface\":\"。\"},{\"furigana\":\"こうし\",\"roman\":\"kousi\",\"surface\":\"講師\"},{\"surface\":\"。\"},{\"furigana\":\"ろしゅつ\",\"roman\":\"rosyutu\",\"surface\":\"露出\"},{\"surface\":\"。\"},{\"furigana\":\"かくしゅ\",\"roman\":\"kakusyu\",\"surface\":\"各種\"},{\"surface\":\"。\"},{\"furigana\":\"ちゅうもく\",\"roman\":\"tyuumoku\",\"surface\":\"注目\"},{\"surface\":\"。\"}]}}\n",
            "detect errors: {'成城': ['ナリキ:yahoo', 'セイジョウ:mecab']}\n",
            "start new batch!\n",
            "** Yahoo API: {\"id\":\"abc\",\"jsonrpc\":\"2.0\",\"result\":{\"word\":[{\"furigana\":\"うは\",\"roman\":\"uha\",\"surface\":\"右派\"},{\"surface\":\"。\"},{\"furigana\":\"ぎかい\",\"roman\":\"gikai\",\"surface\":\"議会\"},{\"surface\":\"。\"},{\"furigana\":\"ぎちょう\",\"roman\":\"gityou\",\"surface\":\"議長\"},{\"surface\":\"。\"},{\"furigana\":\"にんき\",\"roman\":\"ninki\",\"surface\":\"任期\"},{\"surface\":\"。\"},{\"furigana\":\"きれ\",\"roman\":\"kire\",\"subword\":[{\"furigana\":\"き\",\"roman\":\"ki\",\"surface\":\"切\"},{\"furigana\":\"れ\",\"roman\":\"re\",\"surface\":\"れ\"}],\"surface\":\"切れ\"},{\"surface\":\"。\"},{\"furigana\":\"はんとし\",\"roman\":\"hantosi\",\"surface\":\"半年\"},{\"surface\":\"。\"},{\"furigana\":\"だいこう\",\"roman\":\"daikou\",\"surface\":\"代行\"},{\"surface\":\"。\"},{\"furigana\":\"とくひょう\",\"roman\":\"tokuhyou\",\"surface\":\"得票\"},{\"surface\":\"。\"},{\"furigana\":\"りつ\",\"roman\":\"ritu\",\"surface\":\"率\"},{\"surface\":\"。\"},{\"furigana\":\"けっせん\",\"roman\":\"kessen\",\"surface\":\"決選\"},{\"surface\":\"。\"},{\"furigana\":\"さ\",\"roman\":\"sa\",\"surface\":\"差\"},{\"surface\":\"。\"},{\"furigana\":\"たい\",\"roman\":\"tai\",\"surface\":\"対\"},{\"surface\":\"。\"},{\"furigana\":\"さいばん\",\"roman\":\"saiban\",\"surface\":\"裁判\"},{\"surface\":\"。\"},{\"furigana\":\"ちかく\",\"roman\":\"tikaku\",\"subword\":[{\"furigana\":\"ちか\",\"roman\":\"tika\",\"surface\":\"近\"},{\"furigana\":\"く\",\"roman\":\"ku\",\"surface\":\"く\"}],\"surface\":\"近く\"},{\"surface\":\"。\"},{\"furigana\":\"しゅうけい\",\"roman\":\"syuukei\",\"surface\":\"集計\"},{\"surface\":\"。\"},{\"furigana\":\"むこう\",\"roman\":\"mukou\",\"surface\":\"無効\"},{\"surface\":\"。\"},{\"furigana\":\"せんげん\",\"roman\":\"sengen\",\"surface\":\"宣言\"},{\"surface\":\"。\"},{\"furigana\":\"いき\",\"roman\":\"iki\",\"surface\":\"意気\"},{\"surface\":\"。\"},{\"furigana\":\"ぜんかい\",\"roman\":\"zenkai\",\"surface\":\"前回\"},{\"surface\":\"。\"},{\"furigana\":\"はいぼく\",\"roman\":\"haiboku\",\"surface\":\"敗北\"},{\"surface\":\"。\"},{\"furigana\":\"ぶどう\",\"roman\":\"budou\",\"surface\":\"武道\"},{\"surface\":\"。\"},{\"furigana\":\"こうしゃ\",\"roman\":\"kousya\",\"surface\":\"校舎\"},{\"surface\":\"。\"},{\"furigana\":\"かいかん\",\"roman\":\"kaikan\",\"surface\":\"開館\"},{\"surface\":\"。\"},{\"furigana\":\"へいかん\",\"roman\":\"heikan\",\"surface\":\"閉館\"},{\"surface\":\"。\"},{\"furigana\":\"いっかん\",\"roman\":\"ikkan\",\"surface\":\"一環\"},{\"surface\":\"。\"},{\"furigana\":\"そうとう\",\"roman\":\"soutou\",\"surface\":\"相当\"},{\"surface\":\"。\"}]}}\n",
            "detect errors: {}\n",
            "start new batch!\n",
            "** Yahoo API: {\"id\":\"abc\",\"jsonrpc\":\"2.0\",\"result\":{\"word\":[{\"furigana\":\"れきにん\",\"roman\":\"rekinin\",\"surface\":\"歴任\"},{\"surface\":\"。\"},{\"furigana\":\"ほしょう\",\"roman\":\"hosyou\",\"surface\":\"保障\"},{\"surface\":\"。\"},{\"furigana\":\"きこう\",\"roman\":\"kikou\",\"surface\":\"機構\"},{\"surface\":\"。\"},{\"furigana\":\"こっき\",\"roman\":\"kokki\",\"surface\":\"国旗\"},{\"surface\":\"。\"},{\"furigana\":\"くりやま\",\"roman\":\"kuriyama\",\"surface\":\"栗山\"},{\"surface\":\"。\"},{\"furigana\":\"ちあき\",\"roman\":\"tiaki\",\"surface\":\"千明\"},{\"surface\":\"。\"},{\"furigana\":\"そつぎょう\",\"roman\":\"sotugyou\",\"surface\":\"卒業\"},{\"surface\":\"。\"}]}}\n",
            "detect errors: {'政': ['マツリゴト:yahoo', 'セイ:mecab']}\n",
            "start new batch!\n",
            "** Yahoo API: {\"id\":\"abc\",\"jsonrpc\":\"2.0\",\"result\":{\"word\":[{\"furigana\":\"かげつ\",\"roman\":\"kagetu\",\"subword\":[{\"furigana\":\"か\",\"roman\":\"ka\",\"surface\":\"カ\"},{\"furigana\":\"げつ\",\"roman\":\"getu\",\"surface\":\"月\"}],\"surface\":\"カ月\"},{\"surface\":\"。\"},{\"furigana\":\"せい\",\"roman\":\"sei\",\"surface\":\"姓\"},{\"surface\":\"。\"},{\"furigana\":\"とうしょ\",\"roman\":\"tousyo\",\"surface\":\"当初\"},{\"surface\":\"。\"},{\"furigana\":\"しぼう\",\"roman\":\"sibou\",\"surface\":\"志望\"},{\"surface\":\"。\"},{\"furigana\":\"ははおや\",\"roman\":\"hahaoya\",\"surface\":\"母親\"},{\"surface\":\"。\"},{\"furigana\":\"じょげん\",\"roman\":\"zyogen\",\"surface\":\"助言\"},{\"surface\":\"。\"},{\"furigana\":\"ほうそう\",\"roman\":\"housou\",\"surface\":\"法曹\"},{\"surface\":\"。\"},{\"furigana\":\"ほうがく\",\"roman\":\"hougaku\",\"surface\":\"法学\"},{\"surface\":\"。\"},{\"furigana\":\"けんさつ\",\"roman\":\"kensatu\",\"surface\":\"検察\"},{\"surface\":\"。\"},{\"furigana\":\"ほうむ\",\"roman\":\"houmu\",\"surface\":\"法務\"},{\"surface\":\"。\"},{\"furigana\":\"けいじ\",\"roman\":\"keizi\",\"surface\":\"刑事\"},{\"surface\":\"。\"},{\"furigana\":\"か\",\"roman\":\"ka\",\"surface\":\"課\"},{\"surface\":\"。\"},{\"furigana\":\"ていねん\",\"roman\":\"teinen\",\"surface\":\"定年\"},{\"surface\":\"。\"},{\"furigana\":\"たいしょく\",\"roman\":\"taisyoku\",\"surface\":\"退職\"},{\"surface\":\"。\"},{\"furigana\":\"がんじつ\",\"roman\":\"ganzitu\",\"surface\":\"元日\"},{\"surface\":\"。\"},{\"furigana\":\"ほったん\",\"roman\":\"hottan\",\"surface\":\"発端\"},{\"surface\":\"。\"},{\"furigana\":\"けつぎ\",\"roman\":\"ketugi\",\"surface\":\"決議\"},{\"surface\":\"。\"},{\"furigana\":\"じにん\",\"roman\":\"zinin\",\"surface\":\"辞任\"},{\"surface\":\"。\"},{\"furigana\":\"だんじょ\",\"roman\":\"danzyo\",\"surface\":\"男女\"},{\"surface\":\"。\"},{\"furigana\":\"かくりょう\",\"roman\":\"kakuryou\",\"surface\":\"閣僚\"},{\"surface\":\"。\"}]}}\n",
            "detect errors: {}\n",
            "start new batch!\n",
            "** Yahoo API: {\"id\":\"abc\",\"jsonrpc\":\"2.0\",\"result\":{\"word\":[{\"furigana\":\"わかやま\",\"roman\":\"wakayama\",\"surface\":\"和歌山\"},{\"surface\":\"。\"},{\"furigana\":\"にしむろ\",\"roman\":\"nisimuro\",\"surface\":\"西牟婁\"},{\"surface\":\"。\"},{\"furigana\":\"しらはま\",\"roman\":\"sirahama\",\"surface\":\"白浜\"},{\"surface\":\"。\"},{\"furigana\":\"どうぶつ\",\"roman\":\"doubutu\",\"surface\":\"動物\"},{\"surface\":\"。\"},{\"furigana\":\"すいぞく\",\"roman\":\"suizoku\",\"surface\":\"水族\"},{\"surface\":\"。\"},{\"furigana\":\"ゆうえん\",\"roman\":\"yuuen\",\"surface\":\"遊園\"},{\"surface\":\"。\"},{\"furigana\":\"いったい\",\"roman\":\"ittai\",\"surface\":\"一体\"},{\"surface\":\"。\"},{\"furigana\":\"まつばら\",\"roman\":\"matubara\",\"surface\":\"松原\"},{\"surface\":\"。\"},{\"furigana\":\"どうさん\",\"roman\":\"dousan\",\"surface\":\"動産\"},{\"surface\":\"。\"},{\"furigana\":\"けんせつ\",\"roman\":\"kensetu\",\"surface\":\"建設\"},{\"surface\":\"。\"},{\"furigana\":\"なんき\",\"roman\":\"nanki\",\"surface\":\"南紀\"},{\"surface\":\"。\"},{\"furigana\":\"えがお\",\"roman\":\"egao\",\"surface\":\"笑顔\"},{\"surface\":\"。\"},{\"furigana\":\"ふざい\",\"roman\":\"huzai\",\"surface\":\"不在\"},{\"surface\":\"。\"},{\"furigana\":\"だいり\",\"roman\":\"dairi\",\"surface\":\"代理\"},{\"surface\":\"。\"},{\"furigana\":\"ありさ\",\"roman\":\"arisa\",\"surface\":\"有沙\"},{\"surface\":\"。\"},{\"furigana\":\"ひとみ\",\"roman\":\"hitomi\",\"surface\":\"瞳\"},{\"surface\":\"。\"},{\"furigana\":\"かげき\",\"roman\":\"kageki\",\"surface\":\"歌劇\"},{\"surface\":\"。\"},{\"furigana\":\"ほしぐみ\",\"roman\":\"hosigumi\",\"surface\":\"星組\"},{\"surface\":\"。\"},{\"furigana\":\"むすめやく\",\"roman\":\"musumeyaku\",\"surface\":\"娘役\"},{\"surface\":\"。\"},{\"furigana\":\"みえ\",\"roman\":\"mie\",\"surface\":\"三重\"},{\"surface\":\"。\"},{\"furigana\":\"すずか\",\"roman\":\"suzuka\",\"surface\":\"鈴鹿\"},{\"surface\":\"。\"}]}}\n",
            "detect errors: {}\n",
            "start new batch!\n",
            "** Yahoo API: {\"id\":\"abc\",\"jsonrpc\":\"2.0\",\"result\":{\"word\":[{\"furigana\":\"ちゅうとう\",\"roman\":\"tyuutou\",\"surface\":\"中東\"},{\"surface\":\"。\"},{\"furigana\":\"きょういく\",\"roman\":\"kyouiku\",\"surface\":\"教育\"},{\"surface\":\"。\"},{\"furigana\":\"きょうべん\",\"roman\":\"kyouben\",\"surface\":\"教鞭\"},{\"surface\":\"。\"},{\"furigana\":\"ちょさく\",\"roman\":\"tyosaku\",\"surface\":\"著作\"},{\"surface\":\"。\"},{\"furigana\":\"とうよう\",\"roman\":\"touyou\",\"surface\":\"登用\"},{\"surface\":\"。\"},{\"furigana\":\"こくえい\",\"roman\":\"kokuei\",\"surface\":\"国営\"},{\"surface\":\"。\"},{\"furigana\":\"きこう\",\"roman\":\"kikou\",\"surface\":\"寄稿\"},{\"surface\":\"。\"},{\"furigana\":\"やくいん\",\"roman\":\"yakuin\",\"surface\":\"役員\"},{\"surface\":\"。\"},{\"furigana\":\"きょうだん\",\"roman\":\"kyoudan\",\"surface\":\"教団\"},{\"surface\":\"。\"},{\"furigana\":\"りっきょう\",\"roman\":\"rikkyou\",\"surface\":\"立教\"},{\"surface\":\"。\"},{\"furigana\":\"しゅうきょう\",\"roman\":\"syuukyou\",\"surface\":\"宗教\"},{\"surface\":\"。\"},{\"furigana\":\"もんぶ\",\"roman\":\"monbu\",\"surface\":\"文部\"},{\"surface\":\"。\"},{\"furigana\":\"とうけい\",\"roman\":\"toukei\",\"surface\":\"統計\"},{\"surface\":\"。\"},{\"furigana\":\"しょ\",\"roman\":\"syo\",\"surface\":\"諸\"},{\"furigana\":\"おしえ\",\"roman\":\"osie\",\"surface\":\"教\"},{\"surface\":\"。\"},{\"furigana\":\"ぼしん\",\"roman\":\"bosin\",\"surface\":\"戊申\"},{\"surface\":\"。\"},{\"furigana\":\"しょうしょ\",\"roman\":\"syousyo\",\"surface\":\"詔書\"},{\"surface\":\"。\"},{\"furigana\":\"かんぽう\",\"roman\":\"kanpou\",\"surface\":\"官報\"},{\"surface\":\"。\"},{\"furigana\":\"てんのう\",\"roman\":\"tennou\",\"surface\":\"天皇\"},{\"surface\":\"。\"},{\"furigana\":\"にちろ\",\"roman\":\"nitiro\",\"surface\":\"日露\"},{\"surface\":\"。\"},{\"furigana\":\"こんらん\",\"roman\":\"konran\",\"surface\":\"混乱\"},{\"surface\":\"。\"},{\"furigana\":\"ぜせい\",\"roman\":\"zesei\",\"surface\":\"是正\"},{\"surface\":\"。\"},{\"furigana\":\"どうとく\",\"roman\":\"doutoku\",\"surface\":\"道徳\"},{\"surface\":\"。\"},{\"furigana\":\"ひょうじゅん\",\"roman\":\"hyouzyun\",\"surface\":\"標準\"},{\"surface\":\"。\"},{\"furigana\":\"ほんかく\",\"roman\":\"honkaku\",\"surface\":\"本格\"},{\"surface\":\"。\"}]}}\n",
            "detect errors: {'諸教': ['ショオシエ:yahoo', 'ショキョウ:mecab']}\n",
            "\n",
            "start new batch!\n",
            "** Yahoo API: {\"id\":\"abc\",\"jsonrpc\":\"2.0\",\"result\":{\"word\":[{\"furigana\":\"くわ\",\"roman\":\"kuwa\",\"surface\":\"鍬\"},{\"surface\":\"。\"},{\"furigana\":\"おおふなと\",\"roman\":\"oohunato\",\"surface\":\"大船渡\"},{\"surface\":\"。\"},{\"furigana\":\"かまいし\",\"roman\":\"kamaisi\",\"surface\":\"釜石\"},{\"surface\":\"。\"},{\"furigana\":\"さんりく\",\"roman\":\"sanriku\",\"surface\":\"三陸\"},{\"surface\":\"。\"},{\"furigana\":\"ちゃいろ\",\"roman\":\"tyairo\",\"surface\":\"茶色\"},{\"surface\":\"。\"},{\"furigana\":\"むらさき\",\"roman\":\"murasaki\",\"surface\":\"紫\"},{\"surface\":\"。\"},{\"furigana\":\"いろ\",\"roman\":\"iro\",\"surface\":\"色\"},{\"surface\":\"。\"},{\"furigana\":\"くろ\",\"roman\":\"kuro\",\"surface\":\"黒\"},{\"surface\":\"。\"},{\"furigana\":\"あおもり\",\"roman\":\"aomori\",\"surface\":\"青森\"},{\"surface\":\"。\"},{\"furigana\":\"やまだ\",\"roman\":\"yamada\",\"surface\":\"山田\"},{\"surface\":\"。\"},{\"furigana\":\"ほうせい\",\"roman\":\"housei\",\"surface\":\"法政\"},{\"surface\":\"。\"},{\"furigana\":\"ざいがく\",\"roman\":\"zaigaku\",\"surface\":\"在学\"},{\"surface\":\"。\"},{\"furigana\":\"せんせき\",\"roman\":\"senseki\",\"surface\":\"戦績\"},{\"surface\":\"。\"},{\"furigana\":\"ゆうしょう\",\"roman\":\"yuusyou\",\"surface\":\"優勝\"},{\"surface\":\"。\"},{\"furigana\":\"すおう\",\"roman\":\"suou\",\"surface\":\"蘇芳\"},{\"surface\":\"。\"},{\"furigana\":\"くろみ\",\"roman\":\"kuromi\",\"surface\":\"黒味\"},{\"surface\":\"。\"},{\"furigana\":\"あかいろ\",\"roman\":\"akairo\",\"surface\":\"赤色\"},{\"surface\":\"。\"},{\"furigana\":\"すおう\",\"roman\":\"suou\",\"surface\":\"蘇方\"},{\"surface\":\"。\"},{\"furigana\":\"すおう\",\"roman\":\"suou\",\"surface\":\"蘇枋\"},{\"surface\":\"。\"},{\"furigana\":\"せんりょう\",\"roman\":\"senryou\",\"surface\":\"染料\"},{\"surface\":\"。\"},{\"furigana\":\"しょくぶつ\",\"roman\":\"syokubutu\",\"surface\":\"植物\"},{\"surface\":\"。\"},{\"furigana\":\"すいよう\",\"roman\":\"suiyou\",\"surface\":\"水溶\"},{\"surface\":\"。\"},{\"furigana\":\"えき\",\"roman\":\"eki\",\"surface\":\"液\"},{\"surface\":\"。\"},{\"furigana\":\"ばいせん\",\"roman\":\"baisen\",\"surface\":\"媒染\"},{\"surface\":\"。\"},{\"furigana\":\"こんじゃく\",\"roman\":\"konzyaku\",\"surface\":\"今昔\"},{\"surface\":\"。\"},{\"furigana\":\"ぎょうこ\",\"roman\":\"gyouko\",\"surface\":\"凝固\"},{\"surface\":\"。\"},{\"furigana\":\"しんしゅん\",\"roman\":\"sinsyun\",\"surface\":\"新春\"},{\"surface\":\"。\"},{\"furigana\":\"さくらい\",\"roman\":\"sakurai\",\"surface\":\"櫻井\"},{\"surface\":\"。\"},{\"furigana\":\"じこ\",\"roman\":\"ziko\",\"surface\":\"事故\"},{\"surface\":\"。\"},{\"furigana\":\"りょうあし\",\"roman\":\"ryouasi\",\"surface\":\"両足\"},{\"surface\":\"。\"},{\"furigana\":\"きのう\",\"roman\":\"kinou\",\"surface\":\"機能\"},{\"surface\":\"。\"},{\"furigana\":\"しゅじん\",\"roman\":\"syuzin\",\"surface\":\"主人\"},{\"surface\":\"。\"},{\"furigana\":\"くるま\",\"roman\":\"kuruma\",\"surface\":\"車\"},{\"surface\":\"。\"},{\"furigana\":\"いす\",\"roman\":\"isu\",\"surface\":\"椅子\"},{\"surface\":\"。\"},{\"furigana\":\"じつざい\",\"roman\":\"zituzai\",\"surface\":\"実在\"},{\"surface\":\"。\"},{\"furigana\":\"きょうたに\",\"roman\":\"kyoutani\",\"surface\":\"京谷\"},{\"surface\":\"。\"},{\"furigana\":\"わこう\",\"roman\":\"wakou\",\"surface\":\"和幸\"},{\"surface\":\"。\"}]}}\n",
            "detect errors: {'倫': ['ヒトシ:yahoo', 'オサム:mecab'], '果': ['ハテ:yahoo', 'カ:mecab'], '和幸': ['ワコウ:yahoo', 'カズユキ:mecab']}\n",
            "start new batch!\n",
            "** Yahoo API: {\"id\":\"abc\",\"jsonrpc\":\"2.0\",\"result\":{\"word\":[{\"furigana\":\"き\",\"roman\":\"ki\",\"surface\":\"記\"},{\"surface\":\"。\"},{\"furigana\":\"しょうぎ\",\"roman\":\"syougi\",\"surface\":\"将棋\"},{\"surface\":\"。\"},{\"furigana\":\"はいしん\",\"roman\":\"haisin\",\"surface\":\"配信\"},{\"surface\":\"。\"},{\"furigana\":\"きせん\",\"roman\":\"kisen\",\"surface\":\"棋戦\"},{\"surface\":\"。\"},{\"furigana\":\"しんかい\",\"roman\":\"sinkai\",\"surface\":\"新海\"},{\"surface\":\"。\"},{\"furigana\":\"こえ\",\"roman\":\"koe\",\"surface\":\"声\"},{\"surface\":\"。\"},{\"furigana\":\"しんぼく\",\"roman\":\"sinboku\",\"surface\":\"神木\"},{\"surface\":\"。\"},{\"furigana\":\"りゅうのすけ\",\"roman\":\"ryuunosuke\",\"surface\":\"隆之介\"},{\"surface\":\"。\"},{\"furigana\":\"しらいし\",\"roman\":\"siraisi\",\"surface\":\"白石\"},{\"surface\":\"。\"},{\"furigana\":\"もね\",\"roman\":\"mone\",\"surface\":\"萌音\"},{\"surface\":\"。\"},{\"furigana\":\"さくが\",\"roman\":\"sakuga\",\"surface\":\"作画\"},{\"surface\":\"。\"},{\"furigana\":\"あんどう\",\"roman\":\"andou\",\"surface\":\"安藤\"},{\"surface\":\"。\"},{\"furigana\":\"まさし\",\"roman\":\"masasi\",\"surface\":\"雅司\"},{\"surface\":\"。\"},{\"furigana\":\"たなか\",\"roman\":\"tanaka\",\"surface\":\"田中\"},{\"surface\":\"。\"},{\"furigana\":\"しょう\",\"roman\":\"syou\",\"surface\":\"将\"},{\"surface\":\"。\"},{\"furigana\":\"が\",\"roman\":\"ga\",\"surface\":\"賀\"},{\"surface\":\"。\"},{\"furigana\":\"ぜんさく\",\"roman\":\"zensaku\",\"surface\":\"前作\"},{\"surface\":\"。\"},{\"furigana\":\"ことのは\",\"roman\":\"kotonoha\",\"subword\":[{\"furigana\":\"こと\",\"roman\":\"koto\",\"surface\":\"言\"},{\"furigana\":\"の\",\"roman\":\"no\",\"surface\":\"の\"},{\"furigana\":\"は\",\"roman\":\"ha\",\"surface\":\"葉\"}],\"surface\":\"言の葉\"},{\"surface\":\"。\"},{\"furigana\":\"にわ\",\"roman\":\"niwa\",\"surface\":\"庭\"},{\"surface\":\"。\"},{\"furigana\":\"しょうねん\",\"roman\":\"syounen\",\"surface\":\"少年\"},{\"surface\":\"。\"},{\"furigana\":\"たき\",\"roman\":\"taki\",\"surface\":\"瀧\"},{\"surface\":\"。\"},{\"furigana\":\"ひだ\",\"roman\":\"hida\",\"surface\":\"飛騨\"},{\"surface\":\"。\"},{\"furigana\":\"いなかまち\",\"roman\":\"inakamati\",\"surface\":\"田舎町\"},{\"surface\":\"。\"},{\"furigana\":\"は\",\"roman\":\"ha\",\"surface\":\"葉\"},{\"surface\":\"。\"},{\"furigana\":\"み\",\"roman\":\"mi\",\"surface\":\"身\"},{\"surface\":\"。\"},{\"furigana\":\"いれかわり\",\"roman\":\"irekawari\",\"subword\":[{\"furigana\":\"い\",\"roman\":\"i\",\"surface\":\"入\"},{\"furigana\":\"れ\",\"roman\":\"re\",\"surface\":\"れ\"},{\"furigana\":\"か\",\"roman\":\"ka\",\"surface\":\"替\"},{\"furigana\":\"わり\",\"roman\":\"wari\",\"surface\":\"わり\"}],\"surface\":\"入れ替わり\"},{\"surface\":\"。\"},{\"furigana\":\"なぞ\",\"roman\":\"nazo\",\"surface\":\"謎\"},{\"surface\":\"。\"},{\"furigana\":\"げんしょう\",\"roman\":\"gensyou\",\"surface\":\"現象\"},{\"surface\":\"。\"},{\"furigana\":\"ちきゅう\",\"roman\":\"tikyuu\",\"surface\":\"地球\"},{\"surface\":\"。\"},{\"furigana\":\"せっきん\",\"roman\":\"sekkin\",\"surface\":\"接近\"},{\"surface\":\"。\"},{\"furigana\":\"すいせい\",\"roman\":\"suisei\",\"surface\":\"彗星\"},{\"surface\":\"。\"},{\"furigana\":\"こども\",\"roman\":\"kodomo\",\"subword\":[{\"furigana\":\"こ\",\"roman\":\"ko\",\"surface\":\"子\"},{\"furigana\":\"ども\",\"roman\":\"domo\",\"surface\":\"ども\"}],\"surface\":\"子ども\"},{\"surface\":\"。\"},{\"furigana\":\"ほうしき\",\"roman\":\"housiki\",\"surface\":\"方式\"},{\"surface\":\"。\"},{\"furigana\":\"きぼ\",\"roman\":\"kibo\",\"surface\":\"規模\"},{\"surface\":\"。\"},{\"furigana\":\"こうぎょう\",\"roman\":\"kougyou\",\"surface\":\"興行\"},{\"surface\":\"。\"},{\"furigana\":\"おく\",\"roman\":\"oku\",\"surface\":\"億\"},{\"surface\":\"。\"},{\"furigana\":\"れきだい\",\"roman\":\"rekidai\",\"surface\":\"歴代\"},{\"surface\":\"。\"},{\"furigana\":\"せんじん\",\"roman\":\"senzin\",\"surface\":\"千尋\"},{\"surface\":\"。\"},{\"furigana\":\"かみかくし\",\"roman\":\"kamikakusi\",\"subword\":[{\"furigana\":\"かみかく\",\"roman\":\"kamikaku\",\"surface\":\"神隠\"},{\"furigana\":\"し\",\"roman\":\"si\",\"surface\":\"し\"}],\"surface\":\"神隠し\"},{\"surface\":\"。\"},{\"furigana\":\"ゆき\",\"roman\":\"yuki\",\"surface\":\"雪\"},{\"surface\":\"。\"}]}}\n",
            "detect errors: {'神木': ['シンボク:yahoo', 'シボク:mecab'], '将': ['ショウ:yahoo', 'ススム:mecab'], '葉': ['ハ:yahoo', 'ヨウ:mecab'], '千尋': ['センジン:yahoo', 'チヒロ:mecab'], '神隠し': ['カミカクシ:yahoo', 'カミガクシ:mecab']}\n",
            "start new batch!\n",
            "** Yahoo API: {\"id\":\"abc\",\"jsonrpc\":\"2.0\",\"result\":{\"word\":[{\"furigana\":\"せいしょうねん\",\"roman\":\"seisyounen\",\"surface\":\"青少年\"},{\"surface\":\"。\"},{\"furigana\":\"がくと\",\"roman\":\"gakuto\",\"surface\":\"学徒\"},{\"surface\":\"。\"},{\"furigana\":\"たまもの\",\"roman\":\"tamamono\",\"surface\":\"賜\"},{\"surface\":\"。\"},{\"furigana\":\"あだ\",\"roman\":\"ada\",\"surface\":\"徒\"},{\"surface\":\"。\"},{\"furigana\":\"さだお\",\"roman\":\"sadao\",\"surface\":\"貞夫\"},{\"surface\":\"。\"},{\"furigana\":\"いしこ\",\"roman\":\"isiko\",\"surface\":\"石子\"},{\"surface\":\"。\"},{\"furigana\":\"はね\",\"roman\":\"hane\",\"surface\":\"羽\"},{\"surface\":\"。\"},{\"furigana\":\"おとこ\",\"roman\":\"otoko\",\"surface\":\"男\"},{\"surface\":\"。\"},{\"furigana\":\"きんよう\",\"roman\":\"kinyou\",\"surface\":\"金曜\"},{\"surface\":\"。\"},{\"furigana\":\"ありむら\",\"roman\":\"arimura\",\"surface\":\"有村\"},{\"surface\":\"。\"},{\"furigana\":\"にしだ\",\"roman\":\"nisida\",\"surface\":\"西田\"},{\"surface\":\"。\"},{\"furigana\":\"せい\",\"roman\":\"sei\",\"surface\":\"征\"},{\"surface\":\"。\"},{\"furigana\":\"とうだい\",\"roman\":\"toudai\",\"surface\":\"東大\"},{\"surface\":\"。\"},{\"furigana\":\"いしだ\",\"roman\":\"isida\",\"surface\":\"石田\"},{\"surface\":\"。\"},{\"furigana\":\"がらす\",\"roman\":\"garasu\",\"surface\":\"硝子\"},{\"surface\":\"。\"},{\"furigana\":\"こうそつ\",\"roman\":\"kousotu\",\"surface\":\"高卒\"},{\"surface\":\"。\"},{\"furigana\":\"べんご\",\"roman\":\"bengo\",\"surface\":\"弁護\"},{\"surface\":\"。\"},{\"furigana\":\"おか\",\"roman\":\"oka\",\"surface\":\"岡\"},{\"surface\":\"。\"},{\"furigana\":\"よしお\",\"roman\":\"yosio\",\"surface\":\"佳男\"},{\"surface\":\"。\"},{\"furigana\":\"でこぼこ\",\"roman\":\"dekoboko\",\"surface\":\"凸凹\"},{\"surface\":\"。\"},{\"furigana\":\"すがた\",\"roman\":\"sugata\",\"surface\":\"姿\"},{\"surface\":\"。\"},{\"furigana\":\"せつめい\",\"roman\":\"setumei\",\"surface\":\"説明\"},{\"surface\":\"。\"},{\"furigana\":\"すんげき\",\"roman\":\"sungeki\",\"surface\":\"寸劇\"},{\"surface\":\"。\"}]}}\n",
            "detect errors: {'徒': ['アダ:yahoo', 'ト:mecab'], '征': ['セイ:yahoo', 'ススム:mecab']}\n",
            "start new batch!\n",
            "** Yahoo API: {\"id\":\"abc\",\"jsonrpc\":\"2.0\",\"result\":{\"word\":[{\"furigana\":\"のうみん\",\"roman\":\"noumin\",\"surface\":\"農民\"},{\"surface\":\"。\"},{\"furigana\":\"とうめい\",\"roman\":\"toumei\",\"surface\":\"党名\"},{\"surface\":\"。\"},{\"furigana\":\"けいたい\",\"roman\":\"keitai\",\"surface\":\"形態\"},{\"surface\":\"。\"},{\"furigana\":\"でんとう\",\"roman\":\"dentou\",\"surface\":\"伝統\"},{\"surface\":\"。\"},{\"furigana\":\"にんしき\",\"roman\":\"ninsiki\",\"surface\":\"認識\"},{\"surface\":\"。\"},{\"furigana\":\"じえい\",\"roman\":\"ziei\",\"surface\":\"自営\"},{\"surface\":\"。\"},{\"furigana\":\"きばん\",\"roman\":\"kiban\",\"surface\":\"基盤\"},{\"surface\":\"。\"},{\"furigana\":\"のうりんぎょう\",\"roman\":\"nouringyou\",\"surface\":\"農林業\"},{\"surface\":\"。\"},{\"furigana\":\"とうぜ\",\"roman\":\"touze\",\"surface\":\"党是\"},{\"surface\":\"。\"},{\"furigana\":\"かんきょう\",\"roman\":\"kankyou\",\"surface\":\"環境\"},{\"surface\":\"。\"},{\"furigana\":\"がわ\",\"roman\":\"gawa\",\"surface\":\"側\"},{\"surface\":\"。\"},{\"furigana\":\"かくさ\",\"roman\":\"kakusa\",\"surface\":\"格差\"},{\"surface\":\"。\"},{\"furigana\":\"たちば\",\"roman\":\"tatiba\",\"surface\":\"立場\"},{\"surface\":\"。\"},{\"furigana\":\"だいべん\",\"roman\":\"daiben\",\"surface\":\"代弁\"},{\"surface\":\"。\"},{\"furigana\":\"じっしつ\",\"roman\":\"zissitu\",\"surface\":\"実質\"},{\"surface\":\"。\"},{\"furigana\":\"りょうとう\",\"roman\":\"ryoutou\",\"surface\":\"両党\"},{\"surface\":\"。\"},{\"furigana\":\"きょうちょう\",\"roman\":\"kyoutyou\",\"surface\":\"協調\"},{\"surface\":\"。\"},{\"furigana\":\"ふくし\",\"roman\":\"hukusi\",\"surface\":\"福祉\"},{\"surface\":\"。\"},{\"furigana\":\"おんけん\",\"roman\":\"onken\",\"surface\":\"穏健\"},{\"surface\":\"。\"},{\"furigana\":\"ちゅうどう\",\"roman\":\"tyuudou\",\"surface\":\"中道\"},{\"surface\":\"。\"},{\"furigana\":\"やくわり\",\"roman\":\"yakuwari\",\"surface\":\"役割\"},{\"surface\":\"。\"}]}}\n",
            "detect errors: {}\n",
            "total count: 1592\n"
          ]
        },
        {
          "output_type": "display_data",
          "data": {
            "text/plain": [
              "<Figure size 432x288 with 1 Axes>"
            ],
            "image/png": "[encoded data removed]"
          },
          "metadata": {
            "needs_background": "light"
          }
        }
      ]
    },
    {
      "cell_type": "code",
      "source": [],
      "metadata": {
        "id": "T1X-gdRC2QWM"
      },
      "execution_count": null,
      "outputs": []
    }
  ]
}